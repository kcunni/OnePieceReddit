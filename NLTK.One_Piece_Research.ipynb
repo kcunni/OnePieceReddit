{
  "cells": [
    {
      "cell_type": "markdown",
      "metadata": {
        "id": "view-in-github",
        "colab_type": "text"
      },
      "source": [
        "<a href=\"https://colab.research.google.com/github/kcunni/OnePieceReddit/blob/main/NLTK.One_Piece_Research.ipynb\" target=\"_parent\"><img src=\"https://colab.research.google.com/assets/colab-badge.svg\" alt=\"Open In Colab\"/></a>"
      ]
    },
    {
      "cell_type": "markdown",
      "metadata": {
        "id": "mV9jnZYJh8qK"
      },
      "source": [
        "# Text Analysis with NLTK"
      ]
    },
    {
      "cell_type": "markdown",
      "metadata": {
        "id": "7x0ZazXnh8qN"
      },
      "source": [
        "## What is NLTK?\n",
        "\n"
      ]
    },
    {
      "cell_type": "markdown",
      "metadata": {
        "id": "XYkpMUcdh8qN"
      },
      "source": [
        "[Natural Language Toolkit (NLTK)](https://www.nltk.org/index.html) provides classes and functions for text classification, tokenization, stemming, tagging, etc. It also provides access to over 50 copora and other lexical resources."
      ]
    },
    {
      "cell_type": "markdown",
      "metadata": {
        "id": "MJcwcBJ6h8qN"
      },
      "source": [
        "## Topics Being Covered\n",
        "\n",
        "#### 1. Text Preprocessing\n",
        "- Regular Expressions\n",
        "- Tokenization\n",
        "- Stop words\n",
        "\n",
        "#### 2. Bag Of Words\n",
        "- Word Vectors\n",
        "- Word Counts\n",
        "- TFIDF"
      ]
    },
    {
      "cell_type": "markdown",
      "metadata": {
        "id": "2I6HJPyOh8qN"
      },
      "source": [
        "# Setup"
      ]
    },
    {
      "cell_type": "markdown",
      "metadata": {
        "id": "jmfnMGkSh8qO"
      },
      "source": [
        "### Import Python Libraries"
      ]
    },
    {
      "cell_type": "code",
      "execution_count": 1,
      "metadata": {
        "id": "hfJU9Za6h8qO"
      },
      "outputs": [],
      "source": [
        "import re # module for Regular expressions\n",
        "import os # module for using operating system\n",
        "import nltk # natural language toolkit\n",
        "import pandas as pd # Pandas package for data tables\n",
        "import numpy as np # provides methods for vectors and mathematical functions"
      ]
    },
    {
      "cell_type": "markdown",
      "metadata": {
        "id": "dS-GJrmRh8qP"
      },
      "source": [
        "# Preprocess Text Data\n",
        "\n",
        "Text preprocessing is the processing of cleaning text data to make it usable for analysis (or feed to a machine learning model). This process requires removal of 'noise' (unwanted characters or information), which may or may not include punctuation, emojis, line breaks, stop words. It may also involve the standardization of texts, such as lowercasing text, adjusting date-time formats, removing diacritics, stemming, or lemmatizing."
      ]
    },
    {
      "cell_type": "markdown",
      "metadata": {
        "id": "qy83Z7-Dh8qP"
      },
      "source": [
        "## 1. Understanding our text"
      ]
    },
    {
      "cell_type": "code",
      "execution_count": 3,
      "metadata": {
        "id": "biHl0Yuzh8qP"
      },
      "outputs": [],
      "source": [
        "df = pd.read_csv(\"reddit_onepiece.csv\", encoding='utf-8') # loads the dataset CSV into a Pandas datatable\n",
        "\n",
        "posts = df['content'] # saves the values from one column ('content') as a list under the variable 'post'"
      ]
    },
    {
      "cell_type": "code",
      "execution_count": 3,
      "metadata": {
        "id": "E1yMaQn3h8qP",
        "colab": {
          "base_uri": "https://localhost:8080/"
        },
        "outputId": "f5dd44a7-5c6f-404f-e62c-6bcb861c7322"
      },
      "outputs": [
        {
          "output_type": "stream",
          "name": "stdout",
          "text": [
            "nan\n",
            "\n",
            "\n",
            "\n",
            "\n",
            "Folks, be ready to save this post because I am going to blow your mind with so many connections here that will, once elaborated, tell you what exactly is the One Piece and to an extent, it's connection to Luffy's dream.\n",
            "\n",
            "\n",
            "Before you continue, please really think hard about the ramifications here by proceeding further. Once you read what the One Piece is, you will also smile and laugh 😄 just like Gol D Roger.\n",
            "\n",
            ".\n",
            "\n",
            "Do you really want to know? If yes, I will caution that I think the story is more enjoyable when the mystery of the One Piece is unsolved. You have been warned.\n",
            "\n",
            "\n",
            "\n",
            "\n",
            "\n",
            "Scroll down to read.\n",
            "\n",
            "\n",
            "\n",
            "\n",
            "\n",
            "\n",
            "\n",
            "\n",
            "\n",
            "\n",
            "\n",
            "\n",
            "\n",
            "\n",
            "\n",
            "\n",
            "\n",
            "\n",
            "\n",
            "\n",
            "\n",
            "The way I will organize this post is by providing the connections and links to the clue about the One Piece. Then after demonstrating it, will reveal the actual Onepiece treasure and luffy's dream!\n",
            "\n",
            "\n",
            "\n",
            "Connections: \n",
            "\n",
            "1. The ponyglyps are records historical information as well as music. Look at the ponyglyps, Oda obfuscated the musical \"notes\" embedded in them to trick us by only having Robin focus on the information portion.\n",
            "\n",
            "2. Many musical instruments are referenced throughout the story as canan and also on the non Canon movies. In addition, Luffy specifically wanted a musician on his crew.\n",
            "\n",
            "3. Drum island,  drums of liberation, dance power, are all references to music in some way. There are many more but wanted to show the actual, repeated use of this theme throughout the story.\n",
            "\n",
            "4. The swirls of devil's fruit is due to the connection to musical notes.... This is why, once we understand where devil fruits come from fully, we'll see the significance. \n",
            "\n",
            "5. The devil fruit of and design of Apoo is eerily similar to Joyboy, coincidence? not at all.\n",
            "\n",
            "6. there are a lot of references to feasts and parties in One Piece, and many theories have explored the idea of the One Piece being such an event. I disagree, however I list this connection because it is so common and is in close  proximity to what the One Piece is actually. \n",
            "\n",
            "7. Lastly, the Gorosei is the key because they are exactly what combination of gentlemen we might expect to see as rival to an upstart new kid on the block who brings Joy to the masses. The Gorosei were members of a rock band who disposed the music Joyboy spread across the world. Joyboy spread liberation through his actions and music, and therefore was censored because of it.\n",
            "\n",
            "\n",
            "\n",
            "\n",
            "So you have survived to the end and want to know what the One Piece is. Well let me first reveal what Luffy's Dream is because then the Onepiece will he very apparent. Luffy's dream is to swim, he revealed that his wish is to learn how to swim. He told Shanks that in chapter 1 just before eating his Devil's fruit. Meaning Luffy could not swim at all even before eating the fruit,  and guess what,  Roger suffered from the same inability to swim. \n",
            "\n",
            "Many people today can not swim and fear swimming, which Luffy must have been prior to eating his fruit. Hearing Shanks was leaving, Luffy resolved to learning how to swim no matter what. That is his dream and he hasn't ever let it down.\n",
            "\n",
            "Gol D Roger, laughed because he discovered that the folks with the D initials can't swim for the life of them and therefore eat Devil fruits without an actual realized loss in ability.\n",
            "\n",
            "\n",
            "With that being said,\n",
            "\n",
            "\n",
            "\n",
            "\n",
            "\n",
            "\n",
            "\n",
            "\n",
            "\n",
            "What is the One Piece. Well it's not a feast with the entire world. It's not a swimming suit nor a floatation device.  Instead it is the secret to creating a devil fruit that fulfills your deepest dream. Why is it lost, because people used their devil fruits to wreck havack in the world 900 to 800 years ago. The secret to creating those fruits is lost and Gol D Roger found out how to do it, but could not do it because he did not embody the desire to make it happen when he discovered it.\n",
            "\n",
            "\n",
            "The One Piece is a song or a musical piece that when performed will allow people's desires and dreams to come true. It requires the purest heart or person to be main performer, and once performed will turn people's desires into abilities. Joyboy got the name not because he was joyful, but because he was the person most pure of heart and performed those songs which fulfilled people's desires and dreams and gave them abilities that later passed on as fruits. \n",
            "\n",
            "Luffy's dream is to swim and therefore will performed the One Piece and create a devil fruit or ability that grants him the talent to swim. He devil fruit will result in cancellation of his current ability which will mean that he will no longer be rubberized, and can finally learn how to swim. Once he passes on, both fruits will be reborn and the journey of those desires will continue forever. \n",
            "\n",
            "\n",
            "Lastly, Roger laughed because he couldn't believe that all his life he could never swim and the reason for it was just because he's a D. A pirate king that can't swim, too funny!\n",
            "\n",
            "\n",
            "Anyway, save this post because in a few years from now you'll want to reply and send me thanks. You are welcome in advance by the way!\n",
            "\n",
            "\n",
            "\n",
            "\n",
            "&#x200B;\n",
            "\n",
            "[Everyone here is amazing! But I rlly feel people underrate Nami, Chopper, and Usopp. They're so funny but I also love everyone else there so it was quite hard. \\(It's just my opinion, who would you have voted for?\\)](https://preview.redd.it/gjpg1vpvs9vc1.png?width=1170&format=png&auto=webp&s=d85eb92f5fdcd5d12fda307a21f31ae6274003f7)\n",
            "\n",
            "\n",
            "\n",
            "\n",
            "nan\n",
            "\n",
            "\n",
            "\n",
            "\n",
            " \n",
            "\n",
            "For those who have read up to Chapter 1104 in One Piece, this is a spoiler. In that chapter, Bartholomew Kuma, a former Shichibukai and a mindless cyborg, arrives on the Future Island Egghead and attacks one of the Gorosei, Jaygarcia Saturn, to save his daughter Jewelry Bonney, who was about to be killed by him and his army of Marines. In the flashbacks from a few chapters ago, Kuma was turned into a Pacifista cyborg by the scientist, Dr. Vegapunk, under the force orders of Saturn, which also includes loosing his free will when the process was complete. Kuma agreed to become a pacifista under the condition that Bonney be cured from a terminal illness. The process was complete just before the Battle of Marineford and Kuma mentally died during the process.\n",
            "\n",
            "During the timeskip, Kuma guarded the Straw Hat's ship until one of them returns for 2 years under the wish of his former self. After the Straw Hats return, Kuma became a slave for rent for the World Nobles due to his mindless nature. During the recent Levely, the Revolutionary Army attacked Mary Geoise and took Kuma back with them. But then Kuma started to move on his own, teleported back to the Red Line, and climbed up to Mary Geoise where he started to destroy the place. After a brief fight against Sakazuki, Kuma teleported again and arrived at Egghead which lead to the summary of Chapter 1104.\n",
            "\n",
            "Because everyone believe he is supposed to be a mindless cyborg, everyone became surprised as to why Kuma is moving on his own, even Vegapunk and Saturn, who both saw the overall process of his conversion, were surprised at Kuma's appearance. While fans are trying to discover what is going on, there is one possible answer that could explain it. However, in order to understand this theory, one must research the lore of this one series that drives someone to be strong: Kingdom Hearts.\n",
            "\n",
            "In Kingdom Hearts, hearts are considered a mystical force with special abilities that are beyond human comprehension. They are known to have light and darkness with each side representing a common emotion. Because of the uncertainty of hearts, many characters and villains tried to study the heart's power which proved to be a failure and unleashed many horrors that drove the plot of the series. When a being is born or created, they can develop their own hearts through feelings and experience. Even data can develop a heart through memories and emotions given to them. During the plot of the series, hearts can experience pain or \"break\". A notable explain of a break heart is when it is completely consumed by darkness, become a mindless monster called the Heartless. When someone becomes a heartless, a Nobody is created from the left over soul and body and from the person who had a strong will. Even when a heart breaks, that person will not die as it is later reveled that in order for someone to truly die is when the heart and body is destroyed at the same time and is sent to the respective heaven or hell or sent to a purgatory like realm called the Final World.\n",
            "\n",
            "During the series, certain characters are created through left over bodies, data, or memories. The Nobodies, who were born from their former selves after they became a heartless, posses the body and memories of their former self's but lack a heart due to it becoming a heartless, making them act emotionless. But overtime, they can develop hearts through former and new memories and their experiences of them alive. This concept can apply to creations formed from memories or from another alive person, an example being the replica program in which a person who was born a copy of someone that is alive can develop a heart through experience and interactions with others. When creating hearts using data, one must gather positive and negative emotions and apply this knowledge when creating someone or basing someone off of a real person. But even data people can develop their own choices a free will against the creator's will. An example when Ansem the Wise created a whole town of people on his computer he then admitted that the people in his town acted differently than he had anticipated.\n",
            "\n",
            "With this knowledge, it's assumed that Kuma never really \"died\" during the process as his heart kept him alive. For him to die, he would have suffered a severe injury and/or fallen into despair and never recover. While Kuma suffered from slavery and lost his parents, he still continue to live through his faith in Nika. Also, when someone is in a process of possessing or controlling someone, that mindless being can resist the control if their hearts are strong enough. Kuma's friends and his daughter Bonney gives him hope and happiness and he was grateful that Bonney can be cured. While a slave, Bonney snuck into Mary Geoise to find a way to save him. He must have sensed she was there and when he was rescued he return to Mary Geoise and then arrived at Egghead. In those instances, he must have been looking for Bonney because a love can strengthen someone's heart to do certain things, especially the love between a father and his daughter. This is also the fact that the self-destruct mechanism that Vegapunk applied should have turned him into a vegetable and Saturn pushed it when he was rescued, showing that his heart is in control of his body for Bonney's sake.\n",
            "\n",
            "With this information, it is impossible for Saturn to truly control Kuma due to the strength of his heart and no programming can take away his free will with a strong heart like that. However, if he were to return normal, like most character's in the Kingdom Hearts series that follow their heart to make choices, it will have to be Kuma's choice to return normal.\n",
            "\n",
            "Again, this whole thing is a big theory, but if you played the Kingdom Hearts games and watch One Piece, there should be a visible connection to this mystery.\n",
            "\n",
            "\n",
            "\n",
            "\n",
            "In the latest anime episode Shaka tells the straw hats that the wg kept it a secret to keep it's ideology from spreading (can't remember if it was worded this way in the manga tbh). But that added fuel to a theory I'd been thinking about for awhile, sorry if it's been said before.\n",
            "\n",
            "So we all know that whatever the ancient kingdoms name is, it's too dangerous for the wg to even let ppl hear it aloud, which is why they had clover killed. If we put that together with the idea that covering up the ancient kingdom was to stop it's ideology from spreading, it might make sense that the ideology is part of the name. \n",
            "\n",
            "so I think the name could be Libertalia \n",
            "\n",
            "Libertalia was a pirate legend in the real world that purported there was a land of pirates (with a literal pirate king in charge) that Marcus Rediker (a pirate historian) describes like so: \n",
            "\n",
            "\n",
            "\"These pirates who settled in Libertalia would be \"vigilant Guardians of the People's Rights and Liberties\"; they would stand as \"Barriers against the Rich and Powerful\" of their day. By waging war on behalf of \"the Oppressed\" against the \"Oppressors,\" they would see that \"Justice was equally distributed.\"\"\n",
            "\n",
            "so pretty obviously in keeping with the themes of one piece, and an ideology the wg would obviously oppose\n",
            "\n",
            "\n",
            "\n",
            "\n",
            "\n",
            "I'm looking for a volume of One Piece, I don't remember well but I think there was a volume called 0 in which they revealed the mystery of Luffy's fruit as Zoan and not Paramecia. This information is already in an East Blue compilation book. Does anyone remember it like me or am I getting confused? (I know that volume 0 is from strong world but I'm not talking about that one)\n",
            "\n",
            "\n",
            "\n",
            "\n",
            "Since  Catarina Devon touched Saturn she can get on marijoa \n",
            "\n",
            "and since caribou wants to join  Blackbeard they might take him in, because of his very useful infinite storage abilities, and Catarina Devon can go to marijoa disguised as saturn and take caribou as a \"slave\" with all the blackbeard pirates hiding inside of his infinite swamp so then can invade marijoa.\n",
            "\n",
            "Now would be a good time to make havoc on mariojoa becuase many of the elite marines are busy with other things.\n",
            "\n",
            "\n",
            "\n",
            "\n",
            "Started crocheting a month ago and did my first „big“ amigurumi project!!\n",
            "\n",
            "\n",
            "\n",
            "\n",
            "I'm aware someone probably already did this. But these are my thoughts. Tell me if you agree or make any changes.\n",
            "\n",
            "\n",
            "\n",
            "\n"
          ]
        }
      ],
      "source": [
        "for post in posts.sample(10):\n",
        "    print(post) # print's the text from the first post in our dataset\n",
        "    print('\\n\\n\\n')"
      ]
    },
    {
      "cell_type": "markdown",
      "metadata": {
        "id": "HqnQGeKCh8qQ"
      },
      "source": [
        "### What are some characters/patterns that might not be helpful for text analysis?\n",
        "\n"
      ]
    },
    {
      "cell_type": "markdown",
      "metadata": {
        "id": "ADX6aY0Ph8qQ"
      },
      "source": [
        "### What are some phrases that we might want to extract?"
      ]
    },
    {
      "cell_type": "markdown",
      "metadata": {
        "id": "m0AHe6meh8qQ"
      },
      "source": [
        "### Using Regular Expressions (regex)\n",
        "\n",
        "Regular expressions are a way to match patterns in text in order to find, extract, and/or replace that pattern\n",
        "\n",
        "<img src=\"assets/regex_cheatsheet.png\" width='1200' height='600'>\n",
        "\n",
        "\n",
        "[See this guide for a more comprehensive understanding of regular expressions](https://docs.python.org/3/howto/regex.html#regex-howto)"
      ]
    },
    {
      "cell_type": "markdown",
      "metadata": {
        "id": "SATcAmL_h8qQ"
      },
      "source": [
        "## Regex Exercises"
      ]
    },
    {
      "cell_type": "code",
      "execution_count": 4,
      "metadata": {
        "id": "sEZQxcrPh8qQ",
        "colab": {
          "base_uri": "https://localhost:8080/"
        },
        "outputId": "657ff274-1d4b-452a-8358-aac220376c49"
      },
      "outputs": [
        {
          "output_type": "stream",
          "name": "stdout",
          "text": [
            "#One Piece: Episode 1101\n",
            "\n",
            "##\"The Strongest Form of Humanity! The Seraphim's Powers!\"\n",
            "\n",
            "###Watch now:\n",
            "\n",
            "Streaming Site | Status\n",
            ":--|:--\n",
            "[Crunchyroll](https://www.crunchyroll.com/series/GRMG8ZQZR/one-piece/)|**ONLINE**\n",
            "*****\n",
            "**Chapters adapted:** \n",
            "*****\n",
            "Preview: [Episode 1102](http://www.fujitv.co.jp/b_hp/onepiece/index.html)\n",
            "\n",
            "Don't forget to check out the official [Discord server](https://discord.gg/onepiece) to discuss this episode live with other One Piece fans!\n"
          ]
        }
      ],
      "source": [
        "ex_post = posts[0]\n",
        "print(ex_post)"
      ]
    },
    {
      "cell_type": "code",
      "execution_count": 5,
      "metadata": {
        "id": "up5dFJDRh8qQ",
        "colab": {
          "base_uri": "https://localhost:8080/"
        },
        "outputId": "23a41da7-d6e8-4775-d371-2ff206070535"
      },
      "outputs": [
        {
          "output_type": "stream",
          "name": "stdout",
          "text": [
            "#One Piece: Episode 1101\n",
            "\n",
            "##\"The Strongest Form of Humanity! The Seraphim's Powers!\"\n",
            "\n",
            "###Watch now:\n",
            "\n",
            "Streaming Site | Status\n",
            ":--|:--\n",
            "[Crunchyroll](https://www.crunchyroll.com/series/GRMG8ZQZR/one-piece/)|**ONLINE**\n",
            "*****\n",
            "**Chapters adapted:** \n",
            "*****\n",
            "Preview: [Episode 1102](http://www.fujitv.co.jp/b_hp/onepiece/index.html)\n",
            "\n",
            "Don't forget to check out the official [Discord server](https://discord.gg/onepiece) to discuss this episode live with other One Piece fans!\n"
          ]
        }
      ],
      "source": [
        "# How would you remove astericks?\n",
        "\n",
        "post_no_astx = re.sub(r'<REGEX PATTERN>', '<REGEX PATTERN>', ex_post)\n",
        "print(post_no_astx)"
      ]
    },
    {
      "cell_type": "code",
      "execution_count": 6,
      "metadata": {
        "id": "1-TFBrUvh8qR",
        "colab": {
          "base_uri": "https://localhost:8080/"
        },
        "outputId": "712f71bd-3b7f-45c6-c926-6674807cd8a3"
      },
      "outputs": [
        {
          "output_type": "stream",
          "name": "stdout",
          "text": [
            "#One Piece: Episode 1101\n",
            "\n",
            "##\"The Strongest Form of Humanity! The Seraphim's Powers!\"\n",
            "\n",
            "###Watch now:\n",
            "\n",
            "Streaming Site | Status\n",
            ":--|:--\n",
            "[Crunchyroll](https://www.crunchyroll.com/series/GRMG8ZQZR/one-piece/)|ONLINE\n",
            "\n",
            "Chapters adapted:\n",
            "\n",
            "Preview: [Episode 1102](http://www.fujitv.co.jp/b_hp/onepiece/index.html)\n",
            "\n",
            "Don't forget to check out the official [Discord server](https://discord.gg/onepiece) to discuss this episode live with other One Piece fans!\n"
          ]
        }
      ],
      "source": [
        "# Possible Answer\n",
        "post_no_astx = re.sub(r'\\* *', '', ex_post) # also removes the space after an asterick if there is one\n",
        "print(post_no_astx)"
      ]
    },
    {
      "cell_type": "code",
      "execution_count": 7,
      "metadata": {
        "id": "gRYaOWsMh8qR",
        "colab": {
          "base_uri": "https://localhost:8080/"
        },
        "outputId": "f4e06170-4b95-4435-a86d-2d8ca19c54fc"
      },
      "outputs": [
        {
          "output_type": "stream",
          "name": "stdout",
          "text": [
            "[]\n"
          ]
        }
      ],
      "source": [
        "# How would you extract links?\n",
        "\n",
        "extracted_links = re.findall(r'<REGEX PATTERN>', ex_post)\n",
        "print(extracted_links)\n"
      ]
    },
    {
      "cell_type": "code",
      "execution_count": 8,
      "metadata": {
        "id": "VnMCM5cOh8qR",
        "colab": {
          "base_uri": "https://localhost:8080/"
        },
        "outputId": "8954b79f-bf71-44d2-c39f-8cb84293ac13"
      },
      "outputs": [
        {
          "output_type": "stream",
          "name": "stdout",
          "text": [
            "['https://www.crunchyroll.com/series/GRMG8ZQZR/one-piece/', 'http://www.fujitv.co.jp/b_hp/onepiece/index.html', 'https://discord.gg/onepiece']\n"
          ]
        }
      ],
      "source": [
        "# Possible Answer\n",
        "\n",
        "extracted_links = re.findall(r'http.+(?=\\))', ex_post)\n",
        "print(extracted_links)"
      ]
    },
    {
      "cell_type": "code",
      "execution_count": 9,
      "metadata": {
        "id": "PIQpO3dvh8qR",
        "colab": {
          "base_uri": "https://localhost:8080/"
        },
        "outputId": "f6522307-0018-4cba-c340-d73835bc7059"
      },
      "outputs": [
        {
          "output_type": "stream",
          "name": "stdout",
          "text": [
            "[]\n"
          ]
        }
      ],
      "source": [
        "# How would you find the various mentions of \"Leakers\"?\n",
        "\n",
        "luffy_mentions = re.findall(r'<REGEX PATTERN>', ex_post)\n",
        "print(nvidia_mentions)"
      ]
    },
    {
      "cell_type": "code",
      "execution_count": 11,
      "metadata": {
        "id": "qtxmfa3Kh8qR",
        "colab": {
          "base_uri": "https://localhost:8080/"
        },
        "outputId": "30099158-c75b-49c1-9a8c-28fbc6eddb85"
      },
      "outputs": [
        {
          "output_type": "stream",
          "name": "stdout",
          "text": [
            "[]\n"
          ]
        }
      ],
      "source": [
        "# Possible Answer\n",
        "\n",
        "luffy_mentions = re.findall(r'Luffy[\\'s]* [A-Z][A-Za-z]+ *[A-Z]*[a-z]*', ex_post)\n",
        "# what is returned isn't perfect since the first result contains the word 'has' which is unnecessary.\n",
        "print(luffy_mentions)"
      ]
    },
    {
      "cell_type": "markdown",
      "metadata": {
        "id": "MchAE8SSh8qR"
      },
      "source": [
        "## Text Cleaning Example"
      ]
    },
    {
      "cell_type": "code",
      "execution_count": 12,
      "metadata": {
        "id": "NoK7i-olh8qR",
        "colab": {
          "base_uri": "https://localhost:8080/"
        },
        "outputId": "48004cc7-f377-4f10-94da-af180161d8d4"
      },
      "outputs": [
        {
          "output_type": "stream",
          "name": "stdout",
          "text": [
            "I made this Boa cosplay only for fun but know i rly love it! I want to make in the future more characters but i think is a good start!💜 @tsudere_ \n",
            "\n"
          ]
        }
      ],
      "source": [
        "ex_post2 = posts[20]\n",
        "print(ex_post2)"
      ]
    },
    {
      "cell_type": "code",
      "execution_count": 16,
      "metadata": {
        "id": "C0jQeNtMh8qR",
        "colab": {
          "base_uri": "https://localhost:8080/"
        },
        "outputId": "d5f0e491-9b5e-4863-d340-23e1f041c09a"
      },
      "outputs": [
        {
          "output_type": "stream",
          "name": "stdout",
          "text": [
            "I made this Boa cosplay only for fun but know i rly love it! I want to make in the future more characters but i think is a good start!💜 @tsudere_ \n",
            "\n"
          ]
        }
      ],
      "source": [
        "# Remove numerical list\n",
        "\n",
        "post_no_list = re.sub(r' *[0-9]+\\. ', '', ex_post2)\n",
        "\n",
        "print(post_no_list)"
      ]
    },
    {
      "cell_type": "code",
      "execution_count": 17,
      "metadata": {
        "id": "Nvu73y8Rh8qR",
        "colab": {
          "base_uri": "https://localhost:8080/"
        },
        "outputId": "b1ff1957-0b79-410a-cfdd-1e5ac490280c"
      },
      "outputs": [
        {
          "output_type": "stream",
          "name": "stdout",
          "text": [
            "I made this Boa cosplay only for fun but know i rly love it! I want to make in the future more characters but i think is a good start!💜 @tsudere_ \n",
            "\n"
          ]
        }
      ],
      "source": [
        "# Remove Astericks\n",
        "\n",
        "post_no_astrx = re.sub(r'\\*+', '', post_no_list)\n",
        "\n",
        "print(post_no_astrx)"
      ]
    },
    {
      "cell_type": "code",
      "execution_count": 22,
      "metadata": {
        "id": "-cUOrvFKh8qS",
        "colab": {
          "base_uri": "https://localhost:8080/"
        },
        "outputId": "835e9c98-a530-4a48-b1c3-c71423f83b2c"
      },
      "outputs": [
        {
          "output_type": "stream",
          "name": "stdout",
          "text": [
            "I made this Boa cosplay only for fun but know i rly love it! I want to make in the future more characters but i think is a good start!💜 @tsudere_ \n",
            "\n"
          ]
        }
      ],
      "source": [
        "# remove back dashes and hyphens\n",
        "\n",
        "post_no_spec_chars = re.sub(r'\\\\*[-~] *', '', post_no_astrx)\n",
        "\n",
        "print(post_no_spec_chars)"
      ]
    },
    {
      "cell_type": "code",
      "execution_count": 18,
      "metadata": {
        "id": "p0cTH_Rmh8qS",
        "colab": {
          "base_uri": "https://localhost:8080/"
        },
        "outputId": "f6c5bf7d-c770-40ef-8077-7f2264b1427b"
      },
      "outputs": [
        {
          "output_type": "stream",
          "name": "stdout",
          "text": [
            "I made this Boa cosplay only for fun but know i rly love it! I want to make in the future more characters but i think is a good start!💜 @tsudere_ \n",
            "\n"
          ]
        }
      ],
      "source": [
        "# remove link markdown notation and links but keep link text\n",
        "\n",
        "post_no_links = re.sub(r'\\(.+\\)', '', post_no_spec_chars) # removes links and their surrounding circle brackets\n",
        "post_no_link_md = re.sub(r'\\[|\\]','', post_no_links)\n",
        "\n",
        "print(post_no_link_md)"
      ]
    },
    {
      "cell_type": "code",
      "execution_count": 23,
      "metadata": {
        "id": "LG1uXHBMh8qS"
      },
      "outputs": [],
      "source": [
        "# let's put it all together\n",
        "\n",
        "def clean_text(post):\n",
        "    # print(post)\n",
        "    post_no_list = re.sub(r' *[0-9]+\\. ', '', post)\n",
        "    post_no_astrx = re.sub(r'\\*', '', post_no_list) # remove astricks\n",
        "    # print(post_no_astrx)\n",
        "    post_no_spec_chars = re.sub(r'[\\\\:\\.~\\-\\|,]*', '', post_no_astrx)\n",
        "    # print(post_no_spec_chars)\n",
        "    post_no_links = re.sub(r'\\(.+\\)', '', post_no_spec_chars) # removes links and their surrounding circle brackets\n",
        "    post_no_link_md = re.sub(r'\\[|\\]','', post_no_links)\n",
        "    # print(post_no_link_md)\n",
        "    post_no_breaks = re.sub(r'\\n', '', post_no_link_md) # remove break lines\n",
        "    # print(post_no_breaks)\n",
        "    post_no_dbl_spaces = re.sub(r'  ', ' ', post_no_breaks)\n",
        "    post_no_nums = re.sub(r'[0-9]+', '', post_no_dbl_spaces)\n",
        "    post_lower = post_no_nums.lower() # make text all lowercase\n",
        "    # print(post_lower)\n",
        "    return post_lower"
      ]
    },
    {
      "cell_type": "code",
      "execution_count": 24,
      "metadata": {
        "id": "Ls6aCKIYh8qS",
        "colab": {
          "base_uri": "https://localhost:8080/"
        },
        "outputId": "ae810661-b361-4d19-d55b-711baa577388"
      },
      "outputs": [
        {
          "output_type": "stream",
          "name": "stdout",
          "text": [
            "i made this boa cosplay only for fun but know i rly love it! i want to make in the future more characters but i think is a good start!💜 @tsudere_ \n"
          ]
        }
      ],
      "source": [
        "cleaned_post = clean_text(ex_post2)\n",
        "print(cleaned_post)"
      ]
    },
    {
      "cell_type": "markdown",
      "metadata": {
        "id": "ThAAoxIMh8qS"
      },
      "source": [
        "### Tokenization\n",
        "\n",
        "Tokenization refers to splitting up text to a basic unit, normally called an n-gram. N-grams refer to tokens that consiste of 1+ words. A unigram is a one-word token (Ex: \"text\"), a bigram is a two-word token (Ex: \"important text\"), trigram is a three-word token (Ex: \"very important text\")."
      ]
    },
    {
      "cell_type": "code",
      "execution_count": 25,
      "metadata": {
        "id": "-9IBcIuEh8qS",
        "colab": {
          "base_uri": "https://localhost:8080/"
        },
        "outputId": "1b7d2e81-e486-4c69-b237-12260241eea2"
      },
      "outputs": [
        {
          "output_type": "stream",
          "name": "stderr",
          "text": [
            "[nltk_data] Downloading package punkt to /root/nltk_data...\n",
            "[nltk_data]   Unzipping tokenizers/punkt.zip.\n"
          ]
        },
        {
          "output_type": "execute_result",
          "data": {
            "text/plain": [
              "True"
            ]
          },
          "metadata": {},
          "execution_count": 25
        }
      ],
      "source": [
        "from nltk.tokenize import word_tokenize, sent_tokenize, PunktSentenceTokenizer\n",
        "nltk.download(\"punkt\")"
      ]
    },
    {
      "cell_type": "code",
      "execution_count": 26,
      "metadata": {
        "id": "LKEEkLlth8qS",
        "colab": {
          "base_uri": "https://localhost:8080/"
        },
        "outputId": "81f3ab9d-df32-4777-9f18-b03a3d6ea944"
      },
      "outputs": [
        {
          "output_type": "stream",
          "name": "stdout",
          "text": [
            "I made this Boa cosplay only for fun but know i rly love it! I want to make in the future more characters but i think is a good start!💜 @tsudere_ \n",
            "\n"
          ]
        }
      ],
      "source": [
        "print(ex_post2)"
      ]
    },
    {
      "cell_type": "code",
      "execution_count": 27,
      "metadata": {
        "id": "BwlgXoPdh8qS",
        "colab": {
          "base_uri": "https://localhost:8080/"
        },
        "outputId": "7e733a8b-6dc7-4301-f24d-806a8f535ee5"
      },
      "outputs": [
        {
          "output_type": "execute_result",
          "data": {
            "text/plain": [
              "['I',\n",
              " 'made',\n",
              " 'this',\n",
              " 'Boa',\n",
              " 'cosplay',\n",
              " 'only',\n",
              " 'for',\n",
              " 'fun',\n",
              " 'but',\n",
              " 'know',\n",
              " 'i',\n",
              " 'rly',\n",
              " 'love',\n",
              " 'it',\n",
              " '!',\n",
              " 'I',\n",
              " 'want',\n",
              " 'to',\n",
              " 'make',\n",
              " 'in',\n",
              " 'the',\n",
              " 'future',\n",
              " 'more',\n",
              " 'characters',\n",
              " 'but',\n",
              " 'i',\n",
              " 'think',\n",
              " 'is',\n",
              " 'a',\n",
              " 'good',\n",
              " 'start',\n",
              " '!',\n",
              " '💜',\n",
              " '@',\n",
              " 'tsudere_']"
            ]
          },
          "metadata": {},
          "execution_count": 27
        }
      ],
      "source": [
        "word_tokenize(ex_post2)"
      ]
    },
    {
      "cell_type": "code",
      "execution_count": 28,
      "metadata": {
        "id": "TZ-keJ_vh8qT",
        "colab": {
          "base_uri": "https://localhost:8080/"
        },
        "outputId": "2b4cceca-13dc-4eac-c7df-6042380d2380"
      },
      "outputs": [
        {
          "output_type": "stream",
          "name": "stdout",
          "text": [
            "['i', 'made', 'this', 'boa', 'cosplay', 'only', 'for', 'fun', 'but', 'know', 'i', 'rly', 'love', 'it', '!', 'i', 'want', 'to', 'make', 'in', 'the', 'future', 'more', 'characters', 'but', 'i', 'think', 'is', 'a', 'good', 'start', '!', '💜', '@', 'tsudere_']\n"
          ]
        }
      ],
      "source": [
        "tokenized_post = word_tokenize(cleaned_post)\n",
        "print(tokenized_post)"
      ]
    },
    {
      "cell_type": "markdown",
      "metadata": {
        "id": "nKC2--T7h8qT"
      },
      "source": [
        "### Stopwords\n",
        "\n",
        "Stop words are a set of commonly used words that would not be helpful for analysis (Ex. a, the, is, are, etc.)"
      ]
    },
    {
      "cell_type": "code",
      "execution_count": 30,
      "metadata": {
        "id": "mgza-XB6h8qT",
        "colab": {
          "base_uri": "https://localhost:8080/"
        },
        "outputId": "2acdc403-a690-499b-cab4-2d50313a89db"
      },
      "outputs": [
        {
          "output_type": "stream",
          "name": "stderr",
          "text": [
            "[nltk_data] Downloading package stopwords to /root/nltk_data...\n",
            "[nltk_data]   Package stopwords is already up-to-date!\n"
          ]
        },
        {
          "output_type": "execute_result",
          "data": {
            "text/plain": [
              "True"
            ]
          },
          "metadata": {},
          "execution_count": 30
        }
      ],
      "source": [
        "from nltk.corpus import stopwords\n",
        "nltk.download('stopwords')"
      ]
    },
    {
      "cell_type": "code",
      "execution_count": 35,
      "metadata": {
        "id": "AkG8dHYnh8qT",
        "colab": {
          "base_uri": "https://localhost:8080/"
        },
        "outputId": "5b855221-87c8-477e-b514-be661e92b014"
      },
      "outputs": [
        {
          "output_type": "stream",
          "name": "stdout",
          "text": [
            "<WordListCorpusReader in '.../corpora/stopwords' (not loaded yet)>\n"
          ]
        }
      ],
      "source": [
        "print(stopwords)"
      ]
    },
    {
      "cell_type": "code",
      "execution_count": 75,
      "metadata": {
        "id": "w1dt6aFdh8qT"
      },
      "outputs": [],
      "source": [
        "# add custom stop word\n",
        "updated_stopwords = stopwords.words('english')\n",
        "new_stopwords = ['something', 'it', 'the', 'https', 'also', 'and', 'even', 'this', 'that', 'for','but','to', 'in']\n",
        "updated_stopwords.extend(new_stopwords)"
      ]
    },
    {
      "cell_type": "code",
      "execution_count": 76,
      "metadata": {
        "id": "YQl-OgW6h8qY"
      },
      "outputs": [],
      "source": [
        "def remove_stopwords(post): # we want to pass in the tokenized post\n",
        "    post_no_stop_words = [t for t in post.split() if t not in updated_stopwords]\n",
        "    return post_no_stop_words"
      ]
    },
    {
      "cell_type": "code",
      "execution_count": 78,
      "metadata": {
        "id": "OujS0M9th8qY",
        "colab": {
          "base_uri": "https://localhost:8080/"
        },
        "outputId": "8f1d6b51-4681-4f3b-c9ed-e507fd33619c"
      },
      "outputs": [
        {
          "output_type": "stream",
          "name": "stdout",
          "text": [
            "['i', 'made', 'this', 'boa', 'cosplay', 'only', 'for', 'fun', 'but', 'know', 'i', 'rly', 'love', 'it', '!', 'i', 'want', 'to', 'make', 'in', 'the', 'future', 'more', 'characters', 'but', 'i', 'think', 'is', 'a', 'good', 'start', '!', '💜', '@', 'tsudere_']\n"
          ]
        }
      ],
      "source": [
        "print(tokenized_post)"
      ]
    },
    {
      "cell_type": "code",
      "execution_count": 79,
      "metadata": {
        "id": "cinQ1K3yh8qY",
        "colab": {
          "base_uri": "https://localhost:8080/"
        },
        "outputId": "ed0a3572-db12-4381-9c7a-703ee76fef79"
      },
      "outputs": [
        {
          "output_type": "stream",
          "name": "stdout",
          "text": [
            "['made', 'boa', 'cosplay', 'fun', 'know', 'rly', 'love', 'it!', 'want', 'make', 'future', 'characters', 'think', 'good', 'start!💜', '@tsudere_']\n"
          ]
        }
      ],
      "source": [
        "print(remove_stopwords(cleaned_post))"
      ]
    },
    {
      "cell_type": "markdown",
      "metadata": {
        "id": "pwfv8Uunh8qY"
      },
      "source": [
        "## N-Grams\n",
        "\n",
        "N-grams refer to collections of terms from a text that. For example, a series that is just term is a unigram, two words is a bigram, three words is a trigram, and so on. We might use multiple n-grams instead of just unigrams to extract phrases that we might otherwise miss."
      ]
    },
    {
      "cell_type": "code",
      "execution_count": 80,
      "metadata": {
        "id": "rd3bUfuDh8qZ"
      },
      "outputs": [],
      "source": [
        "from nltk.util import ngrams\n",
        "\n",
        "def extract_ngrams(post, num):\n",
        "    n_grams = ngrams(nltk.word_tokenize(post), num)\n",
        "    return [ ' '.join(grams) for grams in n_grams]"
      ]
    },
    {
      "cell_type": "code",
      "execution_count": 81,
      "metadata": {
        "id": "ymezt4Mrh8qZ",
        "colab": {
          "base_uri": "https://localhost:8080/"
        },
        "outputId": "c3d444b6-fdd2-4c42-b407-936a7ba2bcd7"
      },
      "outputs": [
        {
          "output_type": "stream",
          "name": "stdout",
          "text": [
            "['i', 'made', 'this', 'boa', 'cosplay', 'only', 'for', 'fun', 'but', 'know', 'i', 'rly', 'love', 'it', '!', 'i', 'want', 'to', 'make', 'in', 'the', 'future', 'more', 'characters', 'but', 'i', 'think', 'is', 'a', 'good', 'start', '!', '💜', '@', 'tsudere_']\n"
          ]
        }
      ],
      "source": [
        "# unigrams\n",
        "print(extract_ngrams(cleaned_post, 1))"
      ]
    },
    {
      "cell_type": "code",
      "execution_count": 82,
      "metadata": {
        "id": "B9IwhVw1h8qZ",
        "colab": {
          "base_uri": "https://localhost:8080/"
        },
        "outputId": "03b381a3-9ec8-461d-909b-72c6caa7d145"
      },
      "outputs": [
        {
          "output_type": "stream",
          "name": "stdout",
          "text": [
            "['i made', 'made this', 'this boa', 'boa cosplay', 'cosplay only', 'only for', 'for fun', 'fun but', 'but know', 'know i', 'i rly', 'rly love', 'love it', 'it !', '! i', 'i want', 'want to', 'to make', 'make in', 'in the', 'the future', 'future more', 'more characters', 'characters but', 'but i', 'i think', 'think is', 'is a', 'a good', 'good start', 'start !', '! 💜', '💜 @', '@ tsudere_']\n"
          ]
        }
      ],
      "source": [
        "# bigrams\n",
        "print(extract_ngrams(cleaned_post, 2))"
      ]
    },
    {
      "cell_type": "code",
      "execution_count": 83,
      "metadata": {
        "id": "x-U5tpOzh8qZ",
        "colab": {
          "base_uri": "https://localhost:8080/"
        },
        "outputId": "f86a112a-e25b-40eb-feb0-520268d0ee29"
      },
      "outputs": [
        {
          "output_type": "stream",
          "name": "stdout",
          "text": [
            "['i made this', 'made this boa', 'this boa cosplay', 'boa cosplay only', 'cosplay only for', 'only for fun', 'for fun but', 'fun but know', 'but know i', 'know i rly', 'i rly love', 'rly love it', 'love it !', 'it ! i', '! i want', 'i want to', 'want to make', 'to make in', 'make in the', 'in the future', 'the future more', 'future more characters', 'more characters but', 'characters but i', 'but i think', 'i think is', 'think is a', 'is a good', 'a good start', 'good start !', 'start ! 💜', '! 💜 @', '💜 @ tsudere_']\n"
          ]
        }
      ],
      "source": [
        "# trigrams\n",
        "print(extract_ngrams(cleaned_post, 3))"
      ]
    },
    {
      "cell_type": "markdown",
      "metadata": {
        "id": "mHdh7DY2h8qZ"
      },
      "source": [
        "# Bag-Of-words Analysis\n",
        "\n",
        "Bag-of-words is a way of representing texts as a 'bag' of terms that appear in the corpus. Dcouments are represented as vectors corresponding to terms that contain 0/1 if the term is not present/present in the document or the vectors contain the amount of times the term appears in the document."
      ]
    },
    {
      "cell_type": "code",
      "execution_count": 84,
      "metadata": {
        "id": "fiUvjqK1h8qZ"
      },
      "outputs": [],
      "source": [
        "def remove_stopwords2(post): # we want to pass in the tokenized post\n",
        "    post_no_stop_words = ' '.join([t for t in post.split() if t not in updated_stopwords])\n",
        "    return post_no_stop_words"
      ]
    },
    {
      "cell_type": "code",
      "execution_count": 85,
      "metadata": {
        "id": "NO2Tgy5gh8qZ"
      },
      "outputs": [],
      "source": [
        "# drop rows with nothing in the content\n",
        "df2 = df.dropna(subset='content')\n",
        "\n",
        "# initial corpus is just our text from the posts\n",
        "corpus = df2['content']\n",
        "\n",
        "# clean the corpus content\n",
        "corpus_cleaned = corpus.apply(clean_text)\n",
        "\n",
        "# remove stop_words\n",
        "corpus_cleaned = corpus.apply(remove_stopwords2)"
      ]
    },
    {
      "cell_type": "markdown",
      "metadata": {
        "id": "-iMF4z31h8qZ"
      },
      "source": [
        "## Count Vectorizer\n",
        "\n",
        "Lucky for us, the [scitkit-learn Python library](https://scikit-learn.org/) allows us to do a lot of the cleaning through a [Count Vectorizer](https://scikit-learn.org/stable/modules/generated/sklearn.feature_extraction.text.CountVectorizer.html) object."
      ]
    },
    {
      "cell_type": "code",
      "execution_count": 86,
      "metadata": {
        "id": "-u4BV3Efh8qZ"
      },
      "outputs": [],
      "source": [
        "from sklearn.feature_extraction.text import CountVectorizer\n",
        "\n",
        "vectorizer = CountVectorizer()\n",
        "\n",
        "vectors = vectorizer.fit_transform(corpus_cleaned)"
      ]
    },
    {
      "cell_type": "code",
      "execution_count": 93,
      "metadata": {
        "id": "CK3cILvFh8qZ",
        "colab": {
          "base_uri": "https://localhost:8080/"
        },
        "outputId": "71c5cba2-9200-4944-cb8a-8607145d7893"
      },
      "outputs": [
        {
          "output_type": "stream",
          "name": "stdout",
          "text": [
            "{'one': 9062, 'piece': 9585, 'episode': 4908, '1101': 116, 'the': 12657, 'strongest': 12163, 'form': 5600, 'humanity': 6641, 'seraphim': 11276, 'powers': 9811, 'watch': 13718, 'now': 8892, 'streaming': 12132, 'site': 11581, 'status': 12035, 'crunchyroll': 3722, 'https': 6629, 'www': 14049, 'com': 3257, 'series': 11281, 'grmg8zqzr': 6144, 'online': 9081, 'chapters': 2986, 'adapted': 1326, 'preview': 9901, '1102': 117, 'http': 6628, 'fujitv': 5731, 'co': 3195, 'jp': 7318, 'b_hp': 2034, 'onepiece': 9067, 'index': 6916, 'html': 6627, 'don': 4404, 'forget': 5590, 'check': 3016, 'official': 9011, 'discord': 4250, 'server': 11294, 'gg': 5916, 'discuss': 4259, 'live': 7828, 'fans': 5270, 'chapter': 2985, '1113': 129, 'around': 1784, 'corner': 3558, 'perfect': 9481, 'time': 12789, 'leave': 7684, 'thoughts': 12729, 'comments': 3290, 'upcoming': 13341, 'this': 12717, 'thread': 12734, 'place': 9632, 'talk': 12487, 'unconfirmed': 13203, 'spoilers': 11934, 'hints': 6508, 'reactions': 10266, 'given': 5957, 'leakers': 7669, 'spoiler': 11933, 'out': 9189, 'people': 9470, 'start': 12013, 'getting': 5913, 'banned': 2094, 'sharing': 11370, 'here': 6455, 'join': 7287, 'us': 13377, 'instantly': 7043, 'fellow': 5347, 'nakama': 8684, 'hii': 6489, 'everyone': 4988, 'crochet': 3697, 'cosplay': 3582, 'made': 8003, 'luffy': 7952, 'put': 10112, 'lot': 7915, 'effort': 4687, 'hope': 6582, 'like': 7774, 'much': 8597, 'do': 4360, 've': 13476, 'seen': 11213, 'confusion': 3411, 'jesus': 7256, 'burgess': 2689, 'newly': 8790, 'gained': 5796, 'fruit': 5710, 'strong': 12161, 'apparently': 1694, 'makes': 8045, 'obviously': 8968, 'raises': 10204, 'questions': 10152, 'how': 6622, 'make': 8043, 'him': 6496, 'can': 2776, 'get': 5910, 'infinitely': 6948, 'is': 7176, 'what': 13804, 'special': 11865, 'devil': 4143, 'give': 5955, 'user': 13385, 'superhuman': 12305, 'strength': 12135, 'so': 11747, 'theory': 12688, 'clear': 3138, 'straightforward': 12111, 'strongman': 12166, 'gives': 5958, 'power': 9804, 'lift': 7763, 'object': 8942, 'heavylifting': 6407, 'similar': 11543, 'way': 13736, 'shiki': 11400, 'float': 5515, 'able': 1213, 'things': 12707, 'except': 5025, 'keep': 7410, 'grip': 6141, 'effect': 4674, 'vanishes': 13452, 'lets': 7725, 'go': 5989, 'possibly': 9782, 'kilo': 7441, 'manipulates': 8085, 'weight': 13779, 'might': 8364, 'manipulate': 8083, 'perceived': 9475, 'sense': 11246, 'knowing': 7493, 'helmsman': 6436, 'crew': 3672, 'better': 2308, 'ship': 11416, 'entire': 4887, 'carry': 2853, 'we': 13741, 'noticed': 8882, 'franky': 5649, 'voice': 13604, 'actor': 1315, 'good': 6031, 'used': 13381, 'be': 2180, 'especially': 4950, 'current': 3756, 'arc': 1740, 'love': 7921, 'unfortunately': 13259, 'old': 9043, 'anymore': 1662, 'his': 6515, 'great': 6116, 'kazuki': 7406, 'yao': 14092, 'match': 8181, 'movements': 8576, 'all': 1504, 'think': 12709, 'anyone': 1663, 'days': 3862, 'he': 6368, 'job': 7283, 'voicing': 13607, 'it': 7191, 'may': 8209, 'familiar': 5252, 'others': 9179, 'lord': 7904, 'knows': 7498, 'often': 9020, 'fujitora': 5729, 'actual': 1318, 'name': 8687, 'issho': 7187, 'godsdamned': 6007, 'reason': 10298, 'whenever': 13814, 'try': 13069, 'recall': 10316, 'ryokugyu': 10929, 'default': 3942, 'calling': 2767, 'greenbull': 6129, 'maybe': 8210, 'debut': 3896, 'swear': 12393, 'dogtooth': 4386, 'again': 1421, 'does': 4372, 'characters': 2994, 'either': 4707, 'translation': 12966, 'fan': 5256, 'otherwise': 9180, 'got': 6064, 'symbol': 12434, 'spreading': 11948, 'freedom': 5669, 'joy': 7310, 'photo': 9557, 'bit': 2359, 'cut': 3766, 'side': 11513, 'edge': 4647, 'says': 11071, 'gear': 5860, 'japanese': 7237, 'instagram': 7035, 'c0uwt15pnus': 2726, 'igsh': 6756, 'mw84mgt4emxpdgrxoq': 8652, 'for': 5571, 'gazellman': 5857, 'speed': 11888, 'know': 7492, 'manga': 8068, 'black': 2372, 'white': 13838, 'cannot': 2792, 'color': 3247, 'man': 8057, 'hurt': 6667, 'eye': 5159, '1112': 128, 'mangaplus': 8071, 'shueisha': 11494, 'titles': 12815, '100020': 64, 'post': 9783, 'discussions': 4264, 'reaction': 10265, 'release': 10477, 'hiya': 6529, 'wanted': 13681, 'share': 11366, 'another': 1637, 'picture': 9582, 'fem': 5349, 'zoro': 14198, 'joost': 7302, 'raw': 10247, 'yall': 14088, 'reading': 10275, 'op': 9094, 'since': 11564, '2002': 376, '2003': 377, 'came': 2770, 'shonen': 11444, 'jump': 7334, 'gotta': 6066, 'usopp': 13393, 'ever': 4984, 'to': 12821, 'general': 5870, 'consensus': 3436, 'done': 4405, 'anything': 1665, 'lately': 7629, 'nah': 8682, 'say': 11068, 'that': 12654, 'false': 5246, 'summed': 12282, 'sentences': 11256, 'mostly': 8548, 'support': 12320, 'character': 2988, 'legit': 7699, 'fight': 5390, 'while': 13823, 'respect': 10634, 'fighters': 5392, 'trying': 13071, 'show': 11472, 'lemme': 7709, 'actually': 1319, 'break': 2578, 'onigashima': 9078, 'egghead': 4692, 'please': 9667, 'in': 6860, 'zou': 14201, 'nobody': 8837, 'whole': 13847, 'cake': 2760, 'positives': 9768, 'once': 9060, 'arrived': 1792, 'saw': 11065, 'guards': 6177, 'took': 12861, 'would': 13998, 'caught': 2886, 'attacked': 1909, 'big': 2327, 'mom': 8483, 'tank': 12507, 'and': 1602, 'escaped': 4940, 'page': 9297, 'attack': 1908, 'first': 5440, 'diverting': 4344, 'away': 1987, 'hey': 6469, 'll': 7836, 'guy': 6207, 'bad': 2055, 'thing': 12706, 'sanji': 11020, 'usually': 13399, 'saved': 11059, 'otama': 9177, 'ulti': 13155, 'told': 12840, 'nami': 8692, 'use': 13380, 'chance': 2963, 'captured': 2827, 'hit': 6521, 'bao': 2096, 'huang': 6632, 'intercom': 7086, 'could': 3591, 'orders': 9144, 'gifters': 5929, 'shot': 11457, 'numerous': 8916, 'kibi': 7420, 'dangos': 3834, 'turned': 13100, 'alliance': 1511, 'kinemon': 7451, 'kiku': 7435, 'defeated': 3944, 'defending': 3955, 'them': 12666, 'speech': 11886, 'surviving': 12366, 'change': 2966, 'ideology': 6731, 'towards': 12909, 'wanting': 13682, 'survive': 12363, 'huge': 6635, 'samurai': 11011, 'saying': 11070, 'arcs': 1752, 'want': 13680, 'rather': 10242, 'die': 4181, 'other': 9178, 'small': 11686, 'random': 10219, 'important': 6841, 'said': 10985, 'shoot': 11446, 'kanjuro': 7389, 'sky': 11618, 'momo': 8489, 'ink': 7000, 'cloud': 3177, 'spot': 11942, 'enemies': 4821, 'enemy': 4822, 'taken': 12480, 'else': 4743, 'sea': 11161, 'battle': 2153, 'commented': 3289, 'flag': 5463, 'wano': 13679, 'end': 4807, 'overall': 9224, 'multiple': 8606, 'helped': 6438, 'turn': 13099, 'captain': 2821, 'focus': 5538, 'task': 12524, 'hand': 6273, 'sure': 12338, 'beat': 2198, 'tobi': 12825, 'roppo': 10858, 'pulled': 10063, 'own': 9268, 'robin': 10818, 'shark': 11371, 'knocked': 7488, 'back': 2042, 'protecting': 10021, 'diverted': 4343, 'attention': 1920, 'communicated': 3300, 'cp': 3627, 'agents': 1432, 'making': 8048, 'ok': 9035, 'sunny': 12299, 'falling': 5243, 'labophase': 7575, 'lilith': 7787, 'brook': 2616, 'afterwards': 1420, 'going': 6017, 'prepped': 9871, 'coup': 3608, 'de': 3871, 'burst': 2695, 'edison': 4652, 'they': 12698, 'step': 12058, 'strawhats': 12124, 'need': 8735, 'at': 1891, 'ready': 10277, 'saturn': 11049, 'chopper': 3058, 'standing': 11999, 'scared': 11091, 'also': 1540, 'accomplishments': 1267, 'gets': 5911, 'panel': 9329, 'day': 3861, 'east': 4626, 'blue': 2440, 'excluding': 5040, 'included': 6888, 'consistently': 3447, 'most': 8547, 'protected': 10020, 'mates': 8195, 'prep': 9863, 'protect': 10019, 'even': 4978, '99': 1078, 'gonna': 6029, 'bro': 2607, 'uncle': 13200, 'jinbei': 7275, 'lol': 7874, 'no': 8830, 'offense': 9001, 'part': 9375, 'play': 9657, 'but': 2706, 'lie': 7753, 'insert': 7016, 'person': 9513, 'giving': 5959, 'negative': 8751, 'enough': 4866, 'overtake': 9249, 'stupidity': 12193, 'caused': 2889, 'issues': 7190, 'oath': 8937, 'women': 13948, 'well': 13786, 'yet': 14113, 'win': 13885, 'fights': 5396, 'discussed': 4260, 'as': 1814, 'carrying': 2854, 'load': 7839, 'issue': 7188, 'care': 2835, 'wins': 13898, 'beaten': 2200, 'kizaru': 7475, 'stood': 12091, 'tried': 13036, 'judging': 7329, 'fact': 5212, 'holding': 6546, 'slingshot': 11669, 'slapped': 11636, 'next': 8795, 'unlike': 13288, 'business': 2699, 'aiming': 1455, 'elbaf': 4715, 'prime': 9914, 'without': 13923, 'props': 10011, 'when': 13813, 'comes': 3274, 'putting': 10114, 'work': 13966, 'needed': 8737, 'saving': 11062, 'pretty': 9893, 'thank': 12650, 'read': 10270, 'far': 5275, 'boa': 2456, 'fun': 5747, 'rly': 10802, 'future': 5771, 'tsudere_': 13078, 'marineford': 8133, 'finna': 5429, 'lit': 7820, 'bothered': 2529, 'sooooo': 11801, 'hyped': 6683, 'third': 12714, 'directly': 4218, 'shown': 11481, 'basic': 2128, 'creative': 3661, 'ways': 13737, 'cool': 3540, 'seeing': 11203, 'stay': 12038, 'prolonged': 9982, 'period': 9495, 'bouncing': 2540, 'air': 1460, 'arm': 1775, 'chest': 3030, 'leg': 7691, 'different': 4189, 'attacks': 1911, 'rapidly': 10234, 'moving': 8582, 'inflate': 6950, 'lucci': 7944, 'midair': 8356, 'excited': 5034, 'see': 11199, 'then': 12676, 'singular': 11568, 'buff': 2657, 'almost': 1530, 'never': 8782, 'giant': 5921, 'pistol': 9619, 'bazooka': 2166, 'haki': 6255, 'alternates': 1545, 'those': 12724, 'thriller': 12744, 'bark': 2108, '4th': 672, 'new': 8784, 'idea': 6721, 'built': 2670, 'instead': 7044, 'on': 9058, 'if': 6741, 'conceptually': 3371, 'second': 11179, 'favorite': 5299, 'bounce': 2539, 'practice': 9822, 'easily': 4624, 'least': 7683, 'gears': 5861, 'lived': 7829, 'showing': 11479, 'fruits': 5711, 'found': 5625, 'movie': 8580, 'four': 5631, 'yes': 14111, 'none': 8850, 'canon': 2793, 'definitely': 3967, 'logia': 7862, 'parameica': 9364, 'candy': 2787, 'syrup': 12454, 'product': 9957, 'villain': 13553, 'katakuri': 7399, 'mochi': 8460, 'my': 8654, 'bsf': 2638, 'christmas': 3070, 'posted': 9784, 'little': 7827, 'link': 7803, 'pinterest': 9609, 'au': 1933, 'pin': 9601, '502a': 682, 'tamakin_mnc': 12497, 'twitter': 13119, '632896553903754101': 797, 'reference': 10394, 'redd': 10369, 'lrp2ryhkf0wc1': 7941, 'jpg': 7319, 'width': 13860, '1280': 158, 'format': 5603, 'pjpg': 9630, 'auto': 1952, 'webp': 13765, '29a466c6f31ddfcd9696a516164bfcfc82abb495': 463, 'nika': 8819, 'clue': 3185, 'before': 2225, 'sorry': 11807, 'begin': 2233, 'listing': 7818, 'attributes': 1930, 'poneglyphs': 9724, 'are': 1753, 'indestructible': 6915, 'moved': 8574, 'missing': 8430, 'poneglyph': 9722, 'fishman': 5447, 'island': 7181, 'were': 13789, 'have': 6352, 'writing': 14027, 'engraved': 4838, 'despite': 4098, 'laid': 7592, 'let': 7722, 'explain': 5100, 'tie': 12775, 'process': 9946, 'blades': 2383, 'ties': 12779, 'armament': 1777, 'coated': 3200, 'blade': 2381, 'invincible': 7150, 'dive': 4338, 'deep': 3937, 'self': 11229, 'explanatory': 5108, 'honestly': 6571, 'major': 8040, 'detail': 4112, 'plays': 9664, 'pick': 9576, 'ryumas': 10933, 'sword': 12419, 'perfectly': 9483, 'fine': 5420, 'wouldn': 14000, 'bend': 2280, 'inch': 6882, 'dinosaur': 4207, 'stepped': 12060, 'explains': 5104, 'showed': 11477, 'spread': 11947, 'across': 1298, 'world': 13972, 'im': 6780, 'firm': 5438, 'believer': 2259, 'paw': 9427, 'debunked': 3895, 'help': 6437, 'kuma': 7530, 'memory': 8279, 'flashback': 5476, 'isn': 7184, 'essential': 4954, 'however': 6623, 'adds': 1341, 'known': 7497, 'home': 6560, 'ryo': 10928, 'advanced': 1369, 'master': 8173, 'swordsmiths': 12426, 'fair': 5230, 'past': 9407, 'sushwi': 12369, 'example': 5017, 'unreasonable': 13316, 'carved': 2864, 'method': 8341, 'probably': 9937, 'happened': 6298, 'stone': 12089, 'smiths': 11709, 'regular': 10441, 'brick': 2593, 'stones': 12090, 'unlikely': 13290, 'material': 8188, 'oda': 8984, 'introduce': 7126, 'system': 12455, 'look': 7889, 'potential': 9797, 'counter': 3597, 'arguments': 1765, 'being': 2249, 'easy': 4629, 'multiply': 8607, 'users': 13386, 'touch': 12896, 'road': 10809, 'red': 10367, 'introduced': 7127, 'suggesting': 12262, 'version': 13504, 'streak': 12129, 'rabbit': 10175, 'hole': 6548, 'sum': 12279, 'up': 13339, 'fellas': 5346, 'wrote': 14034, 'ancient': 1601, 'text': 12642, 'cube': 3733, 'ified': 6743, 'turning': 13101, 'sick': 11510, 'stayed': 12039, 'bed': 2217, 'watching': 13722, 'doa': 4361, 'mi': 8348, 'personally': 9519, 'hello': 6431, 'honest': 6570, 'reddit': 10370, 'struggling': 12174, 'find': 5417, 'somewhere': 11794, 'sell': 11232, 'two': 13120, 'pins': 9608, 'hopefully': 6583, 'decent': 3905, 'profit': 9964, 'trade': 12928, 'resell': 10606, 'follow': 5554, 'artists': 1810, 'resale': 10598, 'policies': 9711, 'looking': 7892, 'money': 8500, 'afford': 1407, 'glasses': 5971, 'migraine': 8366, 'health': 6384, 'keeps': 7413, 'working': 13969, 'disability': 4223, 'taking': 12483, 'forever': 5589, 'fiance': 5374, 'loosing': 7902, 'tight': 12782, 'moment': 8485, 'already': 1537, 'ebay': 4635, 'mecari': 8233, 'there': 12692, 'anybody': 1661, 'wants': 13684, 'dofi': 4376, 'croco': 3699, 'am': 1556, 'loves': 7927, 'ive': 7208, 'heard': 6387, 'notorious': 8886, 'killing': 7439, 'off': 9000, 'motherfucker': 8553, 'needs': 8741, 'exception': 5026, 'spandam': 11843, 'slugged': 11681, 'betrayed': 2303, 'deal': 3880, 'kicked': 7423, 'shit': 11429, 'outta': 9217, 'count': 3594, 'amount': 1583, 'permanent': 9499, 'deaths': 3887, 'pray': 9828, 'douchebag': 4436, '269': 448, 'episodes': 4909, 'villains': 13554, 'heated': 6401, 'fuck': 5719, 'punchable': 10075, 'ass': 1839, 'bravo': 2575, 'kill': 7436, 'haven': 6354, 'really': 10290, 'mention': 8289, 'someone': 11786, 'did': 4178, 'specific': 11873, 'overhead': 9234, 'view': 13537, 'latest': 7631, 'intro': 7125, 'looks': 7894, 'sun': 12290, 'pirates': 9614, 'kozuki': 7512, 'clan': 3116, 'currently': 3757, 'happening': 6299, 'names': 8690, 'commanders': 3283, 'structure': 12169, 'buggy': 2661, 'urs0n1limo': 13375, 'fanarts': 5258, 'art': 1801, 'jarall0art': 7238, 'beebom': 2219, 'explained': 5102, 'amp': 1585, 'right': 10771, 'not': 8869, 'opinion': 9112, 'drastically': 4467, 'line': 7799, 'kinda': 7446, 'understand': 13226, 'marines': 8135, 'mean': 8219, 'grunts': 6165, 'lieutenants': 7758, 'captains': 2823, 'smoker': 11711, 'plenty': 9671, 'wigs': 13868, 'higher': 6483, 'marine': 8132, 'admirals': 1352, 'absolute': 1231, 'pieces': 9586, 'maintaining': 8037, 'hold': 6544, 'bossing': 2524, 'every': 4985, 'free': 5667, 'dreams': 4481, 'take': 12479, 'open': 9099, 'shanks': 11356, 'chilled': 3041, 'shitty': 11434, 'themselves': 12675, 'actively': 1310, 'cities': 3096, 'terrorize': 12632, 'you': 14135, 'belumie': 2278, 'alvida': 1554, 'stealing': 12045, 'murdering': 8621, 'destroying': 4106, 'happens': 6301, 'military': 8372, 'interference': 7094, 'arlong': 1774, 'killed': 7437, 'stole': 12084, 'repercussions': 10556, 'aware': 1985, 'bribed': 2592, 'local': 7846, 'call': 2762, 'backup': 2052, 'tashigi': 12523, 'toast': 12822, 'threat': 12736, 'comparison': 3314, 'later': 7630, 'stuff': 12183, 'shows': 11482, 'average': 1967, 'citizens': 3099, 'towns': 12913, 'suffer': 12250, 'specifically': 11874, 'sacks': 10956, 'hell': 6427, 'cp9': 3629, 'cared': 2836, 'meeting': 8253, 'genuine': 5896, 'justice': 7350, 'smoking': 11713, 'low': 7929, 'mid': 8355, 'level': 7728, 'pirate': 9612, 'trash': 12987, 'within': 13922, 'government': 6074, 'feel': 5338, 're': 10256, 'heinous': 6422, 'protagonists': 10018, 'paint': 9304, 'ina': 6861, 'light': 7767, 'deserve': 4078, 'painted': 9307, 'such': 12242, 'superhero': 12304, 'typical': 13127, 'shone': 11443, 'protag': 10016, 'won': 13949, 'naruto': 8703, 'ichigo': 6715, 'townspeople': 12915, 'nothing': 8877, 'thief': 12702, 'points': 9699, 'correctly': 3568, 'point': 9696, 'wa': 13645, 'fantastic': 5272, 'heart': 6391, 'tell': 12593, 'wall': 13668, 'pool': 9732, 'aokiji': 1673, 'speaks': 11862, 'helping': 6441, 'escape': 4939, 'ohara': 9027, 'gorosei': 6054, 'nusjuro': 8920, 'bonney': 2489, 'cold': 3227, 'save': 11058, '499': 640, 'sabaody': 10947, 'celestial': 2915, 'dragon': 4458, 'hes': 6467, 'swords': 12421, 'men': 8281, 'dont': 4409, 'fully': 5745, 'didn': 4179, 'long': 7881, 'likely': 7778, 'sogeking': 11762, 'must': 8640, 'yasopp': 14096, 'snipers': 11740, 'why': 13854, 'literally': 7823, 'rubber': 10886, 'body': 2467, 'combat': 3260, 'assuming': 1874, 'everything': 4991, 'same': 11008, 'whitebeard': 13839, 'dies': 4183, 'bb': 2167, 'yada': 14083, 'rewatching': 10745, 'beginning': 2234, 'impel': 6822, 'down': 4437, 'starting': 12016, 'teaching': 12550, 'sector': 11193, 'spending': 11899, '12': 147, '15yr': 236, 'olds': 9047, 'interacts': 7082, 'meaning': 8220, 'clueless': 3186, 'seems': 11212, 'deliberate': 3991, 'act': 1299, 'noticeable': 8880, 'interaction': 7079, 'hancock': 6272, 'continues': 3492, 'hammock': 6268, 'become': 2212, 'serious': 11282, 'uses': 13387, 'proper': 9997, 'watched': 13719, 'netflixs': 8779, 'twice': 13115, 'whilesomness': 13824, 'originally': 9160, 'anime': 1623, 'recommended': 10341, 'still': 12073, 'tankman': 12510, '956': 1058, 'momonosuke': 8491, 'asks': 1831, 'word': 13961, 'sunacchi': 12292, 'amongst': 1582, 'tells': 12595, 'village': 13550, 'shimotsuki': 11405, 'behind': 2248, 'wiki': 13869, 'unknown': 13282, 'uta': 13405, 'alive': 1503, 'hairs': 6250, 'gather': 5845, 'fucking': 5721, 'coffin': 3213, 'poor': 9733, 'girl': 5950, 'dead': 3874, 'ate': 1893, 'snapped': 11732, 'somehow': 11784, 'injection': 6993, 'prism': 9925, 'needles': 8739, 'style': 12195, 'parallel': 9354, 'doflammingo': 4380, 'considered': 3444, 'hero': 6460, 'dressrosa': 4485, 'kind': 7445, 'hearted': 6396, 'called': 2765, 'tyrant': 13135, 'doffy': 4375, 'former': 5606, 'descended': 4065, 'heaven': 6403, 'slave': 11644, 'became': 2208, 'king': 7453, 'sadistic': 10968, 'takes': 12482, 'peoples': 9471, 'pain': 9300, 'similarly': 11547, 'faced': 5206, 'adversity': 1382, 'stronger': 12162, 'etc': 4962, 'situation': 11586, 'present': 9875, 'rob': 10813, 'vp': 13628, 'last': 7624, 'thembut': 12670, 'scene': 11104, 'pedro': 9454, 'carrot': 2852, 'calculated': 2761, 'sacrifice': 10962, 'revenge': 10712, 'move': 8572, 'middle': 8357, 'finger': 5421, 'yonko': 14128, 'went': 13788, 'blaze': 2397, 'glory': 5982, 'lives': 7831, 'hurts': 6670, 'inflicts': 6955, 'someting': 11791, 'sake': 10995, 'flashbaack': 5475, 'brought': 2624, 'revolution': 10732, 'warlord': 13695, 'cyborg': 3778, 'cure': 3749, 'daughter': 3853, 'who': 13845, 'technically': 12568, 'unexpected': 13249, 'saint': 10990, 'responsible': 10649, 'jenny': 7254, 'losses': 7913, 'odd': 8987, 'inflict': 6954, 'callback': 2764, 'ask': 1828, 'final': 5413, 'moments': 8486, 'send': 11238, 'thousand': 12731, 'toward': 12907, 'bye': 2717, 'broadcast': 2608, 'ends': 4817, 'image': 6782, 'bleeding': 2400, 'dream': 4478, 'game': 5809, 'musou': 8638, 'fighting': 5394, 'complex': 3340, 'graphic': 6103, 'ball': 2078, 'fighterz': 5393, 'mix': 8443, '2d': 474, '3d': 572, 'date': 3851, 'nico': 8807, 'eustass': 4970, 'kid': 7426, 'spin': 11914, 'book': 2496, 'rock': 10825, 'misfire': 8416, 'fire': 5432, 'burning': 2694, 'jbu4rqmjkqvc1': 7248, 'png': 9688, '774': 916, 'a369419d19c0eab71f11c4167146d0bf88af10ff': 1165, 'connected': 3417, 'hint': 6504, 'descendant': 4063, 'lineage': 7800, 'alber': 1484, 'more': 8530, 'birkan': 2353, 'allows': 1520, 'damage': 3818, 'nature': 8716, 'elders': 4720, 'ie': 6740, 'natural': 8714, 'manipulation': 8087, 'box': 2548, 'race': 10177, 'upturned': 13365, 'nose': 8865, 'clearly': 3140, 'u9zuium1yuvc1': 13141, '902': 1041, '33f252c1a4c70243b2fa8948244e058a0be4d646': 524, 'believe': 2257, 'true': 13060, 'govt': 6075, 'ceaseless': 2908, 'pursuit': 10106, 'assumed': 1871, 'extinction': 5145, 'lunar': 7960, 'notice': 8879, 'downturned': 4446, 'wings': 13893, 'zymmeoofxuvc1': 14208, '1000': 63, '5e3b2133788deae4ddbe0b9626b5df5b64af8510': 763, 'full': 5738, 'speculative': 11885, 'seem': 11206, 'atleast': 1899, 'stuns': 12190, 'warcury': 13692, 'powerscalers': 9812, 'unite': 13275, 'stops': 12097, 'charge': 2996, 'finally': 5415, 'type': 13124, 'sticks': 12071, 'w2si4trwyuvc1': 13641, '873': 993, '6341869b59080709bd36c6219223f32c493951a1': 798, 'punching': 10079, 'stunned': 12189, 'assemble': 1848, 'hybrid': 6677, 'difference': 4187, 'or': 9136, 'qkyfapp4zuvc1': 10135, '885': 1000, '9789e9ecb55527e859f48f818f46d188792c6bd6': 1072, 'gleefully': 5974, 'confirmed': 3398, 'purge': 10096, 'buccaneer': 2645, 'mental': 8286, 'fortitude': 5616, 'knew': 7481, 'lunarians': 7962, 'extinct': 5144, 'sole': 11768, 'survivor': 12367, 'guinea': 6191, 'pig': 9592, 'eradicate': 4922, 'giants': 5923, 'bloodline': 2424, 'bzm10wn7rqvc1': 2721, '424': 604, '2581f8b1042622409ee18bd79ea9dddd70c21c03': 442, 'although': 1548, 'suspect': 12370, 'exist': 5063, 'tan': 12501, 'skin': 11608, 'oorkwn7k6xvc1': 9092, '789': 928, 'e57e0db4ac2ed9b0594198cb8a1b61e001952a7d': 4584, 'shandian': 11351, 'hattori': 6347, '79vlbdr27xvc1': 932, '1263': 156, '4e5773a36f1f0f119373d2483f151240d9ebefe4': 654, 'direct': 4212, 'physical': 9570, 'blackbeards': 2375, 'mysterious': 8658, 'three': 12741, 'souls': 11816, 'split': 11928, 'mind': 8382, 'mentioned': 8290, 'blackbeard': 2373, 'nine': 8825, 'tails': 12477, 'board': 2459, '6lmk0cxmpqvc1': 845, '330': 517, '5ecba7ff88fa1c91396f481d86030de1635252d0': 765, 'particular': 9383, 'obsession': 8960, 'bloodlines': 2425, 'measure': 8229, 'indicates': 6921, 'lost': 7914, 'history': 6520, 'cant': 2799, 'keepers': 7411, 'void': 13608, 'century': 2936, 'certainly': 2941, 'fewer': 5368, 'knowledge': 7495, 'iceberg': 6712, 'cough': 3589, 'evidence': 4995, 'ci567wr3vqvc1': 3080, '549': 703, '33708517268ae576fccc10a9841c8e1f8cb0aefc': 521, 'serving': 11297, 'perhaps': 9492, 'certain': 2940, 'original': 9159, 'entity': 4891, 'division': 4350, 'imu': 6857, 'h72o8mod2xvc1': 6222, '1366': 177, 'a97d39187cb41f083b28404e78580ea686a46e43': 1183, 'preserved': 9878, '800': 956, 'years': 14105, 'ago': 1438, 'readers': 10272, 'shandia': 11350, 'stated': 12023, '1100': 115, 'talkin': 12489, '100': 62, '200': 373, 'year': 14102, 'civilization': 3105, 'war': 13688, 'started': 12014, 'immortal': 6811, 'with': 13919, 'appearance': 1699, 'freakin': 5664, 'dinosaurs': 4208, 'recently': 10325, 'demons': 4020, 'safe': 10971, 'jurrassic': 7346, 'times': 12795, 'order': 9141, 'properly': 9998, 'imagine': 6786, 'anatomically': 1597, 'correct': 3565, 'ua7yda6t4xvc1': 13142, '1568': 229, 'e8541ca91776a3f87c6699afbc9335bf5ff376f1': 4594, 'immediately': 6802, 'prometheus': 9983, 'architect': 1750, 'outside': 9215, 'dimensions': 4206, 'debate': 3890, 'whether': 13820, 'god': 5997, 'exists': 5069, 'cursed': 3760, 'life': 7759, 'worthy': 13997, 'considerations': 3443, 'powerful': 9806, 'harm': 6320, 'creator': 3663, 'awakened': 1977, 'mera': 8295, 'sabo': 10950, 'ace': 1281, 'df': 4153, 'push': 10107, 'flame': 5467, 'indicate': 6919, 'hotter': 6611, 'magma': 8015, 'goro': 6052, 'gora': 6044, 'enel': 4820, 'pika': 9594, 'hie': 6477, '803outwltxvc1': 958, '809': 961, 'aff83ad2ac30a60339016597d253f33f4d390336': 1397, 'bite': 2361, 'feeds': 5337, 'tied': 12776, 'creation': 3659, 'physically': 9571, 'bars': 2118, 'eyes': 5163, 'animation': 1619, 'gave': 5853, 'rocked': 10826, 'jupiter': 7344, 'wait': 13653, 'week': 13773, 'weeks': 13775, 'determine': 4122, 'extreme': 5157, 'stress': 12139, 'thus': 12766, 'impervious': 6829, 'too': 12860, 'blgs8te85xvc1': 2405, '236': 420, '9e284483226dae52eadfa192585e286ef47a145d': 1096, 'coa': 3196, 'arms': 1782, 'though': 12725, 'worship': 13989, 'filler': 5406, 'intresting': 7120, 'younger': 14137, 'releases': 10479, 'weekly': 13774, 'stopped': 12095, 'reasons': 10302, 'remember': 10512, 'action': 1302, 'reminded': 10519, 'wish': 13913, 'doflamingo': 4378, 'created': 3655, 'bird': 2349, 'cage': 2759, 'wondering': 13953, 'was': 13711, 'joyboy': 7313, 'human': 6639, 'compared': 3311, 'awakening': 1979, 'vice': 13525, 'versa': 13500, 'guys': 6208, 'whats': 13807, 'thought': 12727, 'will': 13877, 'stands': 12001, 'theories': 12682, 'drum': 4513, 'deus': 4128, 'dawn': 3858, 'nice': 8800, 'sentence': 11255, 'of': 8998, 'sound': 11817, 'weird': 13781, 'forth': 5615, 'granted': 6100, 'plural': 9683, 'works': 13971, 'sit': 11579, 'me': 8216, 'indeed': 6910, 'initial': 6988, 'normal': 8860, 'dante': 3835, 'walked': 13665, 'tale': 12484, 'divine': 4348, 'comedy': 3273, 'themes': 12673, 'anyway': 1667, 'bragging': 2557, 'rights': 10774, 'haha': 6239, 'admit': 1355, 'waste': 13715, 'peace': 9438, 'dresrosa': 4482, 'recover': 10351, 'ten': 12604, 'minutes': 8403, 'nother': 8876, 'land': 7599, 'punch': 10074, 'abopsolutely': 1221, 'crazy': 3652, 'pacing': 9291, 'abosolutely': 1222, 'terrible': 12625, 'complete': 3335, 'horror': 6599, 'friend': 5691, 'delusion': 3999, 'opponent': 9115, 'panels': 9331, 'clips': 3161, 'recent': 10324, 'fought': 5623, 'along': 1532, 'members': 8270, 'bepo': 2289, 'bought': 2537, 'aliexpress': 1496, 'condition': 3389, 'sengoku': 11241, 'stop': 12092, 'garp': 5834, 'akainu': 1467, 'disagree': 4227, 'feels': 5341, 'york': 14131, 'pride': 9908, 'overconfidence': 9228, 'lead': 7659, 'demise': 4011, 'she': 11379, 'consider': 3442, 'par': 9351, 'vegapunk': 13481, 'satellites': 11040, 'together': 12833, 'intellectually': 7061, 'her': 6449, 'treason': 13006, 'months': 8518, 'arrogant': 1796, 'trick': 13028, 'plans': 9646, 'set': 11298, 'motions': 8557, 'confident': 3395, 'both': 2526, 'fired': 5434, 'terribly': 12626, 'tries': 13037, 'punks': 10086, 'ended': 4811, 'helpless': 6442, 'code': 3210, 'defense': 3957, 'dom': 4395, 'managed': 8060, 'crack': 3633, 'acting': 1301, 'confidence': 3394, 'cliffhanger': 3150, 'mars': 8150, 'strange': 12114, 'room': 10852, 'goes': 6012, 'wrong': 14031, 'neck': 8732, 'greedy': 6125, 'clone': 3164, 'insect': 7014, 'guessing': 6182, 'relative': 10472, 'kidd': 7427, '1920': 297, '1080': 98, 'wallpaper': 13669, 'randomly': 10220, 'laptop': 7615, 'case': 2866, 'benn': 2288, 'beckman': 2211, 'shiryu': 11426, 'rain': 10199, 'title': 12814, '15th': 234, 'anniversary': 1631, 'released': 10478, '3d2y': 575, '20th': 413, 'stampede': 11993, 'leap': 7676, 'plot': 9675, 'revolutionary': 10734, 'army': 1783, 'focused': 5539, 'film': 5408, 'op5': 9095, 'holy': 6558, 'mark': 8139, 'face': 5204, 'from': 5702, 'hogbag': 6543, 'grave': 6111, 'scence': 11103, 'front': 5704, 'moria': 8536, 'hard': 6310, 'evenly': 4979, 'matched': 8182, 'dangerous': 3830, 'facing': 5211, 'come': 3270, 'parallels': 9358, 'krieg': 7521, 'ruthless': 10921, 'cruel': 3716, 'willing': 13880, 'ambition': 1567, 'thinks': 12713, 'enter': 4879, 'grand': 6092, 'quickly': 10156, 'humbled': 6646, 'seven': 11309, 'warlords': 13696, 'emperors': 4784, 'dark': 3839, 'reflections': 10408, 'beliefs': 2255, 'anyways': 1668, 'earlier': 4608, 'perona': 9505, 'hogback': 6542, 'ryuma': 10932, 'absalom': 1228, 'spectacular': 11877, 'engaging': 4833, 'narrative': 8699, 'needing': 8738, 'lone': 7878, 'wolf': 13942, 'always': 1555, 'cocky': 3208, 'persona': 9514, 'cringe': 3684, 'boring': 2513, 'interesting': 7090, 'passing': 9399, 'lola': 7875, 'avenge': 1965, 'denounced': 4028, 'idle': 6736, 'bashed': 2126, 'selfish': 11230, 'unethical': 13248, 'practices': 9823, 'peak': 9442, 'tricky': 13034, 'best': 2295, 'return': 10692, 'sniper': 11739, 'coming': 3280, 'cluch': 3184, 'figuring': 5400, 'ghost': 5919, 'zombies': 14194, 'using': 13390, 'impact': 6819, 'dial': 4163, 'himself': 6499, 'knock': 7487, 'hippo': 6511, 'ending': 4814, 'traumatizing': 12993, 'woman': 13946, 'fear': 5318, 'gid': 5926, 'variable': 13458, 'asking': 1830, 'vacation': 13429, 'mercy': 8300, 'laugh': 7635, 'ny': 8926, 'nerves': 8774, 'just': 7348, 'screaming': 11141, 'damn': 3824, 'grating': 6109, 'ears': 4614, 'september': 11271, 'experiencing': 5091, 'story': 12106, 'content': 3482, 'consume': 3464, 'affect': 1399, 'enjoyment': 4855, 'considering': 3445, 'happen': 6296, 'thanks': 12652, 'advance': 1368, 'eng': 4829, 'dub': 4522, 'idc': 6720, 'sub': 12198, 'eat': 4630, 'jus': 7347, 'listen': 7816, 'sometimes': 11790, 'ep474': 4903, 'confronts': 3406, 'screams': 11142, 'throws': 12757, 'log': 7861, 'inaudible': 6871, 'idk': 6735, 'audio': 1936, 'mixing': 8445, 'supposed': 12327, 'muscle': 8625, 'monkey': 8505, 'muscle3x': 8626, 'five': 5457, 'appear': 1698, 'regenerate': 10426, 'possess': 9774, 'sort': 11808, 'shadow': 11327, 'darkness': 3843, 'attacking': 1910, 'appendage': 1705, 'triangular': 13023, 'tipped': 12804, 'tail': 12475, 'l3n': 7564, 'hjqh6c': 6531, 'left': 7689, 'pangaea': 9332, 'castle': 2870, 'literal': 7822, 'projections': 9978, 'opposite': 9121, 'holograms': 6556, 'substance': 12226, 'summoned': 12287, 'location': 7851, 'hjqvp7': 6532, 'bodies': 2466, 'unharmed': 13263, 'minor': 8398, 'animes': 1624, 'lose': 7908, 'beating': 2203, 'crocodile': 3700, 'alabasta': 1477, 'restarted': 10651, 'mihawk': 8369, 'ennies': 4864, 'lobby': 7844, 'improved': 6854, 'skills': 11607, 'learnt': 7681, 'wapol': 13685, 'millions': 8377, 'dollars': 4394, 'metal': 8330, 'improving': 6855, 'losing': 7911, 'supposedly': 12328, 'america': 1573, 'american': 1574, 'cartoon': 2857, 'dumb': 4536, 'exact': 5012, 'numbers': 8913, 'quotes': 10166, 'rewatched': 10744, 'clip': 3159, 'rero': 10597, 'moms': 8493, 'talking': 12490, 'comic': 3279, 'strip': 12154, 'realized': 10286, 'didnt': 4180, 'feature': 5331, 'mech': 8234, 'theres': 12695, 'possibility': 9780, 'germa': 5905, '66': 809, 'represents': 10580, 'kingdom': 7454, 'evil': 4999, 'science': 11119, 'sora': 11805, 'based': 2123, 'nobles': 8835, 'robot': 10821, 'iron': 7167, 'representing': 10579, 'has': 6331, 'paramecia': 9363, 'changed': 2967, 'paramythia': 9367, 'depend': 4040, 'question': 10149, 'answer': 1640, 'stories': 12101, 'jackass': 7221, 'shankes': 11355, 'ocean': 8979, 'storm': 12102, 'colours': 3256, 'depending': 4044, 'kaido': 7373, 'purple': 10098, 'cast': 2869, 'lightning': 7770, 'returns': 10695, 'colour': 3254, 'goodies': 6034, 'figure': 5397, 'thinking': 12712, 'grown': 6158, '240': 424, 'figures': 5399, 'size': 11591, 'agree': 1439, 'changes': 2969, 'waiting': 13655, 'foxy': 5635, 'silver': 11540, 'fox': 5634, 'serve': 11292, 'administrators': 1350, 'corss': 3578, 'guild': 6189, 'capable': 2806, 'galdino': 5802, 'brain': 2559, 'allowed': 1518, 'caffeine': 2758, 'ash': 1822, 'wednesday': 13771, 'destroy': 4104, 'snail': 11726, 'transponder': 12979, 'vital': 13593, 'information': 6964, 'dropped': 4503, 'blueball': 2441, '100chapters': 67, 'possible': 9781, 'replica': 10561, 'awaken': 1976, 'matter': 8199, 'hierarchy': 6478, 'lazy': 7656, 'google': 6042, 'target': 12517, 'conqueror': 3427, 'touching': 12899, 'automatically': 1955, 'apply': 1715, 'strikes': 12148, 'ones': 9072, 'many': 8105, 'interpretations': 7105, 'mainly': 8034, 'regarding': 10422, 'imo': 6817, 'worst': 13992, 'hoe': 6540, 'friends': 5693, 'young': 14136, 'eith': 4706, 'shunned': 11497, 'close': 3167, 'discussion': 4263, 'group': 6152, 'ep': 4902, 'exactly': 5013, 'appreciate': 1718, 'fic': 5375, 'roger': 10832, 'adventures': 1377, 'becoming': 2214, 'team': 12552, 'destiny': 4103, 'fiction': 5376, 'connecting': 3418, 'upside': 13362, 'whose': 13852, 'enies': 4847, 'youtube': 14145, 'bear': 2187, 'emu': 4791, 'gold': 6021, 'hid': 6472, 'unless': 13287, 'popped': 9736, 'head': 6369, 'ashura': 1824, 'ability': 1208, 'assume': 1870, 'longer': 7883, 'bigger': 2330, 'hinted': 6505, 'mastered': 8174, 'imgflip': 6795, '4mi017': 668, 'selectively': 11227, 'materializing': 8193, 'aspects': 1837, 'whatever': 13805, 'create': 3654, 'styles': 12196, 'by': 2715, 'materialize': 8190, 'heads': 6377, 'basically': 2129, 'climbs': 3158, 'mastering': 8176, 'unlocking': 13294, 'lower': 7933, 'hidden': 6473, 'inside': 7017, 'access': 1255, 'separate': 11264, 'modify': 8472, 'existing': 5068, 'perform': 9484, 'tower': 12911, 'climb': 3155, 'technique': 12569, 'dispatch': 4291, 'hawkins': 6360, 'strawman': 12126, 'pull': 10062, 'summon': 12286, 'extra': 5150, 'swing': 12407, 'drawing': 4472, 'course': 3613, 'bunch': 2684, 'techniques': 12570, 'materializes': 8192, 'performed': 9487, 'hands': 6285, 'mouth': 8571, 'law': 7649, 'doctor': 4364, 'surgeon': 12343, 'witnessed': 13925, 'death': 3886, 'destruction': 4109, 'research': 10602, 'decide': 3907, 'expected': 5084, 'prepared': 9868, 'tricks': 13033, 'defend': 3952, 'suicide': 12267, 'button': 2710, 'control': 3513, 'pacifista': 9288, 'truth': 13067, 'worlds': 13975, 'secret': 11186, 'punk': 10085, 'record': 10347, 'transmitter': 12972, 'den': 4025, 'mushi': 8629, 'simply': 11560, 'floor': 5520, 'measures': 8231, 'absurd': 1237, 'bearded': 2190, 'shaved': 11378, 'overthrown': 9254, 'wasn': 13713, 'ancestor': 1599, 'leader': 7660, '20': 372, 'kingdoms': 7455, 'soul': 11815, 'overthrew': 9251, 'rocks': 10828, 'clashing': 3124, 'threw': 12742, 'ages': 1433, 'rodger': 10831, 'completely': 3337, 'volume': 13613, '106': 84, '1076': 94, 'plan': 9638, 'continue': 3490, '107': 91, 'due': 4530, 'country': 3606, 'october': 8981, 'buy': 2712, 'closer': 3170, 'mangaka': 8069, 'fish': 5443, 'zoan': 14187, 'family': 5253, 'disproves': 4302, 'catarina': 2876, 'devon': 4149, 'dog': 4381, 'transform': 12955, 'beast': 2194, 'suffocate': 12257, 'breathe': 2585, 'water': 13724, 'aquarium': 1733, 'ultimate': 13156, 'prison': 9927, 'guaranteed': 6171, 'swim': 12403, 'funny': 5759, 'after': 1414, 'resisting': 10622, 'decided': 3908, '19th': 310, '18th': 292, 'felt': 5348, 'wonder': 13950, 'skip': 11611, 'fillers': 5407, 'recommend': 10338, 'skipped': 11613, 'pace': 9285, 'hazard': 6363, 'swap': 12390, 'building': 2665, 'miss': 8425, 'chilling': 3042, 'bottom': 2534, 'bottomless': 2535, 'pit': 9622, 'something': 11788, '2orytax6r1o': 491, 'ab': 1194, '_channel': 1127, 'limonamv': 7798, 'ab_channel': 1198, 'highest': 6484, 'authority': 1948, 'ordering': 9143, 'pacifistas': 9289, 'asked': 1829, 'amazing': 1562, 'looked': 7891, 'sequences': 11274, 'abkut': 1211, 'scenes': 11105, 'animations': 1620, 'simple': 11554, 'conversations': 3525, 'fluidity': 5528, 'conversation': 3524, 'expressions': 5132, 'fake': 5236, 'childish': 3038, 'preferred': 9855, 'older': 9044, 'peaked': 9443, 'bored': 2512, 'drew': 4487, 'beloved': 2274, 'obvious': 8967, 'boy': 2551, 'discovered': 4252, 'early': 4610, 'city': 3100, 'sent': 11254, 'toki': 12837, 'previous': 9902, 'owner': 9271, 'slowly': 11678, 'run': 10909, 'through': 12750, 'quite': 10162, 'space': 11834, 'mirrored': 8408, 'places': 9634, 'noland': 8845, 'late': 7628, 'real': 10279, 'witch': 13917, 'reuse': 10701, 'owners': 9272, 'offer': 9004, 'utilize': 13407, 'ideas': 6724, 'logic': 7864, 'met': 8328, 'responses': 10646, 'address': 1339, 'exchange': 5031, '830': 970, 'leaving': 7686, '30': 497, '860': 987, '40': 590, 'messages': 8321, 'minded': 8383, 'comment': 3287, 'mine': 8387, 'fix': 5459, 'expand': 5075, 'quick': 10154, 'fin': 5412, 'foreign': 5580, 'upload': 13350, 'uploading': 13352, 'draw': 4468, 'ignore': 6753, 'editing': 4655, 'attracted': 1924, 'female': 5350, 'humans': 6645, 'meant': 8225, 'intimidated': 7116, 'threatened': 12738, 'playing': 9663, 'couple': 3609, 'notable': 8870, 'song': 11797, 'ba': 2035, 'baaaaaaa': 2037, 'flute': 5530, 'baaaaaa': 2036, 'vs': 13634, 'happy': 6304, 'its': 7199, 'shame': 11346, 'toei': 12830, 'misses': 8427, 'quality': 10143, 'spelled': 11894, 'jackal': 7220, 'coined': 3223, 'term': 12619, 'myth': 8665, 'desire': 4085, 'according': 1269, 'library': 7752, 'timeline': 12790, 'earliest': 4609, 'instance': 7040, 'falcon': 5239, 'served': 11293, 'guardians': 6175, 'statues': 12034, 'throughout': 12751, 'aluburna': 1553, 'palace': 9316, '4000': 592, 'mausoleum': 8204, 'hieroglyphics': 6479, 'sometime': 11789, 'inheriting': 6983, 'which': 13821, 'countries': 3605, 'continued': 3491, 'possession': 9778, 'plausible': 9656, 'respawn': 10631, 'dessert': 4099, 'continually': 3489, 'source': 11822, 'tomoes': 12848, 'oni': 9077, 'leaning': 7674, 'horns': 6594, 'symbolism': 12438, 'incredibly': 6906, 'overnight': 9241, 'founding': 5630, 'alburna': 1487, 'colonization': 3246, 'moon': 8523, 'eventually': 4983, 'wrap': 14013, 'worshiped': 13990, 'slightly': 11664, 'guardian': 6174, 'deity': 3988, 'era': 4921, 'games': 5811, 'vote': 13621, 'musician': 8635, 'teary': 12561, 'eyed': 5161, 'officially': 9012, 'emotional': 4778, 'cry': 3729, 'expect': 5080, 'cried': 3678, 'media': 8243, 'impossible': 6844, 'laying': 7654, 'ground': 6149, 'caring': 2845, 'grabbed': 6078, 'choppers': 3059, 'destroyed': 4105, 'balling': 2079, 'seconds': 11182, 'baby': 2040, 'locket': 7857, 'thingy': 12708, 'stella': 12053, 'g8': 5784, 'offers': 9006, 'unique': 13271, 'scenario': 11101, 'introduces': 7128, 'jonathan': 7300, 'fit': 5452, 'totally': 12893, 'warship': 13709, 'devotion': 4151, 'fanbase': 5259, 'undestand': 13238, 'devoted': 4150, 'stans': 12002, 'degree': 3980, 'several': 11310, 'posts': 9790, 'canonized': 2796, 'deserves': 4080, 'per': 9473, 'definition': 3968, 'canonizing': 2797, 'require': 10589, 'including': 6890, 'print': 9919, 'xx': 14075, 'skypiea': 11625, 'retroactively': 10689, 'secondly': 11181, 'utility': 13406, 'rewatch': 10743, 'note': 8872, 'add': 1328, 'insight': 7020, 'edit': 4653, 'wanna': 13678, 'project': 9974, 'assumptions': 1876, 'onto': 9085, 'shortly': 11455, 'yamato': 14089, 'personality': 9518, 'details': 4115, 'fast': 5283, 'nerd': 8768, 'enjoying': 4854, 'birthday': 2356, 'gift': 5928, 'mission': 8431, 'burn': 2692, 'weak': 13742, 'blown': 2436, 'josidgus1wvc1': 7304, '1322': 169, '99f9241fee7010edface7f6095c7db6207955660': 1083, 'personal': 9515, 'cuz': 3775, 'sailing': 10988, 'hear': 6386, 'voices': 13606, 'turns': 13105, 'sees': 11214, 'rms': 10804, 'titanic': 12810, 'lusitania': 7972, 'arguing': 1763, 'faster': 5284, 'had': 6235, 'career': 2837, 'breaks': 2582, 'crying': 3730, 'bursts': 2697, 'laughing': 7638, 'role': 10837, 'connections': 3420, 'about': 1223, 'vnusjuro': 13601, 'artpiece': 1811, 'exclusively': 5042, 'merphy': 8315, 'napier': 8694, 'review': 10722, 'youtu': 14144, 'qi50qns53tk': 10134, 'si': 11506, 'xbicwklealdyzdnz': 14061, 'hi': 6470, 'ig': 6747, '_tissine': 1147, 'insane': 7008, 'twt': 13122, 'edgy': 4651, 'marketing': 8142, 'raised': 10203, 'sunset': 12301, 'rise': 10787, 'camera': 2771, 'wearing': 13758, 'pants': 9345, 'where': 13815, 'ballsack': 2082, 'pixelated': 9625, 'crocheting': 3698, 'month': 8516, 'amigurumi': 1576, 'diamond': 4170, 'jozu': 7317, 'throwing': 12755, 'whitout': 13843, 'enhancing': 4845, 'throw': 12753, 'dozens': 4450, 'pure': 10092, 'talks': 12491, 'blood': 2420, 'cutt': 3772, 'legs': 7705, 'eyy': 5169, 'fanart': 5257, 'gogglessss': 6014, 'pic': 9574, 'sketch': 11599, 'finished': 5426, '1077': 95, 'guard': 6172, 'existed': 5065, 'avoided': 1972, 'capabilities': 2804, 'strongly': 12165, 'followed': 5555, 'alone': 1531, 'somebody': 11782, 'catching': 2879, 'january': 7235, 'excruciatingly': 5043, 'straw': 12121, 'hats': 6346, 'maths': 8197, 'traffy': 12934, 'defeat': 3943, '10': 61, 'fathom': 5292, 'drag': 4455, 'endpoint': 4816, 'main': 8033, 'quest': 10148, 'regardless': 10423, 'misinformation': 8420, 'apologise': 1681, 'catch': 2877, 'boggle': 2470, 'top': 12866, 'harbour': 6309, 'criminals': 3683, 'trusted': 13065, 'warden': 13694, 'overpowered': 9243, 'weakness': 13751, 'teech': 12577, 'developed': 4135, 'magellan': 8009, 'girls': 5952, 'cosplaying': 3584, 'sad': 10966, 'mods': 8474, 'doing': 4387, 'gohanson': 6016, 'fromthefutuer': 5703, 'goken': 6018, 'write': 14023, 'rlly': 10800, 'ugly': 13149, 'design': 4081, 'clothing': 3176, 'tbh': 12537, 'airforce': 1461, 'menace': 8282, 'hate': 6340, 'sciency': 11120, 'meet': 8252, 'expectations': 5083, 'generally': 5872, 'despicable': 4095, 'loses': 7910, 'overdue': 9230, 'development': 4137, 'knack': 7478, 'failing': 5225, 'upwards': 13369, 'position': 9764, 'transpires': 12976, 'fall': 5240, 'usopps': 13394, 'bounty': 2544, 'range': 10224, 'feat': 5327, 'observation': 8953, 'embarking': 4752, 'listening': 7817, 'reverie': 10718, 'window': 13888, 'topic': 12867, 'abolished': 1218, 'mareijouse': 8119, 'reside': 10613, 'private': 9930, 'rooms': 10853, 'empty': 4790, 'throne': 12748, 'blocking': 2417, 'nullifying': 8910, 'rumored': 10908, 'killer': 7438, 'mf': 8346, 'single': 11567, 'noticing': 8884, 'blocked': 2416, 'device': 4141, 'block': 2415, 'existence': 5066, 'worth': 13994, 'hassle': 6335, 'viewing': 13541, 'hearing': 6388, 'connection': 3419, 'drawn': 4474, 'background': 2045, 'child': 3036, 'religious': 10494, 'quirks': 10160, 'gods': 6006, 'snake': 11728, 'replicant': 10563, 'petrify': 9534, 'efficiently': 4685, 'targets': 12520, 'pedophilia': 9453, 'movies': 8581, 'garbage': 5824, '000': 1, 'dad': 3811, 'phone': 9553, 'lil': 7785, 'entertaining': 4885, 'short': 11453, 'segway': 11217, 'compromise': 3354, 'skypia': 11623, 'concrete': 3384, 'besides': 2294, 'pan': 9322, 'mmo': 8454, 'gain': 5795, 'corresponding': 3573, 'strictly': 12146, 'sounds': 11820, 'hot': 6610, 'attractive': 1927, 'mentally': 8288, '15': 214, 'passion': 9400, 'adult': 1365, 'son': 11796, 'skibbidy': 11603, 'rating': 10243, 'cook': 3536, 'ws': 14036, 'today': 12827, 'bruh': 2628, 'pocket': 9691, 'dimension': 4204, 'apple': 1709, 'beards': 2191, 'transmitted': 12971, 'quake': 10140, 'eating': 4633, 'extracted': 5151, 'beard': 2189, 'js': 7323, 'conquers': 3429, 'neer': 8742, 'lies': 7756, 'becomes': 2213, 'biggest': 2331, 'kingly': 7456, 'believes': 2260, 'obtain': 8964, 'conquerors': 3428, 'combine': 3265, 'bravest': 2574, 'warrior': 13706, 'venusjuro': 13496, 'centuries': 2935, 'surpassing': 12349, 'necessary': 8731, 'defeating': 3945, 'plagues': 9636, 'contend': 3479, 'sisters': 11578, 'snakes': 11730, 'thats': 12655, 'curse': 3759, 'half': 6261, 'neither': 8758, 'curious': 3753, 'attraction': 1926, 'children': 3039, 'played': 9658, 'ai': 1448, 'german': 5907, 'lyrics': 7981, 'crafted': 3641, 'inspiration': 7027, 'download': 4441, 'tl': 12819, 'tvn7aofa2y': 13110, '1c9rjy2': 347, 'video': 13535, 'y35a2c8x4wvc1': 14079, 'player': 9659, 'shadows': 11329, 'steel': 12049, 'chase': 3007, 'tire': 12806, 'pre': 9831, 'chorus': 3064, 'chaos': 2976, 'reigns': 10447, 'supreme': 12337, 'calm': 2769, 'wildest': 13875, 'scheme': 11108, 'conquer': 3424, 'vanish': 13450, 'fuss': 5769, 'cause': 2888, 'smoke': 11710, 'yeah': 14101, 'taste': 12527, 'bridge': 2594, 'battles': 2158, 'endless': 4815, 'stand': 11995, 'tall': 12492, 'shine': 11407, 'bright': 2597, 'unbreakable': 13191, 'length': 7711, 'finishing': 5428, 'hasn': 6333, 'clicked': 3148, 'steadily': 12043, 'growing': 6157, 'slowed': 11676, 'difficult': 4192, 'weaker': 13746, 'tone': 12851, 'shift': 11395, 'seraphims': 11277, 'hawk': 6359, 'luffys': 7953, 'thin': 12705, 'majority': 8041, 'normally': 8861, 'variation': 13462, 'very': 13509, 'voca': 13603, 'ro': 10808, '16hrixtkbt4s': 246, '128nrbk7d5zp': 159, 'implementation': 6832, 'immense': 6803, 'abilities': 1207, 'spreads': 11949, 'wherever': 13819, 'liberates': 7744, 'misery': 8415, 'ensures': 4877, 'smile': 11700, 'faces': 5207, 'cartoonish': 2858, 'goofy': 6040, 'during': 4555, 'constant': 3454, 'giggling': 5940, 'silly': 11539, 'sentomaru': 11262, 'relatively': 10473, 'problem': 9938, 'screwed': 11149, 'figured': 5398, 'bringing': 2603, 'smiles': 11702, 'liberated': 7743, 'ridiculous': 10764, 'pac': 9284, 'feeling': 5339, 'vegapunks': 13482, 'ironic': 7170, 'protagonist': 10017, 'antagonist': 1644, 'worse': 13988, 'plus': 9684, 'usssop': 13397, 'engineers': 4835, 'mad': 8001, 'scientist': 11123, 'enjoys': 4856, 'weapons': 13756, 'invention': 7144, 'addition': 1335, 'interested': 7089, 'because': 2210, 'brooks': 2618, 'complain': 3329, 'only': 9082, 'agreed': 1440, 'jinimbe': 7277, 'trust': 13064, 'innocent': 7004, 'dying': 4567, 'irony': 7172, 'lilth': 7789, 'favourite': 5302, 'classes': 3127, 'gravity': 6114, 'seriyu': 11286, 'weapon': 13754, 'bara': 2098, 'brush': 2630, 'erase': 4926, 'bridges': 2595, 'connect': 3416, 'islands': 7182, 'onepace': 9065, 'rescued': 10600, 'responds': 10644, 'meat': 8232, 'niku': 8822, 'bassiacly': 2138, 'smokes': 11712, '30s': 504, 'interact': 7076, 'motivation': 8559, 'rox': 10875, 'xebec': 14066, 'valley': 13439, 'kept': 7416, 'price': 9906, 'tournament': 12905, 'imply': 6838, 'goal': 5990, 'elbaph': 4717, 'gut': 6205, 'wrenching': 14021, 'merry': 8316, 'folks': 5552, 'breakdown': 2579, 'map': 8108, 'lab': 7571, 'sections': 11192, 'info': 6962, 'speculating': 11883, 'a1': 1158, 'entered': 4880, 'encountered': 4800, 'c2': 2732, 'c1': 2727, 'contained': 3474, 'staircase': 11978, 'area': 1754, 'b3': 2010, 'expounded': 5126, 'upon': 13353, 'cculyvwlj1y': 2900, '7ciymxf3lvozws7': 941, 'enjoy': 4849, 'nqziqbttjvvc1': 8897, '3000': 499, '979865f1967b3168afd0ffbed5158f343e6a762e': 1073, 'soon': 11799, 'spear': 11863, 'barehands': 2103, 'compliments': 3345, 'chinese': 3047, 'whisper': 13835, 'referred': 10399, 'presuming': 9887, 'deliver': 3995, 'involves': 7160, 'ingredients': 6975, 'sweets': 12400, 'collected': 3235, 'complicity': 3342, 'crimes': 3680, 'language': 7607, 'english': 4837, 'cooking': 3538, 'ope': 9098, 'owned': 9270, 'grant': 6099, 'immortality': 6812, 'cost': 3586, 'bestowed': 2298, 'confused': 3408, 'navy': 8721, 'imortal': 6818, 'ussop': 13395, 'acquire': 1295, 'tech': 12566, 'raid': 10195, 'suits': 12272, 'judge': 7327, 'vinsmokes': 13561, 'mirrors': 8410, 'kamen': 7387, 'riders': 10760, 'transformation': 12956, 'specially': 11870, 'rider': 10759, 'kick': 7421, 'cape': 2808, 'suit': 12268, 'pretend': 9888, 'redo': 10382, 'message': 8320, 'experiences': 5090, 'temporary': 12602, 'ageing': 1426, 'overuse': 9256, 'rumble': 10906, 'words': 13965, 'trigger': 13038, 'pseudo': 10047, 'iw9utml55vvc1': 7210, '589': 739, 'fbb9e2306f17c0843e305eb12318c68340f7eb30': 5308, 'gathered': 5846, 'combination': 3264, 'meets': 8255, 'hypothetically': 6698, 'effects': 4681, 'allowing': 1519, 'analysing': 1593, 'key': 7418, 'producing': 9956, 'triggering': 13040, 'relieve': 10491, 'victory': 13533, 'administered': 1348, 'animal': 1612, 'loyal': 7937, 'tama': 12495, 'stamina': 11991, 'zoans': 14188, 'therefore': 12694, 'percs': 9480, 'insta': 7034, 'heal': 6381, 'food': 5561, 'classified': 3129, 'x200b': 14057, 'g5': 5782, 'limited': 7795, 'less': 7719, 'appealing': 1697, 'g4': 5781, 'durable': 4552, 'showcasing': 11475, 'mastery': 8180, 'perseverance': 9510, 'outfights': 9197, 'opponents': 9116, 'gag': 5791, 'fits': 5453, 'emperor': 4783, 'phoneixpineapple': 9555, 'accually': 1274, 'eymenmenemen': 5168, 'opened': 9100, 'account': 1270, 'likes': 7780, 'dislikes': 4280, 'noted': 8873, 'password': 9406, 'parameci': 9362, 'yellow': 14108, 'pear': 9445, 'pineapple': 9603, 'scales': 11078, 'swirls': 12411, 'standart': 11998, 'stick': 12069, 'descri': 4070, 'pti': 10054, 'assimilate': 1858, 'spesific': 11901, 'buildings': 2666, 'freely': 5673, 'manuplate': 8102, 'bui': 2663, 'ldi': 7658, 'ng': 8796, 'assi': 1856, 'lati': 7632, 'assimilated': 1859, 'swell': 12401, 'soften': 11760, 'shape': 11361, 'althought': 1549, 'glue': 5986, 'breaking': 2580, 'phystics': 9573, 'rules': 10903, 'movement': 8575, 'moveable': 8573, 'clay': 3132, 'anyting': 1666, 'roof': 10848, 'razor': 10253, 'shaped': 11362, 'living': 7834, 'door': 4417, 'carpet': 2848, 'tongue': 12852, 'high': 6482, 'assault': 1845, 'foot': 5567, 'disrupt': 4305, 'interior': 7096, 'di': 4160, 'sadventages': 10970, 'ishi': 7180, 'shima': 11403, 'assimilating': 1860, 'harmed': 6321, 'shaping': 11365, 'formable': 5601, 'soft': 11759, 'brave': 2572, 'presumally': 9886, 'maked': 8044, 'touchs': 12900, 'seastone': 11175, 'seawater': 11177, 'automally': 1953, 'screth': 11147, 'parts': 9389, 'closes': 3171, 'searock': 11172, 'golem': 6025, 'foots': 5569, 'upper': 13354, 'awakeni': 1978, 'beheaded': 2246, 'doesn': 4373, 'manifest': 8076, 'tree': 13016, 'reincarnation': 10453, 'hardly': 6315, 'copying': 3550, 'insinuate': 7022, 'core': 3557, 'cannon': 2789, 'derived': 4060, 'unyieldingly': 13338, 'wealth': 13753, 'fame': 5250, 'posturing': 9792, 'stretch': 12140, 'community': 3304, 'seas': 11173, 'hence': 6446, 'somewhat': 11793, 'straight': 12110, 'logias': 7863, 'element': 4729, '24': 423, 'tiktoker': 12785, 'disagrees': 4230, 'speeds': 11891, 'base': 2121, 'questionable': 10150, 'conflicts': 3401, 'wear': 13757, 'clothes': 3175, 'sbs': 11072, 'naked': 8686, 'rightful': 10772, 'shogun': 11442, 'blasting': 2393, 'hundred': 6652, 'peachbeard': 9441, 'lulusia': 7957, 'belt': 2276, 'means': 8224, 'peach': 9440, 'state': 12022, 'yesterday': 14112, 'heir': 6423, 'cents': 2934, '1088': 102, 'concludes': 3379, 'coby': 3204, 'rescue': 10599, 'garps': 5835, 'capture': 2826, 'kuzan': 7549, 'icy': 6718, 'mist': 8434, 'detailing': 4114, 'awesome': 1989, 'chilly': 3044, 'sombre': 11780, 'expression': 5131, 'juxtaposed': 7355, 'brings': 2604, 'strained': 12112, 'student': 12177, 'teacher': 12549, 'dynamic': 4569, 'aojiki': 1672, 'resolve': 10624, 'regret': 10438, '2f9ywwuphuvc1': 483, '864': 988, 'a5b7905c794939d6194a3cdd21b6c9acf9edeed9': 1173, 'tear': 12557, 'impactful': 6821, 'empathized': 4782, 'truly': 13062, 'admires': 1354, 'integrity': 7059, 'reluctantly': 10498, 'pulls': 10065, 'lever': 7732, 'intended': 7065, 'knees': 7480, 'overwhelmed': 9260, 'emotion': 4777, 'nqkgc117iuvc1': 8896, '719': 866, '922b800e70d72745f0dbdd433af134981604338a': 1048, 'fodder': 5542, 'tough': 12901, 'references': 10396, 'competition': 3327, 'sh': 11323, 'grew': 6133, 'changing': 2970, 'sabaodi': 10946, 'terms': 12623, 'growth': 6159, 'hardcore': 6311, 'writer': 14024, 'merely': 8302, 'criticism': 3691, 'rant': 10229, 'criticisms': 3692, 'mediocre': 8249, 'useless': 13384, 'father': 5291, 'defended': 3953, 'busy': 2704, 'opposing': 9120, 'valid': 13436, 'situations': 11587, 'countless': 3604, 'revolutionaries': 10733, 'intelligence': 7063, 'armies': 1779, 'logical': 7865, 'bosses': 2523, 'prep4ring': 9864, 'sam4': 11006, 'wrecked': 14019, 'learned': 7678, 'sama': 11007, 'planning': 9645, 'oppose': 9118, 'decade': 3897, 'oldies': 9046, 'planned': 9644, 'depose': 4054, 'decades': 3898, 'justify': 7352, 'inaction': 6865, 'h0w': 6218, 'defeet': 3950, 's0': 10935, 'w0nt': 13640, 'appeer': 1704, 'conclude': 3377, 'proves': 10032, '1k': 362, 'seemed': 11208, 'daunting': 3854, 'lurking': 7970, 'threads': 12735, 'storylines': 12108, 'intriguing': 7124, 'delving': 4003, 'books': 2497, 'theorycraft': 12689, 'guess': 6179, 'factors': 5216, 'separately': 11266, 'starters': 12015, 'suggest': 12260, 'netflix': 8778, 'cruncyrolls': 3723, 'disappointing': 4237, 'subtitles': 12228, 'synchronization': 12448, 'any': 1660, 'sources': 11824, 'appreciated': 1719, 'shank': 11354, 'rivalry': 10797, 'annoying': 1636, 'sides': 11516, 'argument': 1764, 'aren': 1756, 'blowing': 2435, 'proportion': 10003, 'defence': 3951, 'fail': 5223, 'comparable': 3307, 'suggests': 12266, 'kaidos': 7374, 'doesnt': 4374, 'powecliff': 9803, 'flinching': 5510, 'hurting': 6669, 'impressive': 6850, 'tho': 12719, 'preventing': 9899, 'interrupting': 7108, 'underestimating': 13218, 'non': 8849, 'worked': 13967, 'wouldnt': 14001, 'puzzle': 10115, 'onepiecegrid': 9070, '930': 1051, 'equivalent': 4920, 'spoiled': 11932, 'summaries': 12280, 'skipping': 11614, '1010': 69, 'forgotten': 5598, 'recap': 10318, 'slow': 11675, 'reader': 10271, 'kumachi': 7532, 'mangas': 8072, 'prefer': 9851, 'revealed': 10706, 'mystery': 8660, 'compilation': 3328, 'hahahahha': 6242, 'dollar': 4393, 'label': 7572, 'bonus': 2492, 'okay': 9038, 'cleaning': 3134, 'posters': 9786, 'yk': 14121, 'pictures': 9584, 'poster': 9785, 'signature': 11527, 'printed': 9920, 'differences': 4188, 'collectors': 3242, 'item': 7195, 'paraphrasing': 9369, 'yt': 14150, 'activity': 1314, 'engaged': 4831, 'prior': 9921, 'birth': 2355, 'avid': 1970, 'watcher': 13720, 'unbelievably': 13187, 'interacting': 7078, 'reached': 10259, '700': 855, 'dislike': 4278, 'cacao': 2754, 'blatantly': 2396, 'ignored': 6754, 'pekoms': 9461, 'peaceful': 9439, 'houses': 6620, 'chaotic': 2979, 'ruin': 10895, 'leash': 7682, 'walls': 13670, 'messes': 8323, 'stupid': 12192, 'messed': 8322, 'ruins': 10898, 'businesses': 2700, 'continuing': 3493, 'trend': 13020, 'useful': 13382, 'apart': 1675, 'cooks': 3539, 'clutch': 3188, 'smarter': 11689, 'mr': 8586, 'prince': 9916, 'beats': 2204, 'diff': 4185, 'figh': 5389, 'following': 5558, 'morgan': 8533, 'cats': 2885, 'kidding': 7428, 'hachi': 6228, 'hunters': 6662, 'ohm': 9029, 'skypedia': 11621, 'bone': 2484, 'kaku': 7380, 'zombie': 14193, '11': 114, 'hordy': 6589, '13': 164, 'monet': 8499, '14': 190, 'pica': 9575, '16': 237, '17': 248, 'occur': 8977, 'opportunity': 9117, 'finish': 5425, 'gobbling': 5996, 'gone': 6028, 'digesting': 4195, 'aside': 1826, 'philosophy': 9551, 'consuming': 3467, 'ch1025': 2946, 'ch1050': 2947, '1v1': 367, 'clash': 3121, '25': 435, 'choreography': 3063, 'drama': 4464, 'tension': 12614, 'conclusion': 3382, 'offscreened': 9016, 'ch1010': 2945, 'few': 5367, 'dozen': 4449, 'starts': 12018, 'equal': 4913, 'via': 13515, 'skysplit': 11629, 'proceeds': 9945, 'continuously': 3495, 'powering': 9810, 'booze': 2509, 'refill': 10404, 'drunken': 4517, 'modes': 8466, 'sized': 11593, 'flaming': 5470, 'bagua': 2063, 'bs': 2637, '1025': 74, '1050': 81, 'hill': 6494, 'thematic': 12667, 'pov': 9801, 'peaks': 9444, 'skysplitter': 11630, 'wb': 13738, 'yrs': 14149, 'dressrossa': 4486, 'surrounding': 12357, 'concept': 3368, 'abitlies': 1210, 'recontextualization': 10344, 'mysteries': 8657, 'explored': 5116, 'acknowledged': 1292, 'magnitude': 8028, 'censored': 2924, 'achieve': 1285, 'bajarang': 2067, 'gun': 6196, 'symbolic': 12435, 'culmination': 3737, 'ch1': 2944, 'gum': 6195, 'coast': 3197, 'pump': 10072, 'organ': 9147, 'enlargement': 4858, 'elastic': 4714, 'energy': 4825, 'adv': 1367, 'glorious': 5981, 'rookie': 10850, 'billion': 2335, 'miserable': 8414, 'pathetic': 9414, 'poetic': 9695, 'tanget': 12504, 'tdlr': 12545, 'yr': 14148, 'randoms': 10221, 'royal': 10876, 'focusing': 5541, 'duking': 4534, 'underground': 13220, 'cave': 2894, 'ponyglyph': 9729, 'conflict': 3400, 'lasted': 7625, 'definitive': 3969, 'round': 10870, 'fell': 5344, 'offscreen': 9015, 'concluding': 3380, 'abt': 1239, 'vol': 13609, 'relationship': 10470, 'dick': 4172, 'timeskip': 12796, 'fmi': 5534, 'couldn': 3592, 'hooked': 6579, 'halfway': 6262, 'switched': 12413, 'quicker': 10155, 'scrolling': 11156, 'pages': 9298, 'teams': 12555, 'jarring': 7239, 'interrupts': 7109, 'ost': 9176, 'tryna': 13072, 'ill': 6767, 'lure': 7968, 'announce': 1632, 'corrupt': 3575, 'died': 4182, 'consciousness': 3434, 'records': 10350, 'forgot': 5597, 'replicable': 10562, 'mythical': 8667, 'headstone': 6379, 'entirely': 4888, 'operation': 9109, 'eaten': 4631, 'finds': 5419, 'eats': 4634, 'performs': 9491, 'mero': 8314, 'reveals': 10708, 'pedophiles': 9452, 'india': 6917, 'spiritual': 11920, 'manifestor': 8081, 'pop': 9734, 'instinct': 7047, 'rocket': 10827, 'motors': 8564, 'invented': 7142, '1882': 286, 'stakes': 11981, '1890s': 288, 'launcher': 7645, 'frankys': 5650, 'wwii': 14047, 'smart': 11688, 'inventing': 7143, '90': 1039, 'modern': 8465, 'animated': 1618, 'missles': 8433, 'thier': 12703, 'rn': 10805, 'internet': 7101, 'communication': 3301, 'snails': 11727, 'withholding': 13921, 'phones': 9556, 'cell': 2917, '1973': 301, 'build': 2664, 'thst': 12760, 'nooooo': 8857, 'keeping': 7412, 'technology': 12574, 'ceaser': 2909, 'sucks': 12245, 'midnight': 8360, 'tired': 12807, 'noob': 8854, 'girlfriend': 5951, 'began': 2229, 'subscribed': 12221, '551': 705, 'missed': 8426, 'significant': 11529, 'opposed': 9119, 'uneasy': 13245, 'bothering': 2530, 'studio': 12180, 'properties': 9999, 'nearly': 8728, 'goals': 5991, 'grants': 6102, 'wg': 13797, 'renamed': 10538, 'experience': 5088, 'hide': 6474, 'among': 1581, 'handful': 6278, 'music': 8632, 'vjqra0uswmk': 13599, 'av30hli6yqvc1': 1958, '01a8e2febd180a9b826980e2ee2453301ae3befe': 9, 'b7r7kuw9yqvc1': 2027, '4554d770a07621fcc08b05b8bf26f29401dc0e7d': 617, 'ttbf805myqvc1': 13083, '755': 904, '8b8575c362a1c1e8b3bcabb18947476a5faa3c3d': 1014, 'oars': 8936, 'freezing': 5679, 'lodestar': 7860, 'treasure': 13007, 'laughtale': 7640, 'pair': 9310, 'thermal': 12696, 'john': 7285, 'underwear': 13234, 'laughed': 7637, 'e223w4w41km': 4578, '7woujpkyaoo0lqej': 954, '169': 244, 'underwhelming': 13235, 'longest': 7884, 'atlantis': 1895, 'mankind': 8088, 'treasures': 13008, 'named': 8688, 'schneider': 11112, 'roc': 10824, 'dude': 4528, 'surface': 12340, 'ver': 13497, 'journal': 7306, 'journey': 7308, 'wishes': 13915, 'hovered': 6621, 'barely': 2104, 'guide': 6185, 'pandaman': 9327, 'joke': 7294, 'endgame': 4813, 'bring': 2600, 'crackpot': 3638, 'ineffective': 6934, 'possibilities': 9779, 'clad': 3110, 'nullifies': 8908, 'overpower': 9242, 'fearsome': 5322, 'ryou': 10930, 'infusion': 6971, 'complicated': 3341, 'designed': 4082, 'internally': 7099, 'internal': 7098, 'organs': 9155, 'spirit': 11918, 'willpower': 13883, 'damaged': 3819, 'waaay': 13646, 'resemble': 10608, 'yokai': 14126, 'mjosgard': 8448, 'occasions': 8973, 'infamous': 6939, 'command': 3281, 'belief': 2254, 'wars': 13708, 'force': 5573, 'renounce': 10544, 'allegiance': 1507, 'choose': 3055, 'affirm': 1406, 'mutters': 8647, 'breath': 2584, 'joking': 7297, 'manner': 8090, 'accepted': 1253, 'hat': 6337, 'fleet': 5495, 'led': 7687, 'horizon': 6590, 'shgf': 11391, '600': 780, '400': 591, 'fill': 5404, 'analysis': 1594, 'videos': 13536, 'drive': 4496, 'influential': 6961, 'lasting': 7626, 'impression': 6849, 'potentially': 9798, 'pudding': 10060, 'ultimately': 13158, 'declare': 3923, 'gf': 5914, 'loyalty': 7938, 'friendship': 5694, 'owing': 9266, 'table': 12463, 'reverse': 10719, 'paired': 9311, 'political': 9714, 'machinations': 7996, 'interests': 7092, 'backstabbing': 2049, 'pairing': 9312, 'accompany': 1263, 'formal': 5602, 'admiration': 1353, 'forms': 5610, 'chose': 3065, 'gomu': 6026, 'nth': 8899, 'paramount': 9366, 'badass': 2056, 'shichibukai': 11392, 'dragons': 4459, 'tenryubito': 12611, 'bink': 2342, 'binku': 2344, 'seriously': 11283, 'concepts': 3369, 'society': 11754, 'clouds': 3178, 'liar': 7740, 'waver': 13733, 'mini': 8390, 'dials': 4166, 'hype': 6682, 'gas': 5836, 'explosion': 5118, 'resort': 10629, 'implications': 6835, 'wtf': 14039, 'mantra': 8099, 'koby': 7503, 'payoff': 9432, 'shifting': 11397, 'events': 4981, 'rebirth': 10312, 'patience': 9417, 'rush': 10915, 'tweakin': 13111, 'hosting': 6608, 'trivia': 13046, 'party': 9390, 'obscure': 8952, 'insanely': 7009, 'basis': 2134, 'large': 7618, 'ultra': 13160, 'convenient': 3519, 'hollow': 6551, 'heding': 6412, 'plop': 9674, 'ol': 9042, 'pal': 9315, 'noggin': 8842, 'bud': 2649, 'dc': 3865, 'elements': 4731, 'potc': 9794, 'compass': 3316, 'exrltremely': 5134, 'rare': 10236, 'valuable': 13442, 'eternal': 4963, 'posse': 9770, 'theoretical': 12680, 'introduction': 7130, 'rereading': 10596, 'dropping': 4504, 'praying': 9830, 'checked': 3017, 'website': 13766, 'updated': 13343, 'avoid': 1971, 'monster': 8512, 'kinna': 7460, 'theyll': 12699, 'shades': 11325, 'jack': 7219, 'garden': 5826, 'sounded': 11818, 'foreshadowing': 5584, 'extent': 5141, 'member': 8269, 'alright': 1538, 'gaming': 5812, 'opening': 9101, 'remix': 10526, 'hikari': 6490, 'kaze': 7405, 'sagashite': 10981, 'brand': 2567, 'kokoro': 7506, 'chizu': 3049, 'bon': 2480, 'voyage': 13627, 'jungle': 7341, 'rainbow': 10200, 'demonic': 4016, 'transformations': 12957, 'synthetic': 12453, 'beings': 2250, 'doubt': 4432, 'erased': 4927, 'dethroned': 4124, 'unkillable': 13280, 'train': 12939, 'harder': 6313, 'ascend': 1817, 'previously': 9903, 'limits': 7797, 'invulnerability': 7162, 'staving': 12036, 'develop': 4134, 'powered': 9805, 'searches': 11170, 'wont': 13956, 'spoil': 11931, 'itll': 7198, 'reveal': 10705, 'generation': 5877, 'speedran': 11890, 'realize': 10285, 'inspired': 7031, 'rematch': 10509, 'shootin': 11447, 'groups': 6155, 'pack': 9292, 'puncher': 10077, 'claw': 3130, 'fist': 5450, 'taught': 12532, 'durability': 4551, 'surpasses': 12348, 'stabbed': 11966, 'piercing': 9590, 'critically': 3690, 'injured': 6996, 'abdomen': 1205, 'training': 12941, 'regime': 10432, 'combo': 3269, 'over': 9223, 'grasp': 6106, 'lack': 7581, 'further': 5764, 'writers': 14025, 'tolkien': 12845, 'george': 5902, 'rr': 10881, 'martin': 8154, 'pointed': 9697, 'holes': 6549, 'inconsistencies': 6897, 'thrones': 12749, 'shocked': 11438, 'leads': 7664, 'nerfed': 8770, 'imagining': 6789, 'consistent': 3446, 'authors': 1950, 'react': 10262, 'undeniably': 13209, 'greatest': 6119, 'constraints': 3457, 'problems': 9940, 'appreciation': 1720, 'fed': 5333, 'inanimate': 6868, 'objects': 8946, 'rings': 10782, 'contains': 3478, 'whitebeards': 13840, 'walking': 13666, 'trap': 12983, 'fkiqe3w4ipvc1': 5462, '1019': 71, 'c3b8a36aed1b76fc32d808312d6809794b084320': 2736, 'urouge': 13374, '5th': 777, 'supernova': 12310, 'wci': 13740, 'cracker': 3635, 'crackers': 3636, 'easier': 4621, 'broken': 2615, 'loll': 7876, 'committed': 3294, 'buster': 2703, 'betraying': 2304, 'broadcasting': 2609, 'marina': 8131, 'domek': 4398, 'hunger': 6655, 'termina': 12620, 'crossover': 3710, 'cp0': 3628, 'recognise': 10330, 'square': 11957, 'nosed': 8867, 'giraffe': 5948, 'stussy': 12194, 'gismonda': 5954, 'ayone': 1999, 'epic': 4905, 'subtle': 12229, 'btw': 2639, 'ps': 10043, 'egg': 4691, 'shorts': 11456, 'recomended': 10337, 'bits': 2364, 'search': 11168, 'purpose': 10100, 'pls': 9682, 'tag': 12473, 'changer': 2968, 'closing': 3174, 'goroseis': 6056, 'strawhat': 12123, 'lowest': 7934, 'arabasta': 1736, 'blink': 2409, 'broke': 2614, 'lock': 7853, 'wasnt': 13714, 'deceived': 3902, 'ayyy': 2000, 'snow': 11743, 'shuffle': 11495, 'crossed': 3707, 'victims': 13529, 'copy': 3549, 'karate': 7394, 'rokushiki': 10836, 'six': 11588, 'produce': 9952, 'copies': 3546, 'themself': 12674, 'imitated': 6798, 'clones': 3166, 'retain': 10672, 'contact': 3470, 'drawback': 4469, 'witness': 13924, 'effectively': 4679, 'suggestions': 12264, 'feedback': 5335, 'tremor': 13019, 'hahaha': 6240, 'tattoo': 12531, 'torn': 12876, 'factor': 5215, 'surprised': 12352, 'result': 10665, 'instilling': 7046, 'hopes': 6585, 'feats': 5330, 'universe': 13278, 'kicking': 7424, 'beam': 2184, 'creators': 3664, 'deflected': 3974, 'lazer': 7655, 'rayleigh': 10250, 'dodged': 4368, 'px': 10118, 'formidable': 5608, 'reassess': 10303, 'bedroom': 2218, 'versus': 13506, 'memories': 8277, 'apologize': 1683, 'strawpoll': 12127, 'yvypmj4b7nn': 14157, 'monthly': 8517, 'generated': 5874, 'having': 6357, 'outright': 9212, 'banning': 2095, 'include': 6887, 'prompts': 9992, 'hyperlink': 6687, 'switch': 12412, 'informed': 6966, 'scrambling': 11136, 'prepare': 9867, 'preparing': 9870, 'preparations': 9866, 'ominuous': 9055, 'revealing': 10707, 'recording': 10349, 'actions': 1303, 'trapped': 12984, 'waeoh': 13647, 'various': 13466, 'meanwhile': 8227, 'st': 11964, 'confronted': 3404, 'headed': 6373, 'confrontation': 3403, 'prevent': 9897, 'begins': 2236, 'panic': 9335, 'calls': 2768, 'secrets': 11189, 'rendezvous': 10542, 'sleep': 11650, 'leaves': 7685, 'clover': 3179, 'admiral': 1351, 'fam': 5249, 'treat': 13010, 'promise': 9986, 'forgetful': 5591, 'targeted': 12518, 'greats': 6122, 'available': 1960, 'fulfilling': 5736, 'prevented': 9898, 'erasing': 4928, 'condensed': 3388, 'races': 10178, 'skypieans': 11626, 'shandians': 11352, 'reindeer': 10454, 'overthrow': 9252, 'pose': 9757, 'confirm': 3396, 'promised': 9987, 'tldr': 12820, 'muddies': 8601, 'debates': 3891, 'commander': 3282, 'genetional': 5887, 'levels': 7730, 'mohawks': 8477, 'skill': 11605, 'minimum': 8393, 'string': 12151, 'generational': 5878, 'gap': 5821, 'gwnerational': 6211, 'assumption': 1875, 'bane': 2089, 'arguement': 1762, 'claims': 3115, 'viewer': 13539, 'ruining': 10897, 'validity': 13437, 'offered': 9005, 'animd': 1622, 'escalating': 4938, 'altercation': 1542, 'polite': 9713, 'supported': 12321, 'oneshot': 9074, 'interpretation': 7104, 'probable': 9936, 'reasonable': 10299, 'unbiased': 13188, 'perspective': 9524, 'shove': 11469, 'throat': 12746, 'biased': 2320, 'monsters': 8513, 'these': 12697, 'shisui': 11428, 'ryuo': 10934, 'setting': 11302, 'fairly': 5231, 'obliterate': 8948, 'hours': 6617, 'lands': 7604, 'crushes': 3726, 'seemingly': 11210, 'sweep': 12397, 'aswell': 1890, 'wood': 13957, 'reduce': 10386, 'melted': 8268, 'ashes': 1823, 'slaying': 11649, 'active': 1309, 'rest': 10650, 'dialogue': 4165, 'town': 12912, 'number': 8911, 'versions': 13505, 'legend': 7695, 'famous': 5254, 'invasions': 7141, 'puts': 10113, 'boarders': 2461, 'fleets': 5496, 'revere': 10716, 'swordsmanship': 12424, 'inspires': 7032, 'reverance': 10713, 'depends': 4045, 'onepeice': 9066, 'follows': 5559, 'generations': 5879, 'possessing': 9777, 'disprove': 4300, 'traced': 12924, 'slashes': 11640, 'corpse': 3563, 'stranger': 12116, 'battodo': 2162, 'slash': 11638, 'skilled': 11606, 'swordsmen': 12425, 'reach': 10258, 'officer': 9009, 'officers': 9010, 'minister': 8395, 'rank': 10225, 'remind': 10518, 'nothingness': 8878, 'seeming': 11209, 'intermediate': 7097, 'gecko': 5862, 'compatibility': 3318, 'moveset': 8578, 'stats': 12032, 'destructive': 4110, 'preform': 9857, 'corpses': 3564, 'tend': 12606, 'seperate': 11269, 'individuality': 6926, 'retaining': 10674, 'personalities': 9517, 'manipulating': 8086, 'ally': 1527, 'foe': 5544, 'victoria': 13530, 'compatible': 3319, 'leading': 7663, 'disrupted': 4306, 'flooded': 5519, 'hog': 6541, 'backs': 2048, 'paced': 9286, 'relativity': 10474, 'dual': 4520, 'signs': 11531, 'screen': 11143, 'visibly': 13581, 'extremely': 5158, 'mummified': 8610, 'stat': 12021, 'movesets': 8579, 'moves': 8577, 'compare': 3310, 'effectives': 4680, 'reputation': 10584, 'relates': 10467, 'dung': 4545, 'leveling': 7729, 'creature': 3665, 'planet': 9641, 'threats': 12740, 'prove': 10029, 'innate': 7002, 'standards': 11997, 'oden': 8990, 'rayliegh': 10251, 'theme': 12671, 'constantly': 3455, 'soldiers': 11767, 'subject': 12205, 'inconsistent': 6898, 'mattered': 8200, 'determined': 4123, 'driven': 4497, 'persevere': 9511, 'classed': 3126, 'faulter': 5296, 'matching': 8184, 'counterpart': 3600, 'near': 8724, 'scale': 11076, 'capped': 2817, 'stringer': 12152, 'appropriate': 1728, 'sketching': 11602, 'procreate': 9950, 'million': 8376, 'meteor': 8338, 'overtaken': 9250, 'animals': 1615, 'double': 4429, 'agent': 1431, 'secretly': 11188, 'ploy': 9681, 'imprison': 6851, 'exploding': 5112, 'sinking': 11570, '4d': 650, 'chess': 3029, 'traitor': 12944, 'convince': 3532, 'causing': 2891, 'mayhem': 8211, 'holds': 6547, 'registered': 10436, 'guinness': 6192, '2015': 383, 'published': 10059, 'author': 1945, '2022': 392, 'reaffirming': 10278, 'surpassed': 12347, '500': 677, 'sold': 11765, 'worldwide': 13978, 'selling': 11233, 'consequently': 3439, 'spider': 11908, 'batman': 2150, 'sales': 10999, '2023': 394, 'hong': 6574, 'kong': 7507, 'largest': 7620, 'memorabilia': 8275, 'recorded': 10348, 'interestingly': 7091, 'cover': 3617, 'kin': 7444, 'written': 14029, 'farewell': 5277, 'favor': 5298, 'allies': 1513, 'yonkos': 14129, 'instakill': 7036, 'lifespan': 7760, 'removal': 10532, 'petrification': 9533, 'counting': 3603, 'ts': 13074, 'saga': 10979, 'loved': 7923, 'twist': 13116, 'kalifa': 7382, 'expecting': 5085, 'blufo': 2448, 'headstrong': 6380, 'galley': 5804, 'la': 7570, 'pushing': 10110, 'culprits': 3738, 'assassination': 1844, 'doubling': 4431, 'paulie': 9422, 'mistakes': 8437, 'liked': 7776, 'vibe': 13519, 'police': 9710, 'whatnot': 13806, 'locked': 7855, 'spoke': 11938, 'hair': 6248, 'aspect': 1836, 'dumbed': 4539, 'joint': 7291, 'unchanged': 13198, 'unserious': 13322, 'threatening': 12739, 'cleave': 3142, 'couldnt': 3593, 'giraffes': 5949, 'bubble': 2640, 'sexualized': 11317, 'running': 10913, 'sexual': 11316, 'harassment': 6306, 'leaned': 7673, 'obsessing': 8959, 'clean': 3133, 'characterization': 2991, 'whips': 13831, 'demeanor': 4009, 'idiot': 6734, 'alleviate': 1509, 'prioritize': 9922, 'hostages': 6606, 'sending': 11239, 'kills': 7440, 'crime': 3679, 'jaguar': 7225, 'complaint': 3332, 'gimmick': 5943, 'martial': 8153, 'arts': 1812, 'stale': 11983, 'dumbfounded': 4541, 'spiced': 11906, 'gimmicks': 5944, 'involving': 7161, 'convergent': 3523, 'evolution': 5003, 'regador': 10416, 'outfit': 9198, 'lots': 7916, 'hehe': 6417, 'hearttpirate': 6399, 'ex': 5011, 'roronoa': 10859, 'zora': 14197, 'edward': 4662, 'newgate': 8789, 'spelt': 11897, 'asian': 1825, 'western': 13794, 'credits': 3669, 'shinminase': 11411, 'rorschach': 10860, 'gelecegin': 5865, 'korsani': 7510, 'cyberpunk': 3777, 'risen': 10788, 'viktor': 13548, 'ornstein': 9168, 'puppet': 10088, 'ruler': 10901, 'ogan': 9022, 'palazzinaro': 9317, 'nova': 8888, 'capital': 2809, 'germak': 5906, 'kastell': 7398, 'beton': 2300, 'socialist': 11752, 'superpower': 12312, 'tetsuo': 12640, 'ulmanov': 13152, 'technologically': 12572, 'partner': 9387, 'alabastan': 1478, 'jamairiyah': 7230, 'seiryu': 11220, 'faith': 5234, 'corporation': 3562, 'president': 9880, 'sibelius': 11507, 'assassinated': 1842, 'civil': 3102, 'dismantled': 4283, 'communism': 3302, 'capitalist': 2811, 'reisenkol': 10459, 'structures': 12170, 'gotten': 6067, 'nickname': 8806, 'italian': 7192, 'contractor': 3498, 'untranslatable': 13334, 'bodyguard': 2468, 'heavy': 6406, 'wielding': 13863, 'electric': 4722, 'hammer': 6266, 'containing': 3477, 'flamethrower': 5469, 'aleksandr': 1491, 'smoug': 11719, 'boss': 2521, 'smough': 11720, 'accompanies': 1262, 'dragomir': 4457, 'mansurov': 8097, 'executed': 5047, 'forced': 5574, 'hates': 6342, 'guts': 6206, 'earn': 4611, 'finishes': 5427, 'david': 3855, 'suffocates': 12258, 'tornado': 12877, 'sulvetr': 12278, 'holmia': 6553, 'north': 8863, 'model': 8463, 'quetzalcoatl': 10153, 'youngest': 14138, 'obsessed': 8958, 'beauty': 2207, 'purity': 10097, 'violent': 13565, 'psychopath': 10052, 'environmentalist': 4899, 'supporter': 12322, 'vegan': 13480, 'guilty': 6190, 'massacring': 8168, 'ecosystems': 4640, 'monopoly': 8510, 'renewable': 10543, 'energies': 4824, 'fishmen': 5449, 'solar': 11764, 'wind': 13887, 'plant': 9647, 'green': 6128, 'faction': 5213, 'invest': 7147, 'disliked': 4279, 'exposed': 5123, 'south': 11825, 'plotted': 9679, 'drank': 4466, 'expelled': 5086, 'frail': 5641, 'fighter': 5391, 'hacker': 6233, 'wield': 13861, 'guns': 6198, 'devices': 4142, 'amplify': 1587, 'sniping': 11741, 'absolutely': 1232, 'deadly': 3877, 'charges': 2998, 'devastating': 4131, 'bullets': 2676, 'richest': 10755, 'underworld': 13236, 'feared': 5319, 'northern': 8864, 'yakuza': 14087, 'hermes': 6459, 'bulsara': 2679, 'mercu': 8298, 'cyborgs': 3779, 'drones': 4501, 'mechas': 8239, 'artificial': 1806, 'impenetrable': 6824, 'systems': 12456, 'invested': 7148, 'emma': 4775, 'cat': 2875, 'tezcatlipoca': 12644, 'rufus': 10894, 'shinra': 11413, 'ffvii': 5372, 'queen': 10147, 'lizbeth': 7835, 'nikaea': 8820, 'empire': 4787, 'vishnu': 13579, 'dynasty': 4570, 'aka': 1464, '70s': 860, 'oldest': 9045, 'neokaido': 8763, 'marcus': 8118, 'wielded': 13862, 'sandai': 11014, 'kitetsu': 7470, 'dueled': 4532, 'educated': 4661, 'successor': 12237, 'duty': 4560, 'maintain': 8035, 'obeying': 8940, 'thalassocracy': 12647, 'knights': 7484, 'utterly': 13418, 'immune': 6815, 'reflect': 10406, 'stiti': 12079, 'aura': 1940, 'racist': 10181, 'rely': 10499, 'captives': 2825, 'crews': 3677, 'accept': 1251, 'rival': 10796, 'antonio': 1658, 'tencai': 12605, 'shiva': 11435, 'ranks': 10228, 'avatar': 1962, 'theocracy': 12677, 'hana': 6270, 'miyako': 8447, 'turtle': 13106, 'atlas': 1896, 'brass': 2570, 'priests': 9911, 'ordered': 9142, 'common': 3296, 'mooks': 8522, 'golden': 6023, 'vaguely': 13433, 'fusion': 5768, 'nazi': 8722, 'dictator': 4176, 'supremacist': 12334, 'incarnations': 6879, 'messiah': 8324, 'zohar': 14190, 'esotericist': 4947, 'miguel': 8368, 'serrano': 11290, 'mussolini': 8639, 'bodhisattva': 2465, 'appears': 1703, 'aged': 1425, 'sentient': 11258, 'combining': 3268, 'gura': 6200, 'mori': 8535, 'artificially': 1807, 'dna': 4357, 'myths': 8671, 'greek': 6126, 'titan': 12809, 'lifts': 7766, 'earth': 4615, 'earthquakes': 4618, 'swordsman': 12422, 'stolen': 12085, 'diabolos': 4162, 'ichimonji': 6716, 'participate': 9379, 'azi': 2001, 'dahaka': 3814, 'simurgh': 11563, 'mode': 8462, 'mass': 8167, 'climax': 3154, 'mehmet': 8261, 'ankylosaur': 1628, 'worshipped': 13991, 'survived': 12364, 'hiding': 6476, 'researching': 10605, 'knowledgeable': 7496, 'unify': 13266, 'punish': 10081, 'reform': 10410, 'usual': 13398, 'combined': 3266, 'machine': 7997, 'age': 1424, 'embeds': 4757, 'proxy': 10042, 'dbz': 3864, 'atom': 1902, 'bomb': 2476, 'weakened': 13744, 'sits': 11584, 'participates': 9380, 'launch': 7643, 'infuse': 6969, 'sand': 11013, 'grain': 6088, 'sandstorms': 11017, 'network': 8780, 'hindi': 6502, 'promos': 9989, 'bumpers': 2682, 'censor': 2923, 'massively': 8172, 'increase': 6901, 'everytime': 4992, 'upgraded': 13346, 'upgrade': 13345, 'grade': 6082, 'powerup': 9816, '21': 414, 'helmeppo': 6434, 'enhances': 4844, 'ideal': 6722, 'excellently': 5023, 'kukri': 7529, 'solid': 11770, 'progression': 9972, 'boost': 2503, 'massive': 8171, 'planted': 9648, 'remove': 10533, 'bait': 2065, 'backed': 2043, 'class': 3125, 'telling': 12594, 'students': 12178, 'flips': 5514, 'gol': 6020, 'attire': 1921, 'disatisified': 4243, 'prefered': 9852, 'overcome': 9227, 'boosted': 2504, 'clashed': 3122, 'heavily': 6405, 'understood': 13230, 'parting': 9386, 'preface': 9849, 'wonders': 13954, 'types': 13125, 'flaw': 5485, 'rein': 10449, 'efficient': 4684, 'slows': 11679, 'crawl': 3650, 'reaching': 10261, 'timers': 12794, 'bombs': 2478, 'birdcages': 2351, 'contrived': 3512, 'dragging': 4456, 'minute': 8402, 'exhausting': 5058, 'incredible': 6905, 'greatness': 6121, 'achilles': 1289, 'heel': 6414, 'reminds': 10522, 'contributes': 3509, 'wasted': 13716, 'reminding': 10521, 'suspense': 12373, 'serves': 11295, 'christ': 3067, 'timer': 12793, 'lifetime': 7762, 'essentially': 4955, 'forward': 5621, 'momentum': 8487, 'rent': 10546, 'cheers': 3022, 'horrible': 6596, 'depressed': 4055, 'answers': 1643, 'shock': 11437, 'priority': 9924, 'swam': 12388, 'an': 1591, 'strawberry': 12122, 'smell': 11697, 'everyting': 4993, 'feelings': 5340, 'smeller': 11698, 'similiar': 11548, 'gira': 5947, 'heightened': 6420, 'senses': 11250, 'goo': 6030, 'mucus': 8599, 'createns': 3656, 'giro': 5953, 'smells': 11699, 'cutted': 3773, 'activate': 1304, 'disable': 4224, 'handcuffed': 6274, 'disadventages': 4226, 'hunt': 6659, 'adventure': 1375, 'hunting': 6664, 'incompetent': 6894, 'treated': 13011, 'naval': 8718, 'some': 11781, 'isnt': 7185, 'shouldnt': 11465, 'intersting': 7112, 'company': 3306, 'bm': 2452, 'filled': 5405, 'piratr': 9615, 'torrent': 12879, 'season': 11174, 'portrayed': 9753, 'crucial': 3714, 'purely': 10093, 'limit': 7793, 'countdown': 3595, 'sailed': 10987, 'boat': 2464, 'researcher': 10604, 'origin': 9158, 'satellite': 11039, 'expose': 5122, 'shaka': 11334, 'willingly': 13881, 'estimate': 4959, 'covering': 3619, '1111': 127, 'waking': 13662, 'whatsoever': 13808, 'fixed': 5461, 'bros': 2620, 'bangers': 2091, 'edging': 4650, 'photoshop': 9561, 'va': 13427, 'oimo': 9033, 'kashii': 7397, '56inakgtimvc1': 725, '4f6751680a327ea4bdb500c6360821ae3d155fd2': 658, 'worried': 13985, 'finale': 5414, 'ima': 6781, 'drop': 4502, 'latter': 7634, 'belted': 2277, '260': 445, '2ish': 489, 'school': 11115, 'holiday': 6550, 'playground': 9662, 'visit': 13583, 'kids': 7434, 'greece': 6123, 'influencial': 6959, 'inducing': 6931, 'monumental': 8519, 'lore': 7905, 'tv': 13109, 'restaurant': 10653, 'areas': 1755, 'night': 8813, '656': 806, 'newer': 8786, 'flashing': 5479, 'lasers': 7623, 'motion': 8556, 'blur': 2450, 'tasmania': 12526, 'cyclone': 3784, 'photoshopped': 9562, 'sport': 11941, 'ain': 1457, 'focuses': 5540, 'bullet': 2675, 'proof': 9994, 'unconscious': 13204, 'exciting': 5036, 'should': 11461, 'examples': 5018, 'searching': 11171, 'japan': 7236, 'vpn': 13631, 'slipped': 11670, 'radar': 10182, 'backstory': 2051, 'blew': 2404, 'krshat': 7522, 'loving': 7928, 'colosseum': 3253, 'soldier': 11766, 'rebecca': 10307, 'tontattas': 12859, '50': 676, 'enjoyable': 4850, 'borderline': 2510, 'amassing': 1560, 'collection': 3237, 'omnibus': 9056, 'volumes': 13614, 'pops': 9738, 'standard': 11996, 'initially': 6989, 'rough': 10868, 'chap': 2981, 'shell': 11383, 'romance': 10842, 'orange': 9137, 'baratie': 2099, 'park': 9372, 'logue': 7869, 'whiskey': 13834, 'vivi': 13596, 'existent': 5067, 'brooke': 2617, 'amazon': 1563, 'lily': 7790, 'asl': 1832, 'childhood': 3037, 'saboady': 10951, 'dress': 4483, 'rosa': 10861, 'recommendations': 10340, 'shrunk': 11490, 'lists': 7819, 'popular': 9740, 'gorgeous': 6048, 'shelves': 11385, '1999': 309, 'fantasy': 5274, 'imdb': 6793, 'telecast': 12579, 'cartoonnetwork': 2860, 'channel': 2971, 'malayalam': 8050, 'tamil': 12500, 'telugu': 12596, 'kannada': 7390, 'languages': 7608, '2024': 396, 'sunday': 12293, '00': 0, 'pm': 9687, 'moons': 8524, 'glow': 5984, 'voiced': 13605, 'cultists': 3740, 'cult': 3739, 'preaching': 9833, 'gospel': 6063, '160': 238, 'sequel': 11272, 'zane': 14167, 'cruella': 3717, 'traverse': 13002, 'path': 9413, 'confronting': 3405, 'haunting': 6349, 'grapples': 6105, 'betrayal': 2302, 'tsubaki': 13076, 'wields': 13864, 'legendary': 7696, 'harbors': 6308, 'stake': 11980, 'yippeeee': 14120, 'dabble': 3810, 'dedicated': 3932, 'digitally': 4198, 'colored': 3249, 'tamer': 12499, 'rude': 10892, 'acts': 1317, 'insulted': 7054, 'bag': 2061, 'thru': 12758, 'weirdly': 13782, 'recs': 10363, 'wig': 13867, 'quote': 10165, 'esitate': 4946, 'profile': 9963, 'thebottazz_wig': 12661, 'traditional': 12931, 'traits': 12946, 'finding': 5418, 'hákarl': 6700, 'muscles': 8627, 'bulge': 2671, 'bones': 2487, 'c9rdwhf9flvc1': 2753, '378': 550, '3408a5db426f8a5990d50687084276f20c48397d': 527, 'blow': 2434, 'limbs': 7792, 'responding': 10643, 'supports': 12325, 'your': 14139, 'expressive': 5133, 'scars': 11097, 'dory': 4425, 'brogy': 2613, 'reacting': 10264, 'ghhwahpgflvc1': 5918, '1559': 228, '6fda779142f5425b00dde1e79be537086a1ae617': 840, 'helicopter': 6426, 'funky': 5757, 'reality': 10283, 'bending': 2282, 'removing': 10536, 'surroundings': 12358, 'scaling': 11079, 'enjoyed': 4851, 'vinland': 13558, 'jjk': 7280, 'positions': 9765, 'vacant': 13428, 'immediate': 6801, 'replacement': 10560, 'hits': 6525, 'boar': 2458, 'ripped': 10785, 'looney': 7896, 'toons': 12864, 'fanfic': 5267, 'alternative': 1546, 'context': 3485, 'wowtew': 14007, 'fanfic_one_piece_reloaded_vol_i_the_dragon_the': 5268, 'utm_source': 13412, 'utm_medium': 13410, 'web2x': 13762, '1c8k5dg': 343, 'one_piece_reloaded_chapter_962_53ithe_difference': 9064, '962': 1063, '53i': 699, 'skull': 11616, 'dome': 4397, 'center': 2927, '村田雄介': 14285, '77x55yma8lvc1': 920, '359': 535, 'e2e3ab493b33702874286c87986aa80b9919dd5d': 4580, 'masataka': 8160, 'entrance': 4892, 'regroup': 10440, 'outnumbered': 9208, 'unidentified': 13264, 'pass': 9394, 'kb55gyvb8lvc1': 7407, '745': 891, '731779ade003df678213e5d1d00cdcf736b23584': 877, 'jaki': 7228, 'ogre': 9025, 'tae': 12472, 'kwon': 7553, '3億2100万': 589, '321': 516, 'buddy': 2654, 'observing': 8957, 'friendly': 5692, 'spar': 11848, 'zwj1yz5d8lvc1': 14207, '108a0a17a26d00894370bccf4268c52c24db0ff8': 103, 'leisure': 7708, 'fyes8nvjnbk': 5776, 's079wone8lvc1': 10937, '1600': 239, 'd2626732ba5dc96d3ba31d71485277ab872ff8cd': 3793, 'strike': 12147, 'ribs': 10752, 'shattered': 11376, 'hitting': 6527, 'intense': 7067, 'danger': 3829, 'ki8f03pf8lvc1': 7419, '748': 895, '88c9e72f6ae65399adf2937f3a48e0b401d703b0': 1003, 'masatata': 8161, 'venpogpg8lvc1': 13492, '0f0973ceecb005a55da3adb9dafc259760bb722a': 54, 'reflexes': 10409, 'allow': 1517, 'crushed': 3725, 'sz99t4vh8lvc1': 12457, '747': 893, '302060ee3390b48237af9727d9a988f5ab19b63e': 503, 'punishes': 10083, 'mon': 8494, 'weren': 13790, '29r6vkej8lvc1': 465, '741': 890, '7029babed454e14ea52097658b9ebaef4ad3da94': 857, 'retreat': 10684, 'nagarekawa': 8678, 'sensei': 11248, 'distract': 4323, 'meitei': 8263, 'shin': 11406, 'koken': 7505, 'tiger': 12780, 'imc7p7mk8lvc1': 6792, 'f19071eca22c69a0b06b4c821e06e41f2aad276e': 5177, 'launches': 7646, 'desperate': 4092, 'avail': 1959, 'severely': 11312, 'unable': 13175, 'assess': 1852, 'catches': 2878, 'ulna': 13153, 'radius': 10187, 'duster': 4557, 'slapping': 11637, 'nearby': 8725, 'tosses': 12888, 'gcyh2crl8lvc1': 5859, '67938f5aa3d71fb7c78388a01445776886035bdc': 818, 'toy': 12918, 'mansion': 8095, 'battlefield': 2155, 'above': 1225, 'our': 9186, 'pushed': 10108, 'jinbē': 7276, 'disaster': 4241, 'fronts': 5706, 'kaidō': 7376, 'disappointed': 4236, 'letdown': 7723, 'scram': 11135, 'subconscious': 12203, 'complies': 3344, 'relief': 10489, 'runs': 10914, '6stxt3an8lvc1': 850, '746': 892, 'fd0d4fc1bd32cad1c3d13756671b5b2610f7d881': 5314, 'roki': 10835, 'asura': 1889, 'demonfolk': 4015, '2億7900万': 496, '279': 452, 'terrified': 12627, 'sarcastic': 11030, 'resting': 10655, 'fists': 5451, 'slams': 11632, 'vzu5hnko8lvc1': 13639, '1252': 154, '8a127050773028a922a76f53f3067c2368bd401e': 1010, 'maniac': 8075, 'kuekuekuekuekue': 7525, 'lucky': 7948, 'viciously': 13527, 'pummels': 10071, 'pulverized': 10069, '9co2hntp8lvc1': 1089, '750': 900, 'ef507bba113e34ef5d1b7125e56bd8c07bf4a980': 4671, 'forces': 5576, 'grabs': 6080, 'toes': 12832, 'nigiri': 8818, 'ouch': 9183, '2xzzld0r8lvc1': 495, '2c1b6dd45cbb728b90112a062323681114820a6c': 468, 'bow': 2546, 'm2282nbs8lvc1': 7985, '0596e60ee76bcb637d1369c37e82d68c0c64f85b': 26, 'brothel': 2621, 'kisshoten': 7467, 'centipedes': 2930, 'swarm': 12392, 'armor': 1780, 'kimoi': 7442, 'disgusting': 4271, 'rekka': 10463, 'ninpō': 8827, 'chakka': 2956, 'ninja': 8826, 'raging': 10193, 'ignition': 6752, 'tip': 12803, 'marks': 8144, 'circle': 3089, 'surrounds': 12359, 'flames': 5468, 'jūki': 7360, 'cutie': 3769, 'papa': 9347, 'hou': 6613, 'china': 3046, 'm5kcwcot8lvc1': 7988, '3840': 557, '300d5974790b08a6a9e68b0c5a9d3b21a4ca4ea8': 500, 'goodness': 6035, 'ma': 7992, 'chan': 2962, 'pay': 9429, 'つづく': 14229, 'welcome': 13784, 'summary': 12281, 'careful': 2839, 'convenience': 3518, 'shutenmaru': 11502, 'departure': 4037, 'trouble': 13055, 'manages': 8062, 'distress': 4327, 'maria': 8123, 'chased': 3008, 'crosses': 3708, 'sasaki': 11034, 'struggle': 12171, 'smoothie': 11717, 'daifuku': 3815, 'receives': 10322, 'joss': 7305, 'imgur': 6796, '4p69fiv': 670, 'l9dsgvm': 7568, 'shinuchi': 11414, 'feline': 5343, 'capitalizes': 2813, 'landing': 7601, 'prowess': 10039, 'matial': 8198, 'artist': 1808, 'dodge': 4367, 'avoids': 1974, 'advantage': 1372, 'spinning': 11916, 'bhzs77vh6lvc1': 2317, '471': 623, '95997cec81866fe4250291ae3d244e8afec5813a': 1061, 'favourtie': 5304, 'shirt': 11424, 'wheeze': 13812, 'wow': 14006, 'bandit': 2088, 'iduyhzu': 6739, 'disappeared': 4233, 'shouting': 11468, 'afar': 1396, 'zim6eqf': 14180, 'wounded': 14004, 'n6o77kn': 8674, 'gad1fo3': 5790, 'critical': 3689, 'sleeping': 11652, 'bastard': 2141, 'rthupjl': 10885, 'checking': 3018, 'approaching': 1727, 'u1mqn9m': 13138, 'hm': 6536, 'kiss': 7465, 'fetch': 5363, 'saruman': 11031, 'vet': 13511, 'veterinarian': 13513, 'medic': 8244, 'luck': 7946, 'katana': 7401, 'public': 10055, 'oh': 9026, 'angry': 1608, 'sharp': 11373, 'heh': 6416, 'dismissive': 4284, 'stairs': 11979, 'sight': 11521, 'hears': 6389, 'stepping': 12061, 'smiling': 11704, 'mumumumumu': 8613, 'q78acei': 10129, 'mumumu': 8611, 'gekiokopunpunmaru': 5864, 'corridor': 3574, 'mumumumu': 8612, 'seek': 11204, 'muzu': 8649, 'ōmukade': 14212, 'passage': 9395, 'suitable': 12269, 'passes': 9397, 'thick': 12701, 'underneath': 13223, 'toenails': 12831, 'smaller': 11687, '尾田栄一郎': 14278, 'kqjnmm1m6lvc1': 7514, '526': 690, '96fceb5a749140522b69fd815d1daa0952ebb914': 1068, 'spark': 11852, 'mandrill': 8066, 'zhwglyvormy': 14179, 'bare': 2102, 'flinch': 5509, 'scratch': 11138, 'huh': 6638, 'kicks': 7425, 'shōgun': 11505, 'afraid': 1411, 'punches': 10078, 'baiting': 2066, 'backwards': 2053, 'flail': 5465, 'shoots': 11449, 'linked': 7804, 'chain': 2952, 'grabbing': 6079, 'touches': 12898, 'tenses': 12613, 'channels': 2973, 'flying': 5532, 'circular': 3091, 'crashing': 3648, 'againt': 1423, 'notices': 8883, 'shatters': 11377, 'invisible': 7153, 'fwrjbnjo6lvc1': 5774, '588': 738, '0e22eea6c7f29c553db108019fabfab33e79d084': 51, 'debris': 3893, 'brute': 2635, 'unsheathing': 13323, 'assistant': 1864, 'tsumayōji': 13081, 'toothpick': 12865, 'grab': 6077, 'sōryū': 12458, 'honkō': 6575, 'mosasaur': 8544, 'churning': 3078, 'river': 10799, 'lunges': 7965, 'swinging': 12408, 'fiercely': 5383, 'shield': 11393, 'pushes': 10109, 'mountain': 8566, 'chunk': 3075, 'increases': 6902, 'alarmed': 1481, 'dents': 4031, 'wapometal': 13686, 'oi': 9031, 'onslaught': 9084, 'seat': 11176, 'gauntlet': 5851, 'gauntlets': 5852, 'instructions': 7051, 'manual': 8100, 'm3qynbor6lvc1': 7987, '441': 610, '3193259994c9badf6c134ce5e7cac1ac65e7639d': 510, 'pressure': 9884, 'vent': 13493, 'gust': 6203, 'compressed': 3352, 'sends': 11240, 'flatten': 5482, 'surely': 12339, 'insides': 7019, 'ceases': 2910, 'relieved': 10492, 'coughs': 3590, 'smirks': 11707, 'ingenuity': 6973, 'surprises': 12353, 'collapse': 3232, 'woow': 13960, 'downgrade': 4439, 'marshal': 8151, 'ignoring': 6755, 'crushing': 3727, 'kyōryū': 7559, 'dōmō': 4573, 'savagery': 11056, 'flood': 5518, 'jumps': 7338, 'downwards': 4448, 'pierces': 9589, 'stuck': 12176, 'furiously': 5763, 'scratching': 11139, 'pinching': 9602, 'fingertips': 5424, 'tremendous': 13018, 'paying': 9431, 'concerned': 3373, 'gsxnuq9u6lvc1': 6167, '718': 865, '7bb8329894882753d7b35813fd708d04a42935ca': 938, 'club': 3183, 'falls': 5245, 'mecha': 8235, 'budge': 2655, 'nonetheless': 8852, 'worry': 13987, 'shaken': 11336, 'usooooopp': 13391, 'pokes': 9705, 'y2dl4lvv6lvc1': 14077, '582': 732, '2f78530b5799411740bac3cc23ab534ab02e4ef3': 482, 'anger': 1606, 'options': 9133, 'belong': 2270, 'watchtower': 13723, 'bckzf38x6lvc1': 2173, '362': 540, 'e648d0968ff3d81858cd9c6b4f77c787937d9e03': 4588, 'trashed': 12988, 'rate': 10240, 'gz73n1mz6lvc1': 6217, '08aa6453319c851cb493b4f41e0596bab147bb17': 36, 'hatcha': 6339, '1億6800万': 371, '168': 243, 'hahha': 6244, 'likey': 7782, 'drill': 4490, 'smash': 11693, 'slender': 11656, 'readies': 10273, 'intervene': 7113, 'ckjfnvjnsdeofm': 3109, 'claws': 3131, 'tears': 12560, 'rage': 10192, 'orrraaaaaaaaaaaaaaa': 9172, 'boxing': 2550, 'entyu5017lvc1': 4896, '1085': 100, 'c070f40f06b1eee10c9d8c2a6f2447404d1b8447': 2724, 'frustration': 5715, 'impotence': 6846, 'irresponsible': 7174, 'behavior': 2242, 'sparks': 11854, 'sudden': 12247, 'pulp': 10067, 'comeback': 3271, 'surprise': 12351, 'narikabura': 8695, 'ringing': 10781, 'turnip': 13102, '5t73qo237lvc1': 776, '0b5d21063b94ba6ea024f1ef1514ab079d8509a8': 43, 'below': 2275, 'hurtie': 6668, 'jimw1va47lvc1': 7272, '910': 1043, '27ee4fa1fb03255c569f1f8b5bed7e75be86285c': 455, 'toys': 12921, 'manners': 8091, 'sas': 11033, 'wiping': 13905, 'lips': 7810, 'congratulations': 3412, 'mood': 8520, 'tanking': 12509, 'radical': 10184, 'zevkya167lvc1': 14178, '1306': 168, 'be51d458e6a70b12f51c6998391767dd0ec9e971': 2181, 'wraping': 14014, 'dependable': 4041, 'jinb': 7273, 'puzzled': 10116, 'u37pvxu77lvc1': 13140, '996': 1080, '687c749f587623749398d1f80ae4574d03d46b18': 823, 'mmm': 8453, 'tasty': 12530, 'bkav6tg': 2370, 'knight': 7483, 'pony': 9727, 'fishbowl': 5444, 'hihihihi': 6488, 'assist': 1862, 'san': 11012, 'astral': 1886, 'doors': 4418, 'vb6fpdhd7lvc1': 13475, '1249': 153, '8b3c250921b927333ae5e6ea8fe53e7cb72b1807': 1013, 'reloaded': 10496, '958': 1060, '49i': 643, 'vengeance': 13490, 'v0': 13421, 'rvwhcyimpdmc1': 10925, '083714947d535e6a18c18edcb7b5d84d89285376': 34, 'skeleton': 11596, 'walks': 13667, 'raisin': 10205, 'dry': 4518, 'ahead': 1446, 'suspecting': 12372, 'mold': 8480, 'security': 11197, 'dehydration': 3983, 'herself': 6466, 'disguise': 4268, 'brother': 2622, 'mont': 8515, 'mm8qd5o': 8451, 'ifrīt': 6745, 'mas': 8159, 'wasting': 13717, 'shuts': 11503, 'tracks': 12927, 'speak': 11859, 'shameful': 11347, 'muaahahahahahaha': 8595, 'mama': 8055, 'thousands': 12732, 'muahahahaha': 8596, 'delighted': 3994, 'panicking': 9336, 'mistake': 8435, 'meeeeee': 8251, 'myself': 8655, 'sag': 10978, 'quiet': 10157, 'v7v2hkzf7lvc1': 13426, '736': 884, 'd939a35765f4eb4d2c10687b5c07f8a6d344423d': 3807, 'hang': 6287, 'gyojin': 6215, 'ōgi': 14210, 'onigawara': 9079, 'seiken': 11219, 'tile': 12787, 'rei': 10444, 'oniwabanshu': 9080, 'x9d1i61j7lvc1': 14060, '528': 691, '03b2ff33151b41d31c9dc1485709d7cc9ec66172': 15, 'allied': 1512, 'sheer': 11381, 'superiority': 12307, 'beasts': 2196, 'slay': 11648, 'hoqvm9k': 6587, '679ebsbk7lvc1': 819, '257': 441, '3971f02017f6674897a2fc50ea45156843d87095': 563, 'traumatologist': 12994, 'hakugan': 6259, '4600万': 621, '46': 620, 'burglar': 2690, 'ihrk46b': 6757, 'comrade': 3357, 'arrival': 1790, 'suddenly': 12248, 'appeared': 1701, 'nightmare': 8814, 'coma': 3258, 'doubtful': 4434, 'eer': 4667, '35eo5qem7lvc1': 538, '2cb42242e6bee202e4f560cdfd3e87c8aee07598': 471, 'track': 12926, 'mask': 8166, 'blushing': 2451, 'stays': 12041, 'outstanding': 9216, 'gooooooo': 6043, 'oa002wbo7lvc1': 8934, '1323': 170, '938cbfca8d62feb05023afdab4af1e923bf26f27': 1053, 'been': 2221, 'accident': 1258, 'interrupted': 7107, 'lya58xa': 7978, 'marimo': 8130, 'emon': 4776, 'wishing': 13916, 'precedent': 9835, 'individual': 6925, 'verge': 13498, 'dives': 4345, '8h1ngks': 1028, 'arrives': 1793, 'intercept': 7083, 'collier': 3244, 'professorgemini': 9962, 'e9udf6fs7lvc1': 4598, '1700': 249, 'f1102dbcb43e9288480161f05fc19e3d91c353bb': 5174, 'dodges': 4369, 'hunter': 6661, 'lying': 7980, 'disappears': 4235, '1bzbk01': 330, 'one_piece_reloaded_chapter_961_52ikowa_kowa_no_mi': 9063, '1c8k873': 344, 'sauce': 11053, 'cidades_art': 3083, '1690742621969297410': 245, '70lgxcz9wkvc1': 859, '417': 598, '93dd8158726b3f5c37550c8a1c99560d94da814c': 1054, 'ringed': 10779, 'exerting': 5053, 'aesthetically': 1390, 'indicating': 6922, 'phenomenon': 9546, 'cavendish': 2896, 'hakuba': 6258, 'possesses': 9776, 'sleeps': 11654, 'reminiscent': 10524, 'omdrqwh6vkvc1': 9052, '335': 520, '31e3ecdc6f95ce24c1d05c1687f89fc2079740aa': 512, 'their': 12665, 'animalistic': 1614, 'devils': 4148, 'kpupbo19vkvc1': 7513, '422': 602, '41fa2dd4038148bd219471a6388790e4e8d16d16': 600, 'y4h9b5w9vkvc1': 14080, '1522': 222, '78052d043a8680705561ca9e49e2355d943b8659': 922, 'forked': 5599, 'stereotypical': 12064, 'depictions': 4050, 'classic': 3128, 'cartoons': 2861, 'mq6sm0lcwkvc1': 8585, '252': 437, 'fa66e3dbca3b13397e664ed9b2bdb62e227f8a72': 5198, 'cqw9d57cvkvc1': 3632, '568': 721, 'b9967511042e5aaf4dc209e0ee01cc3d2937772f': 2032, 'noteworthy': 8875, 'quip': 10158, 'extraordinary': 5154, 'zirq0swa1lvc1': 14182, '414': 597, '727e8fcc2eee441d7c7e304d8f07962d255c2563': 874, 'vj6vyfbdvkvc1': 13598, '768': 912, 'b7649b6ceb3965faaa638136e1378ea3fe175449': 2026, 'lines': 7802, 'bmmto62hvkvc1': 2455, '701edf11e4160ebe36a0d44cbdd222f856624fcd': 856, 'activates': 1306, 'inhabits': 6977, 'influence': 6956, 'transforms': 12960, '8dezm8yivkvc1': 1019, '1240': 152, 'df938c97c0be53c864c5894a0b6791e306962eb8': 4155, 'tranforming': 12948, 'ifajtyhkvkvc1': 6742, '786': 926, '884555e936d53e05a8bc0e7b08c9c2d1e1339b37': 999, 'pangs': 9334, 'soru': 11813, 'influencing': 6960, 'depedcylvkvc1': 4039, '377': 549, 'e5f90e0262ea770bdd6dbc5876bb9bb466bc7b4c': 4586, 'manw9rumvkvc1': 8104, '492': 636, 'c86e4b4e5d6ebffa456646a546b3ff243813aba4': 2748, 'enters': 4882, 'homicidal': 6565, 'drunk': 4516, 'phase': 9542, 'shuron': 11498, 'hakke': 6256, 'spiral': 11917, 'eyebrows': 5160, 'gains': 5798, 'exert': 5052, 'q3gc526ovkvc1': 10125, '603': 782, 'f77f9fa9a0d088abc59ff4a091393078b1631ebe': 5189, 'pptyvtavvkvc1': 9820, '398': 564, '05f0f6524caec20717f9113aa41b8677603a4b5e': 28, 'zunesha': 14205, 'justification': 7351, '0qvdcf2xvkvc1': 59, '431': 606, '55903d7f8038ab218d24f80158705b67cb062557': 710, 'related': 10466, 'frank': 5646, 'baum': 2163, 'oz': 9277, 'itself': 7200, 'novels': 8890, 'wizard': 13930, 'dorothy': 4422, 'gale': 5803, 'kansas': 7391, 'swept': 12402, 'magical': 8013, 'befriends': 2228, 'scarecrow': 11090, 'tin': 12800, 'cowardly': 3624, 'lion': 7808, 'seeking': 11205, 'courage': 3611, 'respectively': 10639, 'emerald': 4767, 'encountering': 4801, 'obstacles': 8963, 'wicked': 13856, 'west': 13793, 'realizing': 10288, 'possessed': 9775, 'sought': 11814, 'ozma': 9280, 'depicted': 4048, 'wise': 13911, 'born': 2514, 'princess': 9917, 'transformed': 12958, 'mombi': 8484, 'restored': 10657, 'identity': 6729, 'fairness': 5232, 'compassion': 3317, 'central': 2931, 'aiding': 1451, 'claim': 3112, 'bellamy': 2264, 'argue': 1760, 'bass': 2137, 'guitar': 6194, 'entry': 4895, 'tusk': 13107, 'colorings': 3250, 'hōki': 6702, 'fengxi': 5356, 'depiction': 4049, 'images': 6784, 'trees': 13017, 'deciphering': 3917, 'pays': 9434, 'downgraded': 4440, 'teach': 12548, 'steals': 12046, 'absorbs': 1235, 'cocoon': 3209, 'moira': 8478, 'reflection': 10407, 'humbling': 6647, 'desperately': 4093, 'careless': 2841, 'laboon': 7574, 'chills': 3043, 'liking': 7783, 'penguin': 9465, 'oras': 9138, 'carefree': 2838, 'learning': 7679, 'cheer': 3019, 'hilarious': 6492, 'pervert': 9527, 'hypocritical': 6695, 'bonding': 2483, 'perverts': 9528, 'gentlemen': 5894, 'creep': 3670, 'excite': 5033, 'shinobu': 11412, 'thair': 12646, 'faking': 5238, 'bitses': 2365, 'bath': 2146, 'mans': 8094, 'brutally': 2634, 'handle': 6280, 'ur': 13370, 'abuse': 1241, 'falsely': 5247, 'accused': 1280, 'apologies': 1680, 'usop': 13392, 'suited': 12270, 'simping': 11552, 'portrait': 9750, 'mentions': 8292, 'twisted': 13117, 'faked': 5237, 'portray': 9751, 'incarnate': 6876, 'unified': 13265, 'nyon': 8928, 'kujas': 7528, 'narrator': 8702, 'portrays': 9755, 'posible': 9761, 'incident': 6884, 'designs': 4084, 'recreate': 10355, 'recruiting': 10360, 'kidnapped': 7431, 'discarded': 4246, 'slaved': 11645, 'returned': 10693, 'exile': 5061, 'contrasting': 3506, 'shaki': 11338, 'sidenote': 11515, 'chasing': 3009, 'imitating': 6799, 'hearsay': 6390, 'objective': 8943, 'propaganda': 9995, 'concerning': 3374, 'pier': 9587, 'identities': 6728, 'firstly': 5442, 'paths': 9416, 'controls': 3516, 'suggested': 12261, 'youth': 14142, 'surgery': 12344, 'godlike': 6005, 'intentional': 7072, 'communicate': 3299, 'telepathically': 12586, 'virtually': 13571, 'transport': 12980, 'distances': 4315, 'deeper': 3938, 'super': 12302, 'each': 4605, 'elder': 4718, 'cladding': 3111, 'learns': 7680, 'intelligent': 7064, 'greater': 6118, 'demon': 4013, 'mother': 8549, 'imus': 6859, 'publicly': 10058, 'necessarily': 8730, 'wbs': 13739, 'learn': 7677, 'explanation': 5105, '2nd': 490, 'cutting': 3774, 'ice': 6711, 'eos': 4901, 'jinbe': 7274, 'avalo': 1961, 'pizarro': 9626, 'macho': 7999, 'respective': 10638, 'beautiful': 2206, 'lafitte': 7591, 'navigator': 8720, 'vasco': 13470, 'alcohol': 1490, 'tolerance': 12842, 'laffite': 7589, 'angel': 1604, 'msuician': 8589, 'dancer': 3826, 'canes': 2788, 'hypnotism': 6690, 'doc': 4362, 'horse': 6601, 'pet': 9531, 'van': 13449, 'augur': 1938, 'prey': 9904, 'sanjuan': 11024, 'wolfe': 13943, 'battleship': 2159, 'crewmember': 3675, 'colossal': 3252, 'translations': 12967, 'openings': 9102, '6th': 851, 'visuals': 13592, 'flee': 5492, 'dent': 4030, 'uranus': 13372, 'unlocked': 13293, 'centered': 2928, 'hardest': 6314, 'poll': 9715, 'event': 4980, '1c8go43': 342, 'indirect': 6924, 'bloons': 2430, 'kaidou': 7375, 'meme': 8271, 'destined': 4102, 'agnostic': 1437, 'meaningful': 8221, 'scar': 11087, 'symbolize': 12439, 'psychological': 10050, 'posthumous': 9787, 'goodbyes': 6033, 'paid': 9299, 'respects': 10640, 'healed': 6382, 'unfinished': 13251, 'sleepless': 11653, 'nights': 8817, 'memento': 8272, 'drove': 4508, 'grow': 6156, 'remiss': 10525, 'understands': 13229, 'fundamental': 5750, 'into': 7118, 'dirty': 4222, 'compel': 3320, 'lethal': 7724, 'wronged': 14032, 'subversion': 12231, 'chekhov': 3026, 'unfired': 13252, 'wounds': 14005, 'trauma': 12990, 'vindictive': 13557, 'grudge': 6162, 'un': 13173, 'emotionally': 4779, 'fundamentally': 5751, 'instructive': 7052, 'newfound': 8788, 'burdened': 2687, 'reinforcement': 10456, 'selfless': 11231, 'matchups': 8186, 'contrast': 3505, 'comedic': 3272, 'contenders': 3481, 'resolution': 10623, 'healing': 6383, 'reconnect': 10343, 'doen': 4371, 'comfort': 3276, 'dammit': 3823, 'sakazuki': 10994, 'claimed': 3113, 'inferior': 6942, 'satisfying': 11044, 'redemption': 10377, 'cathartic': 2883, 'vindication': 13556, 'lastly': 7627, 'morally': 8528, 'flexible': 5504, 'evidenced': 4996, 'shrugging': 11489, 'cobra': 3203, 'benefit': 2285, 'relishing': 10495, 'beef': 2220, 'juicy': 7333, 'dramatic': 4465, 'matchup': 8185, 'scream': 11140, 'roar': 10811, 'furious': 5762, 'glares': 5968, 'maps': 8109, 'legitimately': 7702, 'ay': 1998, 'hungry': 6657, 'wolves': 13945, 'decend': 3904, 'reuji': 10696, 'hintes': 6506, 'swearing': 12394, 'shouldn': 11464, 'doron': 4421, 'axe': 1995, 'unlocks': 13295, 'brutal': 2632, 'ups': 13358, 'blasted': 2392, 'scaring': 11095, 'permanently': 9500, 'unleash': 13284, 'emotions': 4781, 'raking': 10208, 'cruelness': 3718, 'corruption': 3577, 'realization': 10284, 'devastates': 4130, 'news': 8791, 'realizes': 10287, 'rocky': 10829, 'port': 9745, 'valued': 13445, 'credit': 3668, 'neo': 8762, 'dyna': 4568, 'gathering': 5847, 'hibari': 6471, 'villages': 13552, 'forgive': 5594, 'punctuation': 10080, 'prob': 9935, 'prettiest': 9892, 'ugliest': 13148, 'pics': 9581, 'envelope': 4897, 'quo': 10163, 'intention': 7071, 'paradise': 9352, 'importantly': 6842, 'footage': 5568, 'ravaged': 10245, 'insects': 7015, 'nightmarish': 8816, 'circumstances': 3094, 'inspire': 7030, 'yearning': 14104, 'liberation': 7746, 'loose': 7900, 'apposed': 1717, 'horrific': 6597, 'fate': 5288, 'vendetta': 13489, 'greed': 6124, 'prisoner': 9928, 'seraph': 11275, 'fandom': 5265, 'releated': 10481, 'subjects': 12206, '539': 697, 'cartoonishness': 2859, 'mixed': 8444, 'opinions': 9113, 'detracts': 4126, 'tier': 12777, 'capacity': 2807, 'increasingly': 6904, 'desperation': 4094, 'experimentation': 5093, 'methods': 8342, 'successful': 12235, 'refined': 10405, 'gags': 5793, 'strategy': 12119, 'relies': 10490, 'proven': 10031, 'reaches': 10260, 'completes': 3338, 'replicating': 10566, 'collar': 3233, 'uniquely': 13272, 'stage': 11975, 'roots': 10856, 'seriousness': 11284, 'imagination': 6785, 'playful': 9661, 'joyfully': 7316, 'grateful': 6108, 'required': 10590, 'joyful': 7315, 'defines': 3964, 'grinding': 6140, 'fold': 5548, 'phew': 9547, 'sobbed': 11749, 'upsetting': 13361, 'heartbreaking': 6394, 'cow': 3622, 'phenomenal': 9545, 'aces': 1282, 'pissed': 9617, 'tf': 12645, 'sacrificed': 10963, 'setup': 11308, 'triggered': 13039, 'proposing': 10010, 'directing': 4214, 'alabaster': 1479, 'select': 11224, '340million': 528, 'freezes': 5678, 'arrested': 1788, 'affordable': 1408, 'ik': 6763, 'yapping': 14094, 'helpful': 6440, 'decision': 3918, 'mu7iaheaaivc1': 8594, '345': 529, '695671826351c28eea01110249b2de9452dfb0e9': 826, 'pnw6hndaaivc1': 9689, '1116': 132, 'fa9562cc72db7ee58503ce8397b623a2b6755d37': 5199, '968': 1066, 'rember': 10511, 'confuse': 3407, '1c6vym9': 337, 'true_nature_of_five_elders_was_probably_already': 13061, 'l040jrl': 7561, 'bet': 2299, 'nightmares': 8815, 'kumu': 7535, 'akumu': 1475, 'fears': 5321, 'manifesting': 8080, 'embodiment': 4760, 'rogers': 10833, 'rested': 10654, 'ruled': 10900, 'sprouted': 11953, 'rivals': 10798, 'caricatures': 2844, 'monstrous': 8514, 'imagined': 6787, 'campfire': 2775, 'cautioned': 2893, 'slaves': 11647, 'slumbers': 11683, 'sleeper': 11651, 'cycle': 3780, 'sigh': 11520, 'freed': 5668, 'inhibitions': 6985, 'oppressive': 9127, 'weighed': 13777, 'dreamed': 4479, 'dictate': 4175, 'contradict': 3499, 'ranting': 10230, 'descending': 4068, 'direction': 4215, 'alongside': 1533, 'predicted': 9845, 'pepe': 9472, 'silvia': 11541, 'duality': 4521, 'horrifying': 6598, 'coward': 3623, 'gandi': 5817, 'ben': 2279, 'shiryuu': 11427, 'perfection': 9482, 'decrease': 3931, 'revived': 10726, 'revive': 10725, 'begged': 2232, 'definetely': 3965, 'chronologically': 3073, 'shounen': 11466, 'jokes': 7296, 'humour': 6651, 'unnecessary': 13301, 'detours': 4125, '4ftx5ft': 660, 'darn': 3846, 'bast': 2140, '360': 539, 'marry': 8149, 'cmon': 3193, 'gaps': 5822, 'sensitive': 11253, 'describe': 4071, 'dear': 3885, 'dissolution': 4312, 'towarda': 12908, 'tragic': 12937, 'reminder': 10520, 'iim': 6761, 'amidst': 1575, 'pause': 9424, 'interacted': 7077, 'remembers': 10515, 'encounters': 4802, 'whike': 13822, 'theyre': 12700, 'kureha': 7540, 'feasible': 5323, 'slight': 11663, 'explaining': 5103, 'express': 5127, 'fella': 5345, 'shipwright': 11420, 'conclusive': 3383, 'bruv': 2636, 'sham': 11344, 'marriage': 8146, 'simp': 11551, 'smug': 11723, 'grin': 6139, 'cop': 3543, 'id': 6719, 'longstanding': 7886, 'similarities': 11544, 'recollects': 10336, 'foreshadows': 5585, 'sorta': 11809, 'ordeal': 9140, 'wildly': 13876, 'unanswered': 13180, 'brilliant': 2599, 'display': 4293, 'storytelling': 12109, 'digest': 4194, 'fetched': 5364, 'awfully': 1991, 'downtime': 4445, 'intricacy': 7121, 'worldbuilding': 13974, 'goldfish': 6024, 'inaccuracies': 6864, 'reread': 10595, 'splat': 11925, 'shrimp': 11483, 'doom': 4415, 'closest': 3172, 'corny': 3560, 'raftel': 10190, 'd5q3f8sguhvc1': 3800, '1061': 85, 'e7076f1a41ccbb204f4a26a82dc97347e2ebf9c5': 4591, 'realised': 10280, 'sugar': 12259, 'kyros': 7557, 'contract': 3496, 'rule': 10899, 'route': 10872, 'chat': 3011, 'stew': 12067, 'dances': 3827, 'youtuber': 14146, 'trafalgar': 12933, 'cherry': 3028, 'blossom': 2432, 'formerly': 5607, 'bdynel0yezr': 2179, 'wide': 13858, 'ohuhu': 9030, 'pens': 9466, 'experimenting': 5095, 'blending': 2402, 'shading': 11326, 'highlights': 6486, 'meany': 8228, 'college': 3243, 'study': 12181, 'regularly': 10442, 'foreseeable': 5581, 'slower': 11677, 'divert': 4342, 'summer': 12283, 'advice': 1384, 'kai': 7372, 'awhile': 1993, 'convention': 3521, 'greets': 6131, 'mentioning': 8291, 'sloppy': 11673, 'edged': 4648, 'objectively': 8944, 'impacted': 6820, 'communities': 3303, 'easly': 4625, 'photos': 9560, 'bf': 2313, 'struggled': 12172, 'skypeia': 11622, 'bloated': 2413, 'steam': 12048, 'lrll': 7940, 'fav': 5297, 'itching': 7194, 'davy': 3856, 'relevant': 10484, 'weakest': 13747, 'conjures': 3415, 'emission': 4774, 'coc': 3205, 'conjure': 3413, 'skies': 11604, 'beams': 2185, 'jupeter': 7343, 'terrain': 12624, 'winds': 13889, 'sands': 11016, 'appendages': 1706, 'toxins': 12917, 'poison': 9701, 'paralyze': 9361, 'acoc': 1294, 'attain': 1912, 'recovery': 10354, 'includes': 6889, 'suddenness': 12249, 'addressed': 1340, 'bothers': 2531, 'fftdexxhp7w': 5371, 'kiddy': 7429, 'joker': 7295, 'toying': 12920, 'landed': 7600, 'blows': 2437, 'deeply': 3940, 'toyed': 12919, 'letting': 7727, 'cute': 3767, 'traces': 12925, 'torch': 12873, 'describes': 4073, 'pluto': 9685, 'alablasta': 1480, 'traveling': 12998, 'desert': 4077, 'subbed': 12200, 'dawning': 3860, 'clarity': 3120, 'mary': 8158, 'geoise': 5900, 'lunarian': 7961, 'kings': 7458, 'mimic': 8379, 'descript': 4075, 'toxic': 12916, 'yours': 14141, 'entities': 4890, 'graduating': 6085, 'occasion': 8971, 'indecisive': 6909, 'decorate': 3930, 'graduation': 6086, 'cap': 2802, 'designing': 4083, '3dprintable': 577, 'blueprints': 2447, 'measurements': 8230, 'estimating': 4960, 'miniature': 8391, 'wht': 13853, 'simplified': 11558, 'joined': 7288, 'travel': 12995, 'australia': 1941, '9years': 1112, 'perth': 9526, '438': 607, 'occurred': 8978, 'duval': 4561, 'archipelago': 1749, '389': 559, 'motobaro': 8562, 'charging': 2999, 'abled': 1214, 'rookies': 10851, 'apprentices': 1723, 'slug': 11680, 'drinking': 4493, 'cross': 3706, 'offline': 9014, 'tcbscans': 12539, 'dot': 4426, 'tick': 12770, 'tcb': 12538, 'ch': 2943, '22': 417, '04': 17, 'scan': 11082, '26': 444, 'removed': 10534, '24h': 434, 'morning': 8538, 'mermaid': 8312, 'pictured': 9583, 'mermaids': 8313, 'balls': 2081, 'male': 8052, 'treats': 13013, 'goddesses': 6003, 'womanly': 13947, 'affection': 1403, 'chassing': 3010, 'rifle': 10768, 'plain': 9637, 'gigant': 5931, 'bell': 2263, 'belle': 2265, 'posses': 9771, 'sworn': 12430, 'theiores': 12664, 'nefertari': 8744, 'goddes': 6001, 'shares': 11369, 'nefetari': 8746, 'rained': 10201, 'refered': 10393, 'descendents': 4067, '20kings': 410, 'founded': 5627, 'kingodm': 7457, 'descendent': 4066, 'smt': 11721, 'trains': 12942, 'reiju': 10448, 'saddest': 10967, 'backstories': 2050, 'obey': 8939, 'fucked': 5720, 'traumatized': 12992, 'idrc': 6738, 'summit': 12285, 'releasing': 10480, 'worries': 13986, 'spoilery': 11935, 'studying': 12182, 'macbeth': 7994, 'influences': 6958, 'jolly': 7299, 'skulls': 11617, 'blackboard': 2377, 'witches': 13918, 'jaya': 7244, 'prophecy': 10002, 'marajois': 8114, 'negating': 8749, 'whilst': 13825, 'mcduffs': 8214, 'rarely': 10237, 'applies': 1714, 'habits': 6227, 'arrive': 1791, 'wattesigma': 13730, 'heartbeat': 6392, 'reminants': 10517, 'activated': 1305, 'mari': 8122, 'joise': 7293, 'oceans': 8980, 'achieving': 1288, 'hq': 6625, 'excecution': 5019, 'metaphorical': 8335, 'pulling': 10064, 'hte': 6626, 'issued': 7189, 'ultimatum': 13159, 'refuse': 10412, 'excessive': 5030, 'capitalization': 2812, 'bold': 2473, 'powerfull': 9807, 'immidiately': 6808, 'execution': 5048, 'concentrated': 3366, 'judicial': 7330, 'lay': 7652, 'siege': 11519, 'bases': 2125, 'noble': 8834, 'murdered': 8618, 'independent': 6913, 'nations': 8711, 'glad': 5966, 'toppled': 12871, 'sink': 11569, 'legitimacy': 7700, 'manage': 8058, 'rampaging': 10217, 'campaign': 2773, 'scary': 11099, 'suspected': 12371, 'kahoots': 7371, 'dirt': 4221, 'cheap': 3013, 'identify': 6727, 'docs': 4363, 'document': 4366, '12hqf7n8ch1x6pem1tzw9e0jw': 162, 'e01ub3s': 4575, '_d69duqrjsq': 1128, 'pli': 9673, 'heading': 6374, 'mi502sdrltli': 8349, 'e01ub3s_d69duqrjsq': 4576, 'collab': 3229, '2013': 381, 'gigantic': 5934, 'viruul': 13576, 'itch': 7193, 'io': 7164, 'onepiececollabv1': 9069, 'crap': 3644, 'ton': 12850, 'storyline': 12107, 'request': 10585, 'submit': 12212, 'email': 4748, 'theonepiececollab2': 12679, 'gmail': 5988, 'mailto': 8032, 'k6fq9v6tzh': 7366, 'transparent': 12975, 'frame': 5642, 'submissions': 12210, 'digital': 4197, 'scanned': 11084, 'traditionally': 12932, 'drawings': 4473, 'edges': 4649, 'canvas': 2801, 'file': 5402, '1300w': 166, '1500h': 218, '350dpi': 533, 'psd': 10046, '2600w': 446, 'duos': 4549, 'exceptions': 5028, 'social': 11751, 'trace': 12923, 'suuuper': 12382, 'ow': 9264, 'thoroughly': 12723, 'inspect': 7026, 'listed': 7815, 'intentionally': 7073, 'provide': 10033, 'hashtag': 6332, 'onepieceartcollab2': 9068, 'requesting': 10587, 'linktr': 7807, 'ee': 4663, 'opcollab': 9096, '405': 595, 'avengers': 1966, 'infinity': 6949, 'thanos': 12653, 'snaps': 11733, 'fingers': 5423, 'heroes': 6461, 'disappearing': 4234, 'painful': 9301, 'bubbles': 2641, 'bursting': 2696, 'vanished': 13451, 'banging': 2092, 'snakeman': 11729, 'translating': 12965, 'raws': 10248, 'pairings': 9313, 'roughly': 10869, '60': 779, 'usd': 13379, 'yen': 14110, 'hiroshima': 6514, 'impressed': 6848, 'creatures': 3666, 'daily': 3816, 'donquixote': 4408, '1021': 72, 'jealoussssss': 7251, 'cosplays': 3585, 'dresses': 4484, 'wrinkly': 14022, 'shots': 11459, 'drives': 4498, 'sitting': 11585, 'drawer': 4471, 'ironed': 7168, 'azure': 2002, 'roleplay': 10838, 'staff': 11974, 'players': 9660, 'ivyvynes': 7209, 'ssi3fbed5fvc1': 11963, '1e2657256988c85c9b3f87d2fd6fd59eff37ecfc': 351, 'awful': 1990, 'thematized': 12669, 'dudes': 4529, 'cannons': 2791, 'spare': 11849, 'eliminating': 4738, 'nuanced': 8901, 'spoiling': 11936, 'cursory': 3762, 'posting': 9788, 'ds': 4519, 'ditching': 4337, 'closed': 3168, 'borders': 2511, 'external': 5143, 'formed': 5605, 'nation': 8709, 'refused': 10413, 'involved': 7158, 'outed': 9195, 'proposed': 10008, 'genuinely': 5897, 'trip': 13043, 'barcelona': 2101, 'bougth': 2538, 'talked': 12488, 'negate': 8748, 'touched': 12897, 'faint': 5229, 'similiarly': 11549, 'received': 10321, 'loooove': 7898, 'sm': 11684, 'favs': 5305, 'handmade': 6284, 'slicing': 11660, 'contest': 3484, 'reunion': 10697, 'wailing': 13652, 'targeting': 12519, 'freeze': 5677, 'option': 9132, 'outcome': 9192, 'jumped': 7335, 'addicted': 1332, 'unemployed': 13246, 'boruto': 2520, '957': 1059, 'bounties': 2543, '967': 1065, 'con': 3359, 'xd': 14062, 'olivia': 9049, 'decipher': 3916, 'scholars': 11114, 'katarina': 7402, 'laffitte': 7590, 'wills': 13884, 'blank': 2390, 'slate': 11642, 'manipulated': 8084, 'openly': 9103, 'loneliness': 7880, 'devilfruit': 4144, 'carmel': 2847, 'tequila': 12618, 'bajrang': 2068, 'total': 12892, 'dwindles': 4565, 'futures': 5772, 'wiped': 13903, 'reject': 10460, 'bringer': 2601, 'brawl': 2576, 'ships': 11419, 'accidentally': 1259, 'destroys': 4107, 'shirahoshi': 11421, 'forest': 5588, 'yells': 14109, 'whoever': 13846, 'feet': 5342, 'overlooking': 9239, 'iconic': 6717, 'vsalycl4ydvc1': 13635, '4500': 616, '24407368f2602ae5b7bec6a115bddce9d14b839a': 426, 'embyness': 4766, '3a': 565, '2f': 481, '2flinktr': 487, '2fembyness_': 485, 'at3mmcmfnbtjsamqwk7wybcg6ca3q5oq52tdnydu_zdoh5pi0x3qhlwyw6fhpoxqbgl8ke2sdwrzv8lobnpekk8jmnr0er': 1892, 'yi1_owtu': 14118, 'thursday': 12765, 'friday': 5689, 'amalee': 1557, 'repeats': 10553, 'stored': 12100, 'joyboys': 7314, 'companion': 3305, 'binge': 2340, 'motivate': 8558, 'gargantuan': 5829, 'poo': 9731, 'kaya': 7404, 'levity': 7736, 'silliness': 11538, 'fresh': 5685, 'overboard': 9226, 'overly': 9240, 'loveable': 7922, 'dumbass': 4537, 'toon': 12863, 'plastic': 9652, 'shapeshifter': 11364, 'bucket': 2647, 'nowhere': 8894, 'pant': 9341, 'fluff': 5527, 'till': 12788, 'realm': 10291, 'teeth': 12578, 'redirecting': 10380, 'culverin': 3745, 'kumadori': 7533, 'octopus': 8982, 'tentacles': 12616, 'slimmer': 11667, 'retract': 10682, 'correlated': 3570, 'rubbery': 10888, 'bugs': 2662, 'bunny': 2686, 'headcanon': 6372, 'production': 9958, 'majin': 8039, 'buu': 2711, 'goggles': 6013, 'stars': 12011, 'jaded': 7224, 'excel': 5022, 'sheet': 11382, 'data': 3849, 'covered': 3618, 'percentage': 9478, 'ratio': 10244, 'naming': 8693, 'schemes': 11109, 'counted': 3596, 'incase': 6880, '7u74x9313dvc1': 952, '2455': 429, '5d26be71fdce9cbf1b66e383f018522556c8c5aa': 759, 'ftr3ba313dvc1': 5718, '1588': 231, 'f9db156bb249bdff13bb8d68b898827904b0f9b2': 5195, 'excludes': 5039, 'specials': 11871, 'sp13': 11833, 'vibes': 13520, 'babies': 2039, 'reffered': 10403, '𝑩𝒍𝒐𝒐𝒅': 14333, '𝒃𝒓𝒐𝒕𝒉𝒆𝒓': 14341, 'eachother': 4606, 'brothers': 2623, 'ceremonial': 2938, 'derives': 4061, 'norse': 8862, 'mythology': 8669, 'odin': 8992, 'loki': 7873, 'swore': 12429, 'gentically': 5892, 'unrelated': 13317, 'pledge': 9670, 'ritual': 10794, 'saké': 10996, 'cup': 3748, 'cluttered': 3191, 'experienced': 5089, 'lowkey': 7935, 'vast': 13472, 'brainwashed': 2564, 'privilege': 9931, 'lifestyle': 7761, 'enforced': 4827, 'echelons': 4636, 'asshole': 1855, 'redeemed': 10376, 'humility': 6649, 'charlos': 3001, 'woken': 13941, 'logically': 7866, 'recreating': 10357, 'technologies': 12573, 'pattern': 9420, 'originates': 9163, 'chip': 3048, 'posiden': 9762, 'genetics': 5886, 'value': 13444, 'overworked': 9262, 'nigh': 8812, 'minimal': 8392, 'drink': 4491, 'señor': 11320, 'pink': 9604, 'hitman': 6523, 'accumulated': 1276, 'karma': 7395, 'sins': 11572, 'proud': 10028, 'freak': 5663, 'factory': 5217, 'bystanders': 2720, 'hearts': 6398, 'wipes': 13904, 'bikini': 2334, 'oddly': 8988, 'disinfects': 4275, 'bottle': 2533, 'scotch': 11132, 'abandoning': 1201, 'granny': 6097, 'pretends': 9890, 'suplexes': 12315, 'manager': 8061, 'kisses': 7466, 'complaining': 3331, 'demands': 4006, 'boyfriend': 2552, 'responsibility': 10648, 'friggin': 5696, 'truck': 13058, 'masculinity': 8164, 'problematic': 9939, 'established': 4957, 'deviants': 4140, 'anywho': 1670, 'gushing': 6202, 'reliable': 10485, 'fitted': 5454, 'supernovas': 12311, 'hoping': 6586, 'htv8usxtx3u': 6630, '187': 285, '09': 38, 'gon': 6027, 'scrfice': 11150, 'honor': 6576, 'chosen': 3066, 'sacrifce': 10961, 'embraced': 4764, 'nosebleed': 8866, 'gay': 5854, 'kuina': 7526, 'ivanovic': 7207, 'namesake': 8691, 'dracule': 4453, 'excuse': 5045, 'progress': 9969, 'automata': 1954, 'mtg': 8591, 'deck': 3921, 'themed': 12672, 'characteristics': 2990, 'incorporate': 6899, 'cards': 2834, 'card': 2832, 'experts': 5098, 'territory': 12630, 'cora': 3554, 'opeope': 9105, 'medicine': 8247, 'mutual': 8648, 'corazon': 3555, 'list': 7814, 'ganstergastino': 5820, 'mystoms': 8664, 'lucy': 7949, 'adress': 1363, 'remarkably': 10507, 'simimar': 11550, 'juan': 7325, 'mexican': 8344, 'vegeta': 13485, 'goku': 6019, 'da': 3809, 'homies': 6567, 'regeneration': 10430, 'freaking': 5665, '3snptlbvfbvc1': 587, '1895': 290, 'dd369e99a34b2376d940e0680ffcbe29a205dd5c': 3869, 'attributing': 1931, 'pro': 9934, 'rhetoric': 10747, 'property': 10000, 'inherently': 6978, 'charity': 3000, 'overthrowing': 9253, 'implementing': 6833, 'distribution': 4330, 'additionally': 1337, 'anti': 1648, 'collectivist': 3240, 'centralized': 2932, 'governance': 6071, 'tribute': 13027, 'governing': 6073, 'collective': 3238, 'typically': 13128, 'marxism': 8157, 'results': 10668, 'correlates': 3571, 'confirmation': 3397, 'bias': 2319, 'untill': 13332, 'arks': 1773, 'namely': 8689, 'illness': 6769, 'highly': 6487, 'rated': 10241, 'patch': 9412, '75': 899, 'debating': 3892, 'evolve': 5005, 'respond': 10641, 'abouts': 1224, 'fourth': 5632, 'locate': 7849, 'inaccessible': 6863, 'mobilize': 8458, 'manifested': 8079, 'bastards': 2143, 'reused': 10702, 'heres': 6456, 'abridged': 1227, '4kids': 666, 'uncensord': 13193, 'badly': 2059, 'desired': 4086, 'belonged': 2271, 'disagreed': 4228, 'conspired': 3453, 'ni2e65du3bvc1': 8799, '828': 968, '08d56b71530cccddb64e9eec40d8e4070a806a5a': 37, '595': 743, 'professor': 9961, 'referring': 10400, 'belittling': 2262, 'tallest': 12493, 'loom': 7895, 'wording': 13963, 'uploaded': 13351, 'tiktok': 12784, 'parody': 9373, 'boondocks': 2502, 'tea': 12547, 'links': 7806, 'fullbody': 5739, 'mtmynzk1b3duz2w0eg': 8592, '_t': 1145, '8ldjuy4nnu8': 1031, '_r': 1144, 'spend': 11898, 'declaring': 3926, 'riches': 10754, 'lmk': 7838, 'conceivable': 3360, 'firstborn': 5441, 'portgas': 9747, 'rouge': 10867, 'pregnant': 9859, 'lied': 7755, 'duration': 4553, 'raise': 10202, 'acted': 1300, 'protector': 10023, 'distance': 4314, 'flashbacks': 5477, 'spitting': 11924, 'absence': 1229, 'remains': 10505, 'giveaway': 5956, 'expert': 5097, 'facts': 5218, 'coincidences': 3219, 'timelines': 12791, 'pregnancy': 9858, 'glaring': 5969, 'additional': 1336, 'contribute': 3508, 'quarter': 10146, 'aaway': 1193, 'timeskips': 12797, 'poses': 9760, 'robots': 10823, 'mechs': 8240, 'boys': 2553, 'hunk': 6658, 'junk': 7342, 'wwill': 14048, 'operated': 9107, 'gigante': 5932, '1065': 86, 'ride': 10758, '1066': 87, 'pilot': 9597, 'piloting': 9599, 'irongiant': 7169, 'automode': 1957, 'heartbeats': 6393, 'insidee': 7018, 'hencee': 6447, 'tool': 12862, 'anywhere': 1669, 'balance': 2071, 'injure': 6995, 'sagas': 10980, 'fil': 5401, 'saul': 11054, 'helps': 6443, 'successfully': 12236, 'prediction': 9847, '8billion': 1015, 'jimbe': 7270, '5billion': 753, '594': 742, '583': 734, '566': 720, '300': 498, 'bulls': 2677, 'rumbar': 10905, 'flash': 5474, 'longed': 7882, '70': 854, 'transition': 12961, 'adventurous': 1379, 'sweet': 12398, 'balanced': 2072, 'wonderful': 13952, 'discover': 4251, 'pluton': 9686, 'suna': 12291, 'humor': 6650, 'ap': 1674, 'implied': 6836, 'aftermaths': 1419, 'dangers': 3832, 'rab4tj5ljavc1': 10174, '1200': 149, 'e2a8cd4474eb6e94a7f63ae73e43a94cf7047a6b': 4579, 'feed': 5334, 'hellhound': 6430, 'shampowrado': 11349, '1780975470789751273': 277, 'ilpinuhb0cymeewukjof_g': 6779, '19': 293, 'f9q38n81cavc1': 5196, '1619': 240, '2eff0a6632400c564812bae0b1442affae859ec2': 478, 'creat': 3653, 'devilfuit': 4146, 'carefully': 2840, 'reborn': 10313, 'seriphim': 11285, 'tot': 12891, 'musica': 8633, 'understanding': 13228, 'scans': 11085, 'hour': 6616, 'spoils': 11937, 'ya': 14082, 'assign': 1857, '79': 929, 'makin': 8047, 'adding': 1334, 'zeus': 14177, 'debatable': 3889, 'passed': 9396, 'descendants': 4064, 'surname': 12345, 'unofficial': 13303, 'undercover': 13213, 'suspicions': 12375, 'esque': 4951, 'someones': 11787, 'parents': 9371, 'ideals': 6723, 'trickle': 13032, 'moniker': 8502, 'strayed': 12128, 'restricted': 10662, 'believed': 2258, 'values': 13446, 'whith': 13842, 'cheesy': 3023, 'sungod': 12295, 'letter': 7726, 'sideways': 11517, 'elitist': 4741, 'reddits': 10372, 'warriors': 13707, 'pw': 10117, 'definite': 3966, 'mess': 8319, 'lonng': 7888, 'barroque': 2117, 'reacted': 10263, 'positevly': 9763, 'clarify': 3119, 'passive': 9404, 'voluntary': 13615, 'weve': 13796, 'passively': 9405, 'gfnumq_ksrk': 5915, 'iqi_9or4ssqhpdjq': 7165, 'eps': 4912, 'perceiving': 9476, 'assassin': 1840, 'sensible': 11251, 'replies': 10567, 'kratos': 7517, 'hilt': 6495, 'skofnung': 11615, 'runics': 10911, 'wrath': 14016, 'frost': 5707, 'blessings': 2403, 'rampage': 10215, 'furies': 5761, 'hyperion': 6686, 'grapple': 6104, 'fallen': 5242, 'shiny': 11415, 'metallic': 8332, 'edition': 4656, 'underrate': 13224, 'voted': 13622, 'gjpg1vpvs9vc1': 5962, '1170': 139, 'd85eb92f5fdcd5d12fda307a21f31ae6274003f7': 3804, '153k': 225, 'embarrassing': 4755, 'pk': 9631, '9ut04d91s9vc1': 1110, '03e673a910972c55165b49304c8a349c86eb2a24': 16, 'rumor': 10907, 'guessed': 6180, 'editors': 4657, 'akoiji': 1473, 'fujitowa': 5730, 'rematches': 10510, 'ragdoll': 10191, 'irrelevant': 7173, 'collect': 3234, 'shenron': 11387, 'walk': 13664, 'disbanded': 4244, 'teamed': 12553, 'kobe': 7501, 'vaccuum': 13430, 'distord': 4321, 'domain': 4396, 'expansion': 5079, 'wpuld': 14010, 'ranking': 10227, 'paycheck': 9430, 'demi': 4010, 'basicaly': 2130, 'interpol': 7102, 'steroids': 12065, 'office': 9008, 'midway': 8361, 'flexing': 5505, 'verse': 13503, 'sacrificing': 10965, 'tinfoil': 12801, 'reawaken': 10306, 'starfish': 12009, 'dreaming': 4480, 'freest': 5675, 'existance': 5064, 'scientific': 11121, 'genetic': 5884, 'controlled': 3514, 'grandline': 6094, 'belly': 2268, 'beppo': 2290, 'fat': 5286, 'smooth': 11715, 'happines': 6302, 'laughter': 7641, 'joybou': 7312, 'happiness': 6303, 'somthing': 11795, 'makse': 8049, 'havent': 6355, 'realy': 10292, 'translates': 12964, 'bug': 2660, 'hornet': 6593, 'iirc': 6762, 'placed': 9633, 'al': 1476, 'binged': 2341, 'asap': 1815, 'teared': 12558, 'enjoyer': 4852, 'blind': 2406, 'sucuk': 12246, 'connectted': 3422, 'leafs': 7666, 'merge': 8305, 'metals': 8334, 'assimilitable': 1861, 'proportional': 10004, 'intellence': 7062, 'entering': 4881, 'absorb': 1233, 'transfoorm': 12954, 'excented': 5024, 'sabi': 10949, 'rust': 10920, 'immideaitly': 6806, 'effectivelly': 4678, 'jiki': 7269, 'repel': 10554, 'thta': 12761, 'yosaku': 14134, 'johnny': 7286, 'terrifying': 12628, 'boomers': 2499, 'eclipsed': 4637, 'dealing': 3882, 'arrogance': 1795, 'album': 1486, 'soundtrack': 11821, 'ops': 9129, 'eds': 4660, 'folder': 5549, 'mp3s': 8584, 'kurage20001': 7538, '1780177520824094847': 276, 'becuz': 2216, 'ultraman': 13162, 'speculation': 11884, 'unfolds': 13255, 'cease': 2907, 'hostile': 6607, 'rejected': 10461, 'conviction': 3531, 'misplaced': 8424, 'distributed': 4329, 'civilians': 3104, 'throught': 12752, 'defective': 3949, 'apperance': 1707, 'obssesion': 8961, 'clown': 3180, 'offisve': 9013, 'disposal': 4296, 'cannonballs': 2790, 'explosions': 5119, 'refer': 10392, 'devasting': 4133, 'devasating': 4129, 'explosations': 5117, 'ammonition': 1579, 'fascinating': 5280, 'goods': 6036, 'excitement': 5035, 'significantly': 11530, 'auctions': 1934, 'failed': 5224, 'circus': 3095, 'entertaiment': 4883, 'succeed': 12232, 'enourmous': 4867, 'output': 9209, 'distrbibuted': 4326, 'intensity': 7069, 'directed': 4213, 'traversing': 13003, 'refering': 10398, 'lights': 7772, 'iceland': 6713, 'foregone': 5579, 'candidate': 2785, 'honesty': 6572, 'mere': 8301, 'sexy': 11319, 'genius': 5890, 'horrors': 6600, 'hatch': 6338, 'cringey': 3685, 'unrealistic': 13315, 'distracted': 4324, 'charm': 3003, 'flaws': 5487, 'prevalent': 9896, 'snowball': 11744, 'article': 1804, 'zoros': 14199, 'bcos': 2174, 'bothe': 2527, 'thei': 12663, 'gender': 5869, 'ivankov': 7206, 'receive': 10320, 'subtly': 12230, 'typing': 13129, 'demeaning': 4008, 'vow': 13625, 'loguetown': 7870, 'looses': 7901, 'decides': 3910, 'struggles': 12173, 'swoop': 12418, 'sexist': 11315, 'swordswoman': 12427, 'disproven': 4301, 'swordswomen': 12428, 'lookalike': 7890, 'mirror': 8407, 'challenge': 2958, 'yea': 14100, 'remain': 10501, 'worldview': 13977, 'cares': 2842, 'contradicting': 3501, 'skypea': 11620, 'deciding': 3911, 'wound': 14003, 'theorise': 12684, 'feminist': 5352, 'caesar': 2757, 'smiley': 11703, 'apples': 1710, 'cart': 2856, 'perpetual': 9507, 'reverts': 10721, 'haults': 6348, 'sketchbook': 11600, 'comparing': 3313, 'arguably': 1759, 'blunt': 2449, 'unimpressive': 13268, 'powerset': 9815, 'hito': 6524, 'stretchy': 12144, 'lackluster': 7583, 'argued': 1761, 'neat': 8729, '509': 684, 'sabondy': 10953, 'observations': 8954, 'reduced': 10387, 'dissapear': 4310, 'affected': 1401, 'toshi': 12885, 'shrinked': 11487, 'shrink': 11486, 'disintegrated': 4277, 'trasitioning': 12989, 'dissapearing': 4311, 'tosummarize': 12890, 'abiliy': 1209, 'cleverly': 3145, 'valuables': 13443, 'function': 5748, '180': 280, 'saturday': 11048, 'presence': 9874, 'sibling': 11508, 'rooted': 10854, '50s': 685, 'sci': 11118, 'fi': 5373, 'canticle': 2800, 'leibowitz': 7706, 'en': 4793, 'wikipedia': 13871, 'org': 9146, 'a_canticle_for_leibowitz': 1189, 'walter': 13671, 'miller': 8375, 'jr': 7322, 'walter_m': 13672, '_miller_jr': 1138, 'monks': 8507, 'remnants': 10528, 'deluge': 3998, 'ark': 1772, 'approaches': 1726, 'pbj8emwx45vc1': 9436, '770': 914, '27b0c5fe22df2ab6fe2148346ecc479aa63f8642': 454, 'nuclear': 8902, 'simplification': 11557, 'simpletons': 11556, 'luddites': 7950, 'burned': 2693, 'masse': 8169, 'isaac': 7177, 'monastery': 8496, 'hides': 6475, 'memorizes': 8278, 'wife': 13865, 'martyred': 8155, 'beatified': 2201, 'albertian': 1485, 'safeguard': 10972, 'texts': 12643, 'relics': 10488, 'dr': 4452, 'secular': 11194, 'scholar': 11113, 'thon': 12721, 'taddeo': 12471, 'pfardentrott': 9538, 'discoveries': 4253, 'permission': 9501, 'church': 3076, 'rubbings': 10890, 'illumination': 6773, 'illuminated_manuscript': 6772, 'blueprint': 2446, 'relic': 10487, 'notably': 8871, 'illuminated': 6771, 'manuscript': 8103, 'mistaken': 8436, 'priceless': 9907, 'worthless': 13995, 'tribe': 13025, 'buccaneers': 2646, 'subjugated': 12207, 'translate': 12962, 'grasshopper': 6107, 'nomads': 8847, 'settled': 11305, 'danfer': 3828, 'denver': 4032, 'monsignors': 8511, 'rome': 10844, 'court': 3615, '8ullx99514vc1': 1035, '850': 982, 'aef5796f6dd6c80ce22e2b837b4f21a94f63aa6b': 1387, 'wild': 13872, 'saint_leibowitz_and_the_wild_horse_woman': 10991, 'nomad': 8846, 'blacktooth': 2380, 'nimmy': 8824, 'renounces': 10545, 'monastic': 8497, 'vows': 13626, 'cardinal': 2833, 'elia': 4735, 'brownpony': 2625, 'fabled': 5202, 'hordes': 6588, 'papal': 9348, 'topple': 12870, 'pope': 9735, 'ascends': 1818, 'amen': 1572, 'mastermind': 8177, 'telegraphs': 12581, 'shines': 11408, 'groomed': 6147, 'orochi': 9170, 'hag': 6238, 'trebol': 13015, 'goddess': 6002, 'avatars': 1963, 'buzzard': 2714, 'maiden': 8031, 'draws': 4475, 'ridicule': 10762, 'c6w6wlnq26vc1': 2745, '346db20f3613c6bfa52d6a39c20267a6051d7ea6': 530, 'limb': 7791, 'slashed': 11639, 'extinguished': 5147, 'jcnb1c2816vc1': 7249, '602': 781, '0e06735397ef815d401aad5e31376f46164ce653': 50, 'capsules': 2819, 'rd4arq7yv5vc1': 10255, '0082291fb3f5f8a7f74f1f3c307b6af53b809ff9': 5, 'itu': 7202, 'wan': 13673, 'pisu': 9621, 'imagery': 6783, 'illustration': 6777, 'larger': 7619, 'ahhtpiibu5vc1': 1447, '2400': 425, '7b8e3ecfb396bac2feeec26e8a75e9eeb0fd657c': 937, 'texarkana': 12641, 'atlantic': 1894, 'confederacy': 3393, 'nuked': 8906, 'abbey': 1202, 'preserve': 9877, 'fallout': 5244, 'shelter': 11384, 'shopping': 11451, 'wanderer': 13674, 'inscribes': 7012, 'hebrew': 6408, 'inscribing': 7013, '9aetzcfzh6vc1': 1084, '7dc879500a46dd489d93f1b4c633a3a8f7fde142': 945, 'ciborium': 3081, 'ciborium_': 3082, 'container': 3475, 'consecrated': 3435, 'hosts': 6609, 'sacramental_bread': 10959, 'dfs': 4156, 'abbot': 1203, 'foolishly': 5565, 'wreckage': 14018, 'buried': 2691, 'rubble': 10891, 'sacred': 10960, 'supermarkets': 12309, 'mutant': 8643, 'importance': 6840, 'mrs': 8587, 'grales': 6089, 'rachel': 10179, 'jethras': 7258, 'zerchi': 14175, 'suggestive': 12265, 'receiving': 10323, 'eucharist': 4967, 'virgin': 13568, 'famously': 5255, 'mantle': 8098, 'nz438wz956vc1': 8930, 'acb7195a9bc551cbe59638c2ab03f07caea1c877': 1250, 'colorado': 3248, 'shaftesbury': 11332, 'england': 4836, 'corrupted': 3576, 'faded': 5221, 'plaque': 9650, 'gold_hill': 6022, '2c_shaftesbury': 470, 'shaftesbury_abbey': 11333, 'pilgrimage': 9595, 'miracles': 8405, 'townsfolk': 12914, 'liebowitz': 7754, 'house': 6618, 'museum': 8628, 'cottage': 3588, 'm5sda90t07vc1': 7989, '2000': 374, 'aa002cddb0bac1a35225a1a7b37eff21532df7b5': 1190, 'ps95x4wf07vc1': 10044, '640': 802, 'adfd933e8ceb4b489ac527a6c0d190adaa6165db': 1343, 'reads': 10276, 'oqxfappp17vc1': 9135, '1024': 73, 'fcd387237cdb03b53bc7529ecccb5765c1ba5d97': 5311, 'thomas': 12720, 'hardy': 6319, 'vague': 13432, 'imaginings': 6790, 'mints': 8400, 'magnificent': 8027, 'apsidal': 1732, 'chief': 3035, 'wessex': 13792, 'twelve': 13113, 'churches': 3077, 'shrines': 11485, 'chantries': 2975, 'hospitals': 6604, 'gabled': 5787, 'freestone': 5676, 'mansions': 8096, 'ruthlessly': 10922, 'visitor': 13586, 'pensive': 9467, 'melancholy': 8264, 'stimulating': 12074, 'atmosphere': 1901, 'limitless': 7796, 'landscape': 7605, 'scarcely': 11088, 'dispel': 4292, 'doomed': 4416, 'contingency': 3488, 'starships': 12012, 'latin': 7633, 'phrase': 9565, 'extrasolar': 5156, 'colonies': 3245, 'carries': 2851, 'safely': 10974, 'clergy': 3143, 'attempt': 1915, 'interstellar': 7111, 'imperialism': 6827, 'escaping': 4943, 'maxim': 8207, '0eewm48uh6vc1': 53, '53e984a4e10bdcf4e4c11d455da5806526aa4fa9': 698, 'nouns': 8887, 'advocate': 1385, 'mutants': 8644, 'gray': 6115, 'terminal': 12621, 'frequent': 5683, 'refers': 10401, 'psalm': 10045, 'hymn': 6679, 'critics': 3695, 'cyclic': 3782, 'cyclic_history': 3783, 'recurrence': 10364, 'epitomized': 4911, 'seed': 11200, 'states': 12026, 'spanning': 11846, 'rose': 10863, 'secrest': 11185, 'connects': 3421, 'quoting': 10167, 'bind': 2338, 'societies': 11753, 'phases': 9543, 'integrate': 7057, 'environment': 4898, 'integration': 7058, 'explosive': 5120, 'culture': 3743, 'conquest': 3430, 'withering': 13920, 'rebellious': 10311, 'cultures': 3744, 'literary': 7824, 'critic': 3688, 'ducharme': 4525, 'fittingly': 5456, 'acknowledging': 1293, 'serialization': 11279, 'samuelson': 11010, 'writes': 14026, 'novel': 8889, 'universally': 13277, 'masterpiece': 8179, 'emerge': 4768, 'magazine': 8008, 'sf': 11321, 'serialized': 11280, 'inspirational': 7028, 'transpose': 12982, 'macintyre': 8000, 'virtue': 13572, 'after_virtue': 1415, 'plato': 9655, 'socrates': 11757, 'aristotle': 1769, 'teleology': 12584, 'teleo': 12583, 'mesmerism': 8318, 'vitalism': 13594, 'magnetism': 8020, 'animal_magnetism': 1613, 'telegraph': 12580, 'pasilalinic': 9393, 'sympathetic_compass': 12443, 'quantum': 10145, 'entangled': 4878, 'escargot': 4944, 'wmxril3um6vc1': 13936, 'ac9f8d062bf629e89b545765f832b338cd50ab32': 1248, 'extols': 5148, 'aristotelian': 1768, 'virtues': 13573, 'enlightenment': 4860, 'philosophers': 9549, 'supplanted': 12316, 'renaissance': 10537, 'incoherent': 6891, 'morality': 8527, 'historical': 6519, 'framework': 5643, 'affairs': 1398, 'kamehameha': 7385, 'ii': 6758, 'kamehameha_ii': 7386, 'mythic': 8666, 'liberatory': 7747, 'taboos': 12467, 'discusses': 4261, 'sacramental': 10958, 'populace': 9739, 'held': 6425, 'imho': 6797, 'moral': 8526, 'hugo': 6636, 'award': 1984, 'observed': 8956, 'legal': 7693, 'choosing': 3057, 'stealth': 12047, 'deliberately': 3992, 'invisibility': 7152, 'websites': 13767, 'animix': 1625, 'troll': 13049, 'purposes': 10102, '10k': 112, '100k': 68, 'fanboy': 5260, 'comparatively': 3309, 'dilusional': 4202, 'spiked': 11910, 'shields': 11394, 'injuring': 6998, 'proposes': 10009, 'composed': 3348, 'photons': 9559, 'packets': 9294, 'generate': 5873, 'intricate': 7122, 'formation': 5604, 'platinum': 9654, 'weed': 13772, 'vibrate': 13523, 'added': 1330, 'vibrations': 13524, 'frequencies': 5681, 'doflamingos': 4379, 'strings': 12153, 'cosplayer': 3583, 'hantzie': 6291, 'foward': 5633, 'surpass': 12346, '0pxwgibkl6vc1': 58, '1339': 174, 'b131d907f9f27428713a6ca4405e9c9032cac3bb': 2006, 'shippers': 11417, 'ussopxkaya': 13396, 'sanjixpudding': 11023, 'rooting': 10855, 'luffyxnami': 7954, 'vans': 13454, 'homage': 6559, 'unfortunetely': 13260, 'dropshipped': 4506, 'sites': 11582, 'charts': 3006, 'lunch': 7964, 'apparel': 1692, 'direscyion': 4220, 'viper': 13567, 'kappa': 7392, '886': 1001, 'levely': 7731, 'stelly': 12055, 'instructed': 7050, 'priest': 9910, 'divide': 4346, 'selected': 11225, 'founders': 5629, 'nerona': 8772, 'section': 11191, 'cq175qugg6vc1': 3631, 'e82f7d1591e265f55ae37d838d897f05f2c99a06': 4593, 'm0drgeejg6vc1': 7983, '09f72ce207472ec0b4fbcea93ed90fcffb5f68f9': 40, 'reupload': 10700, 'sincerity': 11565, 'friendships': 5695, 'influenced': 6957, 'viewed': 13538, 'views': 13542, 'jqml7zoizrc': 7320, 'x26m0': 14058, 'yhrjhylgus': 14117, 'cinematography': 3087, 'visual': 13589, 'framing': 5644, 'enhanced': 4842, 'lighting': 7769, 'expanded': 5076, 'scope': 11129, 'visually': 13591, 'efforts': 4689, 'authentic': 1944, 'unoriginal': 13304, 'adapt': 1324, 'yc2': 14097, 'alr': 1536, 'script': 11152, 'star': 12004, 'sweetie': 12399, 'enma': 4861, 'lend': 7710, 'against': 1422, 'hb': 6366, 'beatin': 2202, 'diffed': 4186, 'gettin': 5912, 'shii': 11399, 'doji': 4388, 'laser': 7622, 'wing': 13891, 'snuck': 11745, 'sayin': 11069, 'til': 12786, 'fa': 5197, 'chaoticallypeaceful': 2980, 'carrd': 2849, 'dnot': 4359, 'royals': 10877, 'bellemere': 2266, 'boiling': 2472, 'oil': 9032, 'scabbards': 11075, 'cornered': 3559, 'flew': 5500, 'apologized': 1684, 'cutlass': 3770, 'fulfill': 5734, 'bravery': 2573, 'chefs': 3025, 'rib': 10751, 'mcrib': 8215, 'harsh': 6329, 'slavery': 11646, 'instinctively': 7048, 'stabbing': 11967, 'pointy': 9700, 'selection': 11226, 'spawn': 11856, 'clans': 3117, 'ponegliphs': 9720, 'fullest': 5742, 'moses': 8545, 'breathes': 2587, 'pissing': 9618, 'curtail': 3763, 'wildcard': 13873, 'analyze': 1595, 'oven': 9222, 'amusing': 1590, 'og': 9021, 'anticlimactic': 1653, 'hating': 6343, 'everythin': 4990, 'choke': 3053, 'hatori': 6344, 'bend_bass': 2281, 'band': 2086, 'combines': 3267, 'nicely': 8801, 'revan': 10704, 'bc': 2170, 'funeral': 5753, 'ppls': 9819, 'kyu': 7558, 'wordplay': 13964, '59': 740, 'odacchi': 8985, 'yomi': 14127, 'nikyu': 8823, 'bartholomew': 2119, 'shankus': 11358, 'whaaaaat': 13801, 'gosh': 6062, 'commenttttttt': 3291, 'joining': 7289, '4nixpftik5vc1': 669, '562': 715, '5a4c0f7b0281d83e199c124dec56a7616c1d3bbf': 748, 'zero': 14176, 'numbered': 8912, '9th': 1109, 'explicitly': 5109, 'teaser': 12563, 'damages': 3820, 'reappear': 10295, 'sepharim': 11270, 'afterall': 1416, 'desires': 4087, 'sail': 10986, 'rushed': 10916, 'expanding': 5077, 'staredowns': 12007, 'achieved': 1286, 'onwards': 9086, 'bbmpnzeehsg': 2168, 'lantern': 7613, 'messiest': 8325, 'sxrurgwuoom': 12432, 'convey': 3529, 'goodbye': 6032, '_grrdzx': 1132, '_p8u': 1142, '_grrdzx_p8u': 1133, 'flawless': 5486, 'heck': 6409, 'messy': 8327, 'reallly': 10289, 'plotline': 9676, '691': 825, '4ish': 663, 'trope': 13053, 'fancied': 5263, 'overlooked': 9238, 'explanations': 5107, 'summoning': 12288, 'embracing': 4765, 'kuroobi': 7542, 'extended': 5136, 'translucent': 12969, 'substances': 12227, 'em': 4747, 'ban': 2084, 'appeal': 1696, 'allll': 1515, 'mod': 8461, 'abused': 1242, 'closet': 3173, 'tossed': 12887, 'items': 7196, 'hook': 6578, 'turnout': 13103, 'studied': 12179, 'basics': 2132, 'physics': 9572, 'engineer': 4834, 'dimensional': 4205, 'beyond': 2312, 'mario': 8136, '1d': 349, 'represent': 10573, 'theorys': 12690, 'happenned': 6300, 'fifth': 5385, 'mathematically': 8196, 'orthogonal': 9173, 'informations': 6965, 'located': 7850, 'scriptures': 11153, 'representation': 10574, 'elaborated': 4713, 'ramifications': 10214, 'proceeding': 9944, 'caution': 2892, 'unsolved': 13325, 'warned': 13700, 'scroll': 11154, 'organize': 9153, 'providing': 10036, 'demonstrating': 4023, 'ponyglyps': 9730, 'obfuscated': 8941, 'musical': 8634, 'notes': 8874, 'embedded': 4756, 'portion': 9748, 'instruments': 7053, 'referenced': 10395, 'canan': 2778, 'drums': 4515, 'dance': 3825, 'repeated': 10550, 'significance': 11528, 'apoo': 1688, 'eerily': 4670, 'coincidence': 3218, 'feasts': 5326, 'parties': 9385, 'proximity': 10041, 'upstart': 13363, 'masses': 8170, 'disposed': 4298, 'apparent': 1693, 'suffered': 12251, 'inability': 6862, 'swimming': 12405, 'resolved': 10625, 'initials': 6990, 'loss': 7912, 'feast': 5325, 'floatation': 5516, 'creating': 3658, 'fulfills': 5737, 'deepest': 3939, 'wreck': 14017, 'havack': 6351, '900': 1040, 'embody': 4762, 'requires': 10593, 'purest': 10094, 'performer': 9488, 'songs': 11798, 'fulfilled': 5735, 'talent': 12485, 'cancellation': 2780, 'rubberized': 10887, 'reply': 10568, 'homie': 6566, 'mobile': 8456, 'sitiuation': 11583, 'reoccuring': 10547, 'misunderstandings': 8442, 'platform': 9653, 'someome': 11785, 'misconception': 8412, 'austria': 1942, 'populated': 9741, 'darker': 3841, 'curly': 3754, 'afro': 1413, 'hairstyle': 6251, 'emphasis': 4785, '1st': 366, 'austrian': 1943, 'population': 9742, 'solely': 11769, 'muscian': 8624, 'musicians': 8636, 'mozart': 8583, 'repeat': 10549, 'respectable': 10635, 'swordplay': 12420, 'russia': 10919, 'spies': 11909, 'canada': 2777, 'drinks': 4494, 'alot': 1534, 'cola': 3226, 'personalised': 9516, 'boxes': 2549, 'burger': 2688, 'wears': 13759, 'haiwaan': 6253, 'shirts': 11425, 'indian': 6918, 'whale': 13802, 'aligns': 1500, 'nigeria': 8809, 'native': 8712, 'nigerian': 8810, 'convinced': 3533, 'colouring': 3255, 'slighty': 11665, 'sterotypical': 12066, 'darkskinned': 3844, 'groundbreaking': 6150, 'lightskinned': 7773, 'recognized': 10334, 'seal': 11164, 'yohohohoho': 14125, 'roblox': 10820, 'blox': 2438, 'antichirst': 1650, 'warning': 13701, 'goated': 5993, 'kitsune': 7471, 'rex': 10746, 'responded': 10642, 'crackheads': 3637, 'disease': 4266, 'extends': 5137, 'expectancy': 5081, 'diseases': 4267, 'resistant': 10621, 'immunity': 6816, 'virus': 13574, 'contagious': 3472, 'grey': 6134, 'viruses': 13575, 'diver': 4339, 'blanc': 2389, 'fever': 5366, 'germ': 5904, 'sickness': 11512, 'affecting': 1402, 'countering': 3599, 'shakky': 11340, 'lover': 7925, 'gloriosa': 5980, 'cured': 3750, 'empresses': 4789, 'empress': 4788, 'lovers': 7926, 'symptoms': 12446, 'exempt': 5051, 'contracted': 3497, 'respectful': 10637, 'amber': 1564, 'syndrome': 12452, 'unknowingly': 13281, 'curing': 3751, '764': 910, '765': 911, 'carried': 2850, 'corazons': 3556, 'fatigued': 5293, 'factual': 5219, 'naturally': 8715, 'sapphire': 11028, 'banished': 2093, 'willed': 13878, 'vitality': 13595, 'bmh6jfyd34vc1': 2454, '576': 727, 'f7c715bc0679a6c43dccc1d5cc7ca5df62f269be': 5192, 'illusion': 6774, 'opertation': 9111, 'rutozhc344vc1': 10923, '592': 741, 'cc4e26a930544fcf598a85bcfeaab0ccb508bdb0': 2898, 'provided': 10034, 'ensure': 4875, 'bitter': 2367, 'increasing': 6903, 'wloov70h44vc1': 13935, '1850d3c498e34778e576bfdffab31eb4c1af7322': 284, 'healthy': 6385, 'lvp14o0v44vc1': 7976, '586': 736, 'a0e8b1a2f5bd003e362fe9b81a111b675e000480': 1157, 'disappear': 4231, 'feminization': 5353, 'shiku': 11401, 'cancelled': 2781, 'antibodies': 1649, 'incurable': 6908, 'eliminated': 4737, 'suffers': 12253, 'resist': 10619, 'staying': 12040, 'madly': 8004, 'resistance': 10620, 'cancel': 2779, 'indefinetly': 6911, 'strengths': 12138, 'correlate': 3569, 'lupin': 7967, 'fujiko': 5728, 'detected': 4119, 'marking': 8143, 'jigen': 7266, 'marksman': 8145, 'intel': 7060, 'goemon': 6011, 'approached': 1725, '2016': 384, 'dubbed': 4523, 'waited': 13654, '2018': 385, 'fisher': 5445, 'publication': 10056, 'trident': 13035, 'pleasant': 9666, 'flowing': 5525, '2021': 390, 'wyper': 14050, 'shandorians': 11353, 'venus': 13495, 'ran': 10218, 'perimeter': 9494, 'kobra': 7502, 'nusujuro': 8922, 'crystal': 3731, 'hailmontè': 6247, 'gemstone': 5867, 'pearly': 9446, 'pristine': 9929, 'energetic': 4823, 'outgoing': 9200, 'fascination': 5281, 'transforming': 12959, 'prismatic': 9926, 'pleases': 9668, 'unleashes': 13286, 'infection': 6941, 'whomever': 13851, 'statue': 12033, 'tougher': 12902, 'hardens': 6312, 'lungs': 7966, 'chains': 2955, 'spikes': 11911, 'creates': 3657, 'tidal': 12771, 'waves': 13734, 'atm': 1900, 'stages': 11976, 'chew': 3031, 'swallow': 12385, 'eater': 4632, 'salamander': 10997, 'slime': 11666, 'allocated': 1516, 'vacinity': 13431, 'reckon': 10327, 'chooses': 3056, 'nearest': 8726, 'experiment': 5092, 'ensured': 4876, 'preference': 9853, 'tarp': 12521, 'copied': 3545, 'spirits': 11919, 'suck': 12243, 'reincarnate': 10450, 'choices': 3052, 'balckbeard': 2074, 'respawned': 10632, 'caramel': 2830, 'transfered': 12951, 'probs': 9941, 'mysterey': 8656, 'swallowed': 12386, '865': 989, 'opion': 9114, 'wanji': 13675, 'wizaru': 13931, 'mouse': 8570, 'ph': 9540, 'giannimage': 5920, 'salomè': 11000, 'kindly': 7447, 'lent': 7715, 'jhin': 7263, 'tonic': 12855, 'akazaya': 1470, 'recovered': 10352, 'af': 1392, 'ambiguity': 1565, 'hvwvxfv': 6675, 'painfully': 9302, 'se': 11160, 'animators': 1621, 'condense': 3387, 'bearable': 2188, 'revolving': 10738, 'padding': 9296, 'launching': 7647, 'bashing': 2127, 'guides': 6187, 'satori': 11045, 'ngl': 8797, 'unaffected': 13176, 'clickbait': 3147, '45hrs': 619, '267': 447, 'sooner': 11800, 'daimyo': 3817, 'administration': 1349, 'region': 10433, 'spouse': 11945, 'explore': 5115, 'settling': 11307, 'tradegy': 12930, 'dubs': 4524, 'microsoft': 8353, 'store': 12099, 'investment': 7149, 'charlotte': 3002, 'snack': 11725, 'demoted': 4024, 'relevance': 10483, 'cash': 2868, '3billions': 570, 'akuma': 1474, '_gg8bsxdses': 1131, '1457s': 203, 'pummel': 10070, 'tensions': 12615, 'unsaveable': 13320, 'unloaded': 13291, 'adventuring': 1378, 'matured': 8203, 'unlikeable': 13289, 'huuuge': 6673, '5yb0euq233vc1': 778, '655': 805, '535586c686a3d385b945d1171340d5dc93cbc240': 695, 'pinned': 9606, 'yearly': 14103, 'managing': 8063, 'wondered': 13951, 'gate': 5840, 'nordic': 8859, 'gates': 5844, 'wilde': 13874, 'preparation': 9865, 'chibi': 3033, 'inflation': 6953, 'adorable': 1362, 'shrunken': 11491, 'flow': 5522, 'nullify': 8909, 'reattach': 10305, 'slice': 11658, 'scabbard': 11074, 'bonny': 2491, 'laws': 7650, 'effecting': 4676, 'prevail': 9894, 'construction': 3461, 'heritage': 6458, 'essay': 4952, 'drained': 4462, 'tcg': 12540, 'arguable': 1758, 'relying': 10500, 'success': 12234, 'pound': 9800, 'frustrates': 5713, 'clearing': 3139, 'chwan': 3079, 'cuts': 3771, 'obliterates': 8950, 'recreated': 10356, 'jimbei': 7271, 'sovereignty': 11828, 'browsing': 2626, 'asexual': 1819, 'interessed': 7087, 'matters': 8201, 'hazmid': 6365, 'retarded': 10675, 'autistic': 1951, 'iv': 7204, '4v4': 673, 'hina': 6500, 'dillinger': 4201, 'marguerite': 8121, 'jabra': 7218, 'zeo': 14174, 'tamago': 12496, 'c53a5msj396': 2740, 'mw9mawk1djuyzm9oba': 8653, 'grid': 6135, 'nicest': 8803, 'genocides': 5891, 'minus': 8401, 'nicer': 8802, 'marie': 8124, 'jois': 7292, 'il': 6765, 'enabled': 4795, 'underwater': 13232, 'apon': 1687, 'devilfruits': 4145, 'grail': 6087, 'skipia': 11612, 'nola': 8844, 'serpent': 11288, 'z42ucie1m1vc1': 14164, '969': 1067, '04074b4a087595c203a40bb347218dd501aa7c8d': 19, 'seams': 11166, 'semi': 11236, 'sorts': 11812, 'mytical': 8672, '14751dmkm1vc1': 206, '1392': 183, '3873f61a861b9cd7adf3bf03ea2467504a898c7a': 558, 'similaritys': 11546, 'underbelly': 13212, 'shes': 11390, 'shrine': 11484, 'regarded': 10421, 'intergeral': 7095, 'apease': 1676, 'humanoid': 6644, 'infact': 6938, 'sacrifices': 10964, 'verth': 13507, 'soil': 11763, 'wvvxrgjon1vc1': 14045, '6090dfb5633a2a4ff5efc8410605a6efd1fa0023': 784, 'capability': 2805, 'obtained': 8965, 'sliced': 11659, 'marathon': 8115, 'concider': 3375, 'medal': 8241, 'chocolate': 3050, 'leftovers': 7690, 'teastes': 12564, 'inedible': 6933, 'pat': 9411, 'shoulder': 11462, 'giggle': 5938, 'lough': 7919, 'suppoerted': 12319, 'delusional': 4000, 'terror': 12631, 'bringind': 2602, 'introducing': 7129, 'answering': 1642, 'behave': 2240, 'cngxtxpze1vc1': 3194, 'a6a465faf573289e69ed751144022f71cccde26a': 1175, 'priate': 9905, 'statement': 12024, 'exit': 5070, 'shut': 11500, 'draftsman': 4454, 'fnq7kyo761vc1': 5536, 'd2be58915d0e2ee1ff6ee18c5e91be171eec7e91': 3794, 'ganfal': 5818, 'detect': 4118, 'confusing': 3410, 'c5ifn6wlram': 2742, 'ena5endncgdicnox': 4794, 'becauce': 2209, 'coincident': 3220, 'everywhere': 4994, 'recommendation': 10339, 'rebellion': 10310, '159': 232, 'jamal': 7231, 'shocker': 11439, 'bizarre': 2368, 'hooter': 6581, 'beach': 2182, 'stormy': 12105, 'protection': 10022, 'unexpectedly': 13250, 'betting': 2309, 'impulsive': 6856, 'erratic': 4931, 'recovering': 10353, 'shared': 11368, 'sets': 11301, 'kofi': 7504, 'shop': 11450, 'bio': 2345, 'ova': 9220, 'colors': 3251, 'magenta': 8011, 'glass': 5970, 'prodigy': 9951, 'bypass': 2719, 'cancelling': 2782, 'yami': 14091, 'yah': 14084, 'theorized': 12686, 'fly': 5531, 'reintroduction': 10458, 'baddy': 2057, 'pointing': 9698, 'breather': 2586, '997': 1081, 'files': 5403, 'torrents': 12880, 'garfield': 5828, 'upto': 13364, 'memes': 8274, 'spectrum': 11879, 'disbelief': 4245, 'literacy': 7821, 'commentary': 3288, 'conservative': 3440, 'conservatives': 3441, 'supremacists': 12335, 'lgbtq': 7739, 'liberals': 7741, '45': 614, 'outlook': 9205, 'iii': 6759, 'bigoted': 2333, 'faithfully': 5235, 'maliciously': 8054, 'slandered': 11634, 'sabotaged': 10954, 'sir': 11573, 'resources': 10630, 'imperfect': 6825, 'functional': 5749, 'economy': 4638, 'seize': 11222, 'promising': 9988, 'subordinates': 12215, 'utopia': 13415, 'legitimate': 7701, 'privileged': 9932, '1500': 216, 'starbucks': 12005, 'everyday': 4987, 'hody': 6539, 'jones': 7301, 'otohime': 9181, 'suffering': 12252, 'sow': 11830, 'seeds': 11201, 'hatred': 6345, 'ruined': 10896, 'minds': 8385, 'equality': 4914, 'alike': 1501, 'wet': 13795, 'authoritarianism': 1946, 'response': 10645, 'mao': 8106, 'zedong': 14171, 'maoist': 8107, 'universal': 13276, 'allegory': 1508, 'resonates': 10627, 'schools': 11116, '05': 22, 'chore': 3062, 'remained': 10503, 'combatants': 3262, 'secretive': 11187, 'streams': 12133, 'patreon': 9418, 'description': 4076, 'unsecured': 13321, 'visiting': 13585, 'speaking': 11861, 'amd': 1571, 'remenbered': 10516, '3rd': 585, 'primarily': 9913, 'bar': 2097, 'reacts': 10269, 'strechy': 12134, 'bulgingneyeballs': 2672, 'bitten': 2366, 'frenzy': 5680, 'programs': 9968, 'paraphrased': 9368, 'acquired': 1296, '040': 18, 'upbringing': 13340, 'aboard': 1216, 'appearances': 1700, 'clues': 3187, 'figarland': 5386, 'hunts': 6665, 'underline': 13221, 'kiz': 7474, 'coy': 3625, 'messing': 8326, 'possesion': 9773, 'host': 6605, 'effing': 4686, 'conditions': 3390, 'attaining': 1914, 'prizes': 9933, 'busted': 2702, 'decently': 3906, 'belonging': 2272, 'manhunted': 8074, 'starving': 12020, 'suppress': 12329, 'yyou': 14160, 'ins': 7007, 'outs': 9214, 'cultivated': 3742, 'speculated': 11881, 'aspirations': 1838, 'hypnotic': 6689, 'suggestion': 12263, 'frantically': 5651, 'phrases': 9567, 'manchurian': 8064, 'misinformed': 8421, 'figarlands': 5387, 'reunite': 10698, 'countered': 3598, 'demonize': 4018, 'commit': 3293, 'atrocities': 1906, 'merit': 8309, 'accidentaly': 1260, 'suppressing': 12331, 'spelling': 11895, 'errors': 4934, 'homesick': 6564, 'caveman': 2895, 'lolz': 7877, 'program': 9965, 'unbeknownst': 13185, 'utters': 13419, 'distorted': 4322, 'warped': 13704, 'cronenberg': 3702, 'suppressed': 12330, 'typography': 13130, 'floating': 5517, 'okokok': 9041, 'unlock': 13292, 'test': 12635, 'mechanical': 8236, 'inventory': 7146, 'compensate': 3322, 'parted': 9376, 'compete': 3323, 'severe': 11311, 'disadvantage': 4225, '607': 783, 'clifford': 3152, 'chapin': 2982, 'ofc': 8999, 'no63hlecwyuc1': 8831, '569': 722, 'c3caa0c903f620c1b9f4ab5c84703afae3b4bae2': 2737, 'lmao': 7837, 'hunterxhunter': 6663, 'jjba': 7279, 'sealed': 11165, 'deny': 4033, 'june': 7339, 'addict': 1331, 'underlying': 13222, 'developments': 4138, 'dread': 4476, 'idol': 6737, 'decisions': 3919, 'piss': 9616, 'frankly': 5648, 'occasionally': 8972, 'tad': 12470, 'juvenile': 7354, 'incapable': 6875, 'amnesia': 1580, 'plots': 9678, 'tragedies': 12935, 'p0rn': 9281, 'irritating': 7175, 'inherited': 6982, 'pursue': 10103, 'spoken': 11939, 'inner': 7003, 'monologue': 8508, 'presented': 9876, 'approval': 1730, 'choice': 3051, 'recalling': 10317, 'huugeeeeeee': 6672, 'merchandise': 8296, 'budget': 2656, 'translator': 12968, 'gibberish': 5925, 'generator': 5880, 'eight': 4704, 'billionth': 2337, 'pandemic': 9328, 'funimation': 5755, 'asses': 1851, 'recruited': 10359, 'underway': 13233, 'preamble': 9834, 'groaning': 6145, 'ah': 1444, 'tossing': 12889, 'beverages': 2311, 'vegetable': 13486, 'juice': 7332, 'fluke': 5529, 'distinct': 4318, 'performances': 9486, 'schtick': 11117, 'depth': 4056, 'tom': 12847, 'exceeded': 5020, 'grieving': 6137, 'legacy': 7692, 'bearing': 2192, 'evolves': 5007, 'secondary': 11180, 'mature': 8202, 'sobriety': 11750, 'downplay': 4442, 'prideful': 9909, 'shout': 11467, 'habit': 6225, 'describing': 4074, 'gusto': 6204, 'fukuro': 5732, 'flat': 5480, 'vas': 13469, 'hamminess': 6267, 'unbelievable': 13186, 'shook': 11445, 'nail': 8683, 'camp': 2772, 'funniest': 5758, 'refrigerator': 10411, 'opens': 9104, 'exclaims': 5037, 'jam': 7229, 'packed': 9293, 'milquetoast': 8378, 'quirk': 10159, 'timey': 12798, 'dialect': 4164, 'antique': 1655, 'idioms': 6733, 'performance': 9485, 'laced': 7579, 'professional': 9960, 'decidedly': 3909, 'mechanics': 8237, 'garage': 5823, '1950s': 299, 'gaslight': 5838, 'believing': 2261, 'convincing': 3535, 'annoyed': 1635, 'inappropriate': 6869, 'delivery': 3997, 'cadence': 2756, 'recollection': 10335, 'maintained': 8036, 'greatly': 6120, 'adeptly': 1342, 'reeling': 10390, 'drifted': 4489, 'offical': 9007, '35': 531, 'dawned': 3859, 'mixture': 8446, 'market': 8141, 'produced': 9953, 'kinemons': 7452, 'frog': 5701, 'kermit': 7417, 'thrifting': 12743, 'altering': 1543, 'lexa': 7737, 'cos': 3579, 'kirbshots': 7464, 'iam': 6708, '1326': 172, 'disclaimer': 4248, 'raizo': 10207, 'interchangeable': 7084, 'drags': 4460, 'mink': 8396, 'mvp': 8650, 'locations': 7852, 'switching': 12417, 'payoffs': 9433, 'sloppily': 11672, 'downvoted': 4447, 'rewarding': 10742, 'collaboration': 3231, 'interactions': 7080, 'goats': 5995, 'coliseum': 3228, 'senor': 11244, 'riku': 10777, 'splitting': 11930, 'nod': 8839, 'frankie': 5647, 'waterproof': 13727, 'triple': 13044, 'polycrylic': 9716, 'abrasions': 1226, 'vibrant': 13522, 'artwork': 1813, 'custom': 3765, 'heartbroken': 6395, 'rip': 10784, 'unfolding': 13254, '1114': 130, 'spent': 11900, 'seeimingly': 11202, '1115': 131, 'ethan': 4965, 'implying': 6839, 'ther': 12691, 'kamabakka': 7384, 'reinforce': 10455, 'vega': 13478, 'activation': 1308, 'prox': 10040, 'bubbly': 2642, 'disappoints': 4239, '3m': 583, 'gurgles': 6201, 'guesses': 6181, '1c9lbr9': 346, 'wranky': 14012, 'pegasus': 9460, 'deities': 3987, 'eastern': 4628, 'mythos': 8670, 'pierre': 9591, 'zkwylworpmvc1': 14183, '1515': 220, 'b5a70dfa1751ac5d6b08f41794c0a68737317ab7': 2019, 'occupations': 8974, 'unclear': 13201, 'thoughtco': 12728, 'thmb': 12718, 'xlsw14xo82ffcmaqenrjmkka18u': 14069, '1500x0': 219, 'filters': 5411, 'no_upscale': 8832, 'max_bytes': 8206, '150000': 217, 'strip_icc': 12155, '51244649': 687, '56a58a9d5f9b58b7d0dd4cf0': 723, 'entirety': 4889, 'titans': 12812, 'olympian': 9050, 'primordial': 9915, 'gaia': 5794, 'vpkq80gtpmvc1': 13630, 'e64858a0a33fbac4b29800f7bd7282dda0c60bf5': 4587, 'atlas_': 1897, 'punishment': 10084, 'condemned': 3386, 'heavens': 6404, 'visualized': 13590, 'mountains': 8567, 'atlas_mountains': 1898, '7iompkxupmvc1': 948, '3016': 501, 'b498d92bd540edfd8facd4149c49a769a9a01c0f': 2015, 'evoke': 5001, 'heracles': 6450, 'hercules': 6454, 'cb': 2897, '88h': 1005, 'c9': 2749, '9br': 1086, '20foster': 407, '20son': 412, '20of': 411, '20amphitryon': 405, 'bound': 2541, 'abnormal': 1215, 'riki': 10775, '5sqijjaxpmvc1': 774, '1456': 202, 'af227bdfaef7e9aa423eb38e549d81a26572795b': 1394, 'commonly': 3297, 'dksks5mfaey94ycpsd5ynm9h0oi': 4352, 'alighieri': 1497, 'abyss': 1245, '1480': 208, '1490': 211, 'biblioteca': 2323, 'apostolica': 1691, 'vaticana': 13473, '486777773': 634, '5c3a03c246e0fb00016261f2': 755, 'hades': 6237, 'patron': 9419, 'dee3pk5aqmvc1': 3936, 'e5cbdc53a870dda59801a28e153c0b85e3001956': 4585, 'titular': 12817, 'helm': 6433, 'cap_of_invisibility': 2803, 'worn': 13983, 'suke_suke_no_mi': 12273, 'bibliotheca': 2324, 'uranian': 13371, 'cyclopes': 3785, 'helmet': 6435, 'kyneê': 7555, 'auger': 1937, 'herald': 6451, 'teleport': 12588, 'warp': 13703, 'wapu_wapu_no_mi': 13687, 'epithet': 4910, 'supersonic': 12313, 'mortal': 8540, 'teleporting': 12591, 'teleportation': 12589, 'romwhtadqmvc1': 10845, '907': 1042, '0c45d867d7ac5040ffff72f686eb9545bfa5d485': 45, 'artemis': 1802, 'archery': 1747, 'archer': 1745, 'archers': 1746, 'specializes': 11869, 'borrowed': 2518, 'personification': 9520, 'isle': 7183, 'shima_shima_no_mi': 11404, 'motif': 8555, 'personifies': 9522, 'fx1v52nfqmvc1': 5775, '20389a1ebac3ce4baf74a2109fa5cc0c75bd448f': 400, 'alluring': 1525, 'sirens': 11576, 'siren_': 11575, 'harpies': 6326, 'described': 4072, 'humanlike': 6643, 'hypnotize': 6691, 'sailors': 10989, 'jumping': 7337, 'matches': 8183, 'demonstrated': 4022, 'hypnotized': 6692, 'crash': 3646, 'odysseus': 8996, '1891': 289, 'painting': 9308, 'william': 13879, 'waterhouse': 13726, '7lbiwpwuuovc1': 949, '36b1c4c8abc9625935a6ccd7e82ee710cb08d366': 542, 'siren': 11574, 'homer': 6562, 'odyssey': 8997, 'varies': 13464, 'birds': 2352, 'xmgxpbcnqmvc1': 14070, '650': 804, 'b63c27415dc3b578f45e222e047ac1a3836f58d6': 2024, 'christianity': 3069, 'translated': 12963, 'owl': 9267, 'silent': 11534, 'infiltrating': 6946, 'marijoas': 8128, 'undetected': 13239, 'outlier': 9203, 'tailed': 12476, 'inu_inu_no_mi': 7134, '_model': 1139, '_kyubi_no_kitsune': 1137, 'pantheons': 9343, 'selene': 11228, 'mene': 8285, 'dyzny1zrqmvc1': 4571, '660': 810, 'bd2a3d1f5358c5b6f9ac297681c11c6ed9c0f1fe': 2177, 'pantheon': 9342, 'crescent': 3671, 'gigantes': 5933, 'vikings': 13547, 'gigantomachy': 5937, 'gigantomachia': 5936, 'giants_': 5924, 'greek_mythology': 6127, 'the_gigantomachy': 12659, '20gigantomachy': 408, '5b': 751, '20greek': 409, '20art': 406, 'supremacy': 12336, 'cosmos': 3581, '5rnl1yftqmvc1': 772, '554': 707, '9efc204bba12a69e12d2e21f109049e49fad4a76': 1099, 'intoxication': 7119, 'drinker': 4492, 'glug': 5987, 'gabu_gabu_no_mi': 5788, 'wine': 13890, 'dionysus': 4209, 'accurately': 1279, 'roman': 10841, 'bacchus': 2041, 'smite': 11708, 'znxe8oxuqmvc1': 14186, '1911': 294, '253612b365b93a4a0f2d1c8b2d1d7c57da49cd42': 438, 'horseman': 6602, 'apocalypse': 1678, 'evokes': 5002, 'shinigami': 11409, 'scythe': 11159, 'grim': 6138, 'reaper': 10294, 'thanatos': 12649, 'horsemen': 6603, 'ridding': 10757, 'pale': 9318, '1887': 287, 'vasnetsov': 13471, 'sowzellwqmvc1': 11832, '893': 1007, 'f551cd93c319cfb0c15b9bf58ccbbf47aafcd721': 5183, 'regards': 10424, 'shiku_shiku_no_mi': 11402, 'apollo': 1679, 'emulate': 4792, 'enigma': 4848, '6tirkh8yqmvc1': 852, '36ec2e719123d531139bee9d1409833d5b4d0a44': 543, 'poseidon': 9759, 'aforementioned': 1409, 'cerberus': 2937, 'uzbmor4zqmvc1': 13420, '2048': 402, '0001b8f5aa913b8e94a662501e2efbecdb41a17a': 2, 'depicts': 4051, 'vignette': 13545, 'wikia': 13870, 'nocookie': 8838, 'net': 8777, '5e': 760, 'beasts_pirates_portrait': 2197, 'revision': 10723, '20191108150831': 389, 'c7': 2747, 'big_mom_pirates_portrait': 2328, '20190805165646': 388, 'lipstick': 7811, '81': 962, 'red_hair_pirates': 10368, '27_jolly_roger': 453, '20231029033157': 395, 'b4': 2013, 'blackbeard_pirates': 2374, '20181123105002': 386, 'trinity': 13041, 'metaphorically': 8336, 'titanomachia': 12811, 'medusa': 8250, 'gorgon': 6049, 'dota': 4427, 'lu4tq6f1rmvc1': 7943, 'cd47247d4253dca32417668dcbb98977f214652f': 2902, 'constrictor': 3459, 'boa_constrictor': 2457, 'lust': 7973, 'referencing': 10397, '1107': 122, 'p1npr7q2rmvc1': 9282, '758': 906, '5a446a6c4b4d3f0b8ee88eb0639a365d986557ae': 747, 'extrapolate': 5155, 'sabre': 10955, 'ruling': 10904, 'mount': 8565, 'olympus': 9051, 'mortals': 8542, 'plfd5et3rmvc1': 9672, '1998': 308, '22da731dc15f33135f8b2730e8eec9f366ad838f': 418, 'trajectory': 12947, 'hundreds': 6653, 'lunarias': 7963, 'attempting': 1917, 'inc': 6874, '1bzeemv': 331, 'kypegj9': 7556, 'web3x': 13763, 'utm_name': 13411, 'web3xcss': 13764, 'utm_term': 13413, 'utm_content': 13409, 'share_button': 11367, 'tr0gwux4rmvc1': 12922, 'a149f6958fba6a0b6c249cf8e78c33e31ec66042': 1160, 'atop': 1904, 'rulers': 10902, 'bi': 2318, 'insist': 7023, 'virtual': 13570, 'ours': 9187, 'coolest': 3541, 'criticize': 3693, 'redrew': 10385, 'silhouette': 11535, 'lili': 7786, 'crown': 3712, 'smth': 11722, 'belamy': 2252, 'yorks': 14132, 'redeem': 10374, 'suss': 12377, 'sfx': 11322, 'goh': 6015, 'bang': 2090, 'grunting': 6164, 'caribou': 2843, 'outrun': 9213, 'foreshadowed': 5583, 'showdown': 11476, 'incomplete': 6895, 'execute': 5046, 'sign': 11524, 'chances': 2964, 'kamabaka': 7383, 'logtown': 7868, 'eh': 4700, 'crawling': 3651, 'bcbag3l5qavc1': 2172, 'a58c431bb6c9ef813e36c714db80a52da8a72a84': 1172, 'odas': 8986, 'outcomes': 9193, 'haired': 6249, 'shanksu': 11357, 'donut': 4410, 'daddy': 3812, 'yters': 14152, 'makbeth': 8042, 'predestined': 9842, 'nemesis': 8761, 'directions': 4217, 'arch': 1741, 'winner': 13895, 'turmoil': 13098, 'remote': 10530, 'covers': 3620, 'expectation': 5082, 'requested': 10586, '8nbj0m886avc1': 1033, '611': 787, '24561e6b93df690f42eb8f427fe853070e8486fa': 430, 'staring': 12010, 'projecting': 9976, 'announced': 1633, 'fridays': 5690, 'mushing': 8630, 'ju': 7324, 'peter': 9532, 'inventions': 7145, 'predictions': 9848, 'retrospect': 10690, 'decimate': 3913, 'dorry': 4423, 'broggy': 2611, 'causes': 2890, 'gaining': 5797, 'editable': 4654, 'piracy': 9611, 'scenarios': 11102, 'unranus': 13313, 'morgans': 8534, 'cipher': 3088, 'pol': 9706, 'scouring': 11134, 'report': 10569, 'kumas': 7534, 'staw': 12037, 'predict': 9844, 'update': 13342, 'resurrected': 10671, 'onepiecespoilers': 9071, '10hkrl7': 111, 'the_future_of_ronepiecespoilers': 12658, 'applications': 1712, 'volunteer': 13616, 'yap': 14093, 'moderate': 8464, 'saver': 11060, 'strict': 12145, '48': 628, 'accounts': 1273, 'spammers': 11841, 'alts': 1551, 'scammers': 11081, 'bots': 2532, 'stalker': 11985, 'deranged': 4058, 'perma': 9498, 'disliking': 4281, 'insulting': 7055, 'picked': 9577, 'picky': 9580, 'extensive': 5139, 'detailed': 4113, 'sats': 11046, 'application': 1711, 'dm': 4355, 'announcing': 1634, 'welcoming': 13785, 'jewels': 7262, 'gems': 5866, 'aincient': 1458, 'shits': 11433, 'giggles': 5939, '𝑪𝒂𝒑𝒕𝒂𝒊𝒏': 14334, '𝑼𝒔𝒔𝒐𝒑': 14340, 'tasked': 12525, 'someway': 11792, 'hachinosu': 6230, 'coincedence': 3217, 'precious': 9836, 'sentimental': 11260, 'treasury': 13009, 'periodically': 9496, '𝐀𝐜𝐡𝐢𝐥𝐥𝐞𝐬': 14304, '𝐇𝐞𝐞𝐥': 14309, 'stunt': 12191, 'invaded': 7137, 'steal': 12044, 'knowingly': 7494, 'scheduled': 11107, 'routine': 10874, 'loot': 7903, 'livid': 7833, 'rallied': 10209, 'allure': 1524, 'demanding': 4005, 'endevour': 4812, 'retrieve': 10687, 'presumably': 9885, 'slain': 11631, 'downfall': 4438, 'boon': 2501, 'garling': 5831, '𝐃𝐢𝐯𝐢𝐧𝐞': 14307, '𝐁𝐥𝐨𝐨𝐝': 14305, '𝑻𝒉𝒆': 14339, '𝑫𝒆𝒗𝒊𝒍': 14335, 'wholeheartedly': 13849, 'tyrannical': 13133, 'persuit': 9525, 'mentality': 8287, '𝐓𝐡𝐞': 14320, '𝐄𝐧𝐝𝐬': 14308, '𝐉𝐮𝐬𝐭𝐢𝐟𝐲': 14310, '𝐌𝐞𝐚𝐧𝐬': 14315, 'sacrafice': 10957, 'bull': 2674, 'weevil': 13776, 'sucked': 12244, 'newest': 8787, 'producers': 9954, 'realising': 10281, 'intros': 7132, 'saviour': 11064, 'toll': 12846, 'exhausion': 5056, '9p98vazpbouc1': 1106, '318': 508, '33898cfe529c29c8c58d637a7869cf2853762458': 523, 'essence': 4953, 'mc': 8213, '84q2b150couc1': 981, '657': 807, 'a074190439ff836a3d15f2778eb59a3b69b2f6b0': 1156, 'ladies': 7586, 'copium': 3548, '120': 148, 'aging': 1436, 'sulong': 12277, 'saves': 11061, 'h4ifgpucdouc1': 6221, '1483': 209, 'f479c2b107c81c6e50780ec79b55ffcaa35b329c': 5182, 'misinterpreting': 8423, 'disobeyed': 4287, 'bananas': 2085, 'drain': 4461, 'encounter': 4799, 'remaining': 10504, 'vps': 13632, 'processing': 9947, 'img': 6794, 'v661ku8ezqtc1': 13425, 'tantrum': 12512, 'dnfsp6khzqtc1': 4358, 'x1ocle0kzqtc1': 14056, '8zpz35lszqtc1': 1038, 'scarred': 11096, 'm8b7xdgwzqtc1': 7991, 'alsl41vwzqtc1': 1539, 'k5d86vcxzqtc1': 7364, 'vapcqk780rtc1': 13455, 'associated': 1866, '6i1x1bvc0rtc1': 842, 'wpddg5bq0rtc1': 14008, '7unz461u0rtc1': 953, 'j6a53s7v0rtc1': 7215, 'y8f1r1x11rtc1': 14081, 'c6x3bow51rtc1': 2746, 'izanagi': 7211, 'tsukuyomi': 13080, 'amaterasu': 1561, 'eyepatch': 5162, '4cgvjqxc1rtc1': 649, 'iterations': 7197, 'christian': 3068, 'theology': 12678, 'adam': 1323, 'eve': 4977, 'exiled': 5062, 'eden': 4645, 'submissive': 12211, 'denied': 4027, 'punished': 10082, 'placing': 9635, 'spite': 11923, 'cloak': 3162, 'borns': 2515, 'vampires': 13448, 'incarnation': 6878, 'pleasure': 9669, 'district': 4331, 'bat': 2145, '𝑳𝒊𝒍𝒊𝒕𝒉': 14337, 'mythological': 8668, 'vampire': 13447, 'seduce': 11198, 'spacing': 11837, 'overlayed': 9236, 'thumps': 12762, 'rhythm': 10750, 'gorillas': 6051, 'tarzan': 12522, 'monarchs': 8495, 'loincloth': 7872, 'simian': 11542, 'ancestors': 1600, 'settings': 11303, 'particularly': 9384, 'contain': 3473, 'environments': 4900, 'monkeys': 8506, 'researched': 10603, 'gorousei': 6059, 'ginny': 5945, 'frnky': 5700, 'modified': 8470, 'modifies': 8471, 'genes': 5882, 'seraphins': 11278, 'beep': 2222, 'stalla': 11987, 'adopted': 1360, 'experimented': 5094, 'wished': 13914, 'genie': 5889, 'humanities': 6640, 'replicate': 10564, 'fuel': 5723, 'ole': 9048, 'traumatic': 12991, 'injury': 6999, 'entrust': 4893, 'newborn': 8785, 'hunted': 6660, 'trained': 12940, 'ish': 7179, 'mate': 8187, 'crocus': 3701, 'bond': 2481, 'mentorship': 8294, 'ambivalent': 1570, 'rally': 10210, 'assistance': 1863, 'safer': 10975, 'hellbent': 6428, 'nitpicky': 8829, 'criticizing': 3694, 'fictional': 5377, 'concussed': 3385, 'ludicrous': 7951, 'struck': 12168, 'postmortem': 9789, 'joins': 7290, 'crewmates': 3674, 'comrades': 3358, 'spell': 11893, 'striving': 12159, 'awe': 1988, 'inspiring': 7033, 'loneliest': 7879, 'panties': 9344, 'tryin': 13070, 'stir': 12076, 'fr': 5638, 'pot': 9793, 'ambitions': 1568, 'accumulate': 1275, 'remnant': 10527, 'peculiar': 9448, 'sentiment': 11259, 'extraordinarily': 5153, 'attract': 1923, 'realities': 10282, 'duel': 4531, 'intersection': 7110, 'devastation': 4132, 'unpredictability': 13310, 'watches': 13721, 'pinnacle': 9605, 'dips': 4211, 'ambitious': 1569, 'ted': 12576, 'brains': 2562, 'telepathic': 12585, 'buffed': 2658, 'grammar': 6091, 'pythagoras': 10120, 'neutralized': 8781, 'grrowls': 6161, 'jailers': 7227, 'leopard': 7717, 'primal': 9912, 'instincts': 7049, 'domination': 4403, 'spectacle': 11876, 'forbidden': 5572, 'backfired': 2044, 'fault': 5295, 'sensationalist': 11245, 'interest': 7088, 'newspaper': 8792, 'implies': 6837, 'newspapers': 8793, 'meetings': 8254, 'arresting': 1789, 'toe': 12829, 'under': 13210, 'dare': 3837, 'travels': 13001, 'flipped': 5512, 'accomplish': 1264, 'instant': 7042, 'tread': 13005, 'accomplishment': 1266, 'centaur': 2925, 'hu': 6631, 'pokemon': 9703, 'earthworm': 4619, 'gatekeeping': 5843, 'planets': 9643, 'adjacent': 1345, 'circles': 3090, 'scientists': 11124, 'harness': 6325, 'mystical': 8661, 'portal': 9746, 'clever': 3144, 'service': 11296, 'hacks': 6234, 'sourced': 11823, 'hurry': 6666, 'depart': 4035, 'nojuro': 8843, 'coincidentally': 3222, 'counterparts': 3601, 'swordsmans': 12423, '𝑴𝒖𝒄𝒊𝒇𝒆𝒓': 14338, '𝐍𝐢𝐠𝐡𝐭': 14317, '𝐃𝐞𝐯𝐢𝐥': 14306, 'fantastical': 5273, 'amalgamations': 1559, 'polar': 9707, 'terrors': 12634, '𝙍𝙪𝙗𝙗𝙚𝙧': 14348, '𝙫𝙨': 14351, '𝙄𝙣𝙠': 14345, '𝙂𝙤𝙙': 14344, '𝙏𝙝𝙚': 14350, '𝘿𝙚𝙫𝙞𝙡': 14342, '𝙎𝙪𝙣': 14349, '𝙉𝙞𝙜𝙝𝙩': 14346, '𝘿𝙧𝙚𝙖𝙢𝙨': 14343, '𝙉𝙞𝙜𝙝𝙩𝙢𝙖𝙧𝙚𝙨': 14347, 'overarching': 9225, 'creations': 3660, 'undertaking': 13231, 'introductions': 7131, 'quotations': 10164, 'involve': 7157, 'merfolks': 8304, 'mimics': 8381, 'blamed': 2387, 'seafloor': 11163, 'digging': 4196, 'strengthen': 12136, 'mads': 8006, 'compelling': 3321, 'bloodtype': 2427, 'scientifically': 11122, 'splicing': 11927, 'biological': 2347, 'tube': 13084, 'conceive': 3362, 'declined': 3928, 'spliced': 11926, 'proclaimed': 9949, 'amalgamation': 1558, 'stitched': 12078, 'adulthood': 1366, 'travelling': 13000, 'revisit': 10724, 'answered': 1641, 'tripping': 13045, 'assisting': 1865, 'mu': 8593, 'discussing': 4262, 'begs': 2237, 'defect': 3947, 'remorseless': 10529, 'enslave': 4870, 'shirahosi': 11422, 'morals': 8529, 'boil': 2471, 'shake': 11335, 'survives': 12365, 'ra': 10173, 'bloodthirsty': 2426, 'resigning': 10616, 'mindless': 8384, 'pans': 9340, 'fates': 5290, 'enie': 4846, 'gov': 6069, 'cd': 2901, 'subsection': 12222, 'threaten': 12737, 'submission': 12209, 'escalate': 4937, 'nuke': 8905, 'fck': 5312, 'revolutionize': 10736, 'technological': 12571, 'teased': 12562, 'insightful': 7021, 'smol': 11714, 'brained': 2561, 'valleys': 13440, 'scopper': 11130, 'gaban': 5786, 'deigns': 3986, 'ponegylph': 9725, 'paralleled': 9356, 'opposites': 9122, 'contrasts': 3507, 'coin': 3216, 'hailed': 6245, 'inherentors': 6979, 'successors': 12238, 'whereas': 13817, 'tightly': 12783, 'knit': 7485, 'viscious': 13577, 'scoundrels': 11133, 'strived': 12158, 'immortalized': 6813, 'annals': 1629, 'famed': 5251, 'poker': 9704, 'spades': 11839, '𝑨𝒄𝒆': 14332, 'unpredictable': 13311, 'yield': 14119, 'risk': 10790, 'reward': 10740, 'resulting': 10667, 'saber': 10948, '𝑱𝒐𝒌𝒆𝒓': 14336, 'woke': 13940, 'testing': 12639, 'redline': 10381, 'climactic': 3153, 'nor': 8858, 'resigns': 10617, 'allying': 1528, 'uncertain': 13195, 'fray': 5662, 'regretting': 10439, 'span': 11842, 'funkfreed': 5756, 'subservient': 12224, 'rogue': 10834, 'survival': 12362, 'rehash': 10443, 'ranked': 10226, 'bladed': 2382, 'unparalleled': 13306, 'toughness': 12904, '𝐀𝐜𝐞': 14303, 'naginata': 8679, '𝐌𝐮𝐫𝐚𝐤𝐮𝐦𝐨𝐠𝐢𝐫𝐢': 14316, '𝐘𝐨𝐫𝐮': 14321, 'mysteriously': 8659, '𝐒𝐡𝐨𝐝𝐚𝐢': 14318, '𝐊𝐢𝐭𝐞𝐬𝐮': 14312, 'progresses': 9970, 'graded': 6083, '1086': 101, 'sei': 11218, 'イム聖': 14247, 'gu': 6169, 'イム宮': 14246, 'shalria': 11343, 'sister': 11577, '43ysvbwyqdrc1': 609, '751': 901, '887c9d0d63939b0958387a4422978242b0e4e054': 1002, 'simplest': 11555, 'teatch': 12565, 'r11v9efxtdrc1': 10169, '0729c6a8e8a6c805d8f0909ec65844d080850f3c': 32, 'flowers': 5524, 'calla': 2763, 'meanings': 8223, 'symbolizing': 12441, 'weddings': 13769, 'qdalg64xtdrc1': 10131, 'b257a49949cad13f96d5c40cc1dbcd2d3dc94cf3': 2007, 'belongs': 2273, '9o3rtrhwtdrc1': 1105, '546': 702, '010c835ff1e9fa4f7ee3ec9bb1c175a510de2d9c': 8, 'butterfly': 2708, 'kidnap': 7430, '0b0wwl2wtdrc1': 42, '784': 924, '55693c5a6f928ba70b03127d5392e9de83a32a0e': 708, 'enmity': 4862, 'insists': 7025, 'q1lipkvvtdrc1': 10123, '450': 615, 'f77140ebdf5049a747bbecf207c5945cc1c53576': 5188, 'forshadwing': 5614, 'steele': 12050, 'consequences': 3438, '4hp4dmpvtdrc1': 662, '3200': 515, '1a5b075afe4c9f69067dce91184c1a815efdffcc': 312, 'forshadow': 5613, 'steely': 12051, 'beatty': 2205, 'foreshadow': 5582, 'ferd6thvtdrc1': 5358, '1584': 230, 'd66f883b4df91632d69eec0dedfd84411d861790': 3802, 'flower': 5523, 'z1onuvbvtdrc1': 14163, '564': 717, 'e04b03178cda2f830086c7de5479e155ed137d95': 4577, 'relationships': 10471, 'romantic': 10843, 'hintsthis': 6509, 'undergoing': 13219, 'wedding': 13768, 'ei157t3vtdrc1': 4702, '84c613fc2b0b19b4cf38ea40db632ec08f1c057c': 980, '18': 279, 'lovedoes': 7924, 'rv0t13vutdrc1': 10924, 'd771ed5f3dda11686e7bbdbf2ec488f997c74678': 3803, 'eel': 4666, 'atract': 1905, 'necktie': 8734, 'symbolizes': 12440, 'expresses': 5129, 'os80kxqutdrc1': 9174, '3df73a6cb4bc56ce8188cd75a8dbd3687d9912f0': 576, 'wooden': 13958, 'likeness': 7779, 'ut3ybxmutdrc1': 13404, '77fdc0a9ad3a67fdd254ae41f4c9376be5417f87': 919, 'married': 8147, 'suitors': 12271, 'nz0kqmdutdrc1': 8929, '1040': 78, '9b637516e04c2ed604f9f35ca70bc3d6f5a6a250': 1085, 'features': 5332, 'worded': 13962, 'yt48qisttdrc1': 14151, '730': 875, 'c90cde25a929a67d5878cef5394d9ab12a1ceae2': 2750, 'i08dipbttdrc1': 6703, '481442ddd702b4e8b3ee744f29af0dc5ae023f7c': 630, 'specified': 11875, 'boarded': 2460, 'lulucia': 7956, 'pretext': 9891, 'destination': 4101, 'assure': 1878, 'gorosi': 6057, 'f0u65pustdrc1': 5172, '830bfe543acc2a76f81f8d4f1d41c09f26e3584a': 972, 'succeeded': 12233, 'xwn02rintdrc1': 14074, 'a424b873f6c5f40e666567ee3d6c47febfe0670c': 1168, 'nuisance': 8904, 'implement': 6831, 'kidnapping': 7432, 'revolted': 10729, 'swapping': 12391, 'performing': 9490, 'linking': 7805, 'oversee': 9245, 'cuffs': 3734, 'asspullery': 1868, 'personified': 9521, 'variants': 13461, 'characterized': 2992, 'anarchy': 1596, 'titaxlhcbbc': 12813, 'falsifying': 5248, 'dictatorship': 4177, 'duties': 4559, 'readily': 10274, 'amounts': 1584, 'incoming': 6892, 'predicting': 9846, 'outmatched': 9206, 'nick': 8804, 'tide': 12773, 'stirs': 12077, 'removes': 10535, 'stlomxnkukqc1': 12080, '2560': 440, 'c63b4a4a7664432c5da15bad011a3b01f5af8be0': 2744, 'leans': 7675, 'hugs': 6637, 'waterworks': 13728, 'o0vfeviwukqc1': 8932, '7e527e9faf1b749291b0d39d6dd5ae504f7fd3c4': 946, 'bay': 2165, 'jaygarcia': 7246, 'brat': 2571, 'loud': 7918, 'whir': 13832, 'emanates': 4750, 'sphere': 11904, '12th': 163, 'boom': 2498, 'k0rb96h7wkqc1': 7362, '3f4ddd3124add5abc03308b862cea5ed7ccb7b4e': 579, 'ensuing': 4874, 'fend': 5354, 'viking': 13546, 'scoop': 11127, 'guarding': 6176, 'encroaching': 4805, 'boarding': 2462, 'engulfed': 4841, 'regenerated': 10427, 'pesky': 9529, 'rid': 10756, 'reconvene': 10345, 'apologizing': 1685, 'troublesome': 13057, 'nasujuro': 8707, 'stomps': 12088, 'hoof': 6577, 'gjmb1rx00lqc1': 5960, '3cb4a02e6c9d1e24bbc78e25da65514631584200': 571, 'tricked': 13029, 'reappears': 10296, 'completed': 3336, 'fades': 5222, 'labosphere': 7576, 'hologram': 6555, 'manned': 8089, 'pythagorus': 10121, 'strangely': 12115, 'transfer': 12950, 'rebuild': 10314, 'barrage': 2111, 'figerland': 5388, 'stares': 12008, 'striking': 12149, '4gpgivg31lqc1': 661, 'f17f19b19f62182eeabadd3456ad45655d430547': 5176, 'wave': 13732, 'propels': 9996, 'stare': 12006, 'barf': 2105, 'attending': 1919, 'resume': 10669, 'filming': 5409, 'bonnie': 2490, 'nearing': 8727, 'antagonists': 1646, 'crossguild': 3709, 'hachinoso': 6229, 'neomads': 8764, 'marijoa': 8127, 'ryugu': 10931, 'apology': 1686, 'ponegliff': 9718, 'speculate': 11880, 'peril': 9493, 'staking': 11982, 'candidates': 2786, 'elemental': 4730, 'usage': 13378, 'winning': 13897, 'fugly': 5726, '7th': 951, 'ppl': 9818, 'ud1aiofc2cqc1': 13145, 'eab5ba293f9c6077ee8c415f5307e45cd3b1f903': 4604, '9d76r12d2cqc1': 1093, '740': 889, '6f3fc49d8de9e40f182b6d3db7ab92ea096ffae5': 839, 'tonight': 12856, 'hmm': 6538, 'pretending': 9889, 'delicious': 3993, 'ñom': 14209, 'nerf': 8769, 'disturbing': 4335, 'topman': 12868, 'pancake': 9323, 'entertain': 4884, 'coping': 3547, 'samueljacksonmemehere': 11009, 'fiving': 5458, 'knocks': 7491, 'flesh': 5497, 'doctors': 4365, 'mar': 8110, 'furthermore': 5765, 'station': 12029, 'spandine': 11844, 'marked': 8140, 'predates': 9839, 'regen': 10425, 'glance': 5967, 'venom': 13491, 'magellen': 8010, 'nusjuros': 8921, 'warcurys': 13693, 'tusks': 13108, 'worm': 13979, 'flight': 5507, 'morely': 8531, 'marco': 8117, 'differently': 4190, 'tbf': 12536, 'conspicuously': 3451, 'absent': 1230, 'asleep': 1833, 'tended': 12607, 'recognize': 10333, 'inform': 6963, 'sketches': 11601, 'percent': 9477, 'imagines': 6788, 'noah': 8833, '55': 704, '65': 803, '72': 868, '78': 921, 'unpack': 13305, 'grandfather': 6093, 'assaulting': 1846, 'stronghold': 12164, 'arthritis': 1803, '56': 713, 'munetaka': 8615, 'murakami': 8616, 'npb': 8895, 'hers': 6465, 'gang': 5819, 'forgetting': 5593, 'contradicted': 3500, 'orchestrated': 9139, 'facial': 5209, 'reasoning': 10301, 'distroyed': 4332, 'consisting': 3448, 'intends': 7066, 'armed': 1778, 'organization': 9152, 'crumble': 3720, 'followers': 5557, 'inurashi': 7135, 'nekomamushi': 8760, 'neptune': 8767, 'crush': 3724, 'teaming': 12554, 'reconciliation': 10342, 'akagami': 1465, 'beforehand': 2226, 'saftety': 10977, 'sensing': 11252, 'teleports': 12592, 'cracked': 3634, 'acquiring': 1297, 'equipment': 4919, 'signal': 11525, 'implication': 6834, 'allusions': 1526, 'waifu': 13651, 'disappointment': 4238, 'litterally': 7826, 'shadowy': 11330, 'beneath': 2284, 'blob': 2414, 'blatant': 2395, 'truths': 13068, 'vile': 13549, 'logo': 7867, 'kinds': 7450, 'tidbit': 12772, 'angels': 1605, 'biblical': 2322, 'satan': 11037, 'arrow': 1798, 'miehawk': 8362, 'crewmate': 3673, 'organisation': 9149, 'newworldartur': 8794, '1770766923250241927': 272, 'labo': 7573, 'u0ulpagxlnpc1': 13137, '892': 1006, 'f410b89aaaec3f261633e542dbfd2893d17c7070': 5181, 'atttacked': 1932, 'dates': 3852, 'powerscaling': 9813, 'agenda': 1428, 'explanationas': 5106, 'accepts': 1254, 'outraged': 9210, 'bcoz': 2175, 'sec': 11178, 'toji': 12835, '1b1ttdk': 319, 'vegapunks_message_to_the_world_theory': 13483, 'intentions': 7074, 'arent': 1757, 'braindead': 2560, 'doubters': 4433, 'faa8c90gtkpc1': 5200, '1181': 142, 'e6e26e83b1c43d3a5ed8f89ede2df249f211a983': 4589, 'scarf': 11093, 'ave': 1964, 'fobia': 5537, 'leopards': 7718, 'eeh': 4665, 'scarves': 11098, 'chapteeers': 2984, 'iiiin': 6760, 'uaaan': 13143, 'piiisss': 9593, 'efi3l1a7yjpc1': 4690, '1546': 226, 'e3b8d3f33a9a931ac5ab3e098c810b8f4019ca8c': 4581, 'disorder': 4289, '8th': 1034, 'lady': 7588, 'wives': 13927, 'prolong': 9981, 'youthful': 14143, 'elizabeth': 4742, 'bathory': 2148, 'murder': 8617, '16th': 247, 'hungary': 6654, 'bathed': 2147, 'virgins': 13569, '92zasjtfwjpc1': 1050, '1158': 138, '5ff5f9797ab3ec9381f2ed0cd49789039555cdab': 769, 'tabs': 12468, 'scoops': 11128, 'victim': 13528, 'eliminate': 4736, 'succumbing': 12240, 'dispose': 4297, 'baskets': 2136, 'voc855z0yjpc1': 13602, 'b25fbce5cdbd5b1a2148070236361feced935c6b': 2008, 'freehand': 5671, 'toriyamas': 12875, 'blast': 2391, 'wich': 13855, 'redon': 10383, 'totes': 12894, 'gif': 5927, 'interactive': 7081, 'gloves': 5983, 'fazing': 5307, 'trump': 13063, 'aim': 1453, 'computer': 3355, 'monitor': 8503, 'herring': 6464, 'confuses': 3409, 'baseball': 2122, 'wakes': 13661, 'secretsauce2024': 11190, '7348089807282720033': 882, 'es': 4936, 'foro': 5611, 'viewtopic': 13543, 'php': 9564, '37520': 548, 'xwdrs3yvp1': 14073, 'mugiwara_23': 8603, '1770096759294873974': 271, '1770083111281279440': 270, '1770072089082409443': 269, '1770034211220590777': 268, '1770013176001622388': 267, 'stalling': 11989, 'qp1dp1xhf7pc1': 10138, 'bf0b22cfc7227b5024902622dc673fd8438e9905': 2314, 'incidents': 6885, '07': 31, 'juro': 7345, 'alias': 1495, 'kimono': 7443, 'regional': 10434, 'terrorized': 12633, 'minions': 8394, '1769677947080777753': 266, 'ref_src': 10391, 'twsrc': 13121, '5egoogle': 766, '7ctwcamp': 942, '5eserp': 767, '7ctwgr': 943, '5etweet': 768, 'indications': 6923, '111': 125, 'november': 8891, 'sequence': 11273, 'identical': 6725, 'ゾロ': 14250, 'ぞろ': 14226, 'stopping': 12096, 'connotations': 3423, 'strogner': 12160, 'speculates': 11882, 'vessel': 13510, 'demonized': 4019, 'likewise': 7781, 'recognised': 10331, 'despises': 4097, 'noone': 8855, 'altogether': 1550, 'raided': 10196, 'thieves': 12704, 'awakens': 1982, 'replaced': 10559, 'dots': 4428, 'consumed': 3465, '1110': 126, 'defeats': 3946, 'hahava': 6243, 'wisdomlib': 13910, 'buddhism': 2651, 'biting': 2363, 'skeletal': 11595, 'slashing': 11641, 'l3btpy7m80pc1': 7563, '1125': 135, '7a7917a27b61767304f5876e12c983d16927ee28': 934, 'batshit': 2151, 'separated': 11265, 'trivial': 13047, 'suspenseful': 12374, 'strengthening': 12137, 'vivre': 13597, 'rotating': 10866, 'geocentric': 5899, 'revolve': 10737, 'persecuted': 9509, 'umi': 13167, 'deadbeat': 3876, 'gashadokuro': 5837, 'umibozu': 13168, '7dazndagtroc1': 944, '537': 696, '98851412cecb63ed363f60b5909938e82df72032': 1076, '75xxtiaitroc1': 908, '3829': 556, '473b35a24435595035c8cbd6e2eac1d302a6510c': 624, '9vnw66gktroc1': 1111, 'aa778d62916a1137764a3dd84532a587cdbdd048': 1192, 'aets': 1391, '12cc5zi56roc1': 161, '83bbbd738a81d8dbecf3fdd2027b424acc1edb0b': 975, 'accommodate': 1261, 'jn7kqic5xqoc1': 7282, '1f6b1409f63a8339a36fe195859db7702bd73f45': 356, 'vkairoc5xqoc1': 13600, '5078c7e4f2dd75d6c03001aae42a3b62a29b75d3': 683, 'gorōsei': 6061, 'yōkai': 14162, 'wixmp': 13928, 'ed30a86b8c4ca887773594c2': 4641, '67597273': 814, 'c986': 2751, '469a': 622, 'a463': 1170, '11fddd673c9c': 146, 'dh2g1f3': 4158, '0820de2d': 33, 'c02e': 2723, '4c6d': 647, '9cdb': 1088, 'fab47666f763': 5201, 'v1': 13422, 'w_1280': 13644, 'h_935': 6224, 'gorosei_s_true_forms_revealed_by_thebiggestwheel_dh2g1f3': 6055, 'fullview': 5744, 'token': 12836, 'eyj0exaioijkv1qilcjhbgcioijiuzi1nij9': 5165, 'eyjzdwiioij1cm46yxbwojdlmgqxodg5odiynjqznznhnwywzdqxnwvhmgqynmuwiiwiaxnzijoidxjuomfwcdo3ztbkmtg4otgymjy0mzczytvmmgq0mtvlytbkmjzlmcisim9iaii6w1t7imhlawdodci6ijw9otm1iiwicgf0aci6ilwvzlwvnjc1otcynzmtyzk4ni00njlhlwe0njmtmtfmzgrknjczyzljxc9kadjnmwyzlta4mjbkztjklwmwmmutngm2zc05y2rilwzhyjq3njy2zjc2my5wbmcilcj3awr0aci6ijw9mti4mcj9xv0simf1zci6wyj1cm46c2vydmljztppbwfnzs5vcgvyyxrpb25zil19': 5167, 'w8jpuy8mc92boc7xg43b67j2xye5qquitrgl1h76uim': 13643, 'bellow': 2267, 'inspirations': 7029, 'gyūki': 6216, '81gj28nugqoc1': 966, '752': 902, 'cdf370f873b6e98bdf4632a43ef99de5431b810d': 2903, 'jay': 7243, 'garcia': 5825, 'theorizing': 12687, '1094': 104, 'ushi': 13389, '牛鬼': 14293, 'ox': 9274, 'folklore': 5551, 'うし鬼': 14214, 'hyakkai': 6676, 'zukan': 14203, 'sawaki': 11066, 'suushi': 12381, 'vhukbbjvgqoc1': 13514, '6c84d3032e09efcfe9e2ed7a12270cb8e9b2882b': 833, 'savage': 11055, 'disposition': 4299, 'lesser': 7720, 'torturing': 12883, 'spit': 11922, 'acidic': 1290, '1108': 123, '6qakl5gwgqoc1': 846, '1036': 75, 'bc04775928055939d03d9c549064c8965183bae1': 2171, 'legends': 7697, 'reminiscant': 10523, 'wakayama': 13657, 'prefecture': 9850, 'traveler': 12997, 'avert': 1968, 'gaze': 5856, 'kage': 7369, 'wo': 13939, 'kuu': 7547, 'nomu': 8848, 'nu8fro2xgqoc1': 8900, '1058': 82, '72514fb1d7f09edfad89d2356aad2b0ea791d4a8': 871, 'minotaur': 8399, 'itsumade': 7201, '6qvczr7ygqoc1': 848, 'ad6b3fa363910e6adc8c4bada2f2e7d899a6d8d6': 1321, 'until': 13331, 'eerie': 4669, 'disasters': 4242, 'pacify': 9290, 'breathing': 2588, 't139pgxygqoc1': 12461, '7bea8f453699b7997e6e8cd5f277dc9760b123e7': 939, 'beak': 2183, 'wingspan': 13894, 'meters': 8340, 'edo': 4659, 'illustrations': 6778, 'oki': 9039, 'jirouzaemon': 7278, 'hiroari': 6513, 'kabura': 7367, 'arrows': 1799, 'whistled': 13837, 'mayumi': 8212, 'srdn6k00hqoc1': 11960, '709': 858, '47f8937cf5aa3e295b1da1ee6bacc35d8481aacb': 627, 'handed': 6276, 'cury': 3764, 'moccus': 8459, 'celtic': 2920, 'swine': 12406, 'identified': 6726, 'mercury': 8299, 'warthog': 13710, 'interchangeably': 7085, 'boars': 2463, 'crops': 3705, 'pest': 9530, 'mononoke': 8509, 'prominently': 9985, 'nago': 8681, 'okkoto': 9040, 'forrest': 5612, 'ibhvbqh1hqoc1': 6709, '1195': 145, 'd329c5b337dedc05dc8d2850bf0adb554a6d9c86': 3795, 'resembles': 10609, 'wanton': 13683, 'violence': 13564, 'sowed': 11831, 'rampaged': 10216, 'bulk': 2673, 'bfy35642hqoc1': 2315, '771a3da7b6ecc3e0fbe5ae62c06f54a9fabe7816': 915, 'mud': 8600, 'bakotsu': 2070, 'ujcia033hqoc1': 13150, '8f26a44d606af0451ceecfeac20ab18ac40d86dc': 1022, 'ethanbaron': 4966, 'easilly': 4623, 'coupled': 3610, 'widely': 13859, 'warcraft': 13689, 'undead': 13206, 'mounts': 8569, 'warcraftmounts': 13690, 'skins': 11610, 'undeadhorseskinblack': 13207, 'head_and_horse': 6370, 'gozu': 6076, 'mezu': 8345, '2qzhpzt3hqoc1': 492, '580': 730, '55e3712dbe423eeeedbc4616fc8b35e1531be94a': 712, 'strikingly': 12150, 'chill': 3040, 'continuous': 3494, 'qtl1mey4hqoc1': 10139, '803': 957, 'f265774bc24b529f0c133987a536683349c3da18': 5178, 'skeptical': 11597, 'aformentioned': 1410, 'screened': 11144, 'prominent': 9984, 'shodai': 11441, 'kotetsu': 7511, 'yy02qrd7hqoc1': 14159, '75gk1robhqoc1': 907, '761': 909, '5e72eeac5161a3b90a4a72afb2ba7c58df31b777': 764, 'shepherd': 11389, 'digs': 4200, 'uncommon': 13202, 'adaptation': 1325, 'herbert': 6452, 'dune': 4544, 'worms': 13981, 'nathan': 8708, 'rosario': 10862, '3hyjc7nvhqoc1': 581, '1260': 155, '93220885de68433834684e630fa3ced932001702': 1052, '1965': 300, 'bleach': 2398, 'bawabawa': 2164, 'static': 12027, '32': 513, '245bawabawa_emerges': 431, '250': 436, '20220203182450': 393, 'prefix': 9856, 'ringer': 10780, 'hueco': 6633, 'mundo': 8614, 'ym07whcdhqoc1': 14124, '1440': 196, '56b016151d20eb07f0103f2ddae3150b7155dba8': 724, 'wyrm': 14051, 'wyrms': 14052, 'alternatively': 1547, 'wurms': 14043, 'orms': 9167, 'serpentine': 11289, 'european': 4969, 'origins': 9164, 'ormr': 9166, 'europe': 4968, 'reserved': 10611, 'wormlike': 13980, 'qualities': 10142, 'legless': 7704, 'fitting': 5455, 'agriculture': 1443, 'k0jzdwiehqoc1': 7361, '9c8c9e3c9cd6267bf1b5b98e9528878214c6c583': 1087, 'silhoute': 11537, 'pangea': 9333, 'between': 2310, 'fto2vrzehqoc1': 5717, '302': 502, '43e2def1d4c765ff39d1ddded03f8215a353b679': 608, 'riding': 10767, 'paulo': 9423, 'barbosa': 2100, 'ariuken': 1770, 'ariuken_art': 1771, 'hl': 6533, 'astrology': 1887, 'tanked': 12508, 'wāmu': 14053, 'alaskan': 1482, '2eqweovkpnoc1': 479, '118f7f6826e3dda5cdc9ad746ad6bc60168bda30': 144, 'nufwdpvkpnoc1': 8903, '1374': 178, '02665dca9b5c57e80a149be3da36774ba27dd4a3': 12, 'catrina': 2884, 'nusjubo': 8918, 'sixth': 11590, 'shusui': 11499, 'hyori': 6681, 'kawamatsu': 7403, 'stall': 11986, 'tongues': 12854, 'duo': 4548, 'rising': 10789, 'suns': 12300, 'zqm5bbzo6koc1': 14202, '1268': 157, '4d76184f3b70b1191b072a89850f6482cb075a09': 651, 'ほうき': 14235, 'broom': 2619, 'ja': 7217, 'goog': 6041, 'e5': 4583, 'b0': 2003, 'e8': 4592, 'b1': 2005, 'a8': 1178, '_x_tr_sl': 1152, '_x_tr_tl': 1153, '_x_tr_hl': 1150, '_x_tr_pto': 1151, 'sc': 11073, 'yuan': 14153, 'ke': 7408, '1993': 305, 'znm948x1wjoc1': 14185, '9d736a6b1c467d858b2124d2c6f60dacbc39e3b8': 1092, 'searched': 11169, 'houki': 6614, 'oshi': 9175, 'f2v': 5179, '1768670907843682745': 264, 'eustassq': 4971, '1768672283596390748': 265, 'backing': 2046, 'devilish': 4147, 'species': 11872, 'experiments': 5096, 'homeland': 6561, 'spaceship': 11835, 'abd': 1204, 'bah': 2064, 'scariest': 11094, 'berserk': 2292, 'apostles': 1690, 'peeps': 9457, 'frfr': 5688, 'zuneisha': 14204, 'elephant': 4732, 'reunited': 10699, 'trolls': 13051, 'clipped': 3160, 'silhouettes': 11536, 'umibōzu': 13170, '海坊主': 14290, 'umihōshi': 13171, '海法師': 14291, 'uminyūdō': 13172, '海入道': 14289, 'sightings': 11523, 'tumultuous': 13090, 'emergence': 4770, 'barrel': 2112, 'drown': 4509, 'honed': 6569, 'barrels': 2113, 'recurring': 10365, 'brew': 2591, 'suppose': 12326, 'eternity': 4964, 'climbing': 3157, 'emerges': 4772, 'loops': 7899, 'tyranny': 13134, 'transmission': 12970, 'transmitting': 12973, 'writting': 14030, 'aid': 1450, 'upvote': 13366, 'frighten': 5697, 'hasnt': 6334, 'forgor': 5596, 'aberrations': 1206, '01epmis0h8oc1': 10, '624': 793, '0551261899365348478bed7706c17cda9f526662': 24, 'sorting': 11811, 'picking': 9578, '06qy5l12h8oc1': 30, '89cfb3dd8236cbddd7e5352f509f500f323a8460': 1008, 'sorted': 11810, 'qnvjb65yh8oc1': 10137, '6345f5be7bd4e06b95b1280cab1710728c9a3aa5': 799, 'whippersnapper': 13830, 'basing': 2133, 'lean': 7672, 'gu70fgn2j8oc1': 6170, '545': 701, 'b348a0e6bfa4e42849c68962a1410c56443b2144': 2011, '5s': 773, '4s': 671, 'pcteytxsk8oc1': 9437, '55e00199155a317aa7c4acb891916cd79e860701': 711, 'businessman': 2701, 'gorbachev': 6045, '1985': 302, '1991': 304, 'baroque': 2110, '1800': 281, 'gan': 5814, 'wormy': 13982, 'someday': 11783, 'mounting': 8568, 'spicy': 11907, 'poneglyphes': 9723, 'inherit': 6981, 'parallele': 9355, 'kitchen': 7469, 'cooked': 3537, 'meal': 8218, 'rat': 10239, 'omelette': 9053, 'intents': 7075, 'attitude': 1922, 'claiming': 3114, 'departing': 4036, 'tangible': 12505, 'aslo': 1834, 'gatekeep': 5841, 'endanger': 4808, 'obtaining': 8966, 'possesing': 9772, 'forcibly': 5577, 'specialize': 11867, 'dishes': 4272, 'sparked': 11853, '95': 1056, 'sounding': 11819, '7345485652085050657': 881, 'forum': 5620, '37490': 547, 'bandana': 2087, 'snide': 11737, 'remarks': 10508, 'deadweight': 3878, 'shigan': 11398, 'madara': 8002, 'hells': 6432, 'delivered': 3996, 'approach': 1724, 'pewpiece': 9537, '9ddgpqqfoe': 1095, 'jv53b7vgxwnc1': 7356, '1140': 136, '3ad0a07f528926492c8a417cc51af51479be5704': 567, 'hiriluk': 6512, 'flippy123x': 5513, 'piratefolk': 9613, '37': 544, 'robber': 10814, 'fortune': 5619, 'blossoms': 2433, 'iva': 7205, 'miracle': 8404, 'cleansed': 3136, 'gratitude': 6110, 'conquerers': 3426, '380': 554, '317': 507, 'berries': 2291, 'operate': 9106, 'frontier': 5705, 'blooded': 2422, 'supplies': 12317, 'begun': 2238, 'duress': 4554, 'reported': 10570, 'croc': 3696, 'wax': 13735, 'booger': 2495, 'outrageous': 9211, 'abstract': 1236, 'accomplished': 1265, 'coherent': 3215, 'hahahah': 6241, 'paving': 9426, 'whm': 13844, 'international': 7100, 'celebrate': 2912, 'blog': 2418, 'ado': 1358, 'shall': 11341, 'effective': 4677, 'cds': 2904, 'reign': 10445, 'harming': 6323, 'heroic': 6462, 'kuja': 7527, 'risky': 10793, 'understandable': 13227, 'vanquishing': 13453, 'spares': 11851, '_besides': 1125, 'zeff': 14172, 'bother': 2528, '_although': 1122, 'fishmans': 5448, '_it': 1136, 'unpunished': 13312, '_if': 1134, 'cidre': 3084, 'henchmen': 6448, 'belated': 2253, 'lookout': 7893, 'world_timeline': 13973, 'lufy': 7955, 'podcast': 9692, 'antogonizing': 1657, 'demonstrate': 4021, 'reckoned': 10328, 'cementing': 2921, 'yonkou': 14130, 'rightfully': 10773, 'earned': 4612, 'sustaining': 12380, 'respected': 10636, 'retribution': 10685, 'wrought': 14035, 'inciting': 6886, 'abolish': 1217, 'disgusted': 4270, 'fufill': 5725, 'separation': 11268, 'speechless': 11887, 'jokingly': 7298, 'zorro': 14200, 'utter': 13417, 'madness': 8005, 'harmony': 6324, 'fearing': 5320, 'bowing': 2547, 'oversees': 9247, 'suppsoed': 12333, 'sat': 11036, 'preserves': 9879, 'nikka': 8821, 'stability': 11968, 'revolt': 10728, 'arabasters': 1737, 'founder': 5628, 'illegitimacy': 6768, 'usurpation': 13401, 'gamble': 5808, 'animosity': 1626, 'baked': 2069, 'clappening': 3118, 'cymbal': 3786, 'replicated': 10565, 'toaster': 12823, 'ign': 6748, 'articles': 1805, 'akira': 1471, 'toriyama': 12874, 'pioneer': 9610, '68': 821, 'stab': 11965, 'slide': 11661, 'superiors': 12308, 'sabody': 10952, 'scattered': 11100, 'sentoumaru': 11263, 'pitty': 9624, 'misfortunes': 8417, 'hypocrites': 6694, 'sympathy': 12445, 'foes': 5545, '_1': 1115, 'pardon': 9370, '_2': 1116, 'bartolomeo': 2120, 'territories': 12629, '_3': 1117, '_4': 1118, 'abandon': 1199, '_5': 1119, 'oppressors': 9128, 'tolerate': 12843, 'oppressed': 9124, 'enslaved': 4871, 'unwise': 13337, 'bbs': 2169, 'uphold': 13348, 'arrangement': 1785, 'imposing': 6843, 'invade': 7136, 'propose': 10007, 'betrays': 2305, 'reversing': 10720, 'aloud': 1535, 'libertalia': 7748, 'purported': 10099, 'rediker': 10378, 'historian': 6516, 'vigilant': 13544, 'liberties': 7749, 'barriers': 2116, 'rich': 10753, 'waging': 13650, 'behalf': 2239, 'equally': 4915, 'avoiding': 1973, 'uts': 13416, 'arrest': 1787, 'lvl': 7975, 'seaprism': 11167, 'rot': 10864, 'theoretically': 12681, 'reseting': 10612, 'capitan': 2814, 'yey': 14114, 'cog': 3214, 'zehahaha': 14173, 'gorosie': 6058, '1b7axp4': 321, 'just_who_are_the_final_villains_of_one_piece': 7349, 'trio': 13042, '5c1f7bd9mlmc1': 754, 'ffe5470a2bc1dc8c588dac6e7844aef525f063d2': 5369, 'depict': 4047, 'wake': 13659, 'wake_up': 13660, 'intrigued': 7123, 'eventual': 4982, 'inevitable': 6935, 'tctedxcamlmc1': 12542, 'b99c9f6afcc513e3c505ef36177a08329756b0f7': 2033, 'dgzn892': 4157, 'd3ea64b2': 3797, '2076': 404, '4eb0': 656, '88ec': 1004, 'e0055805b4d3': 4574, 'h_1616': 6223, 'q_80': 10130, 'strp': 12167, 'saturn__kizaru__katarina_and_van_auger_by_thebiggestwheel_dgzn892': 11050, 'eyjzdwiioij1cm46yxbwojdlmgqxodg5odiynjqznznhnwywzdqxnwvhmgqynmuwiiwiaxnzijoidxjuomfwcdo3ztbkmtg4otgymjy0mzczytvmmgq0mtvlytbkmjzlmcisim9iaii6w1t7imhlawdodci6ijw9mtyxniisinbhdggioijcl2zclzy3ntk3mjczlwm5odytndy5ys1hndyzltexzmrkzdy3m2m5y1wvzgd6bjg5mi1km2vhnjrimi0ymdc2ltrlyjatodhlyy1lmda1ntgwnwi0zdmucg5niiwid2lkdggioii8pteyodaifv1dlcjhdwqiolsidxjuonnlcnzpy2u6aw1hz2uub3blcmf0aw9ucyjdfq': 5166, 'kiujtgqymp': 7472, 'fyldj5c3jih6jn9e7kpocjzqnlslrifq': 5777, 'immu': 6814, 'anxg2ucbmlmc1': 1659, '1555': 227, 'ab6cb1a963a18accbce0a718ac52900092db3279': 1197, 'ring': 10778, 'memorable': 8276, 'forgettable': 5592, 'kvj9o65dmlmc1': 7551, '1362': 176, '67ead7f380b2e943ce303969cca884bb624fd36d': 820, 'subsequent': 12223, 'complement': 3333, 'volcano': 13611, 'eruption': 4935, 'effortlessly': 4688, 'froze': 5708, 'dealt': 3884, 'equals': 4916, 'q6q0sudfmlmc1': 10128, '1715': 250, '1f6a21f1c3c24c2f83e424b924a71ebdf7883469': 355, 'competent': 3325, 'crewmembers': 3676, 'powerhouses': 9809, 'r0k3gokhmlmc1': 10168, 'c60c96bc8d82cb10bb3592c1363c06dcc5ca52aa': 2743, 'deals': 3883, 'unceremoniously': 13194, 'engage': 4830, 'wifi': 13866, 'faraway': 5276, '0n3hexmimlmc1': 56, '738': 886, 'a8258d4c4bae4b047a7e6d20a4270f9c0cfc316b': 1179, 'unstoppable': 13327, 'illustrated': 6776, 'casually': 2873, 'urgency': 13373, 'unbothered': 13190, 'ciug68njmlmc1': 3101, '734': 879, '0e9a7d13f7b1ab099eaefe5a1a3bdcec04bb34f2': 52, 'optimistic': 9131, 'antithesis': 1656, 'fanfare': 5266, 'mirroring': 8409, 'stocks': 12082, 'skyrocketed': 11627, 'x0g7urnkmlmc1': 14055, '02900d63e8bf0cf45d0eefd81e33bb965c5fd990': 13, 'repetitive': 10557, 'redundant': 10389, 'uma_uma_no_mi': 13166, '_pegasus': 1143, 'riki_riki_no_mi': 10776, '921': 1047, 'e6qp0apclxu': 4590, 'jacket': 7222, '2w6gbjglmlmc1': 493, '1942': 298, 'fc638e75f1354323fe90f607c9de61bc6976e1ba': 5309, 'denying': 4034, 'i9u5i44mmlmc1': 6706, '05dac8cd40e2239f621549784f24d0437647738a': 27, 'decline': 3927, 'r83j280nmlmc1': 10172, '739': 887, '08945b05ecefa512175db18dea3ed9db7f5f81a9': 35, 'blueno': 2444, 'dwindled': 4564, 'rm6h0jinmlmc1': 10803, '1649': 241, 'b5d14e449eecd6b38bf7cddecccf5ee4929c3d3c': 2020, 'hcaykn3omlmc1': 6367, '1803': 282, 'edf7dc8467777c509b5464c42cb03373d84f6aab': 4646, 'magic': 8012, 'weirdoes': 13783, 'bjj4gmm0nlmc1': 2369, '2eb9b370045e8d3ea7795a0ba7f7a41ce7b5b4e8': 477, 'antagonistic': 1645, 'factions': 5214, 'bodyguards': 2469, 'enforcing': 4828, 'voldemort': 13612, 'dividing': 4347, 'barley': 2109, 'hive': 6528, 'vally': 13441, 'dogs': 4384, 'celestials': 2916, 'forcefully': 5575, 'feeding': 5336, 'controversial': 3517, 'satanic': 11038, 'rituals': 10795, 'praised': 9826, 'convert': 3528, 'mma': 8452, 'descents': 4069, 'displeased': 4295, 'helpers': 6439, 'aslong': 1835, 'installment': 7039, 'arrangements': 1786, 'chicken': 3034, 'catharina': 2882, 'moriah': 8537, 'reanimate': 10293, 'porneglyphs': 9744, 'attempted': 1916, 'discrimination': 4258, 'vegaforce': 13479, 'distruction': 4333, 'cientists': 3085, 'complied': 3343, 'frozen': 5709, 'emanate': 4749, 'laputa': 7617, 'activetly': 1312, '1067': 88, 'embodying': 4763, 'slumber': 11682, 'manifestations': 8078, 'hinting': 6507, 'weaknesses': 13752, '57f819atf9mc1': 729, 'c10b16c33176c9d6a3f67a733f0f0379c8409e4e': 2728, 'terminate': 12622, 'geosei': 5903, 'lightnings': 7771, 'jibei': 7265, 'kickass': 7422, 'powerhouse': 9808, 'weakening': 13745, 'delay': 3990, 'numerical': 8914, 'hieroglyphs': 6480, 'displayed': 4294, 'relocating': 10497, 'takeover': 12481, 'tendency': 12608, 'swipe': 12410, '1068': 89, 'alluded': 1523, 'odds': 8989, 'flexes': 5502, 'hakoku': 6257, 'bombshell': 2479, '1109': 124, 'stumbled': 12185, 'viewers': 13540, 'livestream': 7832, 'posed': 9758, 'debunk': 3894, 'flashes': 5478, 'clock': 3163, 'transported': 12981, 'charade': 2995, 'masterful': 8175, 'gambit': 5807, 'gotcha': 6065, 'mortem': 8543, 'silenced': 11533, 'gunshot': 6199, 'prerecorded': 9873, 'ak': 1463, 'stream': 12131, 'phoenix': 9552, 'safety': 10976, 'bloodbath': 2421, 'armageddon': 1776, 'programmed': 9966, 'ooor': 9088, 'serophim': 11287, 'teleported': 12590, 'casualties': 2874, 'rides': 10761, 'evacuated': 4973, 'evacuate': 4972, 'converge': 3522, 'defenses': 3958, 'initiate': 6991, 'destruct': 4108, 'regains': 10418, 'sentience': 11257, 'escapes': 4942, 'gorose': 6053, 'originat': 9161, 'originate': 9162, 'tsuchigumo': 13077, 'illusions': 6775, 'shambles': 11345, 'spawning': 11858, 'multitude': 8608, 'pentagrams': 9469, 'friuts': 5699, 'frist': 5698, 'awake': 1975, 'theorize': 12685, 'flattened': 5483, 'liberate': 7742, 'revolts': 10731, 'operating': 9108, 'achievement': 1287, 'moronic': 8539, 'satisfactory': 11041, 'boned': 2485, 'epicness': 4906, 'pancakes': 9325, 'tuning': 13094, 'contingencies': 3487, 'strategies': 12118, '1104': 119, 'shutdown': 11501, '37e97r0q9mlc1': 551, '1189': 143, 'f9c0e47114e443c8e8594be2bbb3f262be4393a4': 5194, 'pasifistas': 9392, '1106': 121, 'controlling': 3515, '4vrq2sjkamlc1': 674, '61dacdad3340d5e765cf80cbddd90aea097b720e': 790, 'stating': 12028, 'ykdmvl9cbmlc1': 14122, '843': 977, 'b5efc375216276a5ffb8608f27b27ab835d5786c': 2021, 'detrimental': 4127, 'surprising': 12354, 'synchronize': 12449, 'accessible': 1257, '4k41v11rcmlc1': 665, '1144': 137, '3bd622e9627e73a094a0bfa9f5992a5c292f87d3': 569, 'database': 3850, 'conceived': 3363, '33h4bz8hemlc1': 525, '961': 1062, '9978d2814337d3d81507fec80edcdab9375298b7': 1082, 'l415uzqkemlc1': 7565, '8ed6b42904e9bf9feda85b7295f49da0409f76fd': 1021, 'ykmfmnt6fmlc1': 14123, '0f3471d51ac0671824e432a069a333c8b5c147e4': 55, 'installed': 7038, 'xr194ee4gmlc1': 14072, '003c12dc62a0b07e20af7ea17db79ab45998a64b': 4, 'awareness': 1986, 'evident': 4997, 'synchronizing': 12451, '1078': 96, 'msup7shjmmlc1': 8590, 'fad9bb0ec8e7298258a81769538981f2afc4609a': 5220, '1079': 97, 'fioihntfpmlc1': 5431, 'a071219e24f6e52be352e2d58f1ee0c15f820f2c': 1155, 'advantageous': 1373, 'variables': 13459, 'favour': 5301, 'confront': 3402, 'slouch': 11674, 'oopsie': 9091, 'obliterated': 8949, 'crowned': 3713, 'binks': 2343, 'incubated': 6907, 'nest': 8776, 'ffs': 5370, 'bing': 2339, 'elbalf': 4716, 'ridiculously': 10765, 'fraud': 5652, 'ailing': 1452, 'tumble': 13088, 'credibility': 3667, 'butt': 2707, 'fraudulence': 5660, 'contender': 3480, 'nifty': 8808, 'sleeve': 11655, 'rhino': 10748, 'whip': 13829, 'cosmic': 3580, 'paper': 9349, 'scissors': 11125, 'wheres': 13818, 'diss': 4309, 'counts': 3607, 'pushover': 10111, 'sweat': 12395, 'pell': 9462, 'skypie': 11624, 'granpa': 6098, 'awakenned': 1981, 'finance': 5416, 'battled': 2154, 'celstial': 2919, 'tap': 12514, 'memorys': 8280, 'lowly': 7936, 'impending': 6823, 'outbreaking': 9190, 'conjured': 3414, 'stance': 11994, 'chaoter': 2977, 'weild': 13780, 'warping': 13705, 'marshall': 8152, 'peasant': 9447, 'siblings': 11509, 'archeologist': 1744, 'irl': 7166, 'delved': 4002, 'poverty': 9802, 'orphan': 9171, 'remembered': 10513, 'scheming': 11110, 'neighborhood': 8757, 'stable': 11969, 'royalty': 10878, 'instances': 7041, 'gatling': 5848, 'esp': 4948, 'sharply': 11375, 'ungraded': 13262, 'def': 3941, 'simplify': 11559, 'whom': 13850, 'bets': 2307, 'vision': 13582, 'puppets': 10090, 'futher': 5770, 'remembering': 10514, 'cont': 3469, 'sukuna': 12275, 'pancaked': 9324, 'shifted': 11396, 'ocular': 8983, 'coating': 3201, 'adapting': 1327, 'contrary': 3504, 'gattling': 5849, 'cymbals': 3787, 'unjustified': 13279, 'unaffiliated': 13177, 'taxes': 12535, 'weaken': 13743, '1fov0vzh88lc1': 358, '714': 863, '6dbfbe31b661583eb1ef09ec1e04ca21732f6b55': 835, 'fundings': 5752, 'affiliated': 1405, 'quit': 10161, 'g92aimp9e8lc1': 5785, '1235': 151, '82639d54bf02806ff5a8cecda50f276b1c58dd80': 967, 'festival': 5361, 'philosopher': 9548, 'fma': 5533, 'alchemy': 1489, 'fictionally': 5378, 'homunculus': 6568, 'tax': 12534, 'regenerates': 10428, 'noticeably': 8881, 'inexperienced': 6937, 'pentagram': 9468, 'transmutation': 12974, 'undamaged': 13205, 'summons': 12289, '7340245763060010272': 880, '37258': 546, '1762574508681040199': 263, 'explainations': 5101, 'reaaal': 10257, 'panini': 9338, 'writingpanini': 14028, 'boss_aesop': 2522, 'sane': 11018, '_aesop': 1121, 'mia': 8351, 'memepiece': 8273, '1av19ll': 316, 'have_you_seen_this_man': 6353, '1762155708693225933': 262, 'k5vmzs7x00lc1': 7365, '1ee751d45de0ee652de9a1af31f45047a98ef9a2': 353, 'dhgk1wu410lc1': 4159, '2049': 403, 'e49656510e7a0b1dde984fd1aba602fce4eda1f8': 4582, 'sixteen': 11589, 'rays': 10252, '4jpdjbi910lc1': 664, '1723': 251, 'e9097b7ceb9d73a1b5b5cc3c81d92da4be8bbb41': 4597, 'イム': 14245, 'ネロナ家': 14253, 'sovereigns': 11827, '73jrgdik10lc1': 888, '1042': 79, '85e66e002108e7e48152c704f914e9f344b8afd3': 985, 'neronake': 8773, 'household': 6619, 'nero': 8771, 'ネロ': 14252, 'lustful': 7974, 'bpce5oir10lc1': 2554, 'df00b823582199b3aae6623461247027fef52132': 4154, 'ムー': 14257, 'gaymjz2820lc1': 5855, '1382': 180, 'b6ecb90f9127f45644c4198907e6b4929b0ae885': 2025, '大陸': 14274, 'tairiku': 12478, 'pacific': 9287, 'hzmqhxqb20lc1': 6699, '1524': 223, 'd8be7fe8a57b9bcf017bc42e21c71cb904f0c8d5': 3806, 'motherland': 8554, 'continent': 3486, 'sank': 11025, '501esste20lc1': 680, '8d3444d5eb96bec428e498b8302276e0f5fc1ac8': 1018, 'zkxollsj20lc1': 14184, '7ce4c28fa62b4ebe3f981a13ed567f88babd23e5': 940, 'achievable': 1284, 'civilizations': 3106, '4mdao1dm20lc1': 667, '203ee0d509494c383810063715236c284d9a33b7': 401, 'naacal': 8676, 'tablets': 12465, 'encoded': 4796, 'wisdom': 13909, 'spirituality': 11921, 'n3fx3a8q20lc1': 8673, 'c0a8ffd33a53d2050ca372a37d57222ef6940a09': 2725, 'temples': 12600, 'naga': 8677, 'bamqoums20lc1': 2083, '1472': 205, 'fcaf0600044b3bb4f60e696ddf9c0098827b2389': 5310, 'pun': 10073, 'nure': 8917, 'onna': 9083, 'lured': 7969, 'py2pqd1w20lc1': 10119, '1037': 76, '53109c38f18daf32092d1cb34a2381b1eeb403be': 693, 'consequence': 3437, 'ac6w1edz20lc1': 1247, 'bde0464d4d85d89e7a65973552536f73207f6101': 2178, 'x0bdfh6130lc1': 14054, '1122': 134, '04a96f42395898ea0f331c3e346839ca88f8c835': 20, 'haitian': 6252, 'voodoo': 13619, 'damballa': 3822, 'shed': 11380, '63eho2zh30lc1': 801, '1896a693002bd03024353d535a0a183b32e2ab13': 291, 'wveqberj30lc1': 14044, '4417265e3789dbd7d918dc59544b51a5d808575f': 611, 'na': 8675, 'q5rfqv8n30lc1': 10127, '71779e6b12bceaa3834664d748db224767da32ed': 864, 'sunk': 12296, '0c8l1pmr30lc1': 47, '756': 905, 'ea2962e7479e7c0486de8153d3aae2c86c75a110': 4599, 'wgo20hzu30lc1': 13799, '59590c845fd193f55d47f4cbeadef5890ec2dc5c': 744, 'emphasize': 4786, 'rescuing': 10601, 'ponygliph': 9728, 'escapees': 4941, 'frustrated': 5712, 'cackling': 2755, 'mariejoa': 8125, 'enraged': 4868, 'branch': 2565, 'incompetence': 6893, 'detaining': 4116, 'engrossed': 4839, 'appropriately': 1729, 'revelations': 10710, 'grief': 6136, 'brief': 2596, 'disagreements': 4229, 'expressing': 5130, 'unavoidably': 13182, 'dumbasses': 4538, 'spotlight': 11943, 'harass': 6305, 'negativity': 8753, 'visible': 13580, 'positivity': 9769, 'generates': 5875, 'engagement': 4832, 'inviting': 7156, 'reducing': 10388, 'disincentivizes': 4274, 'partial': 9377, 'ignite': 6750, 'inflating': 6952, 'temp': 12597, 'g2': 5779, 'infinite': 6947, 'crank': 3643, 'melt': 8266, 'temperatures': 12599, 'solve': 11777, 'ignited': 6751, 'bluegrass': 2443, 'doll': 4392, 'mega': 8256, 'convinces': 3534, 'kaiju': 7378, 'monk': 8504, 'establish': 4956, 'alternate': 1544, 'routes': 10873, 'yggdrasil': 14115, 'branches': 2566, 'valkyries': 13438, 'appereaning': 1708, 'sawyer': 11067, '8zbpndxv0skc1': 1037, '855': 984, '04ada4e3956518ab89a59d7a9b092923aa74f446': 21, '8guvvm9dhskc1': 1027, '940': 1055, '246bf84fa6b40dcd36c2337bd2c0bbff3b79d96d': 432, 'gradually': 6084, 'compares': 3312, '1095': 105, 'ac': 1246, 'unit': 13274, 'winters': 13900, 'summers': 12284, 'holographic': 6557, 'solved': 11778, 'spill': 11912, 'beans': 2186, 'meaningless': 8222, 'yh5thp6ykhkc1': 14116, '980': 1074, '6ec020462d432f596f8b7d519d94a5de64fff7ec': 838, 'laughters': 7642, 'goofiness': 6039, 'thinker': 12711, 'philosophical': 9550, 'breakthrough': 2583, 'trolling': 13050, 'ridiculousness': 10766, 'refute': 10415, 'travelled': 12999, 'toughest': 12903, 'undefeated': 13208, 'religion': 10493, 'bible': 2321, 'laughs': 7639, 'hindu': 6503, 'hanuman': 6293, 'brushed': 2631, 'thougt': 12730, 'rundown': 10910, 'encyclopedia': 4806, 'brittanica': 2606, 'ramayana': 10213, 'exploits': 5114, 'narrated': 8696, 'sanskrit': 11026, 'poem': 9693, 'rama': 10212, 'nymph': 8927, 'mistook': 8439, 'indra': 6929, 'thunderbolt': 12764, 'jaw': 7241, 'hanu': 6292, 'misbehave': 8411, 'sages': 10982, 'sita': 11580, 'ravana': 10246, 'lanka': 7610, 'sri': 11961, 'jambavan': 7232, 'bears': 2193, 'strait': 12113, 'watery': 13729, 'demonesses': 4014, 'swallowing': 12387, 'himalayas': 6497, 'medicinal': 8246, 'herbs': 6453, 'restore': 10656, 'freeing': 5672, 'bolt': 2474, 'regain': 10417, 'likelihood': 7777, 'kizarus': 7476, 'lottery': 7917, 'purposely': 10101, 'handled': 6281, 'screw': 11148, 'shoving': 11471, 'mucifer': 8598, 'holder': 6545, 'torso': 12881, 'hyping': 6688, 'legitimitally': 7703, 'lesson': 7721, 'robins': 10819, 'nt': 8898, 'effected': 4675, 'slippers': 11671, 'gaint': 5799, 'spine': 11915, 's01pa3ktyakc1': 10936, '782': 923, '8f271b429d3d2cc412869114ee4027a8f96ac247': 1023, 'beatdown': 2199, 'defintely': 3970, 'unravel': 13314, 'pew': 9536, 'commodore': 3295, 'rear': 10297, 'temporarily': 12601, 'commanding': 3284, 'squadron': 11955, 'seniority': 11243, 'reviving': 10727, 'senior': 11242, 'defintion': 3971, 'zoom': 14196, 'simultaneously': 11562, 'females': 5351, 'fiddling': 5379, '2x8hkl5e97kc1': 494, '29b9acbe18c537b00b4d6d0848cad0bc5352f6f2': 464, 'discrediting': 4257, 'hastily': 6336, 'stack': 11971, 'revelation': 10709, 'ablaze': 1212, 'riots': 10783, 'resign': 10614, 'academia': 1249, 'prospect': 10013, 'arise': 1766, 'unfold': 13253, 'respawns': 10633, 'detached': 4111, 'feasibly': 5324, '26l61vqhw5kc1': 449, 'ddbda375f4ab575fe37f7994f2b7fb18580e2e4f': 3870, 'ssg': 11962, 'murderer': 8619, 'redeemable': 10375, 'merked': 8310, 'stabs': 11970, 'amplifying': 1588, 'agrees': 1441, 'assembled': 1849, 'agendas': 1430, 'moat': 8455, 'fanboying': 5261, 'unintentionally': 13270, 'gatekeeper': 5842, 'global': 5977, 'tearing': 12559, 'underrated': 13225, 'yqjo4mhfi_g': 14147, 'kr194tt9xrlgwidi': 7515, 'firing': 5437, 'thwarted': 12767, 'subjugation': 12208, 'extort': 5149, 'sympathizers': 12444, 'replace': 10558, 'optics': 9130, 'revolting': 10730, '1jilj1il': 361, '1760008028483375177': 261, 'dope': 4419, 'dummy': 4542, 'gage': 5792, 'individually': 6927, 'affectionately': 1404, 'fails': 5226, 'scrub': 11157, 'exterminated': 5142, 'despise': 4096, 'failure': 5227, 'horn': 6592, 'punched': 10076, 'galling': 5805, 'retrovirus': 10691, 'choppersphage': 3060, 'fatal': 5287, 'counters': 3602, 'unsavable': 13319, 'medical': 8245, 'bout': 2545, 'collaborating': 3230, 'secure': 11195, 'praise': 9825, 'premature': 9861, 'inhereted': 6980, 'xebecs': 14067, 'qnd': 10136, 'suceed': 12241, 'parralel': 9374, 'leaks': 7671, 'handy': 6286, 'sprinkle': 11951, 'guise': 6193, 'premonition': 9862, 'fs': 5716, 'defensively': 3960, 'offensively': 9003, 'unbeatable': 13184, 'meddled': 8242, 'shaking': 11339, 'ch1107': 2949, 'deserved': 4079, 'dat': 3848, 'chu': 3074, 'xddd': 14064, 'footsteps': 5570, 'protege': 10025, 'subordinate': 12214, 'accurate': 1278, 'asides': 1827, 'discovery': 4255, 'taboo': 12466, 'defo': 3975, 'concern': 3372, 'timing': 12799, '38': 553, 'disappearance': 4232, 'visited': 13584, 'ep887': 4904, 'encourage': 4803, 'coincidental': 3221, 'greatens': 6117, 'returning': 10694, 'offensive': 9002, 'regenerative': 10431, 'gauge': 5850, 'warming': 13698, 'outwitted': 9219, '1ar8mu2': 315, '_the': 1146, '_void': 1149, '_century': 1126, '_and': 1123, '_nika': 1140, '_fallen': 1129, '_angel': 1124, 'imu_the_void_century_and_nika_the_fallen_angel': 6858, 'courageous': 3612, 'leaders': 7661, 'wire': 13906, 'tapper': 12516, 'descend': 4062, 'h1ks0l105uic1': 6220, '5e11735bccca9a5e160383236b3e51e4fe05b925': 761, 'discovers': 4254, 'ponegliffs': 9719, 'circumnavigate': 3093, 'channeling': 2972, 'lyf1qm4pauic1': 7979, '749': 896, '834d7b5f9386b9ad63b18764d901b9cd06ecaea9': 974, 'lode': 7859, 'peg': 9459, 'charred': 3004, 'klabautermann': 7477, 'enn7jj9zauic1': 4863, '720': 869, '7685e3e90fa53e0a8d47a1dfec1351910b41e38f': 913, 'whirlpool': 13833, 'oro': 9169, 'jackson': 7223, 'enormous': 4865, 'innards': 7001, 'locker': 7856, 'dangerously': 3831, 'dqor1vxdcuic1': 4451, '1300': 165, '6dc39c70d53c4dfe740787b9dfa89934ca5cab01': 836, 'surrounded': 12356, 'stumble': 12184, 'pedestal': 9450, 'sunlight': 12298, 'absurdity': 1238, 'antics': 1654, 'wukong': 14042, 'ogp2xvc9buic1': 9024, '86e2f233161bb4d6ae1b2e844046378a1e6dae8d': 991, 'informs': 6967, '8gj3fcjfbuic1': 1026, '91285f8ccea6469a4bf568a577c3351e02a5397d': 1045, 'souvenir': 11826, 'conceives': 3364, 'entrusts': 4894, 'hedged': 6411, 'rope': 10857, 'usher': 13388, 'benevolence': 2286, 'govern': 6070, 'aims': 1456, 'invited': 7155, 'pronounced': 9993, 'journalist': 7307, 'dj': 4351, 'ry960oa4euic1': 10927, '747947786d9ac87cc55ee54584d7bfe5b2a03996': 894, 'upvotes': 13367, 'momoiro': 8490, 'collecting': 3236, 'recipes': 10326, 'okamas': 9037, 'darling': 3845, 'okama': 9036, 'fended': 5355, 'liners': 7801, 'exhausted': 5057, 'spouting': 11946, 'kun': 7536, 'bouef': 2536, 'hottest': 6612, 'needless': 8740, 'ti': 12769, 'ditched': 4336, 'mistreated': 8440, 'kindness': 7448, 'exoscaleton': 5073, 'proving': 10037, 'merging': 8308, 'comprehensive': 3351, 'merges': 8307, 'egypt': 4699, 'settlement': 11306, 's9k29vj39oic1': 10944, '9da146cd4fccef86381b9ae5c77961351fde0731': 1094, 'conspiracy': 3452, '9zg9uvze9oic1': 1114, '41874740a3b33a5aa212ee1487aae37636188514': 599, 'landmass': 7603, 'thriving': 12745, 'botany': 2525, 'lush': 7971, 'birkans': 2354, 'balloons': 2080, 'spaceys': 11836, 'xfvnhfqbeoic1': 14068, '812': 963, '291641a1ddaac48690ea9abf28f59742a4733e6e': 461, 'technopolis': 12575, 'oqmte31iaoic1': 9134, '3a51a046943ab27165f8f45d3d7b4ca420e9098f': 566, 'marvels': 8156, 'offshoot': 9018, 'merfolk': 8303, 'minks': 8397, 'tontata': 12858, 'advancements': 1371, 'bonded': 2482, 'transcend': 12949, 'reincarnating': 10452, 'comfortably': 3278, 'landlocked': 7602, 'evolved': 5006, 'darkened': 3840, 'supply': 12318, 'manifestation': 8077, 'yxx02ehycoic1': 14158, '562bbe769bb290d15462ff95842a174532f13843': 716, 'jealous': 7250, 'plotting': 9680, 'degenerate': 3979, 'offspring': 9019, 'merged': 8306, 'undying': 13244, 'saiyans': 10993, 'p8xydplreoic1': 9283, '880bc272fb25913c421c230b66c2b88325b5aa09': 995, 'benevolent': 2287, 'mutliple': 8646, '0ykp60k5foic1': 60, '1177': 141, 'b602591712c04bd5e9cdc65f98c57729f8c7e807': 2023, 'hindered': 6501, 'wedlock': 13770, 'traveled': 12996, 'puffy': 10061, 'fortunate': 5618, 'tujbzby1eoic1': 13087, '1391': 182, 'd66e73264546a254cf46c4f3324645518545b4a2': 3801, 'upset': 13360, 'palling': 9319, 'sing': 11566, 'shanty': 11360, 'kaguya': 7370, 'seething': 11215, 'stretches': 12142, 'byij3oxyhoic1': 2718, '7ad7afae855527fca58fd4263482068b9624dff5': 935, 'degeneracy': 3978, 'slimy': 11668, 'correcting': 3567, 'representative': 10576, 'citizenry': 3098, 'affectation': 1400, 'unchallenged': 13197, 'manifests': 8082, 'opposition': 9123, '3l3djy6fjoic1': 582, 'a8c48fc64fe7fea853067d584a2c479012052bbd': 1181, 'driving': 4499, 'leviathan': 7733, 'l9xao7syjoic1': 7569, '1059': 83, 'f946622e342d340633b3ecd88845716f0276d9a3': 5193, 'adopt': 1359, 'ia34quzoloic1': 6707, '480': 629, '6a17fe2cb48771a77abfcfaa6d56029e1391a54b': 829, 'oncoming': 9061, 'consolidate': 3450, 'dared': 3838, 'invaders': 7138, 'synchronized': 12450, '0dftk66knoic1': 49, '501': 679, 'ada23423207f845b30e19e1fbebdfd64f811cd2f': 1322, 'sadly': 10969, 'citizen': 3097, 'attempts': 1918, 'refuses': 10414, 'seizes': 11223, 'fortress': 5617, 'vaporize': 13456, 'capone': 2815, 'bege': 2231, '96ki31veooic1': 1069, '4966875d1a6f439e86454f14027004805330b3d5': 638, 'stained': 11977, 'reconvenes': 10346, 'distant': 4316, 'psychopathic': 10053, '5kjs85frpoic1': 771, 'a9d0b99f8d6cfeb2ece4015183f1a39e0f9a11d8': 1186, 'cleansing': 3137, 'carve': 2863, 'ladmasses': 7587, 'soaked': 11748, 'jormungandr': 7303, 'jye9mhyuqoic1': 7358, '1536': 224, 'a149c70a6f51b9d9b2b6d6aa9cb6dc7f1a278d57': 1159, 'dumped': 4543, 'foggy': 5546, 'robotic': 10822, 'ct62nz4iqoic1': 3732, 'f6432430568111ee684d6f5b73e824d781168aa7': 5185, 'phantom': 9541, 'canopy': 2798, 'enslaves': 4872, 'establishes': 4958, 'birthplace': 2358, 'florian': 5521, 'triangle': 13022, 'tsdaqzx5roic1': 13075, '790': 930, '9860734f4a20b8bcd43b40f50382d4c67358f942': 1075, 'judas': 7326, 'fmv828ytroic1': 5535, '558': 709, 'b5ff7c4cdb823250ccbb6174dadaaffc4f8df2f4': 2022, 'roles': 10839, 'rebuke': 10315, 'laments': 7597, 'vault': 13474, 'foundation': 5626, 'supporters': 12323, 'treachery': 13004, 'inital': 6987, 'lamented': 7596, 'smiled': 11701, 'materialized': 8191, 'defy': 3977, 'traitors': 12945, 'lilly': 7788, 'paws': 9428, 'heroism': 6463, 'assumes': 1873, 'devours': 4152, 'casts': 2871, 'brands': 2568, 'infiltrate': 6945, 'poet': 9694, 'fuller': 5741, '1650': 242, 'darkest': 3842, 'dominance': 4400, 'lieutenant': 7757, 'storage': 12098, 'disguised': 4269, 'swamp': 12389, 'havoc': 6358, 'mariojoa': 8137, 'becuase': 2215, 'elite': 4740, 'arriving': 1794, 'objectives': 8945, 'blame': 2386, 'scapegoat': 11086, 'narratively': 8700, 'hound': 6615, 'flimsy': 5508, 'semblance': 11235, 'unusable': 13335, 'discredit': 4256, 'spy': 11954, 'harvesting': 6330, '9ptafqupvfic1': 1107, 'ab339af48cf7a97e677252fa57661f7888903758': 1195, 'dissolved': 4313, '6sgq2g50xfic1': 849, '88324e10b66b25e44523a1b95123aa1323e92d1f': 998, 't0oh5zivwfic1': 12460, '372': 545, 'f09e4b549efadde977b0f7bde586ae2b0fe8d4d5': 5170, '1w1u3kj4vfic1': 370, '598': 746, 'fe3f3e99806661a99bbf2efa4ab88633577bbba3': 5317, 'grandson': 6096, 'm3ms1vi78kic1': 7986, '238': 421, '9e9f2a572c1e33ef5e421f0753d7483225fbbad8': 1097, 'delve': 4001, '5e16x9tqufic1': 762, '13b86518f234f5c335f24e254908669cc090b444': 187, 'infecting': 6940, 'yz0t1qi04gic1': 14161, '8520b3c0f287eabae8273391d8c35e9915c98f30': 983, 'diez': 4184, 'x44f0tik0gic1': 14059, '446': 612, '2a79e339724667fc2be0c73792a28fb3b31ec19a': 467, 'rpdli48csfic1': 10879, '627': 794, '8f88f9976f400769e91bb85c2586707ec39c10f2': 1024, 'grandmother': 6095, 'knq5sts1tfic1': 7499, '9f6061977483313078f2ebcd925f1a00fef9096b': 1102, 'centaurs': 2926, 'satyrs': 11051, 'ign4okudtfic1': 6749, '274': 451, 'b40d5ee4991244808d0f55aa6f10bfe29845682d': 2014, 'harpy': 6327, 'aeschylus': 1388, 'gorgons': 6050, 'gacceby05gic1': 5789, '350': 532, 'a6b5d400f070766433b74230fd7a8a5f1e3d53c4': 1176, 'geryon': 5909, 'nvi9u664tfic1': 8925, 'dc63a48194529636563a88b564c93458b29edc6f': 3866, 'nephew': 8765, '3rji47xuvkic1': 586, 'f378d8e90d583e8a5ee0c880acd8015efa4a8733': 5180, 'treatment': 13012, 'stem': 12056, 'cells': 2918, 'transplant': 12977, 'procedure': 9942, 'hematopoietic': 6444, 'transplantation': 12978, 'hematopoietic_stem_cell_transplantation': 6445, 'marrow': 8148, 'cancers': 2784, 'intact': 7056, 'mutated': 8645, 'mw0fd9goehic1': 8651, '587': 737, '2fdada18eadac6102d1e5467e6c37b375422686d': 484, 'chemical': 3027, 'extracts': 5152, 'jewel': 7260, 'kt3pl4ei1gic1': 7523, '512': 686, '8e7e8c1b6a5fae288ce19c8d25c29aa76e163f35': 1020, 'karmic': 7396, 'paste': 9408, 'kurozumi': 7545, 'higarashi': 6481, 'mane': 8067, 'ised': 7178, 'impersonate': 6828, 'sukuyaki': 12276, 'exposes': 5124, 'blakckbeard': 2385, 'cunning': 3747, 'switchero': 12414, 'ponoglyph': 9726, 'fightner': 5395, 'furthest': 5766, 'marinefort': 8134, 'stock': 12081, '2019': 387, 'ceasar': 2906, 'weather': 13760, 'phenomena': 9544, 'misdirection': 8413, 'awakenings': 1980, 'afterlife': 1417, 'hallowed': 6263, 'halls': 6264, 'dads': 3813, 'fury': 5767, 'thematically': 12668, 'kink': 7459, 'contradicts': 3503, 'utmost': 13414, 'sock': 11756, 'akainus': 1469, 'mindset': 8386, 'challenged': 2959, '1043': 80, 'eggland': 4693, 'reincarnated': 10451, 'rndis_mzluy': 10806, 'o8ujgjagqpvyanzc': 8933, 'tune': 13091, 'kioga101': 7463, 'celebration': 2914, 'prayer': 9829, 'utilized': 13408, 'drumbeat': 4514, 'snuff': 11746, 'shapes': 11363, 'symbolising': 12437, 'tying': 13123, 'symbols': 12442, 'depleted': 4052, 'stoped': 12093, 'frequency': 5682, 'resonance': 10626, 'produces': 9955, 'kutw648p0lgc1': 7546, '496': 637, '4f69a39eadfc304969c0b0cf192cfa188c45a529': 659, 'fashion': 5282, 's28l5e8q0lgc1': 10941, '638': 800, '4f29a919a88b6c84d0d49663dc711930c217d9aa': 657, 'responsibilities': 10647, '35bppu12yagc1': 537, 'ad4bbdbc6b1447a972cc924f0eb9017387b9313f': 1320, 'relation': 10469, 'web': 13761, 'f6bti598wagc1': 5186, '596': 745, '381975f73cc7267c05cdfa98a5782e33b3873e56': 555, 'palxxt79clgc1': 9321, '150': 215, 'c1eabd3e513a56f3716ddecfdf803df8d945541a': 2730, 'l7b2uef8clgc1': 7567, 'b4a958c02c5e30bfaa3aa228d4ec24c607db45c2': 2016, 'yasha': 14095, 'yaksha': 14085, 'kubera': 7524, 'prosperity': 10015, '2h9y7i20algc1': 488, '483': 632, '288d7a600202389a782be57e3e2da45aa3c3b8d6': 459, 'owns': 9273, 'yakshas': 14086, 'svyn7638rhgc1': 12384, '152': 221, 'c2499b1ca3287b0263aaac63ff6b706767ca0a17': 2733, 'sheperd': 11388, 'kw4ehs0n0lgc1': 7552, '404': 594, '44cfdda5af5c214fa4de8b668df5b9ae93b0f4e5': 613, 'pastor': 9410, 'umibozus': 13169, 'drowned': 4510, 'villagers': 13551, '13hur4dkgpgc1': 189, '502': 681, '9ea938ba78b1896613fd89574341385defa5b79c': 1098, '83gd07uzslgc1': 976, '368': 541, '47b25280f69d35bb193f270135acbe6fa3ddec99': 626, 'ammit': 1577, 'weighing': 13778, 'ceremony': 2939, 'judgement': 7328, 'gjn56twyslgc1': 5961, '485': 633, '4a082fad893d2959aa51d2286400174bc60ff999': 644, 'mashup': 8165, 't31sapx2hpgc1': 12462, '176': 260, '0a5873cb9bebf15e65d5ac70dcef48de9e38578d': 41, 'agricultural': 1442, 'jayo2pqelpgc1': 7247, '456': 618, '51564bbddb1fc35c101b0ee69fb106cdc140d538': 689, 'tengu': 12610, 'harbingers': 6307, '1shuvu6wlpgc1': 365, 'd5a0969f548bfe6f828aac88835f2e1a0aa3fc09': 3799, 'sukiyaki': 12274, 'sarutahiko': 11032, 'ōkami': 14211, 'earthly': 4616, 'kami': 7388, 'intimidating': 7117, 'satur': 11047, 'ozdemiroglunaz': 9278, '1753759684178174321': 259, 'mustafa': 8642, 'turkish': 13097, 'caporionepiece': 2816, 'goelequoyng': 6010, 'typos': 13131, '2euw4srevfgc1': 480, '689': 824, 'd455ce43258e36c0e949d1d3ffd4907043d3b0e7': 3798, 'favourites': 5303, 'opd2bebewfgc1': 9097, '726': 872, 'd014290d24edf65a6c103c0506471c264548640c': 3788, 'slept': 11657, '134': 175, 's2opq7b6zfgc1': 10943, '1305': 167, '9d6673ce8c59aa052837a291039017e68864fe6d': 1090, 'q20vmkcj1ggc1': 10124, '0c8927a56eea9a8022e90d91d639bb91566bc32d': 46, 'winter': 13899, '133': 173, 'i0qkamo41ggc1': 6704, '785': 925, '35af22bd78b1ee3bcc70faed417724d19dd7958f': 536, 'randy': 10222, 'gardner': 5827, 'illnesses': 6770, 'y2xbw1xl2ggc1': 14078, '0d6bf71c0d44e3b2cef693efaa99de674acf4c9c': 48, 'ea630cqp2ggc1': 4602, '1824a89716691e67f05e91d7bfe31131c45213e9': 283, 'principle': 9918, 'wiyn1mdt2ggc1': 13929, '779': 918, 'b58331e3a261f93d1179701bea8bed836854431b': 2018, '1h3oj2on3ggc1': 359, 'c5ef5dc2419e4ab4069156c4dfcba0537d15a65b': 2741, 'dense': 4029, 'absorbed': 1234, 'ed7n96ob4ggc1': 4643, 'ea349b897beaef6937455c3ea5558e572daa2489': 4601, 'flags': 5464, 'mustache': 8641, 'h14twgav4ggc1': 6219, '610': 786, '00adea084ae8fb421196fdbad4667cd2afcc6ed5': 6, '6yrbi9s55ggc1': 853, 'c2ff579bca77d02393331a6759f0c7434ec6f81d': 2735, 'endurance': 4818, 'oogzoqj85ggc1': 9087, '423': 603, '3d232182b349e99a61b920987fe446e4d4c59c48': 573, 'injuries': 6997, 'c9e5iwba6ggc1': 2752, 'af4573b65e352af8f0a774a4d62c92fe5177c01c': 1395, '0515tekp6ggc1': 23, 'fe20d21d595672254e9779e083fcec481fab412d': 5316, 'characteristic': 2989, 'kidnaps': 7433, '17th': 278, 'spain': 11840, 'bucaneer': 2643, 'nationality': 8710, 'somalia': 11779, 'i24a1nii7ggc1': 6705, 'd118e8176e98e523b82b354c120e527125eb0cb1': 3790, 'rno362sk7ggc1': 10807, '1297': 160, 'a212228c5e909c4ca571b0be0584a317c49c8d2f': 1161, 'ralph': 10211, 'delaheye': 3989, 'bqow3h7o7ggc1': 2555, '667': 812, 'ed5601c79858a72a7749f51456ccc830647cebee': 4642, 'additions': 1338, 'nd410k538ggc1': 8723, '731': 876, 'eff74affbbec7398fc68be17257843c2fd4e441b': 4673, '4djpo4068ggc1': 652, 'b066cdb05eaf181b99f0b017f10d833a488c3cff': 2004, 'embodies': 4759, 'kindred': 7449, 'protectors': 10024, 'embodied': 4758, 'represented': 10578, 'buddha': 2650, 'enlightened': 4859, 'smother': 11718, 'relaxed': 10475, '_vegapunk': 1148, 'undoubtedly': 13243, 'eras': 4925, 'abusing': 1243, 'tamate': 12498, 'blinded': 2407, 'stripped': 12156, 'motives': 8561, 'tempted': 12603, 'evade': 4974, 'wisely': 13912, 'applied': 1713, 'blogs': 2419, 'haoshoku': 6294, 'fragile': 5640, 'retirement': 10681, 'declares': 3925, 'shenanigans': 11386, 'photograph': 9558, 'uprisings': 13357, 'uprising': 13356, 'shocking': 11440, 'distribute': 4328, 'steps': 12062, 'drawbacks': 4470, 'immobilized': 6810, 'relate': 10465, 'nutrients': 8923, 'overstretched': 9248, 'g3': 5780, 'thougher': 12726, 'stretched': 12141, 'saggy': 10983, 'diverges': 4340, 'goofier': 6038, 'positive': 9766, 'startles': 12017, 'repost': 10572, 'subreddits': 12219, '2df': 475, 'easiest': 4622, 'biggy': 2332, 'highlight': 6485, '__': 1120, 'disregard': 4304, 'ghandi': 5917, 'robes': 10817, 'mortally': 8541, 'slaughtered': 11643, 'murderers': 8620, 'witnessing': 13926, 'hardship': 6316, 'washing': 13712, 'recruits': 10362, 'oops': 9090, 'sentomarou': 11261, 'sale': 10998, 'allegedly': 1506, 'appearing': 1702, '1006': 65, 'peek': 9456, 'tos': 12884, 'hanks': 6290, 'jumpfest': 7336, 'uk': 13151, 'visits': 13587, 'warn': 13699, 'gwwyn1jmyrfc1': 6212, '808': 960, 'dcdd6341ecb7e60d81e7d85f557a0c7ff21ee85b': 3867, 'secong': 11183, 'wheere': 13811, 'warns': 13702, 'fq7pqeu70sfc1': 5636, '529': 692, '61d70339429e2a17b4082d9e2ac250bffb027e88': 789, 'ods': 8995, 'lakgdh6m1sfc1': 7594, '174': 253, 'd9850b8cdb317974d7fffbf987df58fab66ade8b': 3808, 'befriend': 2227, 'equation': 4918, 'bcuz': 2176, 'bads': 2060, 'gaints': 5800, 'grp': 6160, 'bullshit': 2678, 'xdd': 14063, 'goda': 5998, 'ch1106': 2948, 'xdddd': 14065, 'decimation': 3915, 'discarding': 4247, 'siding': 11518, 'trait': 12943, 'activating': 1307, 'shutting': 11504, 'alerted': 1492, 'necklace': 8733, 'immerse': 6805, 'midgard': 8358, 'asgard': 1821, 'everybody': 4986, 'folk': 5550, 'interfere': 7093, 'prophecies': 10001, 'ragnarok': 10194, '1071': 92, 'caller': 2766, 'droggy': 4500, 'pzb3v4vhs4': 10122, 'ifuh488jt8': 6746, 'reinforcements': 10457, 'archealogist': 1743, 'fqxyuclq5gfc1': 5637, '540': 700, 'eaa913f513f710dec5aa669a2df57eaae2b55c95': 4603, 'izb9ig369gfc1': 7212, '482': 631, 'f0ca23a10f367ff02f4c266a46f915c92ff63556': 5171, 'materialization': 8189, '98gntxpf9gfc1': 1077, '515': 688, '7191cdfd4211b6df678d257c31152d30aa2fe766': 867, 'iuqe4gmjagfc1': 7203, 'ed9b788ebb0259e8eceedd338798d8181c68a60e': 4644, 'pondered': 9717, 'rspxy6hw5gfc1': 10884, '5acdb05a52e4725e3e822c1e9e7109dfb8ab6de7': 750, 'folktale': 5553, '7xpvm3nx5gfc1': 955, 'de2bd1b9192ad2a44aff1f9f7aa8f04aa022c0eb': 3872, 'gigantification': 5935, 'kiy613hz5gfc1': 7473, '311': 505, '82bf3a2c0a32b9588f1e299d8ce32e5adc3ca355': 969, 'zde3vnc06gfc1': 14169, 'c10f180594dd460566afdd25055bbb51edbb517d': 2729, 'totto': 12895, 'inferred': 6943, 'wgnedci26gfc1': 13798, '408': 596, '03aaad84e4eda4d25428755293cd987a6eb440e9': 14, 'nephilim': 8766, 'hybrids': 6678, '924w9bg66gfc1': 1049, '84a2c3c7c1b3e40876b2e2347efddc7a2f628456': 979, 'winged': 13892, 'jzagrv086gfc1': 7359, 'f79cbffc1751cdc3421b83cb91be70651c93113d': 5190, 'm17aypyp8gfc1': 7984, '319': 509, '3d2ae00e10104bc581239a02504be3a4784f7406': 574, 'um6sgvivggfc1': 13165, '6773e14a73b5d9b82cbe2a7711a8958605777a37': 816, 'rrpzb7islgfc1': 10883, '427': 605, '487f9c721976cadfb49a60d04232c76c9b2ebc4c': 635, 'usurped': 13403, 'svj31emkkgfc1': 12383, '06b25316179e7ee9db828e024b925a0dd783da5e': 29, 'inhabitants': 6976, 'm79koojmkgfc1': 7990, '33739d0df2be874c101c2c078c86c31cb8fa264d': 522, 'cftwc3hrkgfc1': 2942, '532': 694, '658421737d6d45f476442c4ed42fe913e1524c84': 808, 'wipe': 13902, 'fool': 5563, 'reporting': 10571, 'flair': 5466, 'actives': 1311, 'shuffled': 11496, '1105': 120, 'maximum': 8208, 'stickied': 12070, '1acbuqa': 313, 'turbulent': 13096, 'coat': 3199, 'senseless': 11249, 'cruelty': 3719, 'disdain': 4265, 'prejudice': 9860, 'breeds': 2590, 'bid': 2325, 'mascaracing': 8162, 'foil': 5547, 'disobedience': 4285, 'desobedient': 4090, 'disobeys': 4288, 'suppression': 12332, 'bucaneers': 2644, 'roads': 10810, 'organized': 9154, '1750187621765005594': 257, 'wpqb4u6t0oec1': 14009, '1997': 307, 'c49c205cc0488d99e22b3760f1790337420a07e7': 2739, 'barricaded': 2114, 'a7pxzxf31oec1': 1177, '711': 861, 'f58b531f7f40457a9fe15a47364260636ce5a5d0': 5184, 'sizes': 11594, 'deployed': 4053, 'vaqovth61oec1': 13457, '1adaa4c235a3386c393df1784744ab2229081eca': 314, 'coasts': 3198, 'hopeless': 6584, '9qq1tdo71oec1': 1108, '680': 822, '6c3fe468a4540aa87c1815c79c98c1370bfdf6d0': 832, 'moreover': 8532, 'protocol': 10026, 'authorized': 1949, 'y1lsygba1oec1': 14076, 'f1038a8780cfd551886797359d241623c628641a': 5173, '15u941mb1oec1': 235, '8817643e7d120e71d6657b0347c6172e066fe96c': 996, 'culminate': 3736, 'tomorrow': 12849, 'w66iovjm1oec1': 13642, '3f009ed862cb5f076b9381e60690d63cf721406c': 578, 'br79a6ir1oec1': 2556, '5bd670dd4b21ea42a5b394d8ebf2b1ceec8f2b3f': 752, 'sai': 10984, 'ideo': 6730, 'leo': 7716, 'hajrudin': 6254, 'orlumbus': 9165, '5640': 718, '001': 3, 'ibpp00bw1oec1': 6710, '1fb9c1ee8e2c67bb733a1d887b703acc9bdfc805': 357, 'historic': 6518, 'proportions': 10005, 'gvp6d7az1oec1': 6210, '679': 817, '00ccd4bf6f7bf5f7db62a9fd8bece7461712008f': 7, '1743432372463284385': 255, 'apparition': 1695, '1revv3m42oec1': 363, '632': 796, '582ec49e853a3707515a9ef667ce991d53565614': 733, '6lkadec92oec1': 844, '618': 788, '2a25f28bed4feb1f4fc84d131a8d2a83486aaad8': 466, 'jiken': 7268, 'cracks': 3639, 'redraw': 10384, 'izfyoylc2oec1': 7213, '1398a6c946d9dba1cff8cba0ffd40602f0c481f9': 184, 'merlinidc': 8311, 'involvement': 7159, 'rlm5uhnh2oec1': 10801, '622': 792, '4e9cd2499636e6450294c56b703861724851d366': 655, 'encompasses': 4798, '5600': 714, 'hm1x0w4n2oec1': 6537, '5c75247cb106e56d9a4ba6147c293f26b26ccd0e': 756, 'battlefleet': 2156, 'lw5bztuo2oec1': 7977, 'a3176605c878b022f4fe234efea20da218f19fa5': 1164, 'breaking2good': 2581, '1749889730576019760': 256, 'tunggtyu2oec1': 13093, '6add988d9a73b9c961cdc7e0b1743202c637024a': 830, 'ms78i2rw2oec1': 8588, '579': 728, 'ae0e620e7c697482a40ebc5f0c37cc5f8e693fcf': 1386, 'paralleling': 9357, '2dm9s67y2oec1': 476, '2ff595f2ed757c3b49df6a22176df2f405caddb2': 486, 'jya24i213oec1': 7357, 'a297986475cf4ebf77e33a1f60e2f2a08afa97aa': 1162, 'complements': 3334, '1751231534223208809': 258, '1103': 118, 'brainstorming': 2563, 'retained': 10673, 'storming': 12103, 'skepticism': 11598, 'alley': 1510, 'oop': 9089, 'bolts': 2475, 'yeet': 14106, 'supporting': 12324, 'extinguish': 5146, 'sophisticated': 11804, 'abundance': 1240, 'showcased': 11474, 'closely': 3169, 'deduction': 3933, 'chronological': 3072, 'updating': 13344, '_fruit': 1130, 'passion_fruit_': 9401, 'portuguese': 9756, 'maracujá': 8112, 'spanish': 11845, 'maracuyá': 8113, 'tupi': 13095, 'mara': 8111, 'kuya': 7548, 'cuia': 3735, 'plants': 9649, 'genus': 5898, 'passiflora': 9398, 'passions': 9403, 'persons': 9523, 'attributed': 1929, 'artistic': 1809, 'expressed': 5128, 'exaggerations': 5015, 'oval': 9221, 'inches': 6883, '62': 791, 'centimetres': 2929, 'variety': 13465, '8im7v6ejqco': 1030, 'deficiencies': 3962, 'kuni': 7537, 'superficially': 12303, 'satisfy': 11043, 'behavioral': 2243, 'guideline': 6186, 'unnatural': 13298, 'consumption': 3468, 'insaturable': 7011, 'inward': 7163, 'collector': 3241, 'restriction': 10664, 'booster': 2505, 'unambitious': 13178, 'unmotivated': 13296, 'passionate': 9402, 'oneself': 9073, 'strive': 12157, 'dominate': 4402, 'individuals': 6928, 'especial': 4949, 'beginnings': 2235, 'historians': 6517, 'libraries': 7751, 'surfaces': 12341, 'observe': 8955, 'marionettes': 8138, 'restricting': 10663, 'feathers': 5329, 'regard': 10420, 'consumers': 3466, 'determination': 4121, 'dojos': 4389, 'repeatedly': 10551, 'ought': 9184, 'guidance': 6184, 'dulacre': 4535, 'accuracy': 1277, 'lacks': 7584, 'lacked': 7582, 'competing': 3326, 'generalized': 5871, 'dependency': 4042, 'serum': 11291, 'injected': 6992, 'genetically': 5885, 'intent': 7070, 'stomach': 12086, 'chef': 3024, 'representations': 10575, 'cases': 2867, 'metaphors': 8337, 'longevity': 7885, 'decay': 3899, 'whales': 13803, 'elvis': 4746, 'presley': 9881, 'derive': 4059, 'cliché': 3146, 'tends': 12609, 'sufficient': 12255, 'causality': 2887, 'hypothetical': 6697, 'preferences': 9854, 'categorized': 2881, 'categorization': 2880, 'diverse': 4341, 'relating': 10468, 'overview': 9257, 'valentine': 13435, 'feather': 5328, 'adjust': 1346, 'obedient': 8938, 'lap': 7614, 'stereotypes': 12063, 'temper': 12598, 'lava': 7648, 'spewing': 11903, 'arrogantly': 1797, 'authoritative': 1947, 'ray': 10249, 'lifted': 7764, 'grounds': 6151, 'gravitation': 6113, 'expands': 5078, 'emerging': 4773, 'cycles': 3781, 'battling': 2161, 'acceptance': 1252, 'earning': 4613, 'weakly': 13750, 'practicing': 9824, 'commonwealth': 3298, 'oppression': 9126, 'loan': 7841, 'sharks': 11372, 'specialized': 11868, 'reasonably': 10300, 'embodiments': 4761, 'forming': 5609, 'willingness': 13882, 'bites': 2362, 'encompass': 4797, 'restrained': 10659, 'reassure': 10304, 'eradicated': 4923, 'believable': 2256, 'elaborate': 4712, 'venture': 13494, 'aimed': 1454, 'flavor': 5484, 'thinkable': 12710, 'costs': 3587, 'globe': 5978, 'tragedy': 12936, 'indefinitely': 6912, 'motive': 8560, 'headquarter': 6375, 'borrow': 2517, 'conceptualizing': 3370, 'conveyed': 3530, 'evolving': 5008, 'belami': 2251, 'spring': 11950, 'alleged': 1505, 'gamerant': 5810, 'sara': 11029, 'axolotl': 1996, 'axolotls': 1997, 'extensively': 5140, 'gills': 5941, 'declines': 3929, 'modestly': 8467, 'contributor': 3510, 'interpret': 7103, 'hazardous': 6364, 'birthed': 2357, 'eyg3b3mcoxc': 5164, 'thereby': 12693, 'cheating': 3015, 'requirement': 10591, 'conceivably': 3361, 'disconnection': 4249, 'assurance': 1877, 'unintended': 13269, 'deductions': 3934, 'extension': 5138, 'independently': 6914, 'evidently': 4998, 'evolutionary': 5004, 'arisen': 1767, 'billions': 2336, 'fleeing': 5493, 'predators': 9841, 'predator': 9840, 'sporadically': 11940, 'aggregations': 1434, 'lions': 7809, 'alligators': 1514, 'satisfied': 11042, 'raijin': 10197, '_island': 1135, 'raijin_island': 10198, 'equate': 4917, 'suffice': 12254, 'requirements': 10592, 'dxatu': 4566, 'dei': 3984, '_o': 1141, 'dei_o': 3985, 'spawned': 11857, 'smartest': 11690, 'egoistic': 4696, 'rewarded': 10741, 'arching': 1748, 'diluted': 4203, 'advertisement': 1383, 'tangents': 12503, 'headquarters': 6376, 'emerged': 4769, 'oppressing': 9125, 'storms': 12104, 'african': 1412, 'savanna': 11057, 'elephants': 4733, 'jqswiaumqnm': 7321, 'satzoifw2uw': 11052, 'shoulders': 11463, 'enduring': 4819, 'proved': 10030, 'worthwhile': 13996, 'panics': 9337, 'armour': 1781, 'rushes': 10917, '2027': 398, 'assumedly': 1872, 'typhoon': 13126, 'unaware': 13183, 'scolding': 11126, 'snap': 11731, 'extend': 5135, 'revolutionists': 10735, 'indicated': 6920, 'schedule': 11106, 'monday': 8498, 'tuesday': 13085, 'tuesdays': 13086, 'sth': 12068, 'leaked': 7668, 'jewelry': 7261, 'guarded': 6173, 'climbed': 3156, 'conversion': 3527, 'comprehension': 3350, 'uncertainty': 13196, 'unleashed': 13285, 'heartless': 6397, 'reveled': 10711, 'purgatory': 10095, 'nobodies': 8836, 'selves': 11234, 'emotionless': 4780, 'overtime': 9255, 'ansem': 1639, 'admitted': 1357, 'anticipated': 1651, 'despair': 4091, 'sensed': 11247, 'mechanism': 8238, 'programming': 9967, 'cindry': 3086, 'implanted': 6830, 'disobey': 4286, 'confirming': 3399, 'nautral': 8717, 'resilience': 10618, 'astonish': 1882, 'curses': 3761, 'enforce': 4826, 'blackberd': 2376, 'captained': 2822, 'honey': 6573, 'comb': 3259, 'snatch': 11734, 'thorough': 12722, 'decimated': 3914, 'analyse': 1592, 'inarguably': 6870, 'teamwork': 12556, 'outlasted': 9202, 'stomped': 12087, 'basement': 2124, 'facility': 5210, 'reactor': 10268, 'haywire': 6362, 'flies': 5506, 'explode': 5110, 'dignity': 4199, 'explodes': 5111, 'fiery': 5384, 'nuts': 8924, 'enslaving': 4873, 'eraficating': 4924, 'freaks': 5666, 'foods': 5562, 'unnamed': 13297, 'runner': 10912, 'scanlations': 11083, 'turnover': 13104, 'corrected': 3566, 'pastebin': 9409, 'localisation': 7847, 'provides': 10035, 'fastest': 5285, 'eiichirō': 4705, 'statements': 12025, 'narration': 8697, 'interpreted': 7106, 'smoother': 11716, 'choppy': 3061, 'chaining': 2954, 'comparisons': 3315, 'imperfections': 6826, 'stephen': 12059, 'paul': 9421, 'precise': 9837, 'spellings': 11896, 'nitpicking': 8828, 'pedantic': 9449, 'a4mratpz': 1171, 'toshika': 12886, 'zoo': 14195, '扉絵リクエスト': 14283, 'レストランでネズミのカップルのプロポーズが成功してデザートを運んでくるサンジ': 14259, 'nトシカｚｏｏ': 8931, 'proposal': 10006, 'pen': 9463, '1a': 311, '想いを乗せて撃ち抜け': 14280, 'fires': 5436, 'loaded': 7840, '1b': 318, 'tolerated': 12844, 'ilk': 6766, 'バッカニア族の子供': 14254, 'お前には奴隷になる事と死ぬ事しか許されていない': 14218, 'permitted': 9503, '1c': 332, 'sr': 11959, 'mommy': 8488, '母さんが死んだよその方が': 14288, 'いいよな': 14213, 'どうなってるベガパンク': 14232, 'こいつは死んだハズだ': 14222, '革命軍がくまを連れ去った数日後': 14302, '私はコイツの': 14297, '自爆スイッチ': 14299, 'を押したのだから': 14243, 'pressed': 9882, 'busōshoku': 2705, 'smashing': 11696, 'crumbling': 3721, '6a': 828, 'overseers': 9246, '世界最高権力者であらせられるぞォ': 14267, 'topmost': 12869, '6b': 831, 'exclamation': 5038, 'unprecedented': 13309, '世界の頂点を': 14265, '現奴隷が殴ったァ': 14294, '歴史的大事件だぞォ': 14287, 'tops': 12872, '7a': 933, 'install': 7037, '何が起きた': 14268, 'つけておらん': 14228, 'localise': 7848, '7b': 936, 'お前自身が': 14221, '爆弾': 14292, 'になれば奴らはお前を特攻兵器として使いかねんからじゃ': 14234, 'だが条件は守った': 14227, 'お前には': 14217, '完全停止スイッチ': 14276, 'をつけたのだそれを押された今': 14242, 'お前には意志もなく命令すら耳に入らぬ': 14219, '植物状態': 14286, 'になっておるハズ': 14233, 'halt': 6265, 'vegetative': 13487, 'commands': 3285, '8a': 1009, 'accounting': 1272, '動き出す理由も': 14270, 'ましてや': 14237, 'ボニーのいるこの島へ辿りつける理屈もないんじゃ': 14256, '科学的に': 14298, 'improbable': 6852, '8b': 1012, 'やはり本当なのか': 14240, 'バッカニア族の特性は体の強さではない': 14255, '彼らはかつて': 14279, 'gents': 5895, '8c': 1016, 'apprehend': 1721, '捕えきれず消えちまった': 14284, 'とても報告できねェ': 14231, '10a': 107, 'expla': 5099, 'おいベガパンク': 14216, 'これを何と説明する': 14224, 'お前の差し金か': 14220, 'instigation': 7045, '10b': 108, 'vegaunk': 13484, 'chalk': 2957, 'ーーそう取られても仕方がないな': 14263, 'ゆえと説明してもよいが': 14241, 'ーーyes': 14261, '10c': 109, 'regenerating': 10429, 'err': 4930, 'sighted': 11522, 'outlived': 9204, 'usefulness': 13383, '成程': 14281, 'それは人体の盲断': 14225, 'ぼうだん': 14236, '及び不具合': 14271, 'エラー': 14248, 'であるさらば用済みの男達': 14230, 'error': 4933, '盲断': 14295, 'rash': 10238, 'arbitrary': 1739, 'archaic': 1742, 'regal': 10419, 'stump': 12187, 'speakers': 11860, 'bastardised': 2142, 'sino': 11571, 'natsume': 8713, 'sōseki': 12459, 'literature': 7825, 'meiji': 8262, '10d': 110, 'erating': 4929, 'おい': 14215, '何で再生すんだあいつの体': 14269, 'geezer': 5863, '見せてみろ': 14300, '成長': 14282, '13a': 185, 'stratum': 12120, 'アトラス運べるか': 14244, '研究層': 14296, 'ラボフェーズ': 14258, 'labostratum': 7577, '13b': 186, 'talented': 12486, 'actors': 1316, 'idiomatically': 6732, '13c': 188, 'adjusting': 1347, 'sunglasses': 12294, 'embarrass': 4754, 'みっともねェよな': 14238, 'もっと濃いのをかけて来るんだったよサングラス': 14239, 'unsightly': 13324, 'shade': 11324, '14d': 212, 'declared': 3924, 'この島は': 14223, '世界政府': 14266, '害を成すと認定された': 14277, 'harmful': 6322, '14e': 213, 'infested': 6944, '世界の秘密を探究する者': 14264, '失われた種族の血を引く者': 14275, '古き神を呼び起こしてしまった者': 14272, 'ーーこの島は不都合に満ちている': 14262, 'inquires': 7006, 'inherits': 6984, 'ーーthis': 14260, 'wrongs': 14033, 'unblurred': 13189, 'cpkdukhig5': 3630, 'lobotomized': 7845, 'unnaturally': 13299, 'maintains': 8038, 'godvalley': 6009, 'aches': 1283, 'gv': 6209, 'slideshow': 11662, 'hauntinshade484': 6350, 'paragraph': 9353, 'favorites': 5300, 'ambiguous': 1566, 'strategic': 12117, 'advancement': 1370, 'assets': 1854, 'rigged': 10770, 'prevails': 9895, 'redditors': 10371, 'subreddit': 12218, '29': 460, 'reddstats': 10373, 'trending': 13021, 'ursus': 13376, 'oar': 8935, 'segment': 11216, 'mishief': 8419, 'beastly': 2195, 'midgardsnake': 8359, 'fenris': 5357, 'wolve': 13944, 'worldsnake': 13976, 'giantic': 5922, 'wraps': 14015, 'awakes': 1983, 'naglfar': 8680, 'battleground': 2157, 'capsured': 2820, 'chained': 2953, 'outer': 9196, 'tyr': 13132, 'anythign': 1664, 'hangs': 6289, 'ageless': 1427, 'hel': 6424, 'garm': 5833, 'iniciates': 6986, 'tricking': 13031, 'hödur': 6701, 'baldur': 2075, 'immmun': 6809, 'dmg': 4356, 'freya': 5687, 'basicly': 2131, 'mistletoe': 8438, 'resulted': 10666, 'baldurs': 2076, 'immidiat': 6807, 'befor': 2224, 'odins': 8993, 'firegiant': 5435, 'surt': 12360, 'gunfall': 6197, 'imposter': 6845, 'overwhelming': 9261, 'thx': 12768, 'expact': 5074, 'troops': 13052, 'gorusei': 6060, 'upperyard': 13355, 'joybois': 7311, 'encoutnered': 4804, 'dislocated': 4282, 'trias': 13024, 'balancing': 2073, 'usualy': 13400, 'referse': 10402, 'sustain': 12379, 'sussano': 12378, 'asce': 1816, 'brahma': 2558, 'kālarudra': 7560, 'daoism': 3836, 'yuánshǐ': 14156, 'tiānzūn': 12818, 'tàishàng': 13136, 'dàojūn': 4572, 'lǎojūn': 7982, 'imbalance': 6791, 'mystology': 8663, 'germanic': 5908, 'addapted': 1329, 'tribes': 13026, 'conquered': 3425, 'definatly': 3963, 'than': 12648, 'astonomical': 1884, 'tigger': 12781, 'obviuos': 8969, 'byahu': 2716, 'kraken': 7516, 'depicked': 4046, 'assassinate': 1841, 'tides': 12774, 'silence': 11532, 'modifications': 8469, 'accessibility': 1256, 'hacked': 6232, 'screens': 11145, 'assassinating': 1843, 'parameters': 9365, 'meantime': 8226, '1737864629521412213': 252, '4blbtlpyw2cc1': 646, '972': 1071, '1e965981f20e2409d105dfb1795314c3958c2d4d': 352, 'vq9t3g4ax2cc1': 13633, '1452': 200, '9f5bf0fb550b60de812f104cb99d9540cb4c71e8': 1101, 'stamp': 11992, 'bali': 2077, '8311zcckx2cc1': 973, '917': 1046, 'ea2d42f7e299007726ee55e7159b50f7eda9c80e': 4600, 'symbolically': 12436, '85ztsiayx2cc1': 986, '1081': 99, '25bf480fae316736e95e0994f3eba392304e431c': 443, 'v63czvz1y2cc1': 13424, '1484': 210, '0bbe918774b5d9c08dd97aa6c4f3c613d2e5c87e': 44, 'eiyd1lwdy2cc1': 4708, '400888a9e574fa2ccb8e36b45e75088df91e25d7': 593, 'b25t8gply2cc1': 2009, '56484cf5d66b9076adeb14e59762147b289c92c3': 719, 'j78upbw4z2cc1': 7216, 'b957f9a7e67cb15f12ae7c593564a7502d3f4a09': 2031, 'uaf2a5qfz2cc1': 13144, '3334': 519, '991d5716067f3ee7604066c5ae1d017012441cc7': 1079, 'hypothesize': 6696, 'worstgenhq': 13993, '6getwmhoz2cc1': 841, '2444': 428, '711ad34c35867708bafacd60474c6cc6c635e949': 862, 'z46tbtprz2cc1': 14165, '74fdf38706f8c00e80bcc61467cd627001c39c5f': 897, 'persist': 9512, 'stems': 12057, 'wke1vc4l03cc1': 13933, '20218ace496fda20cadc130a2965254fd3083eed': 391, 's2ftnzaq03cc1': 10942, '3333384fc06413a110385fa007970dbc9ea267ad': 518, 'ml3bf7c313cc1': 8450, '1384': 181, 'e8e4f61443193768d1473a34bb6e2cbc752a8880': 4595, 'genesis': 5883, 'c1t94dsg13cc1': 2731, 'a9fe14085877fd7ae5ae176b2ab4255ca001c9d0': 1187, 'vtzzyplm13cc1': 13636, '9d6bed36732ffde9fb3b60ec13b13dbbc1b44e6c': 1091, 'hlr52ayq13cc1': 6535, '1009': 66, 'ead7abc68af43dc2fab9a9a0c45e17a4e9a175cc': 4607, 'incarnated': 6877, 'u1sk0a5323cc1': 13139, 'a826d1ab1f3605d3ba546d039b9e6d427ab4ea48': 1180, '2czzwri523cc1': 473, '754': 903, 'ccac2c2952f3db30fb7a98d2780f3d910d5fa014': 2899, '295gmysc23cc1': 462, '732': 878, '093c02ca03f49700fc43a53584c77f86076fd7cc': 39, 'recapping': 10319, 'hanging': 6288, 'pros': 10012, 'cons': 3431, 'untouchable': 13333, 'representatives': 10577, 'follower': 5556, 'downside': 4444, 'vulnerable': 13637, 'leadership': 7662, 'bigest': 2329, 'zebec': 14170, 'senario': 11237, 'happend': 6297, '8i7dvlitqybc1': 1029, '6ccf742d1c996f00f79097346f932033b8ad8c6f': 834, 'glimpse': 5976, 'suspicious': 12376, 'gram': 6090, 'rev': 10703, 'masterminds': 8178, 'adoptive': 1361, 'leaking': 7670, 'thirdly': 12715, '1099': 106, 'viola': 13562, 'fondation': 5560, 'overlook': 9237, 'criminal': 3681, 'ridiculise': 10763, 'unending': 13247, 'praises': 9827, 'rebel': 10308, 'rebelling': 10309, 'humanization': 6642, 'resigned': 10615, 'painless': 9303, '0pqeva6fzfac1': 57, '138': 179, 'a658960776038ef2da8dc1e6d5b71df521e1b6c6': 1174, 'magically': 8014, 'psychologically': 10051, 'torture': 12882, 'shs': 11492, 'ufo': 13147, 'strawhatufo': 12125, '𝐌𝐚𝐩': 14314, '𝐨𝐟': 14322, '𝐊𝐮𝐦𝐚': 14313, '𝐒𝐨𝐮𝐥': 14319, '1740713241351987283': 254, 'retro': 10688, '5t584igmhv9c1': 775, '4cde3aed67940488bec4c0c048158aa0dd9d715c': 648, 'puns': 10087, 'lfe2rdkliv9c1': 7738, '722': 870, 'c427f8fc6fd9b503ce7d958112e03869b7530a23': 2738, 'pq25f6boiv9c1': 9821, '1400': 191, '49959acd0a123b09273dc0ba5df3858b7f07140b': 641, '1072': 93, 'bzu2mr1lkv9c1': 2722, '28132afba5b208a9dd1823c6fe0e7beeff14c2ee': 457, 'cutely': 3768, 'holo': 6554, 'horo': 6595, 'hollows': 6552, 'flayed': 5488, '1dx0zsldlv9c1': 350, '31b16715f9a464b86697e22c546099def61b2b91': 511, 'q51rzsrqlv9c1': 10126, '21fdf49841aaf154edc6ec9f55e0faebe5c8a817': 416, 'psychoanalyst': 10049, 'carl': 2846, 'jung': 7340, '𝑀𝑎𝑝': 14323, '𝑜𝑓': 14328, '𝑡ℎ𝑒': 14331, '𝑆𝑜𝑢𝑙': 14324, 'wj3fgxl5mv9c1': 13932, 'eed980da355f13086e9b7e042becddeb0655f69d': 4664, 'components': 3347, '𝑝𝑒𝑟𝑠𝑜𝑛𝑎': 14329, '𝑒𝑔𝑜': 14327, '𝑠ℎ𝑎𝑑𝑜𝑤': 14330, '𝑎𝑛𝑖𝑚𝑎': 14325, '𝑎𝑛𝑖𝑚𝑢𝑠': 14326, 'examine': 5016, 'tdibed9mmv9c1': 12544, 'a43887b29fe25f664a184767e594a09f504771ef': 1169, 'hp0dt6dwmv9c1': 6624, '9fee1ff5f02f0ac121c3559b984893a50eb6cb75': 1103, 'deflated': 3972, 'anima': 1611, 'animus': 1627, 'outwardly': 9218, 'shamelessly': 11348, 'pursued': 10104, '9yxaczlrnv9c1': 1113, 'f718c459e1217c6e5cb3ad12d28ae98e5e4ed6cd': 5187, 'repress': 10581, 'ourselves': 9188, 'rr796k7kov9c1': 10882, '7992c5bafe80ee70578a61bd8fccd75dc151f0d9': 931, 'ingested': 6974, 'retrain': 10683, 'd19iyo4cpv9c1': 3792, '62a43a94025705b6131e9290a5196a8d8b7cf8ba': 795, 'ego': 4695, 'centre': 2933, 'field': 5380, 'conscious': 3432, 'mi8zn63tpv9c1': 8350, 'a36f4df64c75ae14983657e0a6e18d9483d17c24': 1166, 'requests': 10588, 'esiba33cqv9c1': 4945, '8f92599354b9b4955db8588c27d5e827be7630ad': 1025, 'hlljgzboqv9c1': 6534, '8741a78456a2e5175ed7ad0fac2201d822c2d4ba': 994, 'freud': 5686, 'battery': 2152, 'diving': 4349, 'ejected': 4709, '8mlgtticsv9c1': 1032, '818c25862d1880973e95383668746f1675bdc525': 964, 'dut': 4558, '1sboogf9xv9c1': 364, 'a9a0836f3a51b9367ad05fdb4242985068c00394': 1184, '𝐊𝐔𝐌𝐀𝐂𝐇𝐈': 14311, '𝟎𝟏': 14352, 'uphxt3o0uv9c1': 13349, 'd0810e27df9b6c82ba76499c780bf8117ec90fa3': 3789, 'cvj270kbvv9c1': 3776, '786fd00d7afcff322cb55a17a4b290cfeb723193': 927, 'wondrous': 13955, 'dwarf': 4562, 'karakuri': 7393, 'denchi': 4026, '電池': 14301, 'chi': 3032, 'クマ池': 14249, 'zv612dfatv9c1': 14206, '9f10ab5734bdca4d65add6be8881fc2dfbfd86fd': 1100, 'inevitably': 6936, 'fraudmaker': 5655, 'chad': 2950, 'chin': 3045, 'showings': 11480, 'bum': 2680, 'dickrider': 4174, 'sandhersonia': 11015, 'dogshit': 4385, 'scrolled': 11155, 'dango': 3833, 'canonically': 2794, 'thrown': 12756, 'undeserved': 13237, 'asspull': 1867, 'powerups': 9817, 'bums': 2683, 'hypocrisy': 6693, 'defenders': 3954, 'improve': 6853, 'boosts': 2506, 'subconsciously': 12204, 'consciously': 3433, 'tons': 12857, 'kabuto': 7368, 'handling': 6283, 'whiny': 13828, 'r57oyu3fozvc1': 10171, '248': 433, '23a343ca370879ab1c212b6fa4a9cf2a254921e4': 422, 'r4bah0bgozvc1': 10170, '844': 978, '49c714e75e7ff9cfde1efff30bc4064fd8345caf': 642, 'oc3v3awoozvc1': 8970, '581': 731, '1439f871fea38b90a42659a426da7e33bd8e831a': 195, 'otter': 9182, 'bari': 2107, '1c9s8xk': 348, 'gritty': 6143, 'gore': 6046, 'gkzrqe0iyww': 5963, 'begbell': 2230, 'knife': 7482, 'dawg': 3857, 'clashes': 3123, 'nigga': 8811, 'outclassed': 9191, 'fucks': 5722, 'conveniently': 3520, 'screentime': 11146, 'relatable': 10464, 'weakling': 13748, 'lighthearted': 7768, 'loda': 7858, 'godliest': 6004, 'tongueless': 12853, 'salvation': 11005, 'homes': 6563, 'impregnating': 6847, 'violently': 13566, 'rape': 10231, 'raped': 10232, 'groom': 6146, 'choked': 3054, 'intestines': 7115, 'cousin': 3616, 'auntie': 1939, 'wid': 13857, 'husband': 6671, 'cock': 3206, 'molested': 8482, 'fetus': 5365, 'geniciding': 5888, 'bargaining': 2106, 'wlackbeard': 13934, 'laxmi_cht_fund': 7651, 'obligatory': 8947, 'aoghkb2chc': 1671, 'uncanny': 13192, 'distracting': 4325, 'retire': 10679, 'jobber': 7284, 'flex': 5501, 'meltdown': 8267, 'muh': 8604, 'brrrrr': 2627, 'wanks': 13677, 'lakainu': 7593, 'cleanse': 3135, 'rapist': 10235, 'pedophile': 9451, 'invading': 7139, 'occupied': 8975, 'ans': 1638, 'wanked': 13676, 'kuzaru': 7550, 'facebook': 5205, 'retries': 10686, 'mentors': 8293, 'wouldve': 14002, 'clowns': 3182, 'zolo': 14191, '1c8zh50': 345, 'lanji': 7609, 'multi': 8605, 'qgjlyakec7c': 10133, 'gb7nyxiy8insq2ft': 5858, 'consists': 3449, 'violating': 13563, 'seemd': 11207, 'trapping': 12985, 'prevents': 9900, 'stretching': 12143, 'paneling': 9330, 'duels': 4533, 'hitters': 6526, 'heights': 6421, 'scare': 11089, 'stalemate': 11984, 'vista': 13588, 'expendable': 5087, 'codes': 3211, 'craft': 3640, 'shansk': 11359, 'disingenuous': 4276, 'portrayal': 9752, 'medicines': 8248, 'packing': 9295, 'guiding': 6188, 'manhandled': 8073, 'mandatory': 8065, 'panty': 9346, 'whereabouts': 13816, 'fleshes': 5498, 'laughable': 7636, 'lengthen': 7712, 'asthma': 1881, 'racism': 10180, 'upward': 13368, 'stadium': 11973, 'cope': 3544, 'fests': 5362, 'handjob': 6279, 'tdh': 12543, 'stalled': 11988, 'lancuck': 7598, 'clears': 3141, 'ownad4699': 9269, 'frustrating': 5714, 'ulterior': 13154, 'buckingham': 2648, 'raising': 10206, 'jealousy': 7252, 'ducked': 4527, 'pierced': 9588, 'huffing': 6634, 'asthama': 1880, 'sanjitards': 11022, 'paywall': 9435, 'dig': 4193, 'handles': 6282, 'aesthetic': 1389, '3vg69v1tjjvc1': 588, '24431f371f93d49d139699fc70ecb2a39e115319': 427, 'eer91vtrjjvc1': 4668, 'dce581e914fe40968da4364c6e75d048f4583d02': 3868, 'aiaxan7mjjvc1': 1449, 'b352ce7263e33a11d29cda0c2480befdc87205c3': 2012, '7m48xangjjvc1': 950, '6ea09805daaa29ccb498f18bba430c5eefe9628a': 837, 'bh9jytg8jjvc1': 2316, '1213': 150, 'b8c464518fe32c71909da1e3ba6c6234908b2b82': 2030, 'xpscj603jjvc1': 14071, '91044ed91df0c20c753c4f58d2457d87aef38a56': 1044, 'vp6t207rijvc1': 13629, '1914': 295, 'e906449345692dc7787b79d1bfa1d86c4e40cbdd': 4596, '1c8ebh2': 341, 'vibranium': 13521, '1c8d61g': 340, 's0qfwqha9jvc1': 10938, 'remotely': 10531, 'spade': 11838, 'bloodiest': 2423, 'seties': 11300, 'keeo': 7409, 'admital': 1356, '10x': 113, 'whining': 13827, 'asspulls': 1869, 'neg': 8747, 'chads': 2951, 'upscaled': 13359, 'lane': 7606, 'fraudscaling': 5658, 'huyandere': 6674, 'aftermath': 1418, 'fullmetal': 5743, 'alchemist': 1488, 'offscreens': 9017, 'godatards': 5999, 'shakespeare': 11337, 'saiyan': 10992, 'squishy': 11958, 'capsized': 2818, 'hungrier': 6656, 'secrecy': 11184, 'salvaging': 11004, 'chart': 3005, 'buyers': 2713, 'restarts': 10652, 'goat': 5992, 'vid': 13534, 'pjpd5asyf54': 9629, 'tcomv1rxabyaxpng': 12541, '1c7vh3u': 339, 'kwpps83ecfvc1': 7554, 'a91fbed79f6c794e01b3316e898ff73249c115ff': 1182, 'tape': 12515, 'coffee': 3212, 'exclusive': 5041, 'precisely': 9838, 'invalid': 7140, 'sickbeard': 11511, 'heresy': 6457, 'acknowledge': 1291, 'drops': 4505, 'decelopments': 3903, 'elsewhere': 4744, 'mangakas': 8070, 'innovative': 7005, 'toddler': 12828, 'smacking': 11685, 'nonstop': 8853, 'tunes': 13092, 'murrrrr': 8623, 'psycho': 10048, 'correlation': 3572, 'uniqueness': 13273, 'asf': 1820, 'glazers': 5973, 'malding': 8051, 'dookie': 4414, 'hiyori': 6530, 'jika': 7267, 'nasjuro': 8704, 'stalls': 11990, 'piter': 9623, 'wrecking': 14020, 'backpocket': 2047, 'dumbest': 4540, 'gassing': 5839, 'accord': 1268, 'stellas': 12054, 'synchronise': 12447, 'accounted': 1271, 'distasteful': 4317, 'recycle': 10366, 'fools': 5566, 'casual': 2872, 'filter': 5410, 'yuyu': 14155, 'hakusho': 6260, 'rounds': 10871, 'fraudulent': 5661, 'negged': 8754, 'bathroom': 2149, 'undo': 13242, 'restraints': 10660, 'navigate': 8719, 'glorbing': 5979, 'heed': 6413, 'ceiling': 2911, 'operations': 9110, 'domina': 4399, 'emergency': 4771, 'tournement': 12906, 'participant': 9378, '1c75bdt': 338, 'inconsequential': 6896, 'exchanged': 5032, 'policy': 9712, 'contentpolicy': 3483, 'himkainu': 6498, 'qg5e030kr6vc1': 10132, '72791bd4bab78daf71faeec50968886d3466f28a': 873, 'recruitment': 10361, 'woulda': 13999, 'throwback': 12754, 'buncha': 2685, 'unspoken': 13326, 'settle': 11304, 'disputes': 4303, 'throb': 12747, 'voting': 13624, 'antenna': 1647, 'wireless': 13907, '1c6tomg': 336, 'ajenda': 1462, 'blud': 2439, 'cancer': 2783, 'contacts': 3471, 'stap': 12003, 'ehh': 4701, 'handedly': 6277, 'legion': 7698, 'unabated': 13174, 'testament': 12636, 'tumult': 13089, 'inadvertently': 6867, 'unwavering': 13336, 'timely': 12792, 'injects': 6994, 'tipping': 12805, 'elusive': 4745, 'smirk': 11705, 'taunts': 12533, 'reverberates': 10715, 'prompting': 9991, 'curiosity': 3752, 'anticipation': 1652, 'signaling': 11526, 'relentless': 10482, 'fueled': 5724, 'presses': 9883, 'carving': 2865, 'ferocity': 5359, 'undeterred': 13240, 'steadfast': 12042, 'reverberate': 10714, 'setback': 11299, 'muso': 8637, 'donuts': 4411, 'cloned': 3165, 'alter': 1541, 'grouping': 6154, '1c694j9': 335, 'retired': 10680, 'characterrant': 2993, '1c5s3hn': 334, 'liking_something_too_much_is_cringe': 7784, 'shaekspeare': 11331, 'adressed': 1364, 'comparasion': 3308, 'tastes': 12528, 'fumbles': 5746, 'remake': 10506, 'slap': 11635, 'wnated': 13937, 'hapoen': 6295, 'buildups': 2669, 'contrivance': 3511, 'performers': 9489, 'chaoters': 2978, 'chaps': 2983, 'blinked': 2410, '1j5tfrubzxuc1': 360, '552': 706, 'b8551ff3cbfd2eaffcae693e8279d17923c3ae9b': 2029, 'skypaeia': 11619, 'boots': 2508, 'ammo': 1578, 'bumass': 2681, 'thirsty': 12716, 'soooooo': 11802, 'milking': 8374, 'incorporates': 6900, 'modification': 8468, 'gotton': 6068, 'moss': 8546, 'retcon': 10676, 'towars': 12910, 'odens': 8991, 'statisfy': 12031, 'granting': 6101, 'shorter': 11454, 'shirohebi': 11423, 'faye_nicoie': 5306, 'switches': 12416, 'cliffhangers': 3151, 'blueballing': 2442, 'dormant': 4420, 'longterm': 7887, 'polearm': 9708, 'lace': 7578, 'evaluate': 4975, 'overhyped': 9235, 'nusjura': 8919, 'headstart': 6378, 'farting': 5279, 'shippuden': 11418, 'lockdown': 7854, 'milk': 8373, 'crappy': 3645, 'completly': 3339, 'fraudish': 5654, 'vy43o868euuc1': 13638, '662': 811, 'c2a720851c1c433b7d323d7c939c047c796134e3': 2734, '3958458': 562, '2011': 380, 'dldo': 4354, 'moonwalk': 8525, 'nevermind': 8783, 'weaklings': 13749, 'g0da': 5778, 'fabrizio': 5203, 'andré': 1603, 'racconta': 10176, 'perplexing': 9508, 'freedoms': 5670, 'fated': 5289, 'frees': 5674, 'everyones': 4989, 'predetermined': 9843, 'treble': 13014, 'waffling': 13648, 'invitation': 7154, 'izo': 7214, 'reclaim': 10329, 'wss': 14038, 'fledged': 5491, 'pathetically': 9415, 'mile': 8370, 'lovable': 7920, 'mend': 8284, 'scumbag': 11158, 'tiny': 12802, 'mfs': 8347, 'penetrating': 9464, 'rodent': 10830, '112': 133, 'repelling': 10555, 'barrier': 2115, 'kumabots': 7531, 'prepares': 9869, 'motherflame': 8551, 'electricity': 4725, 'alerts': 1493, 'mariejois': 8126, 'forgiveness': 5595, 'engulf': 4840, 'exits': 5071, 'commemorate': 3286, 'mig': 8363, 'yc3': 14098, 'meta': 8329, 'mirage': 8406, 'mk2': 8449, 'plane': 9639, 'scalp': 11080, 'missile': 8428, 'hax': 6361, 'underated': 13211, 'a2a': 1163, 'excerpt': 5029, 'hellenic': 6429, 'dogfight': 4382, 'f16': 5175, 'jet': 7257, 'peers': 9458, 'viable': 13517, 'unsung': 13329, 'workhouse': 13968, 'missions': 8432, 'su': 12197, '27': 450, 'aviation': 1969, 'reliant': 10486, 'manoeuvrability': 8092, 'thrust': 12759, 'vectoring': 13477, 'outdated': 9194, 'rooftop': 10849, 'rafale': 10188, 'jets': 7259, 'planes': 9640, 'dogfights': 4383, 'exocet': 5072, 'spectra': 11878, 'tiers': 12778, 'albeit': 1483, '15ex': 233, 'celebrated': 2913, 'veteran': 13512, 'overwanked': 9258, 'brash': 2569, 'hyper': 6684, 'masculine': 8163, 'manoeuvrable': 8093, 'surperiority': 12350, 'missiles': 8429, 'merchant': 8297, 'hyperbolically': 6685, 'isolated': 7186, '104': 77, 'picks': 9579, 'ew': 5010, 'squads': 11956, '60s': 785, 'soviet': 11829, 'migs': 8367, 'piloted': 9598, 'undisputed': 13241, '1v10': 368, 'downplayed': 4443, 'haters': 6341, 'aknowledge': 1472, 'powerscalling': 9814, 'lobbies': 7843, 'sunken': 12297, 'fallacy': 5241, '57': 726, 'neglecting': 8756, 'height': 6419, 'overwanking': 9259, 'shsnks': 11493, 'shore': 11452, 'makeshift': 8046, 'raft': 10189, 'crates': 3649, 'fodders': 5543, 'vials': 13518, 'march': 8116, 'doru': 4424, 'fuwa': 5773, 'inactive': 6866, 'containers': 3476, 'liquid': 7812, 'easter': 4627, 'eggs': 4694, 'panda': 9326, 'steering': 12052, 'wheel': 13809, 'paints': 9309, 'dunking': 4547, 'basketball': 2135, 'hoop': 6580, 'keleton': 7414, 'kelly': 7415, 'tanuki': 12513, 'leepy': 7688, 'abolishing': 1219, 'behaviour': 2244, 'kinnemon': 7461, 'whispering': 13836, 'troubled': 13056, 'spots': 11944, 'awoke': 1994, 'sex': 11314, 'kneels': 7479, 'unlearning': 13283, 'shallow': 11342, 'flanderization': 5471, 'porn': 9743, 'addicts': 1333, 'scribbles': 11151, 'blegh': 2401, 'nefarious': 8743, 'grooming': 6148, 'lragon': 7939, 'juggling': 7331, 'cheerleader': 3021, 'cumboy': 3746, 'taht': 12474, 'potent': 9796, 'nasty': 8706, 'solo': 11774, 'invis': 7151, 'fooled': 5564, 'sociopaths': 11755, 'k164': 7363, 'deviantart': 4139, 'bioengineering': 2346, 'legapunk': 7694, 'imma': 6800, 'subbers': 12201, 'ojnsvir9fguc1': 9034, '497a0ac35e71e65b9684f9d06cb94f8ae8561f8e': 639, '1c3uayk': 333, 'shadowed': 11328, 'grit': 6142, 'drip': 4495, 'secured': 11196, 'repay': 10548, 'clutching': 3190, 'boro': 2516, 'streaks': 12130, 'yell': 14107, 'dust': 4556, 'angered': 1607, 'relays': 10476, 'damaging': 3821, 'deactivated': 3873, 'reserve': 10610, 'reactivated': 10267, 'spilling': 11913, 'galaxy': 5801, 'collectively': 3239, 'heave': 6402, 'resumes': 10670, 'progressing': 9971, 'smirking': 11706, 'knocking': 7489, 'wnd': 13938, 'vicinity': 13526, 'forcing': 5578, 'align': 1498, 'nooo': 8856, 'zoens': 14189, 'buddies': 2653, 'tsukishima': 13079, 'tirelessly': 12808, '1014': 70, 'nostalgia': 8868, 'wakazuki': 13658, 'dungeon': 4546, 'gymnastics': 6214, 'earthquake': 4617, 'thatzoro': 12656, 'wenma13': 13787, '1778785940078477670': 275, 'rxlnko8jh7iqwzmenjbg': 10926, 'leak': 7667, 'entertainment': 4886, 'aquire': 1735, 'aphrodite': 1677, 'cronus': 3703, 'kintama': 7462, 'testicles': 12638, 'testicle': 12637, 'bitch': 2360, 'hesitate': 6468, 'egotistical': 4697, 'cluttering': 3192, 'subplots': 12217, 'dickride': 4173, 'fanfiction': 5269, 'jjowkp03jztc1': 7281, '8adf448596459972e2a7199ce7e66da49b808ba2': 1011, 'surge': 12342, 'daz': 3863, 'bonez': 2488, 'ease': 4620, 'ko': 7500, 'render': 10540, 'commission': 3292, 'brink': 2605, 'garlings': 5832, 'buddhist': 2652, 'anguimala': 1609, 'angulimala': 1610, 'gruesome': 6163, 'strung': 12175, 'garland': 5830, 'macabre': 7993, 'trophy': 13054, 'tally': 12494, 'misguided': 8418, 'teachings': 12551, 'scoring': 11131, 'quantify': 10144, 'brutality': 2633, 'narratives': 8701, 'broader': 2610, 'journeys': 7309, 'layer': 7653, '1778269464259100983': 274, 'clutches': 3189, 'waturn': 13731, 'generous': 5881, 'protégé': 10027, 'baggage': 2062, 'dodging': 4370, 'endangered': 4809, 'loony': 7897, 'clowning': 3181, 'winturn': 13901, 'speedo': 11889, 'pizzaru': 9628, 'larimo': 7621, 'godturn': 6008, 'bloony': 2431, 'leinstein': 7707, 'lacifista': 7580, 'gandhi': 5815, 'gandhijuro': 5816, 'loro': 7906, 'tastic': 12529, 'gyarodos': 6213, 'drier': 4488, 'warcriminalcury': 13691, 'scaled': 11077, 'worosei': 13984, 'shiznet': 11436, 'ruffy': 10893, 'anatomy': 1598, 'almighty': 1529, 'chanclas': 2965, 'nodiffed': 8841, 'buffy': 2659, 'flatino': 5481, 'wuggy': 14041, 'lanks': 7611, 'lorry': 7907, 'moogly': 8521, 'efficiency': 4683, 'motherfricking': 8552, 'mongolian': 8501, 'janitors': 7234, 'dishonest': 4273, 'sneak': 11736, 'sewer': 11313, 'winbei': 13886, 'vore': 13620, 'megapunkass': 8258, 'executioners': 5049, 'yoru': 14133, 'teputeputeputam': 12617, 'deadass': 3875, 'zolotards': 14192, 'outmatches': 9207, 'versatile': 13501, 'bends': 2283, 'stacked': 11972, 'advantages': 1374, 'misinterpretate': 8422, 'preach': 9832, 'usurpator': 13402, 'desk': 4088, 'savior': 11063, 'frauds': 5657, 'remainder': 10502, 'goathawksolos': 5994, 'roast': 10812, 'thehiddenisland': 12662, 'jaydlegend': 7245, 'doo': 4412, 'awfulowafalo': 1992, 'gimme': 5942, 'perospero': 9506, 'blaming': 2388, 'trynna': 13073, 'mighty': 8365, 'salt': 11001, 'fanboys': 5262, 'fraudsman': 5659, 'starvation': 12019, 'fled': 5490, 'challenges': 2960, 'sweating': 12396, 'za': 14166, 'painta': 9305, 'ifrit': 6744, 'jambe': 7233, 'jutsu': 7353, 'appointed': 1716, 'dreadful': 4477, 'odor': 8994, 'proceed': 9943, 'lenses': 7714, 'sanjis': 11021, 'crafting': 3642, 'supervisor': 12314, 'workload': 13970, 'buttocks': 2709, 'rapid': 10233, 'developing': 4136, 'resemblance': 10607, 'firmly': 5439, 'foreskinning': 5587, 'gigachad': 5930, 'solos': 11775, 'kuro': 7541, 'villian': 13555, 'ing': 6972, 'guffy': 6183, 'blooms': 2429, 'heat': 6400, 'lano': 7612, 'mafia': 8007, 'hyogoro': 6680, 'aramament': 1738, 'bloom': 2428, 'obliterating': 8951, 'proclaim': 9948, 'fraudo': 5656, 'vomited': 13618, '256': 439, 'gallons': 5806, 'liver': 7830, 'whine': 13826, 'battleships': 2160, 'animanga': 1616, 'fairy': 5233, 'exceeds': 5021, 'machina': 7995, 'frauda': 5653, 'hack': 6231, 'duper': 4550, 'rhymes': 10749, 'liberating': 7745, 'lame': 7595, 'subsplease': 12225, 'subbing': 12202, 'spared': 11850, 'goresei': 6047, 'sprint': 11952, 'wucci': 14040, 'donezo': 4406, 'spice': 11905, 'sanity': 11019, 'dete': 4117, 'ike': 6764, 'mugiwara': 8602, 'nukes': 8907, 'abominations': 1220, 'behaving': 2241, 'sexually': 11318, 'sa': 10945, 'magnate': 8016, 'magnetic': 8018, 'fields': 5381, 'repulsive': 10583, 'electrical': 4723, 'regions': 10435, 'magnet': 8017, 'conductor': 3391, 'currents': 3758, 'charged': 2997, 'particles': 9382, 'minerals': 8388, 'electromagnetism': 4727, 'ferromagnetic': 5360, 'materials': 8194, 'magnets': 8026, 'cobalt': 3202, 'nickel': 8805, 'alloys': 1521, 'automobiles': 1956, 'metropolitan': 8343, 'projects': 9979, 'fraction': 5639, 'diamagnetism': 4168, 'exhibited': 5060, 'susceptibility': 12368, 'organic': 9148, 'compounds': 3349, 'distinguished': 4320, 'microscopic': 8352, 'versatility': 13502, 'flexibility': 5503, 'civilian': 3103, 'cars': 2855, 'telephone': 12587, 'poles': 9709, 'computers': 3356, 'simulate': 11561, 'telekinesis': 12582, 'bounded': 2542, 'metalline': 8333, 'levitate': 7734, 'projectiles': 9975, 'demolishing': 4012, 'wiring': 13908, 'trucks': 13059, 'buses': 2698, 'disassemble': 4240, 'firearms': 5433, 'ripping': 10786, 'manufacture': 8101, 'redirect': 10379, 'enriched': 4869, 'tanks': 12511, 'blasts': 2394, 'construct': 3460, 'organisms': 9151, 'planetary': 9642, 'attracting': 1925, 'stations': 12030, 'asteroids': 1879, 'shower': 11478, 'geomagnetism': 5901, 'levitation': 7735, 'sufficiently': 12256, 'magnokinetic': 8030, 'repulsion': 10582, 'smartphone': 11691, 'coins': 3224, 'currency': 3755, 'demagnetization': 4004, 'conductors': 3392, 'rendering': 10541, 'electronic': 4728, 'disruption': 4308, 'machinery': 7998, 'smartphones': 11692, 'desktops': 4089, 'laptops': 7616, 'stoplights': 12094, 'hardware': 6317, 'surround': 12355, 'ordinary': 9145, 'magnetoreception': 8025, 'stimuli': 12075, 'miles': 8371, 'detection': 4120, 'variations': 13463, 'magnetization': 8021, 'intensify': 7068, 'magnetize': 8022, 'leaf': 7665, 'projection': 9977, 'assaults': 1847, 'concentration': 3367, 'concentrate': 3365, 'defensive': 3959, 'constructs': 3463, 'alignment': 1499, 'orientation': 9156, 'mobility': 8457, 'negation': 8750, 'potency': 9795, 'solidification': 11771, 'solidify': 11772, 'constructive': 3462, 'magnetokinetic': 8024, 'explosives': 5121, 'glide': 5975, 'generating': 5876, 'permit': 9502, 'diamagnetic': 4167, 'combative': 3263, 'knives': 7486, 'inaugurating': 6872, 'magnetically': 8019, 'salubrity': 11002, 'defiance': 3961, 'subatomic': 12199, 'infringement': 6968, 'magno': 8029, 'architecture': 1751, 'skyscrapers': 11628, 'weaponry': 13755, 'pistols': 9620, 'rifles': 10769, 'shotguns': 11458, 'unarmed': 13181, 'volatile': 13610, 'grenades': 6132, 'mines': 8389, 'motor': 8563, 'organism': 9150, 'permitting': 9504, 'software': 11761, 'motherboards': 8550, 'varying': 13468, 'degrees': 3981, 'adhesion': 1344, 'bestowal': 2297, 'bestow': 2296, 'meteoroids': 8339, 'astronomical': 1888, 'nervous': 8775, 'conversely': 3526, 'comets': 3275, 'inducement': 6930, 'disrupting': 4307, 'mimicry': 8380, 'transfigure': 12953, 'constitution': 3456, 'particle': 9381, 'biosphere': 2348, 'radiation': 10183, 'bombard': 2477, 'disturbances': 4334, 'blackouts': 2379, 'flares': 5473, 'coronal': 3561, 'ejections': 4710, 'radioactive': 10186, 'badlands': 2058, 'deceased': 3901, 'electromagnetic': 4726, 'efficacious': 4682, 'electrically': 4724, 'deformation': 3976, 'flaying': 5489, 'rend': 10539, 'modifying': 8473, 'radio': 10185, 'microwaves': 8354, 'ultraviolet': 13163, 'gamma': 5813, 'flare': 5472, 'tangling': 12506, 'likea': 7775, 'lt': 7942, 'bm0jqzmevitc1': 2453, '1919': 296, '5cc26b9854cc710ae30911cd100b508395fc3256': 757, 'complained': 3330, 'cartoony': 2862, 'deflect': 3973, 'bassically': 2139, 'g5luffy': 5783, 'jerry': 7255, 'paintbrush': 9306, 'differs': 4191, 'posttimeskip': 9791, 'hilal': 6491, 'nassr': 8705, 'cristiano': 3687, 'ronaldo': 10846, '1069': 90, 'departuregate': 4038, 'waits': 13656, 'bleached': 2399, 'blacked': 2378, 'fulfil': 5733, 'jhoqo0212etc1': 7264, '1448': 198, '0573b45e01a9bb45a892f0f8b04de3603f1708eb': 25, 'fujhcrxn3etc1': 5727, '1426': 192, 'aa775421ce8df949609c48045f9151a9b702c93c': 1191, '4y3bc9p55etc1': 675, 'd12325435ac8f13825e2400885b46cada004ccd3': 3791, 'outlandish': 9201, 'perceive': 9474, 'requiring': 10594, 'trl1snwd6etc1': 13048, '671': 813, 'f7a5667a18daa4e2d9809757539ae141ada17c5e': 5191, 'apologised': 1682, '3b5tibsmietc1': 568, '1430': 194, '4e04e750be5b308c6b9c175ff7bb0279a76fc0fe': 653, 'gravitated': 6112, 'attained': 1913, 'l23ewptwgetc1': 7562, '1454': 201, '282838d604669aa43b128be51ee7f2d37294317d': 458, 'adversarial': 1380, 'evqo4i5pretc1': 5009, '1441': 197, 'af07e75c4e70e10f9ddbb407b6154afcd20c31f9': 1393, 'crx6u9p3ketc1': 3728, '1460': 204, '81f05705ac3f927d6ed82a3a08cbc32fb6545246': 965, 'zbyw6hcahetc1': 14168, '3f9456860e3aea9abb2e1a7a226e661f229e3b7e': 580, 'deductive': 3935, 'covet': 3621, 'a3k8cq4fnetc1': 1167, '1450': 199, 'b51b01639ae60a1cd3ae6ba60e1fa825b529d346': 2017, '9l7kmanvnetc1': 1104, '955': 1057, 'a9c51aab4c7b977f06321215729a1baf5932a8d9': 1185, 'revered': 10717, '6lk0ss7umetc1': 843, '7775f1baf944323f4615befa4a1194dee3378c70': 917, 'repeating': 10552, 'adversaries': 1381, 'soetkwi2setc1': 11758, '1429': 193, '1b7540229589b35e6fab9a16a2e2c0e71a5b3cd2': 320, 'ab4rs1scigtc1': 1196, '735': 883, '37f53fde6458d5a5235caa648db8db9e4ea72b99': 552, 'coq': 3551, 'coqing': 3553, 'youre': 14140, 'coqging': 3552, 'lowdiff': 7930, 'lowdiffed': 7931, 'lowdiffz': 7932, 'wsmoke': 14037, 'destabilize': 4100, 'humiliated': 6648, 'annihilated': 1630, 'margin': 8120, 'occupying': 8976, 'amusement': 1589, 'debasement': 3888, 'astonishing': 1883, 'crippled': 3686, 'swung': 12431, 'lifting': 7765, 'mogura': 8476, 'unpopular': 13307, 'booming': 2500, 'pizza': 9627, 'boner': 2486, 'magneto': 8023, 'metalic': 8331, 'overdoes': 9229, 'brawls': 2577, 'hed': 6410, '500m': 678, '1bi': 322, 'mammoth': 8056, 'katakuris': 7400, 'foresight': 5586, 'prolly': 9980, 'el': 4711, 'zipper': 14181, 'bluenos': 2445, 'kakus': 7381, 'luccis': 7945, 'popping': 9737, 'tolerable': 12841, 'misunderstanding': 8441, 'amplifies': 1586, '3oe3ohxki6tc1': 584, '1325': 171, '2c825fac1ba6969cbc33e196e9b6d1afdc167425': 469, '1175cwt1j6tc1': 140, '8302df80686d676f39e8ecd73d10cc84195fbde5': 971, 'enhancement': 4843, '8v8v49yoj6tc1': 1036, '1476': 207, 'd880bdd9336d51118c0e53f65afc9798aae94fa4': 3805, '74z9z6rkn6tc1': 898, 'd3b58b7e55533d7412a08dc4ce58985041b5a2c5': 3796, 'mole': 8481, '38yz6qzon6tc1': 561, '1f06ea75e70f7efc65070e6a57cf638e67213d5b': 354, 'vary': 13467, 'fcyekvcbk6tc1': 5313, '964': 1064, '47a6b34612437bd48b0e6ce90965da8fc3d3a849': 625, 'unfortunate': 13258, 'concise': 3376, 'v3ms6a3qk6tc1': 13423, '883': 997, '314b67dda59b6bf715bdc516dd315b3dc04c4abc': 506, 'oziz0vm1m6tc1': 9279, '737': 885, 'efe8c34b75f432be6748680c031f81c3f689d73d': 4672, 'inflated': 6951, 'duck': 4526, 'ah2hsvdnm6tc1': 1445, '677': 815, 'a050a7afc668af1184984e60770cb2603576baf5': 1154, 'compressing': 3353, 'yusoebuno6tc1': 14154, '420': 601, '866d1c0088ed87fcb4808f8e09bcaf5d7a920cd0': 990, 'trickier': 13030, 'stun': 12188, 'component': 3346, 'disoriented': 4290, 'assert': 1850, 'enlarge': 4857, 'dwarfs': 4563, 'palm': 9320, 'lbp4dqc7n6tc1': 7657, '697': 827, '21c21547157f0160bdc53f91608aceebb5863b37': 415, 'dependent': 4043, 'assessment': 1853, 'santoryu': 11027, 'ogi': 9023, 'a9i0uo6966tc1': 1188, '320': 514, 'b84aab950a7b25e85d1e93028be96086475b6837': 2028, 'tactical': 12469, 'drugs': 4512, 'marijuana': 8129, 'fungi': 5754, 'mushrooms': 8631, 'arsenal': 1800, 'uphill': 13347, 'switcheroo': 12415, 'icepops': 6714, 'betryal': 2306, 'questioning': 10151, 'competence': 3324, 'cements': 2922, 'gucci': 6178, '1bykr5l': 329, 'skinned': 11609, 'limitations': 7794, 'seemling': 11211, 'animate': 1617, 'exploiting': 5113, 'yamatrash': 14090, '1bye7ev': 328, 'variant': 13460, 'coke': 3225, 'bidy': 2326, 'circulatory': 3092, 'uda': 13146, 'konosuke': 7508, '2001': 375, 'directors': 4219, 'hilariously': 6493, 'te': 12546, 'criminally': 3682, 'gracefully': 6081, 'registers': 10437, 'failures': 5228, 'frequently': 5684, 'warm': 13697, 'snippet': 11742, 'audience': 1935, 'rolls': 10840, 'logunderscoren': 7871, '1776805109709619396': 273, 'restrict': 10661, 'cheerful': 3020, 'tobbbye': 12824, 'jeez': 7253, 'borsalino': 2519, 'embarrasing': 4753, '23': 419, 'roo': 10847, '28': 456, 'brogu': 2612, 'portraying': 9754, 'pfp': 9539, 'slander': 11633, 'recognition': 10332, 'qualitative': 10141, 'positively': 9767, 'oozing': 9093, 'directional': 4216, 'trails': 12938, 'emanating': 4751, 'distinguish': 4319, 'spewed': 11902, 'omnidirectionally': 9057, 'roberto': 10816, 'shrug': 11488, 'shite': 11430, 'goddamit': 6000, 'cockhole': 3207, 'bellybutton': 2269, 'needa': 8736, 'deaf': 3879, '1bxo5ho': 327, 'solidly': 11773, 'kairoseki': 7379, 'hadcuffs': 6236, 'oyajiiii': 9276, 'exemplified': 5050, 'crashed': 3647, 'murky': 8622, 'tables': 12464, 'exposition': 5125, 'bloat': 2412, 'hehv18dwkwsc1': 6418, '806': 959, '4b80fa00e1dbf10d6d41bc76652e093f1db16f14': 645, 'apostle': 1689, 'superior': 12306, 'sizeable': 11592, 'handcuffs': 6275, 'partook': 9388, 'negatively': 8752, 'incentivized': 6881, 'risked': 10791, 'vain': 13434, 'megumi': 8260, 'havers': 6356, 'vertical': 13508, 'elipse': 4739, 'rotate': 10865, 'horizontal': 6591, '6qe8p6mm4tsc1': 847, '971564c8b93f8e33420115dfaa67fca9ec93e933': 1070, 'boob': 2493, 'fanservice': 5271, 'ultrabuff': 13161, 'thunder': 12763, 'tits': 12816, 'waterfall': 13725, 'wragon': 14011, 'harry': 6328, 'potter': 9799, 'poneglpyh': 9721, 'wholecake': 13848, 'rubbing': 10889, 'brulee': 2629, 'splits': 11929, 'safeguards': 10973, 'unforeseeable': 13257, 'surveillance': 12361, 'winners': 13896, 'fulled': 5740, 'overpowering': 9244, 'launched': 7644, 'shoves': 11470, 'ounce': 9185, 'stumbles': 12186, 'separating': 11267, 'erratically': 4932, 'mesmerised': 8317, 'astoundment': 1885, 'glace': 5965, 'flees': 5494, 'volunteers': 13617, 'captivated': 2824, 'apprentice': 1722, 'subs': 12220, 'lisbhis': 7813, 'salute': 11003, 'enjoyers': 4853, 'allucard': 1522, 'approximately': 1731, 'jarul': 7240, 'elderly': 4719, 'ceadeus': 2905, 'ナバルデウス': 14251, '大海龍': 14273, '5837': 735, '2cm': 472, '3575': 534, '5cm': 758, 'suborder': 12213, 'habitats': 6226, 'resonating': 10628, 'hailing': 6246, 'liberty': 7750, 'melody': 8265, 'chant': 2974, 'depths': 4057, 'seafaring': 11162, 'shining': 11410, 'omen': 9054, 'moga': 8475, 'seismic': 11221, 'overgrown': 9233, 'sharpen': 11374, 'manageable': 8059, 'unimaginable': 13267, 'tsunamis': 13082, 'activities': 1313, 'unchecked': 13199, 'ecosystem': 4639, 'aquatic': 1734, 'fins': 5430, 'swimmer': 12404, 'torpedo': 12878, 'fur': 5760, 'jaws': 7242, 'cultivate': 3741, 'farm': 5278, 'symbiotic': 12433, 'algae': 1494, 'oxygen': 9275, 'glowing': 5985, 'portions': 9749, 'luminous': 7959, 'luminescent': 7958, 'bacteria': 2054, 'brightly': 2598, 'carbon': 2831, 'dioxide': 4210, 'exhales': 5054, 'photosynthesis': 9563, 'periods': 9497, 'attracts': 1928, 'fishermen': 5446, 'aggressive': 1435, 'provoked': 10038, 'exhaling': 5055, 'breeding': 2589, 'nakarkos': 8685, 'pups': 10091, 'crooked': 3704, 'evinces': 5000, 'specialised': 11866, 'diable': 4161, 'underestimate': 13216, 'exhaustion': 5059, 'speedy': 11892, 'pleaded': 9665, 'transferred': 12952, 'coursing': 3614, 'veins': 13488, 'fierce': 5382, 'rang': 10223, 'beside': 2293, 'thankful': 12651, 'intervention': 7114, 'owe': 9265, 'nodded': 8840, 'victorious': 13532, 'insisting': 7024, 'unsuccessful': 13328, 'prospects': 10014, 'rethink': 10678, 'stokes': 12083, 'defecting': 3948, 'fingering': 5422, 'declaration': 3922, 'governemnt': 6072, 'fixated': 5460, 'abandoned': 1200, 'ongoing': 9076, 'traded': 12929, 'nefertaris': 8745, 'sparse': 11855, 'doodle': 4413, 'grouped': 6153, 'robert': 10815, 'oharan': 9028, '1v2': 369, 'paperwork': 9350, 'dl30hruj5psc1': 4353, '0242df9c1ff2c1b6dcec925dc93e7de39949abfb': 11, '1bwo0nz': 326, 'shooting': 11448, 'snipe': 11738, 'standoff': 12000, 'industry': 6932, 'ww2': 14046, 'blindly': 2408, 'scrap': 11137, 'solution': 11776, '1bw7orr': 325, 'aint': 1459, 'adventurer': 1376, 'drug': 4511, 'smuggling': 11724, 'revs': 10739, 'sidelined': 11514, 'diamante': 4169, 'underdeveloped': 13215, 'parallisms': 9359, 'sasuke': 11035, 'whitewash': 13841, 'plotlines': 9677, '2025': 397, 'estimations': 4961, 'unnecesary': 13300, 'subplot': 12216, 'betray': 2301, 'unfollow': 13256, 'excursion': 5044, 'glassing': 5972, 'flinging': 5511, 'headbutt': 6371, 'cked': 3107, 'wag': 13649, '1bvc1z1': 324, 's23': 10939, 'fe': 5315, 's24': 10940, '1avl34agbdsc1': 317, '2030': 399, '7f6ba602ff5c87ee2f0f3bc30399c47efa284c9b': 947, '5k': 770, 'gl': 5964, 'camped': 2774, 'dashes': 3847, 'smashes': 11695, 'fancy': 5264, 'perception': 9479, 'blitz': 2411, 'onetaps': 9075, 'simpji': 11553, 'scares': 11092, 'lad': 7585, 'decifering': 3912, 'pee': 9455, 'schizo': 11111, 'theoris': 12683, 'parvision': 9391, 'l46slahm1dsc1': 7566, '8c47c4e6aea036d005e0416e792f0fc1fadee042': 1017, 'tweeted': 13112, 'werent': 13791, 'concludws': 3381, '87': 992, 'rushing': 10918, 'unansewred': 13179, 'retcons': 10677, 'pulse': 10068, 'crowds': 3711, 'kit': 7468, 'infused': 6970, '38nskbawoa': 560, 'narrations': 8698, 'overworking': 9263, 'eichiro': 4703, 'builds': 2667, 'hamnopokke': 6269, 'nowadays': 8893, 'technical': 12567, 'gen': 5868, 'faught': 5294, '1buzqqu': 323, 'overexaggerated': 9231, 'shotting': 11460, 'doubles': 4430, 'ironically': 7171, 'tobiroppo': 12826, 'egregious': 4698, 'mystique': 8662, 'loser': 7909, 'verify': 13499, 'undercut': 13214, 'decisive': 3920, 'knockout': 7490, 'abysmal': 1244, 'victories': 13531, 'menacing': 8283, 'drought': 4507, 'inu': 7133, 'neko': 8759, 'koro': 7509, 'mumakil': 8609, 'foster': 5622, 'doflahimgo': 4377, 'donquigoate': 4407, 'wheelin': 13810, 'dealin': 3881, 'puppetmaster': 10089, 'birdcage': 2350, 'alubarna': 1552, 'tangential': 12502, 'obstacle': 8962, 'numero': 8915, 'uno': 13302, 'succumb': 12239, 'phoneglyphs': 9554, 'malicious': 8053, 'reigned': 10446, 'diarrhea': 4171, 'oriented': 9157, 'buildup': 2668, 'toko': 12839, 'gtfoh': 6168, 'befitting': 2223, 'jailer': 7226, 'boobs': 2494, 'facets': 5208, 'hefeels': 6415, 'contradictory': 3502, 'flows': 5526, 'lens': 7713, 'behaviours': 2245, 'cking': 3108, 'progressive': 9973, 'unresolved': 13318, 'inb4': 6873, 'megalists': 8257, 'drake': 4463, 'similarity': 11545, 'hitetsu': 6522, 'promoting': 9990, 'showcase': 11473, 'kurozomi': 7544, 'characol': 2987, 'blah': 2384, 'phrased': 9566, 'edits': 4658, 'wakuwaku7': 13663, 'hanatasanchou': 6271, 'twenty': 13114, 'atone': 1903, 'kaiji': 7377, 'akagi': 1466, 'insanity': 7010, 'neglected': 8755, 'elevate': 4734, 'nherited': 8798, 'defenitely': 3956, 'cheat': 3014, 'wgs': 13800, 'capturing': 2828, 'creativity': 3662, 'hardwork': 6318, 'pinpoint': 9607, 'max': 8205, 'rpg': 10880, 'immensely': 6804, 'um': 13164, 'challenging': 2961, 'concluded': 3378, 'unfulfilled': 13261, 'cliffed': 3149, 'exceptional': 5027, 'luckily': 7947, 'vinsmoke': 13559, 'outfitting': 9199, 'demaro': 4007, 'notoriety': 8885, 'recruit': 10358, 'onboard': 9059, 'prioritizes': 9923, 'trustworthiness': 13066, 'foul': 5624, 'attached': 1907, 'hip': 6510, 'pursuing': 10105, 'rejecting': 10462, 'shitposting': 11431, 'shitposts': 11432, 'poated': 9690, 'snd': 11735, 'comfortable': 3277, 'combatant': 3261, 'fleur': 5499, 'viability': 13516, 'sorely': 11806, 'demonio': 4017, 'twists': 13118, 'greens': 6130, 'megazord': 8259, 'pilots': 9600, 'bootlickers': 2507, 'bla': 2371, 'alita': 1502, 'prequel': 9872, 'chronicles': 3071, 'pauses': 9425, '34': 526, '1990': 303, '1995': 306, '2014': 382, 'spans': 11847, 'phylosophy': 9568, 'restrain': 10658, 'overgrow': 9232, 'kurama': 7539, 'eldrr': 4721, 'toguro': 12834, 'epilogue': 4907, 'vinsmoker14': 13560, 'pairs': 9314, 'dominant': 4401, 'soot': 11803, 'plasma': 9651, 'theatre': 12660, 'canonise': 2795, 'woods': 13959, 'meadow': 8217, 'capitalising': 2810, 'poisonous': 9702, 'paralytic': 9360, 'constrict': 3458, 'traps': 12986, 'gruz': 6166, 'unsure': 13330, 'crude': 3715, 'petroleum': 9535, 'viscus': 13578, 'sticky': 12072, 'kurouma': 7543, 'tensei': 12612, 'momousagi': 8492, 'gion': 5946, 'chaton': 3012, 'tokikake': 12838, 'dehydrate': 3982, 'decays': 3900, 'evaporating': 4976, 'moisture': 8479, 'franchise': 5645, 'smashed': 11694, 'car': 2829, 'pannel': 9339, 'yc4': 14099, 'rb8ee9p1mxrc1': 10254, '5a7b0853468d09185fe4d484d704b04b17eee560': 749, 'doubts': 4435, 'ultimatelly': 13157, 'lobbie': 7842, '2006': 378, '2007': 379, 'publications': 10057, 'doju': 4390, 'doku': 4391, 'risking': 10792, 'endangering': 4810, 'agendapiece': 1429, 'kreigs': 7520, 'coyler': 3626, 'productions': 9959, 'gentleman': 5893, 'pillars': 9596, 'kreigposting': 7519, 'akainupiece': 1468, 'bastions': 2144, 'kreig': 7518, 'thr': 12733, 'spearheads': 11864, 'underestimated': 13217, 'behemoths': 2247, 'votes': 13623, 'pullshit': 10066, 'unpractical': 13308, 'physic': 9569, 'goofball': 6037, 'exaggerated': 5014, 'nonesensical': 8851, 'babbling': 2038, 'coordination': 3542, 'swingingly': 12409}\n"
          ]
        }
      ],
      "source": [
        "print(vectorizer.vocabulary_)"
      ]
    },
    {
      "cell_type": "code",
      "execution_count": 94,
      "metadata": {
        "id": "FNR5zMJCh8qZ",
        "colab": {
          "base_uri": "https://localhost:8080/"
        },
        "outputId": "027ea6ad-7c46-4d98-b6b0-fd03d199d0a2"
      },
      "outputs": [
        {
          "output_type": "stream",
          "name": "stdout",
          "text": [
            "[[0 0 0 ... 0 0 0]\n",
            " [0 0 0 ... 0 0 0]\n",
            " [0 0 0 ... 0 0 0]\n",
            " ...\n",
            " [0 0 0 ... 0 0 0]\n",
            " [0 0 0 ... 0 0 0]\n",
            " [0 0 0 ... 0 0 0]]\n"
          ]
        }
      ],
      "source": [
        "print(vectors.toarray())"
      ]
    },
    {
      "cell_type": "code",
      "execution_count": 95,
      "metadata": {
        "id": "RojFD9ZNh8qZ"
      },
      "outputs": [],
      "source": [
        "word_vect_df = pd.DataFrame(data=vectors.toarray(), columns=vectorizer.get_feature_names_out())"
      ]
    },
    {
      "cell_type": "code",
      "execution_count": 96,
      "metadata": {
        "id": "-WiyOagAh8qZ",
        "colab": {
          "base_uri": "https://localhost:8080/",
          "height": 412
        },
        "outputId": "28f15488-60fa-432b-9982-c90b622c5ef7"
      },
      "outputs": [
        {
          "output_type": "execute_result",
          "data": {
            "text/plain": [
              "      00  000  0001b8f5aa913b8e94a662501e2efbecdb41a17a  001  \\\n",
              "1480   0    0                                         0    0   \n",
              "646    0    0                                         0    0   \n",
              "1004   0    0                                         0    0   \n",
              "845    0    0                                         0    0   \n",
              "960    0    0                                         0    0   \n",
              "14     0    0                                         0    0   \n",
              "241    0    0                                         0    0   \n",
              "947    0    0                                         0    0   \n",
              "1664   0    0                                         0    0   \n",
              "540    0    0                                         0    0   \n",
              "\n",
              "      003c12dc62a0b07e20af7ea17db79ab45998a64b  \\\n",
              "1480                                         0   \n",
              "646                                          0   \n",
              "1004                                         0   \n",
              "845                                          0   \n",
              "960                                          0   \n",
              "14                                           0   \n",
              "241                                          0   \n",
              "947                                          0   \n",
              "1664                                         0   \n",
              "540                                          0   \n",
              "\n",
              "      0082291fb3f5f8a7f74f1f3c307b6af53b809ff9  \\\n",
              "1480                                         0   \n",
              "646                                          0   \n",
              "1004                                         0   \n",
              "845                                          0   \n",
              "960                                          0   \n",
              "14                                           0   \n",
              "241                                          0   \n",
              "947                                          0   \n",
              "1664                                         0   \n",
              "540                                          0   \n",
              "\n",
              "      00adea084ae8fb421196fdbad4667cd2afcc6ed5  \\\n",
              "1480                                         0   \n",
              "646                                          0   \n",
              "1004                                         0   \n",
              "845                                          0   \n",
              "960                                          0   \n",
              "14                                           0   \n",
              "241                                          0   \n",
              "947                                          0   \n",
              "1664                                         0   \n",
              "540                                          0   \n",
              "\n",
              "      00ccd4bf6f7bf5f7db62a9fd8bece7461712008f  \\\n",
              "1480                                         0   \n",
              "646                                          0   \n",
              "1004                                         0   \n",
              "845                                          0   \n",
              "960                                          0   \n",
              "14                                           0   \n",
              "241                                          0   \n",
              "947                                          0   \n",
              "1664                                         0   \n",
              "540                                          0   \n",
              "\n",
              "      010c835ff1e9fa4f7ee3ec9bb1c175a510de2d9c  \\\n",
              "1480                                         0   \n",
              "646                                          0   \n",
              "1004                                         0   \n",
              "845                                          0   \n",
              "960                                          0   \n",
              "14                                           0   \n",
              "241                                          0   \n",
              "947                                          0   \n",
              "1664                                         0   \n",
              "540                                          0   \n",
              "\n",
              "      01a8e2febd180a9b826980e2ee2453301ae3befe  ...  𝘿𝙧𝙚𝙖𝙢𝙨  𝙂𝙤𝙙  𝙄𝙣𝙠  𝙉𝙞𝙜𝙝𝙩  \\\n",
              "1480                                         0  ...       0    0    0      0   \n",
              "646                                          0  ...       0    0    0      0   \n",
              "1004                                         0  ...       0    0    0      0   \n",
              "845                                          0  ...       0    0    0      0   \n",
              "960                                          0  ...       0    0    0      0   \n",
              "14                                           0  ...       0    0    0      0   \n",
              "241                                          0  ...       0    0    0      0   \n",
              "947                                          0  ...       0    0    0      0   \n",
              "1664                                         0  ...       0    0    0      0   \n",
              "540                                          0  ...       0    0    0      0   \n",
              "\n",
              "      𝙉𝙞𝙜𝙝𝙩𝙢𝙖𝙧𝙚𝙨  𝙍𝙪𝙗𝙗𝙚𝙧  𝙎𝙪𝙣  𝙏𝙝𝙚  𝙫𝙨  𝟎𝟏  \n",
              "1480           0       0    0    0   0   0  \n",
              "646            0       0    0    0   0   0  \n",
              "1004           0       0    0    0   0   0  \n",
              "845            0       0    0    0   0   0  \n",
              "960            0       0    0    0   0   0  \n",
              "14             0       0    0    0   0   0  \n",
              "241            0       0    0    0   0   0  \n",
              "947            0       0    0    0   0   0  \n",
              "1664           0       0    0    0   0   0  \n",
              "540            0       0    0    0   0   0  \n",
              "\n",
              "[10 rows x 14353 columns]"
            ],
            "text/html": [
              "\n",
              "  <div id=\"df-1e666f5f-0046-4664-91fb-5c0106ba0388\" class=\"colab-df-container\">\n",
              "    <div>\n",
              "<style scoped>\n",
              "    .dataframe tbody tr th:only-of-type {\n",
              "        vertical-align: middle;\n",
              "    }\n",
              "\n",
              "    .dataframe tbody tr th {\n",
              "        vertical-align: top;\n",
              "    }\n",
              "\n",
              "    .dataframe thead th {\n",
              "        text-align: right;\n",
              "    }\n",
              "</style>\n",
              "<table border=\"1\" class=\"dataframe\">\n",
              "  <thead>\n",
              "    <tr style=\"text-align: right;\">\n",
              "      <th></th>\n",
              "      <th>00</th>\n",
              "      <th>000</th>\n",
              "      <th>0001b8f5aa913b8e94a662501e2efbecdb41a17a</th>\n",
              "      <th>001</th>\n",
              "      <th>003c12dc62a0b07e20af7ea17db79ab45998a64b</th>\n",
              "      <th>0082291fb3f5f8a7f74f1f3c307b6af53b809ff9</th>\n",
              "      <th>00adea084ae8fb421196fdbad4667cd2afcc6ed5</th>\n",
              "      <th>00ccd4bf6f7bf5f7db62a9fd8bece7461712008f</th>\n",
              "      <th>010c835ff1e9fa4f7ee3ec9bb1c175a510de2d9c</th>\n",
              "      <th>01a8e2febd180a9b826980e2ee2453301ae3befe</th>\n",
              "      <th>...</th>\n",
              "      <th>𝘿𝙧𝙚𝙖𝙢𝙨</th>\n",
              "      <th>𝙂𝙤𝙙</th>\n",
              "      <th>𝙄𝙣𝙠</th>\n",
              "      <th>𝙉𝙞𝙜𝙝𝙩</th>\n",
              "      <th>𝙉𝙞𝙜𝙝𝙩𝙢𝙖𝙧𝙚𝙨</th>\n",
              "      <th>𝙍𝙪𝙗𝙗𝙚𝙧</th>\n",
              "      <th>𝙎𝙪𝙣</th>\n",
              "      <th>𝙏𝙝𝙚</th>\n",
              "      <th>𝙫𝙨</th>\n",
              "      <th>𝟎𝟏</th>\n",
              "    </tr>\n",
              "  </thead>\n",
              "  <tbody>\n",
              "    <tr>\n",
              "      <th>1480</th>\n",
              "      <td>0</td>\n",
              "      <td>0</td>\n",
              "      <td>0</td>\n",
              "      <td>0</td>\n",
              "      <td>0</td>\n",
              "      <td>0</td>\n",
              "      <td>0</td>\n",
              "      <td>0</td>\n",
              "      <td>0</td>\n",
              "      <td>0</td>\n",
              "      <td>...</td>\n",
              "      <td>0</td>\n",
              "      <td>0</td>\n",
              "      <td>0</td>\n",
              "      <td>0</td>\n",
              "      <td>0</td>\n",
              "      <td>0</td>\n",
              "      <td>0</td>\n",
              "      <td>0</td>\n",
              "      <td>0</td>\n",
              "      <td>0</td>\n",
              "    </tr>\n",
              "    <tr>\n",
              "      <th>646</th>\n",
              "      <td>0</td>\n",
              "      <td>0</td>\n",
              "      <td>0</td>\n",
              "      <td>0</td>\n",
              "      <td>0</td>\n",
              "      <td>0</td>\n",
              "      <td>0</td>\n",
              "      <td>0</td>\n",
              "      <td>0</td>\n",
              "      <td>0</td>\n",
              "      <td>...</td>\n",
              "      <td>0</td>\n",
              "      <td>0</td>\n",
              "      <td>0</td>\n",
              "      <td>0</td>\n",
              "      <td>0</td>\n",
              "      <td>0</td>\n",
              "      <td>0</td>\n",
              "      <td>0</td>\n",
              "      <td>0</td>\n",
              "      <td>0</td>\n",
              "    </tr>\n",
              "    <tr>\n",
              "      <th>1004</th>\n",
              "      <td>0</td>\n",
              "      <td>0</td>\n",
              "      <td>0</td>\n",
              "      <td>0</td>\n",
              "      <td>0</td>\n",
              "      <td>0</td>\n",
              "      <td>0</td>\n",
              "      <td>0</td>\n",
              "      <td>0</td>\n",
              "      <td>0</td>\n",
              "      <td>...</td>\n",
              "      <td>0</td>\n",
              "      <td>0</td>\n",
              "      <td>0</td>\n",
              "      <td>0</td>\n",
              "      <td>0</td>\n",
              "      <td>0</td>\n",
              "      <td>0</td>\n",
              "      <td>0</td>\n",
              "      <td>0</td>\n",
              "      <td>0</td>\n",
              "    </tr>\n",
              "    <tr>\n",
              "      <th>845</th>\n",
              "      <td>0</td>\n",
              "      <td>0</td>\n",
              "      <td>0</td>\n",
              "      <td>0</td>\n",
              "      <td>0</td>\n",
              "      <td>0</td>\n",
              "      <td>0</td>\n",
              "      <td>0</td>\n",
              "      <td>0</td>\n",
              "      <td>0</td>\n",
              "      <td>...</td>\n",
              "      <td>0</td>\n",
              "      <td>0</td>\n",
              "      <td>0</td>\n",
              "      <td>0</td>\n",
              "      <td>0</td>\n",
              "      <td>0</td>\n",
              "      <td>0</td>\n",
              "      <td>0</td>\n",
              "      <td>0</td>\n",
              "      <td>0</td>\n",
              "    </tr>\n",
              "    <tr>\n",
              "      <th>960</th>\n",
              "      <td>0</td>\n",
              "      <td>0</td>\n",
              "      <td>0</td>\n",
              "      <td>0</td>\n",
              "      <td>0</td>\n",
              "      <td>0</td>\n",
              "      <td>0</td>\n",
              "      <td>0</td>\n",
              "      <td>0</td>\n",
              "      <td>0</td>\n",
              "      <td>...</td>\n",
              "      <td>0</td>\n",
              "      <td>0</td>\n",
              "      <td>0</td>\n",
              "      <td>0</td>\n",
              "      <td>0</td>\n",
              "      <td>0</td>\n",
              "      <td>0</td>\n",
              "      <td>0</td>\n",
              "      <td>0</td>\n",
              "      <td>0</td>\n",
              "    </tr>\n",
              "    <tr>\n",
              "      <th>14</th>\n",
              "      <td>0</td>\n",
              "      <td>0</td>\n",
              "      <td>0</td>\n",
              "      <td>0</td>\n",
              "      <td>0</td>\n",
              "      <td>0</td>\n",
              "      <td>0</td>\n",
              "      <td>0</td>\n",
              "      <td>0</td>\n",
              "      <td>0</td>\n",
              "      <td>...</td>\n",
              "      <td>0</td>\n",
              "      <td>0</td>\n",
              "      <td>0</td>\n",
              "      <td>0</td>\n",
              "      <td>0</td>\n",
              "      <td>0</td>\n",
              "      <td>0</td>\n",
              "      <td>0</td>\n",
              "      <td>0</td>\n",
              "      <td>0</td>\n",
              "    </tr>\n",
              "    <tr>\n",
              "      <th>241</th>\n",
              "      <td>0</td>\n",
              "      <td>0</td>\n",
              "      <td>0</td>\n",
              "      <td>0</td>\n",
              "      <td>0</td>\n",
              "      <td>0</td>\n",
              "      <td>0</td>\n",
              "      <td>0</td>\n",
              "      <td>0</td>\n",
              "      <td>0</td>\n",
              "      <td>...</td>\n",
              "      <td>0</td>\n",
              "      <td>0</td>\n",
              "      <td>0</td>\n",
              "      <td>0</td>\n",
              "      <td>0</td>\n",
              "      <td>0</td>\n",
              "      <td>0</td>\n",
              "      <td>0</td>\n",
              "      <td>0</td>\n",
              "      <td>0</td>\n",
              "    </tr>\n",
              "    <tr>\n",
              "      <th>947</th>\n",
              "      <td>0</td>\n",
              "      <td>0</td>\n",
              "      <td>0</td>\n",
              "      <td>0</td>\n",
              "      <td>0</td>\n",
              "      <td>0</td>\n",
              "      <td>0</td>\n",
              "      <td>0</td>\n",
              "      <td>0</td>\n",
              "      <td>0</td>\n",
              "      <td>...</td>\n",
              "      <td>0</td>\n",
              "      <td>0</td>\n",
              "      <td>0</td>\n",
              "      <td>0</td>\n",
              "      <td>0</td>\n",
              "      <td>0</td>\n",
              "      <td>0</td>\n",
              "      <td>0</td>\n",
              "      <td>0</td>\n",
              "      <td>0</td>\n",
              "    </tr>\n",
              "    <tr>\n",
              "      <th>1664</th>\n",
              "      <td>0</td>\n",
              "      <td>0</td>\n",
              "      <td>0</td>\n",
              "      <td>0</td>\n",
              "      <td>0</td>\n",
              "      <td>0</td>\n",
              "      <td>0</td>\n",
              "      <td>0</td>\n",
              "      <td>0</td>\n",
              "      <td>0</td>\n",
              "      <td>...</td>\n",
              "      <td>0</td>\n",
              "      <td>0</td>\n",
              "      <td>0</td>\n",
              "      <td>0</td>\n",
              "      <td>0</td>\n",
              "      <td>0</td>\n",
              "      <td>0</td>\n",
              "      <td>0</td>\n",
              "      <td>0</td>\n",
              "      <td>0</td>\n",
              "    </tr>\n",
              "    <tr>\n",
              "      <th>540</th>\n",
              "      <td>0</td>\n",
              "      <td>0</td>\n",
              "      <td>0</td>\n",
              "      <td>0</td>\n",
              "      <td>0</td>\n",
              "      <td>0</td>\n",
              "      <td>0</td>\n",
              "      <td>0</td>\n",
              "      <td>0</td>\n",
              "      <td>0</td>\n",
              "      <td>...</td>\n",
              "      <td>0</td>\n",
              "      <td>0</td>\n",
              "      <td>0</td>\n",
              "      <td>0</td>\n",
              "      <td>0</td>\n",
              "      <td>0</td>\n",
              "      <td>0</td>\n",
              "      <td>0</td>\n",
              "      <td>0</td>\n",
              "      <td>0</td>\n",
              "    </tr>\n",
              "  </tbody>\n",
              "</table>\n",
              "<p>10 rows × 14353 columns</p>\n",
              "</div>\n",
              "    <div class=\"colab-df-buttons\">\n",
              "\n",
              "  <div class=\"colab-df-container\">\n",
              "    <button class=\"colab-df-convert\" onclick=\"convertToInteractive('df-1e666f5f-0046-4664-91fb-5c0106ba0388')\"\n",
              "            title=\"Convert this dataframe to an interactive table.\"\n",
              "            style=\"display:none;\">\n",
              "\n",
              "  <svg xmlns=\"http://www.w3.org/2000/svg\" height=\"24px\" viewBox=\"0 -960 960 960\">\n",
              "    <path d=\"M120-120v-720h720v720H120Zm60-500h600v-160H180v160Zm220 220h160v-160H400v160Zm0 220h160v-160H400v160ZM180-400h160v-160H180v160Zm440 0h160v-160H620v160ZM180-180h160v-160H180v160Zm440 0h160v-160H620v160Z\"/>\n",
              "  </svg>\n",
              "    </button>\n",
              "\n",
              "  <style>\n",
              "    .colab-df-container {\n",
              "      display:flex;\n",
              "      gap: 12px;\n",
              "    }\n",
              "\n",
              "    .colab-df-convert {\n",
              "      background-color: #E8F0FE;\n",
              "      border: none;\n",
              "      border-radius: 50%;\n",
              "      cursor: pointer;\n",
              "      display: none;\n",
              "      fill: #1967D2;\n",
              "      height: 32px;\n",
              "      padding: 0 0 0 0;\n",
              "      width: 32px;\n",
              "    }\n",
              "\n",
              "    .colab-df-convert:hover {\n",
              "      background-color: #E2EBFA;\n",
              "      box-shadow: 0px 1px 2px rgba(60, 64, 67, 0.3), 0px 1px 3px 1px rgba(60, 64, 67, 0.15);\n",
              "      fill: #174EA6;\n",
              "    }\n",
              "\n",
              "    .colab-df-buttons div {\n",
              "      margin-bottom: 4px;\n",
              "    }\n",
              "\n",
              "    [theme=dark] .colab-df-convert {\n",
              "      background-color: #3B4455;\n",
              "      fill: #D2E3FC;\n",
              "    }\n",
              "\n",
              "    [theme=dark] .colab-df-convert:hover {\n",
              "      background-color: #434B5C;\n",
              "      box-shadow: 0px 1px 3px 1px rgba(0, 0, 0, 0.15);\n",
              "      filter: drop-shadow(0px 1px 2px rgba(0, 0, 0, 0.3));\n",
              "      fill: #FFFFFF;\n",
              "    }\n",
              "  </style>\n",
              "\n",
              "    <script>\n",
              "      const buttonEl =\n",
              "        document.querySelector('#df-1e666f5f-0046-4664-91fb-5c0106ba0388 button.colab-df-convert');\n",
              "      buttonEl.style.display =\n",
              "        google.colab.kernel.accessAllowed ? 'block' : 'none';\n",
              "\n",
              "      async function convertToInteractive(key) {\n",
              "        const element = document.querySelector('#df-1e666f5f-0046-4664-91fb-5c0106ba0388');\n",
              "        const dataTable =\n",
              "          await google.colab.kernel.invokeFunction('convertToInteractive',\n",
              "                                                    [key], {});\n",
              "        if (!dataTable) return;\n",
              "\n",
              "        const docLinkHtml = 'Like what you see? Visit the ' +\n",
              "          '<a target=\"_blank\" href=https://colab.research.google.com/notebooks/data_table.ipynb>data table notebook</a>'\n",
              "          + ' to learn more about interactive tables.';\n",
              "        element.innerHTML = '';\n",
              "        dataTable['output_type'] = 'display_data';\n",
              "        await google.colab.output.renderOutput(dataTable, element);\n",
              "        const docLink = document.createElement('div');\n",
              "        docLink.innerHTML = docLinkHtml;\n",
              "        element.appendChild(docLink);\n",
              "      }\n",
              "    </script>\n",
              "  </div>\n",
              "\n",
              "\n",
              "<div id=\"df-f465bbc5-e08d-4d35-9eda-58bb4ea0f07d\">\n",
              "  <button class=\"colab-df-quickchart\" onclick=\"quickchart('df-f465bbc5-e08d-4d35-9eda-58bb4ea0f07d')\"\n",
              "            title=\"Suggest charts\"\n",
              "            style=\"display:none;\">\n",
              "\n",
              "<svg xmlns=\"http://www.w3.org/2000/svg\" height=\"24px\"viewBox=\"0 0 24 24\"\n",
              "     width=\"24px\">\n",
              "    <g>\n",
              "        <path d=\"M19 3H5c-1.1 0-2 .9-2 2v14c0 1.1.9 2 2 2h14c1.1 0 2-.9 2-2V5c0-1.1-.9-2-2-2zM9 17H7v-7h2v7zm4 0h-2V7h2v10zm4 0h-2v-4h2v4z\"/>\n",
              "    </g>\n",
              "</svg>\n",
              "  </button>\n",
              "\n",
              "<style>\n",
              "  .colab-df-quickchart {\n",
              "      --bg-color: #E8F0FE;\n",
              "      --fill-color: #1967D2;\n",
              "      --hover-bg-color: #E2EBFA;\n",
              "      --hover-fill-color: #174EA6;\n",
              "      --disabled-fill-color: #AAA;\n",
              "      --disabled-bg-color: #DDD;\n",
              "  }\n",
              "\n",
              "  [theme=dark] .colab-df-quickchart {\n",
              "      --bg-color: #3B4455;\n",
              "      --fill-color: #D2E3FC;\n",
              "      --hover-bg-color: #434B5C;\n",
              "      --hover-fill-color: #FFFFFF;\n",
              "      --disabled-bg-color: #3B4455;\n",
              "      --disabled-fill-color: #666;\n",
              "  }\n",
              "\n",
              "  .colab-df-quickchart {\n",
              "    background-color: var(--bg-color);\n",
              "    border: none;\n",
              "    border-radius: 50%;\n",
              "    cursor: pointer;\n",
              "    display: none;\n",
              "    fill: var(--fill-color);\n",
              "    height: 32px;\n",
              "    padding: 0;\n",
              "    width: 32px;\n",
              "  }\n",
              "\n",
              "  .colab-df-quickchart:hover {\n",
              "    background-color: var(--hover-bg-color);\n",
              "    box-shadow: 0 1px 2px rgba(60, 64, 67, 0.3), 0 1px 3px 1px rgba(60, 64, 67, 0.15);\n",
              "    fill: var(--button-hover-fill-color);\n",
              "  }\n",
              "\n",
              "  .colab-df-quickchart-complete:disabled,\n",
              "  .colab-df-quickchart-complete:disabled:hover {\n",
              "    background-color: var(--disabled-bg-color);\n",
              "    fill: var(--disabled-fill-color);\n",
              "    box-shadow: none;\n",
              "  }\n",
              "\n",
              "  .colab-df-spinner {\n",
              "    border: 2px solid var(--fill-color);\n",
              "    border-color: transparent;\n",
              "    border-bottom-color: var(--fill-color);\n",
              "    animation:\n",
              "      spin 1s steps(1) infinite;\n",
              "  }\n",
              "\n",
              "  @keyframes spin {\n",
              "    0% {\n",
              "      border-color: transparent;\n",
              "      border-bottom-color: var(--fill-color);\n",
              "      border-left-color: var(--fill-color);\n",
              "    }\n",
              "    20% {\n",
              "      border-color: transparent;\n",
              "      border-left-color: var(--fill-color);\n",
              "      border-top-color: var(--fill-color);\n",
              "    }\n",
              "    30% {\n",
              "      border-color: transparent;\n",
              "      border-left-color: var(--fill-color);\n",
              "      border-top-color: var(--fill-color);\n",
              "      border-right-color: var(--fill-color);\n",
              "    }\n",
              "    40% {\n",
              "      border-color: transparent;\n",
              "      border-right-color: var(--fill-color);\n",
              "      border-top-color: var(--fill-color);\n",
              "    }\n",
              "    60% {\n",
              "      border-color: transparent;\n",
              "      border-right-color: var(--fill-color);\n",
              "    }\n",
              "    80% {\n",
              "      border-color: transparent;\n",
              "      border-right-color: var(--fill-color);\n",
              "      border-bottom-color: var(--fill-color);\n",
              "    }\n",
              "    90% {\n",
              "      border-color: transparent;\n",
              "      border-bottom-color: var(--fill-color);\n",
              "    }\n",
              "  }\n",
              "</style>\n",
              "\n",
              "  <script>\n",
              "    async function quickchart(key) {\n",
              "      const quickchartButtonEl =\n",
              "        document.querySelector('#' + key + ' button');\n",
              "      quickchartButtonEl.disabled = true;  // To prevent multiple clicks.\n",
              "      quickchartButtonEl.classList.add('colab-df-spinner');\n",
              "      try {\n",
              "        const charts = await google.colab.kernel.invokeFunction(\n",
              "            'suggestCharts', [key], {});\n",
              "      } catch (error) {\n",
              "        console.error('Error during call to suggestCharts:', error);\n",
              "      }\n",
              "      quickchartButtonEl.classList.remove('colab-df-spinner');\n",
              "      quickchartButtonEl.classList.add('colab-df-quickchart-complete');\n",
              "    }\n",
              "    (() => {\n",
              "      let quickchartButtonEl =\n",
              "        document.querySelector('#df-f465bbc5-e08d-4d35-9eda-58bb4ea0f07d button');\n",
              "      quickchartButtonEl.style.display =\n",
              "        google.colab.kernel.accessAllowed ? 'block' : 'none';\n",
              "    })();\n",
              "  </script>\n",
              "</div>\n",
              "\n",
              "    </div>\n",
              "  </div>\n"
            ],
            "application/vnd.google.colaboratory.intrinsic+json": {
              "type": "dataframe"
            }
          },
          "metadata": {},
          "execution_count": 96
        }
      ],
      "source": [
        "word_vect_df.sample(10)"
      ]
    },
    {
      "cell_type": "markdown",
      "metadata": {
        "id": "Mw8niF6Ch8qZ"
      },
      "source": [
        "Since the Count Vectorizer returns to us all words that appear in a corpus, there will probably be a lot of words that we are not interested since they either show up too much or are too infrequent to be informative. We can change some of the parameters of the Count Vectorizer to remove less informative terms."
      ]
    },
    {
      "cell_type": "code",
      "execution_count": 102,
      "metadata": {
        "id": "BrBS78vYh8qa"
      },
      "outputs": [],
      "source": [
        "vectorizer2 = CountVectorizer(\n",
        "    max_df = 0.95,\n",
        "    min_df = 0.1\n",
        ")\n",
        "\n",
        "vectors2 = vectorizer2.fit_transform(corpus_cleaned)\n",
        "\n",
        "word_vect_df2 = pd.DataFrame(data=vectors2.toarray(), columns=vectorizer2.get_feature_names_out())"
      ]
    },
    {
      "cell_type": "code",
      "execution_count": 103,
      "metadata": {
        "id": "_L4O-C4ah8qa",
        "colab": {
          "base_uri": "https://localhost:8080/",
          "height": 392
        },
        "outputId": "8ed26902-cd01-44e9-fcf8-58725c161722"
      },
      "outputs": [
        {
          "output_type": "execute_result",
          "data": {
            "text/plain": [
              "      and  but  could  first  fruit  get  he  https  it  know  ...  the  \\\n",
              "751     0    0      0      0      0    0   0      0   0     0  ...    0   \n",
              "977     1    0      0      1      0    0   0      0   2     1  ...    1   \n",
              "1444    1    3      0      1      2    0   2      0   0     0  ...    0   \n",
              "570     0    0      0      0      0    0   0      0   0     1  ...    0   \n",
              "1059    0    0      0      0      0    0   0      0   0     0  ...    0   \n",
              "1387    0    1      0      0      0    0   1      0   1     0  ...    0   \n",
              "144     0    0      1      0      0    0   0      2   1     1  ...    1   \n",
              "273     0    0      3      0      0    0   0      1   1     0  ...    0   \n",
              "243     0    0      1      0      0    0   0      0   0     0  ...    0   \n",
              "1171    0    1      0      0      1    0   0      0   0     0  ...    0   \n",
              "\n",
              "      think  this  time  ve  way  we  what  world  would  \n",
              "751       0     0     0   0    0   0     0      0      0  \n",
              "977       0     1     0   1    0   1     0      1      3  \n",
              "1444      1     0     0   0    2   0     0      0      0  \n",
              "570       0     0     0   0    0   0     0      0      0  \n",
              "1059      0     1     0   0    0   0     0      0      0  \n",
              "1387      0     0     0   0    0   0     0      0      0  \n",
              "144       0     1     1   1    0   1     0      0      0  \n",
              "273       0     0     0   1    0   1     1      0      0  \n",
              "243       1     0     0   0    0   0     0      0      0  \n",
              "1171      0     1     0   0    1   0     0      0      0  \n",
              "\n",
              "[10 rows x 33 columns]"
            ],
            "text/html": [
              "\n",
              "  <div id=\"df-e8e0b74d-c4db-46bc-acda-e4e62e45eea2\" class=\"colab-df-container\">\n",
              "    <div>\n",
              "<style scoped>\n",
              "    .dataframe tbody tr th:only-of-type {\n",
              "        vertical-align: middle;\n",
              "    }\n",
              "\n",
              "    .dataframe tbody tr th {\n",
              "        vertical-align: top;\n",
              "    }\n",
              "\n",
              "    .dataframe thead th {\n",
              "        text-align: right;\n",
              "    }\n",
              "</style>\n",
              "<table border=\"1\" class=\"dataframe\">\n",
              "  <thead>\n",
              "    <tr style=\"text-align: right;\">\n",
              "      <th></th>\n",
              "      <th>and</th>\n",
              "      <th>but</th>\n",
              "      <th>could</th>\n",
              "      <th>first</th>\n",
              "      <th>fruit</th>\n",
              "      <th>get</th>\n",
              "      <th>he</th>\n",
              "      <th>https</th>\n",
              "      <th>it</th>\n",
              "      <th>know</th>\n",
              "      <th>...</th>\n",
              "      <th>the</th>\n",
              "      <th>think</th>\n",
              "      <th>this</th>\n",
              "      <th>time</th>\n",
              "      <th>ve</th>\n",
              "      <th>way</th>\n",
              "      <th>we</th>\n",
              "      <th>what</th>\n",
              "      <th>world</th>\n",
              "      <th>would</th>\n",
              "    </tr>\n",
              "  </thead>\n",
              "  <tbody>\n",
              "    <tr>\n",
              "      <th>751</th>\n",
              "      <td>0</td>\n",
              "      <td>0</td>\n",
              "      <td>0</td>\n",
              "      <td>0</td>\n",
              "      <td>0</td>\n",
              "      <td>0</td>\n",
              "      <td>0</td>\n",
              "      <td>0</td>\n",
              "      <td>0</td>\n",
              "      <td>0</td>\n",
              "      <td>...</td>\n",
              "      <td>0</td>\n",
              "      <td>0</td>\n",
              "      <td>0</td>\n",
              "      <td>0</td>\n",
              "      <td>0</td>\n",
              "      <td>0</td>\n",
              "      <td>0</td>\n",
              "      <td>0</td>\n",
              "      <td>0</td>\n",
              "      <td>0</td>\n",
              "    </tr>\n",
              "    <tr>\n",
              "      <th>977</th>\n",
              "      <td>1</td>\n",
              "      <td>0</td>\n",
              "      <td>0</td>\n",
              "      <td>1</td>\n",
              "      <td>0</td>\n",
              "      <td>0</td>\n",
              "      <td>0</td>\n",
              "      <td>0</td>\n",
              "      <td>2</td>\n",
              "      <td>1</td>\n",
              "      <td>...</td>\n",
              "      <td>1</td>\n",
              "      <td>0</td>\n",
              "      <td>1</td>\n",
              "      <td>0</td>\n",
              "      <td>1</td>\n",
              "      <td>0</td>\n",
              "      <td>1</td>\n",
              "      <td>0</td>\n",
              "      <td>1</td>\n",
              "      <td>3</td>\n",
              "    </tr>\n",
              "    <tr>\n",
              "      <th>1444</th>\n",
              "      <td>1</td>\n",
              "      <td>3</td>\n",
              "      <td>0</td>\n",
              "      <td>1</td>\n",
              "      <td>2</td>\n",
              "      <td>0</td>\n",
              "      <td>2</td>\n",
              "      <td>0</td>\n",
              "      <td>0</td>\n",
              "      <td>0</td>\n",
              "      <td>...</td>\n",
              "      <td>0</td>\n",
              "      <td>1</td>\n",
              "      <td>0</td>\n",
              "      <td>0</td>\n",
              "      <td>0</td>\n",
              "      <td>2</td>\n",
              "      <td>0</td>\n",
              "      <td>0</td>\n",
              "      <td>0</td>\n",
              "      <td>0</td>\n",
              "    </tr>\n",
              "    <tr>\n",
              "      <th>570</th>\n",
              "      <td>0</td>\n",
              "      <td>0</td>\n",
              "      <td>0</td>\n",
              "      <td>0</td>\n",
              "      <td>0</td>\n",
              "      <td>0</td>\n",
              "      <td>0</td>\n",
              "      <td>0</td>\n",
              "      <td>0</td>\n",
              "      <td>1</td>\n",
              "      <td>...</td>\n",
              "      <td>0</td>\n",
              "      <td>0</td>\n",
              "      <td>0</td>\n",
              "      <td>0</td>\n",
              "      <td>0</td>\n",
              "      <td>0</td>\n",
              "      <td>0</td>\n",
              "      <td>0</td>\n",
              "      <td>0</td>\n",
              "      <td>0</td>\n",
              "    </tr>\n",
              "    <tr>\n",
              "      <th>1059</th>\n",
              "      <td>0</td>\n",
              "      <td>0</td>\n",
              "      <td>0</td>\n",
              "      <td>0</td>\n",
              "      <td>0</td>\n",
              "      <td>0</td>\n",
              "      <td>0</td>\n",
              "      <td>0</td>\n",
              "      <td>0</td>\n",
              "      <td>0</td>\n",
              "      <td>...</td>\n",
              "      <td>0</td>\n",
              "      <td>0</td>\n",
              "      <td>1</td>\n",
              "      <td>0</td>\n",
              "      <td>0</td>\n",
              "      <td>0</td>\n",
              "      <td>0</td>\n",
              "      <td>0</td>\n",
              "      <td>0</td>\n",
              "      <td>0</td>\n",
              "    </tr>\n",
              "    <tr>\n",
              "      <th>1387</th>\n",
              "      <td>0</td>\n",
              "      <td>1</td>\n",
              "      <td>0</td>\n",
              "      <td>0</td>\n",
              "      <td>0</td>\n",
              "      <td>0</td>\n",
              "      <td>1</td>\n",
              "      <td>0</td>\n",
              "      <td>1</td>\n",
              "      <td>0</td>\n",
              "      <td>...</td>\n",
              "      <td>0</td>\n",
              "      <td>0</td>\n",
              "      <td>0</td>\n",
              "      <td>0</td>\n",
              "      <td>0</td>\n",
              "      <td>0</td>\n",
              "      <td>0</td>\n",
              "      <td>0</td>\n",
              "      <td>0</td>\n",
              "      <td>0</td>\n",
              "    </tr>\n",
              "    <tr>\n",
              "      <th>144</th>\n",
              "      <td>0</td>\n",
              "      <td>0</td>\n",
              "      <td>1</td>\n",
              "      <td>0</td>\n",
              "      <td>0</td>\n",
              "      <td>0</td>\n",
              "      <td>0</td>\n",
              "      <td>2</td>\n",
              "      <td>1</td>\n",
              "      <td>1</td>\n",
              "      <td>...</td>\n",
              "      <td>1</td>\n",
              "      <td>0</td>\n",
              "      <td>1</td>\n",
              "      <td>1</td>\n",
              "      <td>1</td>\n",
              "      <td>0</td>\n",
              "      <td>1</td>\n",
              "      <td>0</td>\n",
              "      <td>0</td>\n",
              "      <td>0</td>\n",
              "    </tr>\n",
              "    <tr>\n",
              "      <th>273</th>\n",
              "      <td>0</td>\n",
              "      <td>0</td>\n",
              "      <td>3</td>\n",
              "      <td>0</td>\n",
              "      <td>0</td>\n",
              "      <td>0</td>\n",
              "      <td>0</td>\n",
              "      <td>1</td>\n",
              "      <td>1</td>\n",
              "      <td>0</td>\n",
              "      <td>...</td>\n",
              "      <td>0</td>\n",
              "      <td>0</td>\n",
              "      <td>0</td>\n",
              "      <td>0</td>\n",
              "      <td>1</td>\n",
              "      <td>0</td>\n",
              "      <td>1</td>\n",
              "      <td>1</td>\n",
              "      <td>0</td>\n",
              "      <td>0</td>\n",
              "    </tr>\n",
              "    <tr>\n",
              "      <th>243</th>\n",
              "      <td>0</td>\n",
              "      <td>0</td>\n",
              "      <td>1</td>\n",
              "      <td>0</td>\n",
              "      <td>0</td>\n",
              "      <td>0</td>\n",
              "      <td>0</td>\n",
              "      <td>0</td>\n",
              "      <td>0</td>\n",
              "      <td>0</td>\n",
              "      <td>...</td>\n",
              "      <td>0</td>\n",
              "      <td>1</td>\n",
              "      <td>0</td>\n",
              "      <td>0</td>\n",
              "      <td>0</td>\n",
              "      <td>0</td>\n",
              "      <td>0</td>\n",
              "      <td>0</td>\n",
              "      <td>0</td>\n",
              "      <td>0</td>\n",
              "    </tr>\n",
              "    <tr>\n",
              "      <th>1171</th>\n",
              "      <td>0</td>\n",
              "      <td>1</td>\n",
              "      <td>0</td>\n",
              "      <td>0</td>\n",
              "      <td>1</td>\n",
              "      <td>0</td>\n",
              "      <td>0</td>\n",
              "      <td>0</td>\n",
              "      <td>0</td>\n",
              "      <td>0</td>\n",
              "      <td>...</td>\n",
              "      <td>0</td>\n",
              "      <td>0</td>\n",
              "      <td>1</td>\n",
              "      <td>0</td>\n",
              "      <td>0</td>\n",
              "      <td>1</td>\n",
              "      <td>0</td>\n",
              "      <td>0</td>\n",
              "      <td>0</td>\n",
              "      <td>0</td>\n",
              "    </tr>\n",
              "  </tbody>\n",
              "</table>\n",
              "<p>10 rows × 33 columns</p>\n",
              "</div>\n",
              "    <div class=\"colab-df-buttons\">\n",
              "\n",
              "  <div class=\"colab-df-container\">\n",
              "    <button class=\"colab-df-convert\" onclick=\"convertToInteractive('df-e8e0b74d-c4db-46bc-acda-e4e62e45eea2')\"\n",
              "            title=\"Convert this dataframe to an interactive table.\"\n",
              "            style=\"display:none;\">\n",
              "\n",
              "  <svg xmlns=\"http://www.w3.org/2000/svg\" height=\"24px\" viewBox=\"0 -960 960 960\">\n",
              "    <path d=\"M120-120v-720h720v720H120Zm60-500h600v-160H180v160Zm220 220h160v-160H400v160Zm0 220h160v-160H400v160ZM180-400h160v-160H180v160Zm440 0h160v-160H620v160ZM180-180h160v-160H180v160Zm440 0h160v-160H620v160Z\"/>\n",
              "  </svg>\n",
              "    </button>\n",
              "\n",
              "  <style>\n",
              "    .colab-df-container {\n",
              "      display:flex;\n",
              "      gap: 12px;\n",
              "    }\n",
              "\n",
              "    .colab-df-convert {\n",
              "      background-color: #E8F0FE;\n",
              "      border: none;\n",
              "      border-radius: 50%;\n",
              "      cursor: pointer;\n",
              "      display: none;\n",
              "      fill: #1967D2;\n",
              "      height: 32px;\n",
              "      padding: 0 0 0 0;\n",
              "      width: 32px;\n",
              "    }\n",
              "\n",
              "    .colab-df-convert:hover {\n",
              "      background-color: #E2EBFA;\n",
              "      box-shadow: 0px 1px 2px rgba(60, 64, 67, 0.3), 0px 1px 3px 1px rgba(60, 64, 67, 0.15);\n",
              "      fill: #174EA6;\n",
              "    }\n",
              "\n",
              "    .colab-df-buttons div {\n",
              "      margin-bottom: 4px;\n",
              "    }\n",
              "\n",
              "    [theme=dark] .colab-df-convert {\n",
              "      background-color: #3B4455;\n",
              "      fill: #D2E3FC;\n",
              "    }\n",
              "\n",
              "    [theme=dark] .colab-df-convert:hover {\n",
              "      background-color: #434B5C;\n",
              "      box-shadow: 0px 1px 3px 1px rgba(0, 0, 0, 0.15);\n",
              "      filter: drop-shadow(0px 1px 2px rgba(0, 0, 0, 0.3));\n",
              "      fill: #FFFFFF;\n",
              "    }\n",
              "  </style>\n",
              "\n",
              "    <script>\n",
              "      const buttonEl =\n",
              "        document.querySelector('#df-e8e0b74d-c4db-46bc-acda-e4e62e45eea2 button.colab-df-convert');\n",
              "      buttonEl.style.display =\n",
              "        google.colab.kernel.accessAllowed ? 'block' : 'none';\n",
              "\n",
              "      async function convertToInteractive(key) {\n",
              "        const element = document.querySelector('#df-e8e0b74d-c4db-46bc-acda-e4e62e45eea2');\n",
              "        const dataTable =\n",
              "          await google.colab.kernel.invokeFunction('convertToInteractive',\n",
              "                                                    [key], {});\n",
              "        if (!dataTable) return;\n",
              "\n",
              "        const docLinkHtml = 'Like what you see? Visit the ' +\n",
              "          '<a target=\"_blank\" href=https://colab.research.google.com/notebooks/data_table.ipynb>data table notebook</a>'\n",
              "          + ' to learn more about interactive tables.';\n",
              "        element.innerHTML = '';\n",
              "        dataTable['output_type'] = 'display_data';\n",
              "        await google.colab.output.renderOutput(dataTable, element);\n",
              "        const docLink = document.createElement('div');\n",
              "        docLink.innerHTML = docLinkHtml;\n",
              "        element.appendChild(docLink);\n",
              "      }\n",
              "    </script>\n",
              "  </div>\n",
              "\n",
              "\n",
              "<div id=\"df-9c69c2a1-5500-443b-b6dd-f81f83ede996\">\n",
              "  <button class=\"colab-df-quickchart\" onclick=\"quickchart('df-9c69c2a1-5500-443b-b6dd-f81f83ede996')\"\n",
              "            title=\"Suggest charts\"\n",
              "            style=\"display:none;\">\n",
              "\n",
              "<svg xmlns=\"http://www.w3.org/2000/svg\" height=\"24px\"viewBox=\"0 0 24 24\"\n",
              "     width=\"24px\">\n",
              "    <g>\n",
              "        <path d=\"M19 3H5c-1.1 0-2 .9-2 2v14c0 1.1.9 2 2 2h14c1.1 0 2-.9 2-2V5c0-1.1-.9-2-2-2zM9 17H7v-7h2v7zm4 0h-2V7h2v10zm4 0h-2v-4h2v4z\"/>\n",
              "    </g>\n",
              "</svg>\n",
              "  </button>\n",
              "\n",
              "<style>\n",
              "  .colab-df-quickchart {\n",
              "      --bg-color: #E8F0FE;\n",
              "      --fill-color: #1967D2;\n",
              "      --hover-bg-color: #E2EBFA;\n",
              "      --hover-fill-color: #174EA6;\n",
              "      --disabled-fill-color: #AAA;\n",
              "      --disabled-bg-color: #DDD;\n",
              "  }\n",
              "\n",
              "  [theme=dark] .colab-df-quickchart {\n",
              "      --bg-color: #3B4455;\n",
              "      --fill-color: #D2E3FC;\n",
              "      --hover-bg-color: #434B5C;\n",
              "      --hover-fill-color: #FFFFFF;\n",
              "      --disabled-bg-color: #3B4455;\n",
              "      --disabled-fill-color: #666;\n",
              "  }\n",
              "\n",
              "  .colab-df-quickchart {\n",
              "    background-color: var(--bg-color);\n",
              "    border: none;\n",
              "    border-radius: 50%;\n",
              "    cursor: pointer;\n",
              "    display: none;\n",
              "    fill: var(--fill-color);\n",
              "    height: 32px;\n",
              "    padding: 0;\n",
              "    width: 32px;\n",
              "  }\n",
              "\n",
              "  .colab-df-quickchart:hover {\n",
              "    background-color: var(--hover-bg-color);\n",
              "    box-shadow: 0 1px 2px rgba(60, 64, 67, 0.3), 0 1px 3px 1px rgba(60, 64, 67, 0.15);\n",
              "    fill: var(--button-hover-fill-color);\n",
              "  }\n",
              "\n",
              "  .colab-df-quickchart-complete:disabled,\n",
              "  .colab-df-quickchart-complete:disabled:hover {\n",
              "    background-color: var(--disabled-bg-color);\n",
              "    fill: var(--disabled-fill-color);\n",
              "    box-shadow: none;\n",
              "  }\n",
              "\n",
              "  .colab-df-spinner {\n",
              "    border: 2px solid var(--fill-color);\n",
              "    border-color: transparent;\n",
              "    border-bottom-color: var(--fill-color);\n",
              "    animation:\n",
              "      spin 1s steps(1) infinite;\n",
              "  }\n",
              "\n",
              "  @keyframes spin {\n",
              "    0% {\n",
              "      border-color: transparent;\n",
              "      border-bottom-color: var(--fill-color);\n",
              "      border-left-color: var(--fill-color);\n",
              "    }\n",
              "    20% {\n",
              "      border-color: transparent;\n",
              "      border-left-color: var(--fill-color);\n",
              "      border-top-color: var(--fill-color);\n",
              "    }\n",
              "    30% {\n",
              "      border-color: transparent;\n",
              "      border-left-color: var(--fill-color);\n",
              "      border-top-color: var(--fill-color);\n",
              "      border-right-color: var(--fill-color);\n",
              "    }\n",
              "    40% {\n",
              "      border-color: transparent;\n",
              "      border-right-color: var(--fill-color);\n",
              "      border-top-color: var(--fill-color);\n",
              "    }\n",
              "    60% {\n",
              "      border-color: transparent;\n",
              "      border-right-color: var(--fill-color);\n",
              "    }\n",
              "    80% {\n",
              "      border-color: transparent;\n",
              "      border-right-color: var(--fill-color);\n",
              "      border-bottom-color: var(--fill-color);\n",
              "    }\n",
              "    90% {\n",
              "      border-color: transparent;\n",
              "      border-bottom-color: var(--fill-color);\n",
              "    }\n",
              "  }\n",
              "</style>\n",
              "\n",
              "  <script>\n",
              "    async function quickchart(key) {\n",
              "      const quickchartButtonEl =\n",
              "        document.querySelector('#' + key + ' button');\n",
              "      quickchartButtonEl.disabled = true;  // To prevent multiple clicks.\n",
              "      quickchartButtonEl.classList.add('colab-df-spinner');\n",
              "      try {\n",
              "        const charts = await google.colab.kernel.invokeFunction(\n",
              "            'suggestCharts', [key], {});\n",
              "      } catch (error) {\n",
              "        console.error('Error during call to suggestCharts:', error);\n",
              "      }\n",
              "      quickchartButtonEl.classList.remove('colab-df-spinner');\n",
              "      quickchartButtonEl.classList.add('colab-df-quickchart-complete');\n",
              "    }\n",
              "    (() => {\n",
              "      let quickchartButtonEl =\n",
              "        document.querySelector('#df-9c69c2a1-5500-443b-b6dd-f81f83ede996 button');\n",
              "      quickchartButtonEl.style.display =\n",
              "        google.colab.kernel.accessAllowed ? 'block' : 'none';\n",
              "    })();\n",
              "  </script>\n",
              "</div>\n",
              "\n",
              "    </div>\n",
              "  </div>\n"
            ],
            "application/vnd.google.colaboratory.intrinsic+json": {
              "type": "dataframe"
            }
          },
          "metadata": {},
          "execution_count": 103
        }
      ],
      "source": [
        "word_vect_df2.sample(10)"
      ]
    },
    {
      "cell_type": "code",
      "source": [
        "# saves dataset to same folder as this Jupyter Notebook\n",
        "# change name to reflect whichever subreddit you used\n",
        "word_vect_df2.to_csv(\"new.csv\", index=False, encoding='UTF-8')"
      ],
      "metadata": {
        "id": "5eUBtFkDzIEe"
      },
      "execution_count": 104,
      "outputs": []
    },
    {
      "cell_type": "markdown",
      "metadata": {
        "id": "yLVRsSETh8qa"
      },
      "source": [
        "## Looking at the top Word Counts"
      ]
    },
    {
      "cell_type": "code",
      "execution_count": 105,
      "metadata": {
        "id": "aJK1B3kch8qa",
        "colab": {
          "base_uri": "https://localhost:8080/"
        },
        "outputId": "130e3b92-4328-47a1-e623-08c14e776173"
      },
      "outputs": [
        {
          "output_type": "execute_result",
          "data": {
            "text/plain": [
              "it        1397\n",
              "one       1212\n",
              "luffy     1101\n",
              "like       990\n",
              "the        861\n",
              "https      794\n",
              "would      762\n",
              "think      709\n",
              "he         632\n",
              "fruit      558\n",
              "world      555\n",
              "piece      535\n",
              "know       529\n",
              "could      523\n",
              "people     512\n",
              "this       457\n",
              "that       436\n",
              "see        425\n",
              "and        398\n",
              "time       394\n",
              "dtype: int64"
            ]
          },
          "metadata": {},
          "execution_count": 105
        }
      ],
      "source": [
        "word_vect_df2.sum(axis=0).sort_values(ascending=False).head(20)"
      ]
    },
    {
      "cell_type": "markdown",
      "metadata": {
        "id": "uqLbvGdbh8qa"
      },
      "source": [
        "### TFIDF Vectorizer\n",
        "\n",
        "We can also use [TF-IDF](https://www.learndatasci.com/glossary/tf-idf-term-frequency-inverse-document-frequency/#:~:text=Term%20Frequency%20%2D%20Inverse%20Document%20Frequency%20(TF%2DIDF)%20is,%2C%20relative%20to%20a%20corpus) to extract term importance from the documents instead of simply looking at the term counts. It measures the importance of a term within a document relative to the corpus."
      ]
    },
    {
      "cell_type": "code",
      "execution_count": 106,
      "metadata": {
        "id": "RU5Xv85uh8qa"
      },
      "outputs": [],
      "source": [
        "from sklearn.feature_extraction.text import TfidfVectorizer\n",
        "\n",
        "tfidf_vect = TfidfVectorizer(\n",
        "    max_df = 0.9,\n",
        "    min_df = 0.1)\n",
        "tfidf_vectors = tfidf_vect.fit_transform(corpus_cleaned)"
      ]
    },
    {
      "cell_type": "code",
      "execution_count": 107,
      "metadata": {
        "id": "I4Ip3bxmh8qa",
        "colab": {
          "base_uri": "https://localhost:8080/"
        },
        "outputId": "67ce4b26-82bd-4edd-a8fe-fddaa253ca73"
      },
      "outputs": [
        {
          "output_type": "stream",
          "name": "stdout",
          "text": [
            "{'one': 15, 'piece': 17, 'the': 23, 'https': 7, 'time': 26, 'this': 25, 'people': 16, 'luffy': 11, 'like': 10, 'much': 13, 've': 27, 'fruit': 4, 'make': 12, 'get': 5, 'what': 30, 'so': 21, 'way': 28, 'we': 29, 'think': 24, 'he': 6, 'it': 8, 'know': 9, 'since': 20, 'that': 22, 'would': 32, 'and': 0, 'first': 3, 'could': 2, 'but': 1, 'see': 19, 'world': 31, 'oda': 14, 'really': 18}\n"
          ]
        }
      ],
      "source": [
        "print(tfidf_vect.vocabulary_)"
      ]
    },
    {
      "cell_type": "code",
      "execution_count": 108,
      "metadata": {
        "id": "hR6Q-xO1h8qa",
        "colab": {
          "base_uri": "https://localhost:8080/"
        },
        "outputId": "f815b117-c0a0-4274-f006-df08a113aeb1"
      },
      "outputs": [
        {
          "output_type": "stream",
          "name": "stdout",
          "text": [
            "[[0.         0.         0.         ... 0.         0.         0.        ]\n",
            " [0.         0.         0.         ... 0.         0.         0.        ]\n",
            " [0.         0.         0.         ... 0.         0.         0.        ]\n",
            " ...\n",
            " [0.         0.         0.         ... 0.         0.3366119  0.57924122]\n",
            " [0.         0.         0.         ... 0.         0.         0.        ]\n",
            " [0.         0.         0.         ... 0.         0.         0.        ]]\n"
          ]
        }
      ],
      "source": [
        "print(tfidf_vectors.toarray())"
      ]
    },
    {
      "cell_type": "code",
      "execution_count": 109,
      "metadata": {
        "id": "n8MsSirmh8qa"
      },
      "outputs": [],
      "source": [
        "tfidf_df = pd.DataFrame(data=tfidf_vectors.toarray(), columns=tfidf_vect.get_feature_names_out())"
      ]
    },
    {
      "cell_type": "code",
      "execution_count": 110,
      "metadata": {
        "id": "FJk-XC_oh8qa",
        "colab": {
          "base_uri": "https://localhost:8080/",
          "height": 387
        },
        "outputId": "afbd407e-9be0-4299-dd0d-0574e6a75a97"
      },
      "outputs": [
        {
          "output_type": "execute_result",
          "data": {
            "text/plain": [
              "           and  but     could     first     fruit       get        he  https  \\\n",
              "1575  0.162515  0.0  0.000000  0.000000  0.336661  0.000000  0.150571    0.0   \n",
              "1114  0.000000  0.0  0.000000  0.000000  0.000000  0.000000  0.000000    0.0   \n",
              "1211  0.000000  0.0  0.000000  0.000000  0.000000  0.000000  0.000000    0.0   \n",
              "134   0.000000  0.0  0.000000  0.000000  0.000000  0.000000  1.000000    0.0   \n",
              "1572  0.000000  0.0  0.000000  0.000000  0.000000  0.000000  0.000000    0.0   \n",
              "1179  0.000000  0.0  0.377667  0.000000  0.000000  0.000000  0.000000    0.0   \n",
              "1452  0.000000  0.0  0.541727  0.000000  0.000000  0.000000  0.000000    0.0   \n",
              "1489  0.000000  0.0  0.000000  0.321244  0.000000  0.000000  0.000000    0.0   \n",
              "890   0.524050  0.0  0.000000  0.000000  0.542803  0.250831  0.242768    0.0   \n",
              "1562  0.000000  0.0  0.000000  0.000000  0.000000  0.000000  0.000000    0.0   \n",
              "\n",
              "            it      know  ...       the     think  this      time   ve  \\\n",
              "1575  0.236259  0.000000  ...  0.000000  0.128208   0.0  0.000000  0.0   \n",
              "1114  0.582209  0.000000  ...  0.000000  0.000000   0.0  0.000000  0.0   \n",
              "1211  0.000000  0.496969  ...  0.000000  0.000000   0.0  0.000000  0.0   \n",
              "134   0.000000  0.000000  ...  0.000000  0.000000   0.0  0.000000  0.0   \n",
              "1572  0.000000  0.000000  ...  1.000000  0.000000   0.0  0.000000  0.0   \n",
              "1179  0.000000  0.703464  ...  0.000000  0.000000   0.0  0.000000  0.0   \n",
              "1452  0.000000  0.000000  ...  0.000000  0.000000   0.0  0.000000  0.0   \n",
              "1489  0.000000  0.249435  ...  0.509084  0.000000   0.0  0.000000  0.0   \n",
              "890   0.380924  0.000000  ...  0.000000  0.000000   0.0  0.246865  0.0   \n",
              "1562  0.000000  0.000000  ...  0.000000  0.000000   0.0  0.000000  0.0   \n",
              "\n",
              "           way   we  what     world  would  \n",
              "1575  0.000000  0.0   0.0  0.619784    0.0  \n",
              "1114  0.000000  0.0   0.0  0.000000    0.0  \n",
              "1211  0.000000  0.0   0.0  0.000000    0.0  \n",
              "134   0.000000  0.0   0.0  0.000000    0.0  \n",
              "1572  0.000000  0.0   0.0  0.000000    0.0  \n",
              "1179  0.000000  0.0   0.0  0.000000    0.0  \n",
              "1452  0.000000  0.0   0.0  0.000000    0.0  \n",
              "1489  0.299287  0.0   0.0  0.000000    0.0  \n",
              "890   0.000000  0.0   0.0  0.249822    0.0  \n",
              "1562  0.000000  0.0   0.0  0.000000    0.0  \n",
              "\n",
              "[10 rows x 33 columns]"
            ],
            "text/html": [
              "\n",
              "  <div id=\"df-f29516e3-d409-491e-8210-29c9b4423ef0\" class=\"colab-df-container\">\n",
              "    <div>\n",
              "<style scoped>\n",
              "    .dataframe tbody tr th:only-of-type {\n",
              "        vertical-align: middle;\n",
              "    }\n",
              "\n",
              "    .dataframe tbody tr th {\n",
              "        vertical-align: top;\n",
              "    }\n",
              "\n",
              "    .dataframe thead th {\n",
              "        text-align: right;\n",
              "    }\n",
              "</style>\n",
              "<table border=\"1\" class=\"dataframe\">\n",
              "  <thead>\n",
              "    <tr style=\"text-align: right;\">\n",
              "      <th></th>\n",
              "      <th>and</th>\n",
              "      <th>but</th>\n",
              "      <th>could</th>\n",
              "      <th>first</th>\n",
              "      <th>fruit</th>\n",
              "      <th>get</th>\n",
              "      <th>he</th>\n",
              "      <th>https</th>\n",
              "      <th>it</th>\n",
              "      <th>know</th>\n",
              "      <th>...</th>\n",
              "      <th>the</th>\n",
              "      <th>think</th>\n",
              "      <th>this</th>\n",
              "      <th>time</th>\n",
              "      <th>ve</th>\n",
              "      <th>way</th>\n",
              "      <th>we</th>\n",
              "      <th>what</th>\n",
              "      <th>world</th>\n",
              "      <th>would</th>\n",
              "    </tr>\n",
              "  </thead>\n",
              "  <tbody>\n",
              "    <tr>\n",
              "      <th>1575</th>\n",
              "      <td>0.162515</td>\n",
              "      <td>0.0</td>\n",
              "      <td>0.000000</td>\n",
              "      <td>0.000000</td>\n",
              "      <td>0.336661</td>\n",
              "      <td>0.000000</td>\n",
              "      <td>0.150571</td>\n",
              "      <td>0.0</td>\n",
              "      <td>0.236259</td>\n",
              "      <td>0.000000</td>\n",
              "      <td>...</td>\n",
              "      <td>0.000000</td>\n",
              "      <td>0.128208</td>\n",
              "      <td>0.0</td>\n",
              "      <td>0.000000</td>\n",
              "      <td>0.0</td>\n",
              "      <td>0.000000</td>\n",
              "      <td>0.0</td>\n",
              "      <td>0.0</td>\n",
              "      <td>0.619784</td>\n",
              "      <td>0.0</td>\n",
              "    </tr>\n",
              "    <tr>\n",
              "      <th>1114</th>\n",
              "      <td>0.000000</td>\n",
              "      <td>0.0</td>\n",
              "      <td>0.000000</td>\n",
              "      <td>0.000000</td>\n",
              "      <td>0.000000</td>\n",
              "      <td>0.000000</td>\n",
              "      <td>0.000000</td>\n",
              "      <td>0.0</td>\n",
              "      <td>0.582209</td>\n",
              "      <td>0.000000</td>\n",
              "      <td>...</td>\n",
              "      <td>0.000000</td>\n",
              "      <td>0.000000</td>\n",
              "      <td>0.0</td>\n",
              "      <td>0.000000</td>\n",
              "      <td>0.0</td>\n",
              "      <td>0.000000</td>\n",
              "      <td>0.0</td>\n",
              "      <td>0.0</td>\n",
              "      <td>0.000000</td>\n",
              "      <td>0.0</td>\n",
              "    </tr>\n",
              "    <tr>\n",
              "      <th>1211</th>\n",
              "      <td>0.000000</td>\n",
              "      <td>0.0</td>\n",
              "      <td>0.000000</td>\n",
              "      <td>0.000000</td>\n",
              "      <td>0.000000</td>\n",
              "      <td>0.000000</td>\n",
              "      <td>0.000000</td>\n",
              "      <td>0.0</td>\n",
              "      <td>0.000000</td>\n",
              "      <td>0.496969</td>\n",
              "      <td>...</td>\n",
              "      <td>0.000000</td>\n",
              "      <td>0.000000</td>\n",
              "      <td>0.0</td>\n",
              "      <td>0.000000</td>\n",
              "      <td>0.0</td>\n",
              "      <td>0.000000</td>\n",
              "      <td>0.0</td>\n",
              "      <td>0.0</td>\n",
              "      <td>0.000000</td>\n",
              "      <td>0.0</td>\n",
              "    </tr>\n",
              "    <tr>\n",
              "      <th>134</th>\n",
              "      <td>0.000000</td>\n",
              "      <td>0.0</td>\n",
              "      <td>0.000000</td>\n",
              "      <td>0.000000</td>\n",
              "      <td>0.000000</td>\n",
              "      <td>0.000000</td>\n",
              "      <td>1.000000</td>\n",
              "      <td>0.0</td>\n",
              "      <td>0.000000</td>\n",
              "      <td>0.000000</td>\n",
              "      <td>...</td>\n",
              "      <td>0.000000</td>\n",
              "      <td>0.000000</td>\n",
              "      <td>0.0</td>\n",
              "      <td>0.000000</td>\n",
              "      <td>0.0</td>\n",
              "      <td>0.000000</td>\n",
              "      <td>0.0</td>\n",
              "      <td>0.0</td>\n",
              "      <td>0.000000</td>\n",
              "      <td>0.0</td>\n",
              "    </tr>\n",
              "    <tr>\n",
              "      <th>1572</th>\n",
              "      <td>0.000000</td>\n",
              "      <td>0.0</td>\n",
              "      <td>0.000000</td>\n",
              "      <td>0.000000</td>\n",
              "      <td>0.000000</td>\n",
              "      <td>0.000000</td>\n",
              "      <td>0.000000</td>\n",
              "      <td>0.0</td>\n",
              "      <td>0.000000</td>\n",
              "      <td>0.000000</td>\n",
              "      <td>...</td>\n",
              "      <td>1.000000</td>\n",
              "      <td>0.000000</td>\n",
              "      <td>0.0</td>\n",
              "      <td>0.000000</td>\n",
              "      <td>0.0</td>\n",
              "      <td>0.000000</td>\n",
              "      <td>0.0</td>\n",
              "      <td>0.0</td>\n",
              "      <td>0.000000</td>\n",
              "      <td>0.0</td>\n",
              "    </tr>\n",
              "    <tr>\n",
              "      <th>1179</th>\n",
              "      <td>0.000000</td>\n",
              "      <td>0.0</td>\n",
              "      <td>0.377667</td>\n",
              "      <td>0.000000</td>\n",
              "      <td>0.000000</td>\n",
              "      <td>0.000000</td>\n",
              "      <td>0.000000</td>\n",
              "      <td>0.0</td>\n",
              "      <td>0.000000</td>\n",
              "      <td>0.703464</td>\n",
              "      <td>...</td>\n",
              "      <td>0.000000</td>\n",
              "      <td>0.000000</td>\n",
              "      <td>0.0</td>\n",
              "      <td>0.000000</td>\n",
              "      <td>0.0</td>\n",
              "      <td>0.000000</td>\n",
              "      <td>0.0</td>\n",
              "      <td>0.0</td>\n",
              "      <td>0.000000</td>\n",
              "      <td>0.0</td>\n",
              "    </tr>\n",
              "    <tr>\n",
              "      <th>1452</th>\n",
              "      <td>0.000000</td>\n",
              "      <td>0.0</td>\n",
              "      <td>0.541727</td>\n",
              "      <td>0.000000</td>\n",
              "      <td>0.000000</td>\n",
              "      <td>0.000000</td>\n",
              "      <td>0.000000</td>\n",
              "      <td>0.0</td>\n",
              "      <td>0.000000</td>\n",
              "      <td>0.000000</td>\n",
              "      <td>...</td>\n",
              "      <td>0.000000</td>\n",
              "      <td>0.000000</td>\n",
              "      <td>0.0</td>\n",
              "      <td>0.000000</td>\n",
              "      <td>0.0</td>\n",
              "      <td>0.000000</td>\n",
              "      <td>0.0</td>\n",
              "      <td>0.0</td>\n",
              "      <td>0.000000</td>\n",
              "      <td>0.0</td>\n",
              "    </tr>\n",
              "    <tr>\n",
              "      <th>1489</th>\n",
              "      <td>0.000000</td>\n",
              "      <td>0.0</td>\n",
              "      <td>0.000000</td>\n",
              "      <td>0.321244</td>\n",
              "      <td>0.000000</td>\n",
              "      <td>0.000000</td>\n",
              "      <td>0.000000</td>\n",
              "      <td>0.0</td>\n",
              "      <td>0.000000</td>\n",
              "      <td>0.249435</td>\n",
              "      <td>...</td>\n",
              "      <td>0.509084</td>\n",
              "      <td>0.000000</td>\n",
              "      <td>0.0</td>\n",
              "      <td>0.000000</td>\n",
              "      <td>0.0</td>\n",
              "      <td>0.299287</td>\n",
              "      <td>0.0</td>\n",
              "      <td>0.0</td>\n",
              "      <td>0.000000</td>\n",
              "      <td>0.0</td>\n",
              "    </tr>\n",
              "    <tr>\n",
              "      <th>890</th>\n",
              "      <td>0.524050</td>\n",
              "      <td>0.0</td>\n",
              "      <td>0.000000</td>\n",
              "      <td>0.000000</td>\n",
              "      <td>0.542803</td>\n",
              "      <td>0.250831</td>\n",
              "      <td>0.242768</td>\n",
              "      <td>0.0</td>\n",
              "      <td>0.380924</td>\n",
              "      <td>0.000000</td>\n",
              "      <td>...</td>\n",
              "      <td>0.000000</td>\n",
              "      <td>0.000000</td>\n",
              "      <td>0.0</td>\n",
              "      <td>0.246865</td>\n",
              "      <td>0.0</td>\n",
              "      <td>0.000000</td>\n",
              "      <td>0.0</td>\n",
              "      <td>0.0</td>\n",
              "      <td>0.249822</td>\n",
              "      <td>0.0</td>\n",
              "    </tr>\n",
              "    <tr>\n",
              "      <th>1562</th>\n",
              "      <td>0.000000</td>\n",
              "      <td>0.0</td>\n",
              "      <td>0.000000</td>\n",
              "      <td>0.000000</td>\n",
              "      <td>0.000000</td>\n",
              "      <td>0.000000</td>\n",
              "      <td>0.000000</td>\n",
              "      <td>0.0</td>\n",
              "      <td>0.000000</td>\n",
              "      <td>0.000000</td>\n",
              "      <td>...</td>\n",
              "      <td>0.000000</td>\n",
              "      <td>0.000000</td>\n",
              "      <td>0.0</td>\n",
              "      <td>0.000000</td>\n",
              "      <td>0.0</td>\n",
              "      <td>0.000000</td>\n",
              "      <td>0.0</td>\n",
              "      <td>0.0</td>\n",
              "      <td>0.000000</td>\n",
              "      <td>0.0</td>\n",
              "    </tr>\n",
              "  </tbody>\n",
              "</table>\n",
              "<p>10 rows × 33 columns</p>\n",
              "</div>\n",
              "    <div class=\"colab-df-buttons\">\n",
              "\n",
              "  <div class=\"colab-df-container\">\n",
              "    <button class=\"colab-df-convert\" onclick=\"convertToInteractive('df-f29516e3-d409-491e-8210-29c9b4423ef0')\"\n",
              "            title=\"Convert this dataframe to an interactive table.\"\n",
              "            style=\"display:none;\">\n",
              "\n",
              "  <svg xmlns=\"http://www.w3.org/2000/svg\" height=\"24px\" viewBox=\"0 -960 960 960\">\n",
              "    <path d=\"M120-120v-720h720v720H120Zm60-500h600v-160H180v160Zm220 220h160v-160H400v160Zm0 220h160v-160H400v160ZM180-400h160v-160H180v160Zm440 0h160v-160H620v160ZM180-180h160v-160H180v160Zm440 0h160v-160H620v160Z\"/>\n",
              "  </svg>\n",
              "    </button>\n",
              "\n",
              "  <style>\n",
              "    .colab-df-container {\n",
              "      display:flex;\n",
              "      gap: 12px;\n",
              "    }\n",
              "\n",
              "    .colab-df-convert {\n",
              "      background-color: #E8F0FE;\n",
              "      border: none;\n",
              "      border-radius: 50%;\n",
              "      cursor: pointer;\n",
              "      display: none;\n",
              "      fill: #1967D2;\n",
              "      height: 32px;\n",
              "      padding: 0 0 0 0;\n",
              "      width: 32px;\n",
              "    }\n",
              "\n",
              "    .colab-df-convert:hover {\n",
              "      background-color: #E2EBFA;\n",
              "      box-shadow: 0px 1px 2px rgba(60, 64, 67, 0.3), 0px 1px 3px 1px rgba(60, 64, 67, 0.15);\n",
              "      fill: #174EA6;\n",
              "    }\n",
              "\n",
              "    .colab-df-buttons div {\n",
              "      margin-bottom: 4px;\n",
              "    }\n",
              "\n",
              "    [theme=dark] .colab-df-convert {\n",
              "      background-color: #3B4455;\n",
              "      fill: #D2E3FC;\n",
              "    }\n",
              "\n",
              "    [theme=dark] .colab-df-convert:hover {\n",
              "      background-color: #434B5C;\n",
              "      box-shadow: 0px 1px 3px 1px rgba(0, 0, 0, 0.15);\n",
              "      filter: drop-shadow(0px 1px 2px rgba(0, 0, 0, 0.3));\n",
              "      fill: #FFFFFF;\n",
              "    }\n",
              "  </style>\n",
              "\n",
              "    <script>\n",
              "      const buttonEl =\n",
              "        document.querySelector('#df-f29516e3-d409-491e-8210-29c9b4423ef0 button.colab-df-convert');\n",
              "      buttonEl.style.display =\n",
              "        google.colab.kernel.accessAllowed ? 'block' : 'none';\n",
              "\n",
              "      async function convertToInteractive(key) {\n",
              "        const element = document.querySelector('#df-f29516e3-d409-491e-8210-29c9b4423ef0');\n",
              "        const dataTable =\n",
              "          await google.colab.kernel.invokeFunction('convertToInteractive',\n",
              "                                                    [key], {});\n",
              "        if (!dataTable) return;\n",
              "\n",
              "        const docLinkHtml = 'Like what you see? Visit the ' +\n",
              "          '<a target=\"_blank\" href=https://colab.research.google.com/notebooks/data_table.ipynb>data table notebook</a>'\n",
              "          + ' to learn more about interactive tables.';\n",
              "        element.innerHTML = '';\n",
              "        dataTable['output_type'] = 'display_data';\n",
              "        await google.colab.output.renderOutput(dataTable, element);\n",
              "        const docLink = document.createElement('div');\n",
              "        docLink.innerHTML = docLinkHtml;\n",
              "        element.appendChild(docLink);\n",
              "      }\n",
              "    </script>\n",
              "  </div>\n",
              "\n",
              "\n",
              "<div id=\"df-f2ca51bd-20c4-4950-bd39-da3201a41426\">\n",
              "  <button class=\"colab-df-quickchart\" onclick=\"quickchart('df-f2ca51bd-20c4-4950-bd39-da3201a41426')\"\n",
              "            title=\"Suggest charts\"\n",
              "            style=\"display:none;\">\n",
              "\n",
              "<svg xmlns=\"http://www.w3.org/2000/svg\" height=\"24px\"viewBox=\"0 0 24 24\"\n",
              "     width=\"24px\">\n",
              "    <g>\n",
              "        <path d=\"M19 3H5c-1.1 0-2 .9-2 2v14c0 1.1.9 2 2 2h14c1.1 0 2-.9 2-2V5c0-1.1-.9-2-2-2zM9 17H7v-7h2v7zm4 0h-2V7h2v10zm4 0h-2v-4h2v4z\"/>\n",
              "    </g>\n",
              "</svg>\n",
              "  </button>\n",
              "\n",
              "<style>\n",
              "  .colab-df-quickchart {\n",
              "      --bg-color: #E8F0FE;\n",
              "      --fill-color: #1967D2;\n",
              "      --hover-bg-color: #E2EBFA;\n",
              "      --hover-fill-color: #174EA6;\n",
              "      --disabled-fill-color: #AAA;\n",
              "      --disabled-bg-color: #DDD;\n",
              "  }\n",
              "\n",
              "  [theme=dark] .colab-df-quickchart {\n",
              "      --bg-color: #3B4455;\n",
              "      --fill-color: #D2E3FC;\n",
              "      --hover-bg-color: #434B5C;\n",
              "      --hover-fill-color: #FFFFFF;\n",
              "      --disabled-bg-color: #3B4455;\n",
              "      --disabled-fill-color: #666;\n",
              "  }\n",
              "\n",
              "  .colab-df-quickchart {\n",
              "    background-color: var(--bg-color);\n",
              "    border: none;\n",
              "    border-radius: 50%;\n",
              "    cursor: pointer;\n",
              "    display: none;\n",
              "    fill: var(--fill-color);\n",
              "    height: 32px;\n",
              "    padding: 0;\n",
              "    width: 32px;\n",
              "  }\n",
              "\n",
              "  .colab-df-quickchart:hover {\n",
              "    background-color: var(--hover-bg-color);\n",
              "    box-shadow: 0 1px 2px rgba(60, 64, 67, 0.3), 0 1px 3px 1px rgba(60, 64, 67, 0.15);\n",
              "    fill: var(--button-hover-fill-color);\n",
              "  }\n",
              "\n",
              "  .colab-df-quickchart-complete:disabled,\n",
              "  .colab-df-quickchart-complete:disabled:hover {\n",
              "    background-color: var(--disabled-bg-color);\n",
              "    fill: var(--disabled-fill-color);\n",
              "    box-shadow: none;\n",
              "  }\n",
              "\n",
              "  .colab-df-spinner {\n",
              "    border: 2px solid var(--fill-color);\n",
              "    border-color: transparent;\n",
              "    border-bottom-color: var(--fill-color);\n",
              "    animation:\n",
              "      spin 1s steps(1) infinite;\n",
              "  }\n",
              "\n",
              "  @keyframes spin {\n",
              "    0% {\n",
              "      border-color: transparent;\n",
              "      border-bottom-color: var(--fill-color);\n",
              "      border-left-color: var(--fill-color);\n",
              "    }\n",
              "    20% {\n",
              "      border-color: transparent;\n",
              "      border-left-color: var(--fill-color);\n",
              "      border-top-color: var(--fill-color);\n",
              "    }\n",
              "    30% {\n",
              "      border-color: transparent;\n",
              "      border-left-color: var(--fill-color);\n",
              "      border-top-color: var(--fill-color);\n",
              "      border-right-color: var(--fill-color);\n",
              "    }\n",
              "    40% {\n",
              "      border-color: transparent;\n",
              "      border-right-color: var(--fill-color);\n",
              "      border-top-color: var(--fill-color);\n",
              "    }\n",
              "    60% {\n",
              "      border-color: transparent;\n",
              "      border-right-color: var(--fill-color);\n",
              "    }\n",
              "    80% {\n",
              "      border-color: transparent;\n",
              "      border-right-color: var(--fill-color);\n",
              "      border-bottom-color: var(--fill-color);\n",
              "    }\n",
              "    90% {\n",
              "      border-color: transparent;\n",
              "      border-bottom-color: var(--fill-color);\n",
              "    }\n",
              "  }\n",
              "</style>\n",
              "\n",
              "  <script>\n",
              "    async function quickchart(key) {\n",
              "      const quickchartButtonEl =\n",
              "        document.querySelector('#' + key + ' button');\n",
              "      quickchartButtonEl.disabled = true;  // To prevent multiple clicks.\n",
              "      quickchartButtonEl.classList.add('colab-df-spinner');\n",
              "      try {\n",
              "        const charts = await google.colab.kernel.invokeFunction(\n",
              "            'suggestCharts', [key], {});\n",
              "      } catch (error) {\n",
              "        console.error('Error during call to suggestCharts:', error);\n",
              "      }\n",
              "      quickchartButtonEl.classList.remove('colab-df-spinner');\n",
              "      quickchartButtonEl.classList.add('colab-df-quickchart-complete');\n",
              "    }\n",
              "    (() => {\n",
              "      let quickchartButtonEl =\n",
              "        document.querySelector('#df-f2ca51bd-20c4-4950-bd39-da3201a41426 button');\n",
              "      quickchartButtonEl.style.display =\n",
              "        google.colab.kernel.accessAllowed ? 'block' : 'none';\n",
              "    })();\n",
              "  </script>\n",
              "</div>\n",
              "\n",
              "    </div>\n",
              "  </div>\n"
            ],
            "application/vnd.google.colaboratory.intrinsic+json": {
              "type": "dataframe"
            }
          },
          "metadata": {},
          "execution_count": 110
        },
        {
          "output_type": "stream",
          "name": "stdout",
          "text": [
            "Warning: Total number of columns (33) exceeds max_columns (20) limiting to first (20) columns.\n"
          ]
        }
      ],
      "source": [
        "tfidf_df.sample(10)"
      ]
    },
    {
      "cell_type": "code",
      "source": [
        "# saves dataset to same folder as this Jupyter Notebook\n",
        "# change name to reflect whichever subreddit you used\n",
        "tfidf_df.to_csv(\"XXX.csv\", index=False, encoding='UTF-8')"
      ],
      "metadata": {
        "id": "cIFmJ3Rs2GPS"
      },
      "execution_count": 111,
      "outputs": []
    },
    {
      "cell_type": "markdown",
      "metadata": {
        "id": "84f2scmSh8qa"
      },
      "source": [
        "## Why might weight for these terms be helpful for text analysis?"
      ]
    }
  ],
  "metadata": {
    "kernelspec": {
      "display_name": "base",
      "language": "python",
      "name": "python3"
    },
    "language_info": {
      "codemirror_mode": {
        "name": "ipython",
        "version": 3
      },
      "file_extension": ".py",
      "mimetype": "text/x-python",
      "name": "python",
      "nbconvert_exporter": "python",
      "pygments_lexer": "ipython3",
      "version": "3.11.5"
    },
    "colab": {
      "provenance": [],
      "include_colab_link": true
    }
  },
  "nbformat": 4,
  "nbformat_minor": 0
}